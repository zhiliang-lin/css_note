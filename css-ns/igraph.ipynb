{
 "cells": [
  {
   "cell_type": "code",
   "execution_count": 1,
   "metadata": {},
   "outputs": [],
   "source": [
    "from igraph import Graph, plot\n"
   ]
  },
  {
   "cell_type": "code",
   "execution_count": 2,
   "metadata": {},
   "outputs": [],
   "source": [
    "import igraph as ig  \n",
    "  \n",
    "# 创建一个简单的网络  \n",
    "g = ig.Graph()  \n",
    "g.add_vertices(5)  # 添加5个顶点  \n",
    "g.add_edges([(0, 1), (0, 2), (1, 2), (2, 3), (3, 4), (2, 4)])  # 添加边  \n",
    "  \n"
   ]
  },
  {
   "cell_type": "code",
   "execution_count": 3,
   "metadata": {},
   "outputs": [
    {
     "name": "stdout",
     "output_type": "stream",
     "text": [
      "IGRAPH U--- 5 6 --\n",
      "+ edges:\n",
      "0--1 0--2 1--2 2--3 3--4 2--4\n"
     ]
    }
   ],
   "source": [
    "# 打印网络的基本信息  \n",
    "print(g)  \n",
    "  \n"
   ]
  },
  {
   "cell_type": "code",
   "execution_count": 4,
   "metadata": {},
   "outputs": [
    {
     "name": "stdout",
     "output_type": "stream",
     "text": [
      "Density:  0.6\n"
     ]
    }
   ],
   "source": [
    "# 计算网络的密度  \n",
    "density = g.density()  \n",
    "print(\"Density: \", density)  \n",
    "  \n"
   ]
  },
  {
   "cell_type": "code",
   "execution_count": 9,
   "metadata": {},
   "outputs": [
    {
     "name": "stdout",
     "output_type": "stream",
     "text": [
      "Shortest paths from node 0 to 4:  [[0, 2, 4]]\n"
     ]
    }
   ],
   "source": [
    "import igraph as ig\n",
    "\n",
    "# 创建图\n",
    "g = ig.Graph([(0, 1), (0, 2), (1, 2), (2, 3), (3, 4), (2, 4)])\n",
    "\n",
    "# 选择起始节点和目标节点\n",
    "start_node = 0\n",
    "end_node = 4\n",
    "\n",
    "# 计算网络的最短路径\n",
    "shortest_paths = g.get_all_shortest_paths(start_node, to=end_node)\n",
    "\n",
    "# 打印最短路径\n",
    "print(\"Shortest paths from node {} to {}: \".format(start_node, end_node), shortest_paths)\n"
   ]
  },
  {
   "cell_type": "code",
   "execution_count": 12,
   "metadata": {},
   "outputs": [
    {
     "ename": "AttributeError",
     "evalue": "Plotting not available; please install pycairo or cairocffi",
     "output_type": "error",
     "traceback": [
      "\u001b[1;31m---------------------------------------------------------------------------\u001b[0m",
      "\u001b[1;31mAttributeError\u001b[0m                            Traceback (most recent call last)",
      "Cell \u001b[1;32mIn[12], line 10\u001b[0m\n\u001b[0;32m      7\u001b[0m g\u001b[38;5;241m.\u001b[39madd_edges([(\u001b[38;5;241m0\u001b[39m, \u001b[38;5;241m1\u001b[39m), (\u001b[38;5;241m0\u001b[39m, \u001b[38;5;241m2\u001b[39m), (\u001b[38;5;241m1\u001b[39m, \u001b[38;5;241m2\u001b[39m), (\u001b[38;5;241m2\u001b[39m, \u001b[38;5;241m3\u001b[39m), (\u001b[38;5;241m3\u001b[39m, \u001b[38;5;241m4\u001b[39m), (\u001b[38;5;241m2\u001b[39m, \u001b[38;5;241m4\u001b[39m)])  \u001b[38;5;66;03m# 添加边\u001b[39;00m\n\u001b[0;32m      9\u001b[0m \u001b[38;5;66;03m# 使用 plot 函数绘制网络\u001b[39;00m\n\u001b[1;32m---> 10\u001b[0m \u001b[43mig\u001b[49m\u001b[38;5;241;43m.\u001b[39;49m\u001b[43mplot\u001b[49m\u001b[43m(\u001b[49m\u001b[43mg\u001b[49m\u001b[43m,\u001b[49m\u001b[43m \u001b[49m\u001b[43mbbox\u001b[49m\u001b[38;5;241;43m=\u001b[39;49m\u001b[43m(\u001b[49m\u001b[38;5;241;43m200\u001b[39;49m\u001b[43m,\u001b[49m\u001b[43m \u001b[49m\u001b[38;5;241;43m200\u001b[39;49m\u001b[43m)\u001b[49m\u001b[43m)\u001b[49m\n",
      "File \u001b[1;32me:\\Program Files\\anaconda3\\lib\\site-packages\\igraph\\drawing\\__init__.py:299\u001b[0m, in \u001b[0;36mplot\u001b[1;34m(obj, target, bbox, *args, **kwds)\u001b[0m\n\u001b[0;32m    297\u001b[0m background \u001b[38;5;241m=\u001b[39m kwds\u001b[38;5;241m.\u001b[39mpop(\u001b[38;5;124m\"\u001b[39m\u001b[38;5;124mbackground\u001b[39m\u001b[38;5;124m\"\u001b[39m, \u001b[38;5;124m\"\u001b[39m\u001b[38;5;124mwhite\u001b[39m\u001b[38;5;124m\"\u001b[39m)\n\u001b[0;32m    298\u001b[0m margin \u001b[38;5;241m=\u001b[39m \u001b[38;5;28mfloat\u001b[39m(kwds\u001b[38;5;241m.\u001b[39mpop(\u001b[38;5;124m\"\u001b[39m\u001b[38;5;124mmargin\u001b[39m\u001b[38;5;124m\"\u001b[39m, \u001b[38;5;241m20\u001b[39m))\n\u001b[1;32m--> 299\u001b[0m result \u001b[38;5;241m=\u001b[39m \u001b[43mCairoPlot\u001b[49m\u001b[43m(\u001b[49m\n\u001b[0;32m    300\u001b[0m \u001b[43m    \u001b[49m\u001b[43mtarget\u001b[49m\u001b[38;5;241;43m=\u001b[39;49m\u001b[43mtarget\u001b[49m\u001b[43m,\u001b[49m\n\u001b[0;32m    301\u001b[0m \u001b[43m    \u001b[49m\u001b[43mbbox\u001b[49m\u001b[38;5;241;43m=\u001b[39;49m\u001b[43mbbox\u001b[49m\u001b[43m,\u001b[49m\n\u001b[0;32m    302\u001b[0m \u001b[43m    \u001b[49m\u001b[43mpalette\u001b[49m\u001b[38;5;241;43m=\u001b[39;49m\u001b[43mpalette\u001b[49m\u001b[43m,\u001b[49m\n\u001b[0;32m    303\u001b[0m \u001b[43m    \u001b[49m\u001b[43mbackground\u001b[49m\u001b[38;5;241;43m=\u001b[39;49m\u001b[43mbackground\u001b[49m\u001b[43m,\u001b[49m\n\u001b[0;32m    304\u001b[0m \u001b[43m\u001b[49m\u001b[43m)\u001b[49m\n\u001b[0;32m    305\u001b[0m item_bbox \u001b[38;5;241m=\u001b[39m result\u001b[38;5;241m.\u001b[39mbbox\u001b[38;5;241m.\u001b[39mcontract(margin)\n\u001b[0;32m    306\u001b[0m result\u001b[38;5;241m.\u001b[39madd(obj, item_bbox, \u001b[38;5;241m*\u001b[39margs, \u001b[38;5;241m*\u001b[39m\u001b[38;5;241m*\u001b[39mkwds)\n",
      "File \u001b[1;32me:\\Program Files\\anaconda3\\lib\\site-packages\\igraph\\drawing\\cairo\\plot.py:148\u001b[0m, in \u001b[0;36mCairoPlot.__init__\u001b[1;34m(self, target, bbox, palette, background)\u001b[0m\n\u001b[0;32m    146\u001b[0m \u001b[38;5;28;01mif\u001b[39;00m target \u001b[38;5;129;01mis\u001b[39;00m \u001b[38;5;28;01mNone\u001b[39;00m:\n\u001b[0;32m    147\u001b[0m     \u001b[38;5;28mself\u001b[39m\u001b[38;5;241m.\u001b[39m_need_tmpfile \u001b[38;5;241m=\u001b[39m \u001b[38;5;28;01mTrue\u001b[39;00m\n\u001b[1;32m--> 148\u001b[0m     \u001b[38;5;28mself\u001b[39m\u001b[38;5;241m.\u001b[39m_surface \u001b[38;5;241m=\u001b[39m \u001b[43mcairo\u001b[49m\u001b[38;5;241;43m.\u001b[39;49m\u001b[43mImageSurface\u001b[49m(\n\u001b[0;32m    149\u001b[0m         cairo\u001b[38;5;241m.\u001b[39mFORMAT_ARGB32, \u001b[38;5;28mint\u001b[39m(\u001b[38;5;28mself\u001b[39m\u001b[38;5;241m.\u001b[39mbbox\u001b[38;5;241m.\u001b[39mwidth), \u001b[38;5;28mint\u001b[39m(\u001b[38;5;28mself\u001b[39m\u001b[38;5;241m.\u001b[39mbbox\u001b[38;5;241m.\u001b[39mheight)\n\u001b[0;32m    150\u001b[0m     )\n\u001b[0;32m    151\u001b[0m \u001b[38;5;28;01melif\u001b[39;00m \u001b[38;5;28misinstance\u001b[39m(target, cairo\u001b[38;5;241m.\u001b[39mSurface):\n\u001b[0;32m    152\u001b[0m     \u001b[38;5;28mself\u001b[39m\u001b[38;5;241m.\u001b[39m_surface \u001b[38;5;241m=\u001b[39m target\n",
      "File \u001b[1;32me:\\Program Files\\anaconda3\\lib\\site-packages\\igraph\\drawing\\utils.py:428\u001b[0m, in \u001b[0;36mFakeModule.__getattr__\u001b[1;34m(self, _)\u001b[0m\n\u001b[0;32m    427\u001b[0m \u001b[38;5;28;01mdef\u001b[39;00m \u001b[38;5;21m__getattr__\u001b[39m(\u001b[38;5;28mself\u001b[39m, _):\n\u001b[1;32m--> 428\u001b[0m     \u001b[38;5;28;01mraise\u001b[39;00m \u001b[38;5;167;01mAttributeError\u001b[39;00m(\u001b[38;5;28mself\u001b[39m\u001b[38;5;241m.\u001b[39m_message)\n",
      "\u001b[1;31mAttributeError\u001b[0m: Plotting not available; please install pycairo or cairocffi"
     ]
    }
   ],
   "source": [
    "%matplotlib inline\n",
    "import igraph as ig\n",
    "\n",
    "# 创建一个简单的网络\n",
    "g = ig.Graph()\n",
    "g.add_vertices(5)  # 添加5个顶点\n",
    "g.add_edges([(0, 1), (0, 2), (1, 2), (2, 3), (3, 4), (2, 4)])  # 添加边\n",
    "\n",
    "# 使用 plot 函数绘制网络\n",
    "ig.plot(g, bbox=(200, 200))\n"
   ]
  }
 ],
 "metadata": {
  "kernelspec": {
   "display_name": "base",
   "language": "python",
   "name": "python3"
  },
  "language_info": {
   "codemirror_mode": {
    "name": "ipython",
    "version": 3
   },
   "file_extension": ".py",
   "mimetype": "text/x-python",
   "name": "python",
   "nbconvert_exporter": "python",
   "pygments_lexer": "ipython3",
   "version": "3.10.9"
  }
 },
 "nbformat": 4,
 "nbformat_minor": 2
}
