{
 "cells": [
  {
   "cell_type": "code",
   "execution_count": 1,
   "metadata": {},
   "outputs": [],
   "source": [
    "from igraph import Graph, plot\n"
   ]
  },
  {
   "cell_type": "code",
   "execution_count": 2,
   "metadata": {},
   "outputs": [],
   "source": [
    "import igraph as ig  \n",
    "  \n",
    "# 创建一个简单的网络  \n",
    "g = ig.Graph()  \n",
    "g.add_vertices(5)  # 添加5个顶点  \n",
    "g.add_edges([(0, 1), (0, 2), (1, 2), (2, 3), (3, 4), (2, 4)])  # 添加边  \n",
    "  \n"
   ]
  },
  {
   "cell_type": "code",
   "execution_count": 3,
   "metadata": {},
   "outputs": [
    {
     "name": "stdout",
     "output_type": "stream",
     "text": [
      "IGRAPH U--- 5 6 --\n",
      "+ edges:\n",
      "0--1 0--2 1--2 2--3 3--4 2--4\n"
     ]
    }
   ],
   "source": [
    "# 打印网络的基本信息  \n",
    "print(g)  \n",
    "  \n"
   ]
  },
  {
   "cell_type": "code",
   "execution_count": 4,
   "metadata": {},
   "outputs": [
    {
     "name": "stdout",
     "output_type": "stream",
     "text": [
      "Density:  0.6\n"
     ]
    }
   ],
   "source": [
    "# 计算网络的密度  \n",
    "density = g.density()  \n",
    "print(\"Density: \", density)  \n",
    "  \n"
   ]
  },
  {
   "cell_type": "code",
   "execution_count": 5,
   "metadata": {},
   "outputs": [
    {
     "name": "stdout",
     "output_type": "stream",
     "text": [
      "Shortest paths from node 0 to 4:  [[0, 2, 4]]\n"
     ]
    }
   ],
   "source": [
    "import igraph as ig\n",
    "\n",
    "# 创建图\n",
    "g = ig.Graph([(0, 1), (0, 2), (1, 2), (2, 3), (3, 4), (2, 4)])\n",
    "\n",
    "# 选择起始节点和目标节点\n",
    "start_node = 0\n",
    "end_node = 4\n",
    "\n",
    "# 计算网络的最短路径\n",
    "shortest_paths = g.get_all_shortest_paths(start_node, to=end_node)\n",
    "\n",
    "# 打印最短路径\n",
    "print(\"Shortest paths from node {} to {}: \".format(start_node, end_node), shortest_paths)\n"
   ]
  },
  {
   "cell_type": "code",
   "execution_count": 6,
   "metadata": {},
   "outputs": [
    {
     "data": {
      "image/svg+xml": [
       "<?xml version=\"1.0\" encoding=\"UTF-8\"?>\n",
       "<svg xmlns=\"http://www.w3.org/2000/svg\" xmlns:xlink=\"http://www.w3.org/1999/xlink\" width=\"200\" height=\"200\" viewBox=\"0 0 200 200\">\n",
       "<rect x=\"-20\" y=\"-20\" width=\"240\" height=\"240\" fill=\"rgb(100%, 100%, 100%)\" fill-opacity=\"1\"/>\n",
       "<path fill=\"none\" stroke-width=\"1\" stroke-linecap=\"butt\" stroke-linejoin=\"miter\" stroke=\"rgb(26.666667%, 26.666667%, 26.666667%)\" stroke-opacity=\"1\" stroke-miterlimit=\"10\" d=\"M 180 141.371094 L 104.132812 180 \"/>\n",
       "<path fill=\"none\" stroke-width=\"1\" stroke-linecap=\"butt\" stroke-linejoin=\"miter\" stroke=\"rgb(26.666667%, 26.666667%, 26.666667%)\" stroke-opacity=\"1\" stroke-miterlimit=\"10\" d=\"M 180 141.371094 L 100 100 \"/>\n",
       "<path fill=\"none\" stroke-width=\"1\" stroke-linecap=\"butt\" stroke-linejoin=\"miter\" stroke=\"rgb(26.666667%, 26.666667%, 26.666667%)\" stroke-opacity=\"1\" stroke-miterlimit=\"10\" d=\"M 104.132812 180 L 100 100 \"/>\n",
       "<path fill=\"none\" stroke-width=\"1\" stroke-linecap=\"butt\" stroke-linejoin=\"miter\" stroke=\"rgb(26.666667%, 26.666667%, 26.666667%)\" stroke-opacity=\"1\" stroke-miterlimit=\"10\" d=\"M 100 100 L 20 58.628906 \"/>\n",
       "<path fill=\"none\" stroke-width=\"1\" stroke-linecap=\"butt\" stroke-linejoin=\"miter\" stroke=\"rgb(26.666667%, 26.666667%, 26.666667%)\" stroke-opacity=\"1\" stroke-miterlimit=\"10\" d=\"M 20 58.628906 L 95.867188 20 \"/>\n",
       "<path fill=\"none\" stroke-width=\"1\" stroke-linecap=\"butt\" stroke-linejoin=\"miter\" stroke=\"rgb(26.666667%, 26.666667%, 26.666667%)\" stroke-opacity=\"1\" stroke-miterlimit=\"10\" d=\"M 100 100 L 95.867188 20 \"/>\n",
       "<path fill-rule=\"nonzero\" fill=\"rgb(100%, 0%, 0%)\" fill-opacity=\"1\" stroke-width=\"1\" stroke-linecap=\"butt\" stroke-linejoin=\"miter\" stroke=\"rgb(0%, 0%, 0%)\" stroke-opacity=\"1\" stroke-miterlimit=\"10\" d=\"M 190 141.371094 C 190 146.894531 185.523438 151.371094 180 151.371094 C 174.476562 151.371094 170 146.894531 170 141.371094 C 170 135.847656 174.476562 131.371094 180 131.371094 C 185.523438 131.371094 190 135.847656 190 141.371094 \"/>\n",
       "<path fill-rule=\"nonzero\" fill=\"rgb(100%, 0%, 0%)\" fill-opacity=\"1\" stroke-width=\"1\" stroke-linecap=\"butt\" stroke-linejoin=\"miter\" stroke=\"rgb(0%, 0%, 0%)\" stroke-opacity=\"1\" stroke-miterlimit=\"10\" d=\"M 114.132812 180 C 114.132812 185.523438 109.65625 190 104.132812 190 C 98.613281 190 94.132812 185.523438 94.132812 180 C 94.132812 174.476562 98.613281 170 104.132812 170 C 109.65625 170 114.132812 174.476562 114.132812 180 \"/>\n",
       "<path fill-rule=\"nonzero\" fill=\"rgb(100%, 0%, 0%)\" fill-opacity=\"1\" stroke-width=\"1\" stroke-linecap=\"butt\" stroke-linejoin=\"miter\" stroke=\"rgb(0%, 0%, 0%)\" stroke-opacity=\"1\" stroke-miterlimit=\"10\" d=\"M 110 100 C 110 105.523438 105.523438 110 100 110 C 94.476562 110 90 105.523438 90 100 C 90 94.476562 94.476562 90 100 90 C 105.523438 90 110 94.476562 110 100 \"/>\n",
       "<path fill-rule=\"nonzero\" fill=\"rgb(100%, 0%, 0%)\" fill-opacity=\"1\" stroke-width=\"1\" stroke-linecap=\"butt\" stroke-linejoin=\"miter\" stroke=\"rgb(0%, 0%, 0%)\" stroke-opacity=\"1\" stroke-miterlimit=\"10\" d=\"M 30 58.628906 C 30 64.152344 25.523438 68.628906 20 68.628906 C 14.476562 68.628906 10 64.152344 10 58.628906 C 10 53.105469 14.476562 48.628906 20 48.628906 C 25.523438 48.628906 30 53.105469 30 58.628906 \"/>\n",
       "<path fill-rule=\"nonzero\" fill=\"rgb(100%, 0%, 0%)\" fill-opacity=\"1\" stroke-width=\"1\" stroke-linecap=\"butt\" stroke-linejoin=\"miter\" stroke=\"rgb(0%, 0%, 0%)\" stroke-opacity=\"1\" stroke-miterlimit=\"10\" d=\"M 105.867188 20 C 105.867188 25.523438 101.386719 30 95.867188 30 C 90.34375 30 85.867188 25.523438 85.867188 20 C 85.867188 14.476562 90.34375 10 95.867188 10 C 101.386719 10 105.867188 14.476562 105.867188 20 \"/>\n",
       "</svg>\n"
      ],
      "text/plain": [
       "<igraph.drawing.cairo.plot.CairoPlot at 0x1c91f82cfd0>"
      ]
     },
     "execution_count": 6,
     "metadata": {
      "image/svg+xml": {
       "isolated": true
      }
     },
     "output_type": "execute_result"
    }
   ],
   "source": [
    "%matplotlib inline\n",
    "import igraph as ig\n",
    "\n",
    "# 创建一个简单的网络\n",
    "g = ig.Graph()\n",
    "g.add_vertices(5)  # 添加5个顶点\n",
    "g.add_edges([(0, 1), (0, 2), (1, 2), (2, 3), (3, 4), (2, 4)])  # 添加边\n",
    "\n",
    "# 使用 plot 函数绘制网络\n",
    "ig.plot(g, bbox=(200, 200))\n"
   ]
  }
 ],
 "metadata": {
  "kernelspec": {
   "display_name": "base",
   "language": "python",
   "name": "python3"
  },
  "language_info": {
   "codemirror_mode": {
    "name": "ipython",
    "version": 3
   },
   "file_extension": ".py",
   "mimetype": "text/x-python",
   "name": "python",
   "nbconvert_exporter": "python",
   "pygments_lexer": "ipython3",
   "version": "3.10.9"
  }
 },
 "nbformat": 4,
 "nbformat_minor": 2
}
