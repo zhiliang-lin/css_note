{
 "cells": [
  {
   "cell_type": "code",
   "execution_count": 3,
   "metadata": {},
   "outputs": [
    {
     "ename": "TypeError",
     "evalue": "'_AxesStack' object is not callable",
     "output_type": "error",
     "traceback": [
      "\u001b[1;31m---------------------------------------------------------------------------\u001b[0m",
      "\u001b[1;31mTypeError\u001b[0m                                 Traceback (most recent call last)",
      "\u001b[1;32md:\\work\\github\\css_note\\css-ns\\networkx.ipynb Cell 1\u001b[0m line \u001b[0;36m1\n\u001b[0;32m     <a href='vscode-notebook-cell:/d%3A/work/github/css_note/css-ns/networkx.ipynb#W0sZmlsZQ%3D%3D?line=15'>16</a>\u001b[0m layout_pos \u001b[39m=\u001b[39m nx\u001b[39m.\u001b[39mspring_layout(G)  \u001b[39m# 选择布局算法\u001b[39;00m\n\u001b[0;32m     <a href='vscode-notebook-cell:/d%3A/work/github/css_note/css-ns/networkx.ipynb#W0sZmlsZQ%3D%3D?line=16'>17</a>\u001b[0m plt\u001b[39m.\u001b[39mfigure(figsize\u001b[39m=\u001b[39m(\u001b[39m8\u001b[39m, \u001b[39m8\u001b[39m))  \u001b[39m# 创建一个大一些的画布\u001b[39;00m\n\u001b[1;32m---> <a href='vscode-notebook-cell:/d%3A/work/github/css_note/css-ns/networkx.ipynb#W0sZmlsZQ%3D%3D?line=17'>18</a>\u001b[0m nx\u001b[39m.\u001b[39;49mdraw(G, layout_pos, with_labels\u001b[39m=\u001b[39;49m\u001b[39mTrue\u001b[39;49;00m, node_color\u001b[39m=\u001b[39;49m\u001b[39m'\u001b[39;49m\u001b[39mskyblue\u001b[39;49m\u001b[39m'\u001b[39;49m, node_size\u001b[39m=\u001b[39;49m\u001b[39m800\u001b[39;49m, font_size\u001b[39m=\u001b[39;49m\u001b[39m10\u001b[39;49m, font_color\u001b[39m=\u001b[39;49m\u001b[39m'\u001b[39;49m\u001b[39mblack\u001b[39;49m\u001b[39m'\u001b[39;49m, font_weight\u001b[39m=\u001b[39;49m\u001b[39m'\u001b[39;49m\u001b[39mbold\u001b[39;49m\u001b[39m'\u001b[39;49m, edge_color\u001b[39m=\u001b[39;49m\u001b[39m'\u001b[39;49m\u001b[39mgray\u001b[39;49m\u001b[39m'\u001b[39;49m)\n\u001b[0;32m     <a href='vscode-notebook-cell:/d%3A/work/github/css_note/css-ns/networkx.ipynb#W0sZmlsZQ%3D%3D?line=19'>20</a>\u001b[0m \u001b[39m# 计算节点度数\u001b[39;00m\n\u001b[0;32m     <a href='vscode-notebook-cell:/d%3A/work/github/css_note/css-ns/networkx.ipynb#W0sZmlsZQ%3D%3D?line=20'>21</a>\u001b[0m degree \u001b[39m=\u001b[39m \u001b[39mdict\u001b[39m(G\u001b[39m.\u001b[39mdegree())\n",
      "File \u001b[1;32me:\\Program Files\\anaconda3\\lib\\site-packages\\networkx\\drawing\\nx_pylab.py:113\u001b[0m, in \u001b[0;36mdraw\u001b[1;34m(G, pos, ax, **kwds)\u001b[0m\n\u001b[0;32m    111\u001b[0m cf\u001b[39m.\u001b[39mset_facecolor(\u001b[39m\"\u001b[39m\u001b[39mw\u001b[39m\u001b[39m\"\u001b[39m)\n\u001b[0;32m    112\u001b[0m \u001b[39mif\u001b[39;00m ax \u001b[39mis\u001b[39;00m \u001b[39mNone\u001b[39;00m:\n\u001b[1;32m--> 113\u001b[0m     \u001b[39mif\u001b[39;00m cf\u001b[39m.\u001b[39;49m_axstack() \u001b[39mis\u001b[39;00m \u001b[39mNone\u001b[39;00m:\n\u001b[0;32m    114\u001b[0m         ax \u001b[39m=\u001b[39m cf\u001b[39m.\u001b[39madd_axes((\u001b[39m0\u001b[39m, \u001b[39m0\u001b[39m, \u001b[39m1\u001b[39m, \u001b[39m1\u001b[39m))\n\u001b[0;32m    115\u001b[0m     \u001b[39melse\u001b[39;00m:\n",
      "\u001b[1;31mTypeError\u001b[0m: '_AxesStack' object is not callable"
     ]
    },
    {
     "data": {
      "text/plain": [
       "<Figure size 800x800 with 0 Axes>"
      ]
     },
     "metadata": {},
     "output_type": "display_data"
    }
   ],
   "source": [
    "import networkx as nx\n",
    "import matplotlib.pyplot as plt\n",
    "\n",
    "# 创建一个无向图\n",
    "G = nx.Graph()\n",
    "\n",
    "# 添加节点\n",
    "G.add_node(1)\n",
    "G.add_nodes_from([2, 3, 4, 5])\n",
    "\n",
    "# 添加边\n",
    "G.add_edge(1, 2)\n",
    "G.add_edges_from([(1, 3), (1, 4), (1, 5)])\n",
    "\n",
    "# 绘制图形\n",
    "layout_pos = nx.spring_layout(G)  # 选择布局算法\n",
    "plt.figure(figsize=(8, 8))  # 创建一个大一些的画布\n",
    "nx.draw(G, layout_pos, with_labels=True, node_color='skyblue', node_size=800, font_size=10, font_color='black', font_weight='bold', edge_color='gray')\n",
    "\n",
    "# 计算节点度数\n",
    "degree = dict(G.degree())\n",
    "print(\"Node Degrees:\", degree)\n",
    "\n",
    "# 显示图形\n",
    "plt.show()\n"
   ]
  }
 ],
 "metadata": {
  "kernelspec": {
   "display_name": "base",
   "language": "python",
   "name": "python3"
  },
  "language_info": {
   "codemirror_mode": {
    "name": "ipython",
    "version": 3
   },
   "file_extension": ".py",
   "mimetype": "text/x-python",
   "name": "python",
   "nbconvert_exporter": "python",
   "pygments_lexer": "ipython3",
   "version": "3.10.9"
  }
 },
 "nbformat": 4,
 "nbformat_minor": 2
}
