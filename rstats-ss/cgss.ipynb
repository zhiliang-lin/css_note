{
 "cells": [
  {
   "cell_type": "code",
   "execution_count": 1,
   "metadata": {},
   "outputs": [],
   "source": [
    "# 整理数据的库\n",
    "import numpy as np\n",
    "import pandas as pd\n",
    "import pyreadstat #读取sav格式文件需要\n",
    "# 数据可视化的库\n",
    "import matplotlib as mpl\n",
    "import matplotlib.pyplot as plt\n",
    "import seaborn as sns\n",
    "\n",
    "plt.rcParams['font.sans-serif'] = ['SimHei']  # 中文字体设置-黑体\n",
    "plt.rcParams['axes.unicode_minus'] = False  # 解决保存图像是负号'-'显示为方块的问题\n",
    "sns.set(font='SimHei')  # 解决Seaborn中文显示问题\n",
    "# 数据分析的库\n",
    "from scipy import stats\n",
    "import scipy.stats as stats\n",
    "import statsmodels.formula.api as smf # 回归分析\n",
    "from scipy.stats import chi2_contingency #卡方检验\n",
    "import pingouin as pg\n",
    "from statsmodels.stats.multicomp import pairwise_tukeyhsd #事后检验\n",
    "# 其它\n",
    "import warnings\n",
    "warnings.filterwarnings('ignore') #忽视警告"
   ]
  },
  {
   "cell_type": "code",
   "execution_count": 2,
   "metadata": {},
   "outputs": [],
   "source": [
    "df_1,meta_1 = pyreadstat.read_sav(\"D:\\\\data\\\\CGSS\\\\CGSS2021.sav\") #dataframe的值为纯数字"
   ]
  },
  {
   "cell_type": "code",
   "execution_count": 3,
   "metadata": {},
   "outputs": [],
   "source": [
    "df_2,meta_2 = pyreadstat.read_sav(r\"D:\\data\\CGSS\\CGSS2021.sav\",apply_value_formats=True)# dataframe的值为元信息\n",
    "#注意：李克特计分方法的变量pyreadstat认定为类别型变量，这个和我们的需求是不同的"
   ]
  },
  {
   "cell_type": "code",
   "execution_count": 4,
   "metadata": {},
   "outputs": [
    {
     "data": {
      "text/html": [
       "<div>\n",
       "<style scoped>\n",
       "    .dataframe tbody tr th:only-of-type {\n",
       "        vertical-align: middle;\n",
       "    }\n",
       "\n",
       "    .dataframe tbody tr th {\n",
       "        vertical-align: top;\n",
       "    }\n",
       "\n",
       "    .dataframe thead th {\n",
       "        text-align: right;\n",
       "    }\n",
       "</style>\n",
       "<table border=\"1\" class=\"dataframe\">\n",
       "  <thead>\n",
       "    <tr style=\"text-align: right;\">\n",
       "      <th></th>\n",
       "      <th>id</th>\n",
       "      <th>provinces</th>\n",
       "      <th>community_i</th>\n",
       "      <th>type</th>\n",
       "      <th>A00</th>\n",
       "      <th>A1</th>\n",
       "      <th>A011601</th>\n",
       "      <th>A011602</th>\n",
       "      <th>A011603</th>\n",
       "      <th>A011604</th>\n",
       "      <th>...</th>\n",
       "      <th>P22_b</th>\n",
       "      <th>P22_c</th>\n",
       "      <th>isco08_a57e</th>\n",
       "      <th>isco08_a59d</th>\n",
       "      <th>isco08_a60d</th>\n",
       "      <th>isco08_sp</th>\n",
       "      <th>isco08_f</th>\n",
       "      <th>isco08_m</th>\n",
       "      <th>weight</th>\n",
       "      <th>weight_raking</th>\n",
       "    </tr>\n",
       "  </thead>\n",
       "  <tbody>\n",
       "    <tr>\n",
       "      <th>0</th>\n",
       "      <td>2504.0</td>\n",
       "      <td>北京市</td>\n",
       "      <td>1101021</td>\n",
       "      <td>1.0</td>\n",
       "      <td>2021-07-11 15:03:00</td>\n",
       "      <td>1.0</td>\n",
       "      <td>2.0</td>\n",
       "      <td>NaN</td>\n",
       "      <td>NaN</td>\n",
       "      <td>NaN</td>\n",
       "      <td>...</td>\n",
       "      <td>4.0</td>\n",
       "      <td>1.0</td>\n",
       "      <td>2342.0</td>\n",
       "      <td>5322.0</td>\n",
       "      <td>NaN</td>\n",
       "      <td>NaN</td>\n",
       "      <td>3341.0</td>\n",
       "      <td>9622.0</td>\n",
       "      <td>0.757877</td>\n",
       "      <td>0.265570</td>\n",
       "    </tr>\n",
       "    <tr>\n",
       "      <th>1</th>\n",
       "      <td>1187.0</td>\n",
       "      <td>北京市</td>\n",
       "      <td>1101022</td>\n",
       "      <td>1.0</td>\n",
       "      <td>2021-07-06 11:14:00</td>\n",
       "      <td>1.0</td>\n",
       "      <td>1.0</td>\n",
       "      <td>NaN</td>\n",
       "      <td>NaN</td>\n",
       "      <td>NaN</td>\n",
       "      <td>...</td>\n",
       "      <td>NaN</td>\n",
       "      <td>NaN</td>\n",
       "      <td>7230.0</td>\n",
       "      <td>NaN</td>\n",
       "      <td>1321.0</td>\n",
       "      <td>NaN</td>\n",
       "      <td>1112.0</td>\n",
       "      <td>NaN</td>\n",
       "      <td>0.416885</td>\n",
       "      <td>0.073736</td>\n",
       "    </tr>\n",
       "    <tr>\n",
       "      <th>2</th>\n",
       "      <td>4315.0</td>\n",
       "      <td>北京市</td>\n",
       "      <td>1101011</td>\n",
       "      <td>1.0</td>\n",
       "      <td>2021-07-20 16:05:00</td>\n",
       "      <td>1.0</td>\n",
       "      <td>1.0</td>\n",
       "      <td>NaN</td>\n",
       "      <td>NaN</td>\n",
       "      <td>NaN</td>\n",
       "      <td>...</td>\n",
       "      <td>NaN</td>\n",
       "      <td>NaN</td>\n",
       "      <td>0.0</td>\n",
       "      <td>NaN</td>\n",
       "      <td>2330.0</td>\n",
       "      <td>NaN</td>\n",
       "      <td>7521.0</td>\n",
       "      <td>6100.0</td>\n",
       "      <td>0.299796</td>\n",
       "      <td>0.023887</td>\n",
       "    </tr>\n",
       "    <tr>\n",
       "      <th>3</th>\n",
       "      <td>6836.0</td>\n",
       "      <td>北京市</td>\n",
       "      <td>1101154</td>\n",
       "      <td>1.0</td>\n",
       "      <td>2021-07-31 15:18:00</td>\n",
       "      <td>7.0</td>\n",
       "      <td>3.0</td>\n",
       "      <td>3.0</td>\n",
       "      <td>5.0</td>\n",
       "      <td>5.0</td>\n",
       "      <td>...</td>\n",
       "      <td>NaN</td>\n",
       "      <td>NaN</td>\n",
       "      <td>7230.0</td>\n",
       "      <td>2523.0</td>\n",
       "      <td>NaN</td>\n",
       "      <td>4110.0</td>\n",
       "      <td>8300.0</td>\n",
       "      <td>2341.0</td>\n",
       "      <td>0.781762</td>\n",
       "      <td>0.274609</td>\n",
       "    </tr>\n",
       "    <tr>\n",
       "      <th>4</th>\n",
       "      <td>4726.0</td>\n",
       "      <td>北京市</td>\n",
       "      <td>1101064</td>\n",
       "      <td>1.0</td>\n",
       "      <td>2021-07-23 09:22:00</td>\n",
       "      <td>4.0</td>\n",
       "      <td>1.0</td>\n",
       "      <td>2.0</td>\n",
       "      <td>6.0</td>\n",
       "      <td>7.0</td>\n",
       "      <td>...</td>\n",
       "      <td>1.0</td>\n",
       "      <td>2.0</td>\n",
       "      <td>7318.0</td>\n",
       "      <td>NaN</td>\n",
       "      <td>4110.0</td>\n",
       "      <td>NaN</td>\n",
       "      <td>7230.0</td>\n",
       "      <td>NaN</td>\n",
       "      <td>0.616473</td>\n",
       "      <td>0.215613</td>\n",
       "    </tr>\n",
       "  </tbody>\n",
       "</table>\n",
       "<p>5 rows × 700 columns</p>\n",
       "</div>"
      ],
      "text/plain": [
       "       id provinces community_i  type                  A00   A1  A011601  \\\n",
       "0  2504.0       北京市     1101021   1.0  2021-07-11 15:03:00  1.0      2.0   \n",
       "1  1187.0       北京市     1101022   1.0  2021-07-06 11:14:00  1.0      1.0   \n",
       "2  4315.0       北京市     1101011   1.0  2021-07-20 16:05:00  1.0      1.0   \n",
       "3  6836.0       北京市     1101154   1.0  2021-07-31 15:18:00  7.0      3.0   \n",
       "4  4726.0       北京市     1101064   1.0  2021-07-23 09:22:00  4.0      1.0   \n",
       "\n",
       "   A011602  A011603  A011604  ...  P22_b  P22_c  isco08_a57e  isco08_a59d  \\\n",
       "0      NaN      NaN      NaN  ...    4.0    1.0       2342.0       5322.0   \n",
       "1      NaN      NaN      NaN  ...    NaN    NaN       7230.0          NaN   \n",
       "2      NaN      NaN      NaN  ...    NaN    NaN          0.0          NaN   \n",
       "3      3.0      5.0      5.0  ...    NaN    NaN       7230.0       2523.0   \n",
       "4      2.0      6.0      7.0  ...    1.0    2.0       7318.0          NaN   \n",
       "\n",
       "   isco08_a60d  isco08_sp  isco08_f  isco08_m    weight  weight_raking  \n",
       "0          NaN        NaN    3341.0    9622.0  0.757877       0.265570  \n",
       "1       1321.0        NaN    1112.0       NaN  0.416885       0.073736  \n",
       "2       2330.0        NaN    7521.0    6100.0  0.299796       0.023887  \n",
       "3          NaN     4110.0    8300.0    2341.0  0.781762       0.274609  \n",
       "4       4110.0        NaN    7230.0       NaN  0.616473       0.215613  \n",
       "\n",
       "[5 rows x 700 columns]"
      ]
     },
     "execution_count": 4,
     "metadata": {},
     "output_type": "execute_result"
    }
   ],
   "source": [
    "df_1.head()"
   ]
  },
  {
   "cell_type": "code",
   "execution_count": 5,
   "metadata": {},
   "outputs": [
    {
     "data": {
      "text/plain": [
       "Index(['id', 'provinces', 'community_i', 'type', 'A00', 'A1', 'A011601',\n",
       "       'A011602', 'A011603', 'A011604',\n",
       "       ...\n",
       "       'P22_b', 'P22_c', 'isco08_a57e', 'isco08_a59d', 'isco08_a60d',\n",
       "       'isco08_sp', 'isco08_f', 'isco08_m', 'weight', 'weight_raking'],\n",
       "      dtype='object', length=700)"
      ]
     },
     "execution_count": 5,
     "metadata": {},
     "output_type": "execute_result"
    }
   ],
   "source": [
    "df_1.columns"
   ]
  },
  {
   "cell_type": "code",
   "execution_count": 6,
   "metadata": {},
   "outputs": [
    {
     "data": {
      "text/html": [
       "<div>\n",
       "<style scoped>\n",
       "    .dataframe tbody tr th:only-of-type {\n",
       "        vertical-align: middle;\n",
       "    }\n",
       "\n",
       "    .dataframe tbody tr th {\n",
       "        vertical-align: top;\n",
       "    }\n",
       "\n",
       "    .dataframe thead th {\n",
       "        text-align: right;\n",
       "    }\n",
       "</style>\n",
       "<table border=\"1\" class=\"dataframe\">\n",
       "  <thead>\n",
       "    <tr style=\"text-align: right;\">\n",
       "      <th></th>\n",
       "      <th>id</th>\n",
       "      <th>provinces</th>\n",
       "      <th>community_i</th>\n",
       "      <th>type</th>\n",
       "      <th>A00</th>\n",
       "      <th>A1</th>\n",
       "      <th>A011601</th>\n",
       "      <th>A011602</th>\n",
       "      <th>A011603</th>\n",
       "      <th>A011604</th>\n",
       "      <th>...</th>\n",
       "      <th>P22_b</th>\n",
       "      <th>P22_c</th>\n",
       "      <th>isco08_a57e</th>\n",
       "      <th>isco08_a59d</th>\n",
       "      <th>isco08_a60d</th>\n",
       "      <th>isco08_sp</th>\n",
       "      <th>isco08_f</th>\n",
       "      <th>isco08_m</th>\n",
       "      <th>weight</th>\n",
       "      <th>weight_raking</th>\n",
       "    </tr>\n",
       "  </thead>\n",
       "  <tbody>\n",
       "    <tr>\n",
       "      <th>0</th>\n",
       "      <td>2504.0</td>\n",
       "      <td>北京市</td>\n",
       "      <td>1101021</td>\n",
       "      <td>居委会</td>\n",
       "      <td>2021-07-11 15:03:00</td>\n",
       "      <td>1.0</td>\n",
       "      <td>子女</td>\n",
       "      <td>NaN</td>\n",
       "      <td>NaN</td>\n",
       "      <td>NaN</td>\n",
       "      <td>...</td>\n",
       "      <td>有很大影响</td>\n",
       "      <td>根本没有影响</td>\n",
       "      <td>幼教教师</td>\n",
       "      <td>居家个人护理工作人员</td>\n",
       "      <td>NaN</td>\n",
       "      <td>NaN</td>\n",
       "      <td>办公室主管</td>\n",
       "      <td>零工</td>\n",
       "      <td>0.757877</td>\n",
       "      <td>0.265570</td>\n",
       "    </tr>\n",
       "    <tr>\n",
       "      <th>1</th>\n",
       "      <td>1187.0</td>\n",
       "      <td>北京市</td>\n",
       "      <td>1101022</td>\n",
       "      <td>居委会</td>\n",
       "      <td>2021-07-06 11:14:00</td>\n",
       "      <td>1.0</td>\n",
       "      <td>配偶</td>\n",
       "      <td>NaN</td>\n",
       "      <td>NaN</td>\n",
       "      <td>NaN</td>\n",
       "      <td>...</td>\n",
       "      <td>NaN</td>\n",
       "      <td>NaN</td>\n",
       "      <td>机械装配和修理工</td>\n",
       "      <td>NaN</td>\n",
       "      <td>制造业经理</td>\n",
       "      <td>NaN</td>\n",
       "      <td>高级政府官员</td>\n",
       "      <td>NaN</td>\n",
       "      <td>0.416885</td>\n",
       "      <td>0.073736</td>\n",
       "    </tr>\n",
       "    <tr>\n",
       "      <th>2</th>\n",
       "      <td>4315.0</td>\n",
       "      <td>北京市</td>\n",
       "      <td>1101011</td>\n",
       "      <td>居委会</td>\n",
       "      <td>2021-07-20 16:05:00</td>\n",
       "      <td>1.0</td>\n",
       "      <td>配偶</td>\n",
       "      <td>NaN</td>\n",
       "      <td>NaN</td>\n",
       "      <td>NaN</td>\n",
       "      <td>...</td>\n",
       "      <td>NaN</td>\n",
       "      <td>NaN</td>\n",
       "      <td>军职人员</td>\n",
       "      <td>NaN</td>\n",
       "      <td>中学教师</td>\n",
       "      <td>NaN</td>\n",
       "      <td>木材处理工人</td>\n",
       "      <td>面向市场的熟练农业工作人员</td>\n",
       "      <td>0.299796</td>\n",
       "      <td>0.023887</td>\n",
       "    </tr>\n",
       "    <tr>\n",
       "      <th>3</th>\n",
       "      <td>6836.0</td>\n",
       "      <td>北京市</td>\n",
       "      <td>1101154</td>\n",
       "      <td>居委会</td>\n",
       "      <td>2021-07-31 15:18:00</td>\n",
       "      <td>7.0</td>\n",
       "      <td>父母</td>\n",
       "      <td>父母</td>\n",
       "      <td>兄弟姐妹</td>\n",
       "      <td>兄弟姐妹</td>\n",
       "      <td>...</td>\n",
       "      <td>NaN</td>\n",
       "      <td>NaN</td>\n",
       "      <td>机械装配和修理工</td>\n",
       "      <td>计算机网络专业人员</td>\n",
       "      <td>NaN</td>\n",
       "      <td>一般办公室工作人员</td>\n",
       "      <td>驾驶和移动设备操作员</td>\n",
       "      <td>小学教师</td>\n",
       "      <td>0.781762</td>\n",
       "      <td>0.274609</td>\n",
       "    </tr>\n",
       "    <tr>\n",
       "      <th>4</th>\n",
       "      <td>4726.0</td>\n",
       "      <td>北京市</td>\n",
       "      <td>1101064</td>\n",
       "      <td>居委会</td>\n",
       "      <td>2021-07-23 09:22:00</td>\n",
       "      <td>4.0</td>\n",
       "      <td>配偶</td>\n",
       "      <td>子女</td>\n",
       "      <td>女婿/儿媳</td>\n",
       "      <td>祖父母/外祖父母</td>\n",
       "      <td>...</td>\n",
       "      <td>根本没有影响</td>\n",
       "      <td>有一点影响</td>\n",
       "      <td>纺织、皮革及相关材料的手工艺工人</td>\n",
       "      <td>NaN</td>\n",
       "      <td>一般办公室工作人员</td>\n",
       "      <td>NaN</td>\n",
       "      <td>机械装配和修理工</td>\n",
       "      <td>NaN</td>\n",
       "      <td>0.616473</td>\n",
       "      <td>0.215613</td>\n",
       "    </tr>\n",
       "    <tr>\n",
       "      <th>...</th>\n",
       "      <td>...</td>\n",
       "      <td>...</td>\n",
       "      <td>...</td>\n",
       "      <td>...</td>\n",
       "      <td>...</td>\n",
       "      <td>...</td>\n",
       "      <td>...</td>\n",
       "      <td>...</td>\n",
       "      <td>...</td>\n",
       "      <td>...</td>\n",
       "      <td>...</td>\n",
       "      <td>...</td>\n",
       "      <td>...</td>\n",
       "      <td>...</td>\n",
       "      <td>...</td>\n",
       "      <td>...</td>\n",
       "      <td>...</td>\n",
       "      <td>...</td>\n",
       "      <td>...</td>\n",
       "      <td>...</td>\n",
       "      <td>...</td>\n",
       "    </tr>\n",
       "    <tr>\n",
       "      <th>8143</th>\n",
       "      <td>6215.0</td>\n",
       "      <td>宁夏回族自治区</td>\n",
       "      <td>6403241</td>\n",
       "      <td>居委会</td>\n",
       "      <td>2021-07-28 11:31:00</td>\n",
       "      <td>3.0</td>\n",
       "      <td>父母</td>\n",
       "      <td>父母</td>\n",
       "      <td>兄弟姐妹</td>\n",
       "      <td>NaN</td>\n",
       "      <td>...</td>\n",
       "      <td>有一点影响</td>\n",
       "      <td>根本没有影响</td>\n",
       "      <td>不知道</td>\n",
       "      <td>NaN</td>\n",
       "      <td>NaN</td>\n",
       "      <td>NaN</td>\n",
       "      <td>未分类的简单劳动工作人员</td>\n",
       "      <td>农业、林业、牧业、渔业熟练工作人员</td>\n",
       "      <td>1.587054</td>\n",
       "      <td>2.703331</td>\n",
       "    </tr>\n",
       "    <tr>\n",
       "      <th>8144</th>\n",
       "      <td>7068.0</td>\n",
       "      <td>宁夏回族自治区</td>\n",
       "      <td>6403243</td>\n",
       "      <td>村委会</td>\n",
       "      <td>2021-08-03 10:31:00</td>\n",
       "      <td>6.0</td>\n",
       "      <td>配偶</td>\n",
       "      <td>子女</td>\n",
       "      <td>女婿/儿媳</td>\n",
       "      <td>孙子（女）/外孙子（女）</td>\n",
       "      <td>...</td>\n",
       "      <td>有一点影响</td>\n",
       "      <td>有一些影响</td>\n",
       "      <td>不适用</td>\n",
       "      <td>NaN</td>\n",
       "      <td>NaN</td>\n",
       "      <td>NaN</td>\n",
       "      <td>NaN</td>\n",
       "      <td>面向市场的熟练农业工作人员</td>\n",
       "      <td>0.292696</td>\n",
       "      <td>0.133989</td>\n",
       "    </tr>\n",
       "    <tr>\n",
       "      <th>8145</th>\n",
       "      <td>6625.0</td>\n",
       "      <td>宁夏回族自治区</td>\n",
       "      <td>6403241</td>\n",
       "      <td>居委会</td>\n",
       "      <td>2021-07-29 12:56:00</td>\n",
       "      <td>3.0</td>\n",
       "      <td>配偶</td>\n",
       "      <td>子女</td>\n",
       "      <td>子女</td>\n",
       "      <td>NaN</td>\n",
       "      <td>...</td>\n",
       "      <td>NaN</td>\n",
       "      <td>NaN</td>\n",
       "      <td>不知道</td>\n",
       "      <td>不知道</td>\n",
       "      <td>NaN</td>\n",
       "      <td>不知道</td>\n",
       "      <td>不知道</td>\n",
       "      <td>不知道</td>\n",
       "      <td>1.500252</td>\n",
       "      <td>0.897839</td>\n",
       "    </tr>\n",
       "    <tr>\n",
       "      <th>8146</th>\n",
       "      <td>6659.0</td>\n",
       "      <td>宁夏回族自治区</td>\n",
       "      <td>6403241</td>\n",
       "      <td>居委会</td>\n",
       "      <td>2021-07-29 11:24:00</td>\n",
       "      <td>3.0</td>\n",
       "      <td>配偶</td>\n",
       "      <td>子女</td>\n",
       "      <td>子女</td>\n",
       "      <td>NaN</td>\n",
       "      <td>...</td>\n",
       "      <td>NaN</td>\n",
       "      <td>NaN</td>\n",
       "      <td>护理专业人员</td>\n",
       "      <td>护理和助产专业技术人员</td>\n",
       "      <td>NaN</td>\n",
       "      <td>一般办公室工作人员</td>\n",
       "      <td>泥水匠</td>\n",
       "      <td>NaN</td>\n",
       "      <td>0.767249</td>\n",
       "      <td>0.221671</td>\n",
       "    </tr>\n",
       "    <tr>\n",
       "      <th>8147</th>\n",
       "      <td>6397.0</td>\n",
       "      <td>宁夏回族自治区</td>\n",
       "      <td>6403241</td>\n",
       "      <td>居委会</td>\n",
       "      <td>2021-07-29 12:16:00</td>\n",
       "      <td>5.0</td>\n",
       "      <td>子女</td>\n",
       "      <td>子女</td>\n",
       "      <td>子女</td>\n",
       "      <td>子女</td>\n",
       "      <td>...</td>\n",
       "      <td>NaN</td>\n",
       "      <td>NaN</td>\n",
       "      <td>商店销售人员</td>\n",
       "      <td>店员</td>\n",
       "      <td>NaN</td>\n",
       "      <td>拒绝回答</td>\n",
       "      <td>农业、林业、牧业、渔业熟练工作人员</td>\n",
       "      <td>农业、林业、牧业、渔业熟练工作人员</td>\n",
       "      <td>1.814632</td>\n",
       "      <td>2.684988</td>\n",
       "    </tr>\n",
       "  </tbody>\n",
       "</table>\n",
       "<p>8148 rows × 700 columns</p>\n",
       "</div>"
      ],
      "text/plain": [
       "          id provinces community_i type                  A00   A1 A011601  \\\n",
       "0     2504.0       北京市     1101021  居委会  2021-07-11 15:03:00  1.0      子女   \n",
       "1     1187.0       北京市     1101022  居委会  2021-07-06 11:14:00  1.0      配偶   \n",
       "2     4315.0       北京市     1101011  居委会  2021-07-20 16:05:00  1.0      配偶   \n",
       "3     6836.0       北京市     1101154  居委会  2021-07-31 15:18:00  7.0      父母   \n",
       "4     4726.0       北京市     1101064  居委会  2021-07-23 09:22:00  4.0      配偶   \n",
       "...      ...       ...         ...  ...                  ...  ...     ...   \n",
       "8143  6215.0   宁夏回族自治区     6403241  居委会  2021-07-28 11:31:00  3.0      父母   \n",
       "8144  7068.0   宁夏回族自治区     6403243  村委会  2021-08-03 10:31:00  6.0      配偶   \n",
       "8145  6625.0   宁夏回族自治区     6403241  居委会  2021-07-29 12:56:00  3.0      配偶   \n",
       "8146  6659.0   宁夏回族自治区     6403241  居委会  2021-07-29 11:24:00  3.0      配偶   \n",
       "8147  6397.0   宁夏回族自治区     6403241  居委会  2021-07-29 12:16:00  5.0      子女   \n",
       "\n",
       "     A011602 A011603       A011604  ...   P22_b   P22_c       isco08_a57e  \\\n",
       "0        NaN     NaN           NaN  ...   有很大影响  根本没有影响              幼教教师   \n",
       "1        NaN     NaN           NaN  ...     NaN     NaN          机械装配和修理工   \n",
       "2        NaN     NaN           NaN  ...     NaN     NaN              军职人员   \n",
       "3         父母    兄弟姐妹          兄弟姐妹  ...     NaN     NaN          机械装配和修理工   \n",
       "4         子女   女婿/儿媳      祖父母/外祖父母  ...  根本没有影响   有一点影响  纺织、皮革及相关材料的手工艺工人   \n",
       "...      ...     ...           ...  ...     ...     ...               ...   \n",
       "8143      父母    兄弟姐妹           NaN  ...   有一点影响  根本没有影响               不知道   \n",
       "8144      子女   女婿/儿媳  孙子（女）/外孙子（女）  ...   有一点影响   有一些影响               不适用   \n",
       "8145      子女      子女           NaN  ...     NaN     NaN               不知道   \n",
       "8146      子女      子女           NaN  ...     NaN     NaN            护理专业人员   \n",
       "8147      子女      子女            子女  ...     NaN     NaN            商店销售人员   \n",
       "\n",
       "      isco08_a59d isco08_a60d  isco08_sp           isco08_f  \\\n",
       "0      居家个人护理工作人员         NaN        NaN              办公室主管   \n",
       "1             NaN       制造业经理        NaN             高级政府官员   \n",
       "2             NaN        中学教师        NaN             木材处理工人   \n",
       "3       计算机网络专业人员         NaN  一般办公室工作人员         驾驶和移动设备操作员   \n",
       "4             NaN   一般办公室工作人员        NaN           机械装配和修理工   \n",
       "...           ...         ...        ...                ...   \n",
       "8143          NaN         NaN        NaN       未分类的简单劳动工作人员   \n",
       "8144          NaN         NaN        NaN                NaN   \n",
       "8145          不知道         NaN        不知道                不知道   \n",
       "8146  护理和助产专业技术人员         NaN  一般办公室工作人员                泥水匠   \n",
       "8147           店员         NaN       拒绝回答  农业、林业、牧业、渔业熟练工作人员   \n",
       "\n",
       "               isco08_m    weight weight_raking  \n",
       "0                    零工  0.757877      0.265570  \n",
       "1                   NaN  0.416885      0.073736  \n",
       "2         面向市场的熟练农业工作人员  0.299796      0.023887  \n",
       "3                  小学教师  0.781762      0.274609  \n",
       "4                   NaN  0.616473      0.215613  \n",
       "...                 ...       ...           ...  \n",
       "8143  农业、林业、牧业、渔业熟练工作人员  1.587054      2.703331  \n",
       "8144      面向市场的熟练农业工作人员  0.292696      0.133989  \n",
       "8145                不知道  1.500252      0.897839  \n",
       "8146                NaN  0.767249      0.221671  \n",
       "8147  农业、林业、牧业、渔业熟练工作人员  1.814632      2.684988  \n",
       "\n",
       "[8148 rows x 700 columns]"
      ]
     },
     "execution_count": 6,
     "metadata": {},
     "output_type": "execute_result"
    }
   ],
   "source": [
    "df_2"
   ]
  },
  {
   "cell_type": "markdown",
   "metadata": {},
   "source": [
    "# 数据清洗"
   ]
  },
  {
   "cell_type": "markdown",
   "metadata": {},
   "source": [
    "**将特定的一些值变成空值**"
   ]
  },
  {
   "cell_type": "code",
   "execution_count": 60,
   "metadata": {},
   "outputs": [],
   "source": [
    "# 定义函数，replace_values\n",
    "def replace_values(series, target_values):\n",
    "    \"\"\"\n",
    "    将series中的特定数值替换为空值\n",
    "    :param series: 要处理的Series\n",
    "    :param target_values: 要替换为空值的特定数值的列表\n",
    "    :return: 处理后的Series\n",
    "    \"\"\"\n",
    "    return series.apply(lambda x: None if x in target_values else x)"
   ]
  },
  {
   "cell_type": "code",
   "execution_count": 64,
   "metadata": {},
   "outputs": [],
   "source": [
    "target_values_to_replace =[98,99]\n",
    "df_1['A15'] = replace_values(df_1['A15'], target_values_to_replace)"
   ]
  },
  {
   "cell_type": "code",
   "execution_count": 19,
   "metadata": {},
   "outputs": [
    {
     "data": {
      "text/plain": [
       "count    8142.000000\n",
       "mean        3.481577\n",
       "std         1.093174\n",
       "min         1.000000\n",
       "25%         3.000000\n",
       "50%         4.000000\n",
       "75%         4.000000\n",
       "max         5.000000\n",
       "Name: A15, dtype: float64"
      ]
     },
     "execution_count": 19,
     "metadata": {},
     "output_type": "execute_result"
    }
   ],
   "source": [
    "df_1.A15.describe()"
   ]
  },
  {
   "cell_type": "markdown",
   "metadata": {},
   "source": [
    "收入变量（A8a, A8b）的处理"
   ]
  },
  {
   "cell_type": "code",
   "execution_count": 70,
   "metadata": {},
   "outputs": [],
   "source": [
    "target_values_to_replace =[9999996,9999997,9999998,9999999]\n",
    "df_1.A8a = replace_values(df_1.A8a, target_values_to_replace)"
   ]
  },
  {
   "cell_type": "markdown",
   "metadata": {},
   "source": [
    "**构造虚拟变量**"
   ]
  },
  {
   "cell_type": "code",
   "execution_count": 117,
   "metadata": {},
   "outputs": [],
   "source": [
    "# 定义函数，replace_values\n",
    "def create_dummy(series, target_values):\n",
    "    \"\"\"\n",
    "    将series中的特定数值替换为0，否则替换为1\n",
    "    :param series: 要处理的Series\n",
    "    :param target_values: 要替换为空值的特定数值的列表\n",
    "    :return: 处理后的Series\n",
    "    \"\"\"\n",
    "    return series.apply(lambda x: 1 if x in target_values else 0)"
   ]
  },
  {
   "cell_type": "code",
   "execution_count": 119,
   "metadata": {},
   "outputs": [],
   "source": [
    "# 1:抽烟，2，3：不抽烟 (变量E18)\n",
    "#1→1\n",
    "#2,3→0\n",
    "\n",
    "list = [1]\n",
    "df_1.E18 = create_dummy(df_1.E18,list)"
   ]
  },
  {
   "cell_type": "markdown",
   "metadata": {},
   "source": [
    "## 多列变量进行处理"
   ]
  },
  {
   "cell_type": "code",
   "execution_count": 66,
   "metadata": {},
   "outputs": [],
   "source": [
    "# 将第328~333列的变量处理\n",
    "for i in range(327,333):\n",
    "    df_1.iloc[:,i] = replace_values(df_1.iloc[:,i], target_values_to_replace)"
   ]
  },
  {
   "cell_type": "code",
   "execution_count": 67,
   "metadata": {},
   "outputs": [
    {
     "data": {
      "text/plain": [
       "0        很健康\n",
       "1        很健康\n",
       "2       比较健康\n",
       "3       比较健康\n",
       "4       比较健康\n",
       "        ... \n",
       "8143      一般\n",
       "8144    很不健康\n",
       "8145     很健康\n",
       "8146     很健康\n",
       "8147      一般\n",
       "Name: A15, Length: 8148, dtype: category\n",
       "Categories (6, object): ['一般', '不知道', '很不健康', '很健康', '比较不健康', '比较健康']"
      ]
     },
     "execution_count": 67,
     "metadata": {},
     "output_type": "execute_result"
    }
   ],
   "source": [
    "df_2.A15"
   ]
  },
  {
   "cell_type": "code",
   "execution_count": 38,
   "metadata": {},
   "outputs": [
    {
     "data": {
      "text/plain": [
       "0       非常不应该\n",
       "1       非常不应该\n",
       "2         4.0\n",
       "3         3.0\n",
       "4        非常应该\n",
       "        ...  \n",
       "8143      2.0\n",
       "8144      4.0\n",
       "8145    非常不应该\n",
       "8146      4.0\n",
       "8147      2.0\n",
       "Name: C103_1, Length: 8148, dtype: category\n",
       "Categories (5, object): [2.0, 3.0, 4.0, '非常不应该', '非常应该']"
      ]
     },
     "execution_count": 38,
     "metadata": {},
     "output_type": "execute_result"
    }
   ],
   "source": [
    "df_2.iloc[:,327]"
   ]
  },
  {
   "cell_type": "markdown",
   "metadata": {},
   "source": [
    "## 转成类别型变量"
   ]
  },
  {
   "cell_type": "code",
   "execution_count": 54,
   "metadata": {},
   "outputs": [],
   "source": [
    "df_1.A2 = df_1.A2.astype('category')"
   ]
  },
  {
   "cell_type": "markdown",
   "metadata": {},
   "source": [
    "# 计算新变量"
   ]
  },
  {
   "cell_type": "markdown",
   "metadata": {},
   "source": [
    "性别观念：列变量328和329"
   ]
  },
  {
   "cell_type": "code",
   "execution_count": 43,
   "metadata": {},
   "outputs": [],
   "source": [
    "df_1[\"gender_ideology\"] = (df_1.iloc[:,327] + df_1.iloc[:,328])/2"
   ]
  },
  {
   "cell_type": "code",
   "execution_count": 51,
   "metadata": {},
   "outputs": [
    {
     "data": {
      "text/plain": [
       "A2\n",
       "1.0    2.850685\n",
       "2.0    2.975936\n",
       "Name: C2_C205, dtype: float64"
      ]
     },
     "execution_count": 51,
     "metadata": {},
     "output_type": "execute_result"
    }
   ],
   "source": [
    "df_1.groupby(\"A2\").C2_C205.mean()"
   ]
  },
  {
   "cell_type": "code",
   "execution_count": 133,
   "metadata": {},
   "outputs": [
    {
     "data": {
      "text/plain": [
       "1963.0    219\n",
       "1962.0    194\n",
       "1965.0    192\n",
       "1951.0    188\n",
       "1971.0    185\n",
       "         ... \n",
       "1930.0      5\n",
       "1929.0      4\n",
       "1927.0      3\n",
       "1926.0      1\n",
       "1922.0      1\n",
       "Name: A3_1, Length: 78, dtype: int64"
      ]
     },
     "execution_count": 133,
     "metadata": {},
     "output_type": "execute_result"
    }
   ],
   "source": [
    "df_1.A3_1.value_counts()"
   ]
  },
  {
   "cell_type": "markdown",
   "metadata": {},
   "source": [
    "计算年龄"
   ]
  },
  {
   "cell_type": "code",
   "execution_count": 145,
   "metadata": {},
   "outputs": [],
   "source": [
    "df_1[\"age\"] = 2021 - df_1.A3_1"
   ]
  },
  {
   "cell_type": "code",
   "execution_count": 140,
   "metadata": {},
   "outputs": [
    {
     "data": {
      "text/plain": [
       "51.64371624938635"
      ]
     },
     "execution_count": 140,
     "metadata": {},
     "output_type": "execute_result"
    }
   ],
   "source": [
    "df_1.age.mean()"
   ]
  },
  {
   "cell_type": "markdown",
   "metadata": {},
   "source": [
    "log(年龄)"
   ]
  },
  {
   "cell_type": "code",
   "execution_count": null,
   "metadata": {},
   "outputs": [],
   "source": [
    "df_1[\"log_income\"] = np.log(df_1.A8a)"
   ]
  },
  {
   "cell_type": "markdown",
   "metadata": {},
   "source": [
    "# 描述性统计"
   ]
  },
  {
   "cell_type": "markdown",
   "metadata": {},
   "source": [
    "## 数值型变量"
   ]
  },
  {
   "cell_type": "code",
   "execution_count": 88,
   "metadata": {},
   "outputs": [
    {
     "data": {
      "text/plain": [
       "<Axes: xlabel='log_income'>"
      ]
     },
     "execution_count": 88,
     "metadata": {},
     "output_type": "execute_result"
    },
    {
     "data": {
      "image/png": "[encoded data removed]",
      "text/plain": [
       "<Figure size 640x480 with 1 Axes>"
      ]
     },
     "metadata": {},
     "output_type": "display_data"
    }
   ],
   "source": [
    "sns.boxplot(df_1,x=\"log_income\")"
   ]
  },
  {
   "cell_type": "code",
   "execution_count": 90,
   "metadata": {},
   "outputs": [
    {
     "data": {
      "text/plain": [
       "0       11.472103\n",
       "1       11.002100\n",
       "2       11.472103\n",
       "3       11.982929\n",
       "4       10.778956\n",
       "          ...    \n",
       "8143     5.991465\n",
       "8144     7.855545\n",
       "8145    10.819778\n",
       "8146    11.289782\n",
       "8147         -inf\n",
       "Name: log_income, Length: 8148, dtype: float64"
      ]
     },
     "execution_count": 90,
     "metadata": {},
     "output_type": "execute_result"
    }
   ],
   "source": [
    "df_1[\"log_income\"]"
   ]
  },
  {
   "cell_type": "markdown",
   "metadata": {},
   "source": [
    "## 类别型变量"
   ]
  },
  {
   "cell_type": "code",
   "execution_count": 115,
   "metadata": {},
   "outputs": [],
   "source": [
    "#喝酒变量：E19\n"
   ]
  },
  {
   "cell_type": "code",
   "execution_count": 114,
   "metadata": {},
   "outputs": [
    {
     "data": {
      "text/plain": [
       "5.0    1679\n",
       "4.0     385\n",
       "3.0     298\n",
       "2.0     186\n",
       "1.0     169\n",
       "Name: E19, dtype: int64"
      ]
     },
     "execution_count": 114,
     "metadata": {},
     "output_type": "execute_result"
    }
   ],
   "source": [
    "df_1.E19.value_counts()"
   ]
  },
  {
   "cell_type": "code",
   "execution_count": 116,
   "metadata": {},
   "outputs": [
    {
     "data": {
      "text/plain": [
       "3.0    1824\n",
       "1.0     613\n",
       "2.0     280\n",
       "Name: E18, dtype: int64"
      ]
     },
     "execution_count": 116,
     "metadata": {},
     "output_type": "execute_result"
    }
   ],
   "source": [
    "df_1.E18.value_counts()"
   ]
  },
  {
   "cell_type": "code",
   "execution_count": 107,
   "metadata": {},
   "outputs": [
    {
     "data": {
      "text/plain": [
       "0        NaN\n",
       "1        NaN\n",
       "2       14.0\n",
       "3       12.0\n",
       "4        NaN\n",
       "        ... \n",
       "8143     NaN\n",
       "8144     NaN\n",
       "8145     2.0\n",
       "8146    10.0\n",
       "8147     NaN\n",
       "Name: A7f, Length: 8148, dtype: float64"
      ]
     },
     "execution_count": 107,
     "metadata": {},
     "output_type": "execute_result"
    }
   ],
   "source": [
    "df_1.A7f"
   ]
  },
  {
   "cell_type": "code",
   "execution_count": 106,
   "metadata": {},
   "outputs": [
    {
     "data": {
      "text/plain": [
       "<Axes: ylabel='count'>"
      ]
     },
     "execution_count": 106,
     "metadata": {},
     "output_type": "execute_result"
    },
    {
     "data": {
      "image/png": "[encoded data removed]",
      "text/plain": [
       "<Figure size 640x480 with 1 Axes>"
      ]
     },
     "metadata": {},
     "output_type": "display_data"
    }
   ],
   "source": [
    "sns.countplot(df_1.A7f)"
   ]
  },
  {
   "cell_type": "markdown",
   "metadata": {},
   "source": [
    "# 独立样本t检验"
   ]
  },
  {
   "cell_type": "code",
   "execution_count": 127,
   "metadata": {},
   "outputs": [],
   "source": [
    "df_tmp = df_1[[\"C2_C205\",\"A2\"]].dropna()"
   ]
  },
  {
   "cell_type": "code",
   "execution_count": 130,
   "metadata": {},
   "outputs": [
    {
     "data": {
      "text/plain": [
       "A2\n",
       "1.0    2.850685\n",
       "2.0    2.975936\n",
       "Name: C2_C205, dtype: float64"
      ]
     },
     "execution_count": 130,
     "metadata": {},
     "output_type": "execute_result"
    }
   ],
   "source": [
    "df_tmp.groupby(\"A2\").C2_C205.mean()"
   ]
  },
  {
   "cell_type": "code",
   "execution_count": 128,
   "metadata": {},
   "outputs": [
    {
     "data": {
      "text/plain": [
       "TtestResult(statistic=-5.155636689800303, pvalue=2.587834562526519e-07, df=8053.0)"
      ]
     },
     "execution_count": 128,
     "metadata": {},
     "output_type": "execute_result"
    }
   ],
   "source": [
    "# 独立样本t检验结果（检验统计量t值，p值）\n",
    "stats.ttest_ind(\n",
    "    df_tmp[\"C2_C205\"][df_tmp[\"A2\"] == 1],\n",
    "    df_tmp[\"C2_C205\"][df_tmp[\"A2\"] == 2],\n",
    ")"
   ]
  },
  {
   "cell_type": "code",
   "execution_count": 59,
   "metadata": {},
   "outputs": [
    {
     "data": {
      "text/plain": [
       "<Axes: xlabel='A2', ylabel='C2_C205'>"
      ]
     },
     "execution_count": 59,
     "metadata": {},
     "output_type": "execute_result"
    },
    {
     "data": {
      "image/png": "[encoded data removed]",
      "text/plain": [
       "<Figure size 640x480 with 1 Axes>"
      ]
     },
     "metadata": {},
     "output_type": "display_data"
    }
   ],
   "source": [
    "sns.boxplot(x = 'A2', y = 'C2_C205', data = df_1) "
   ]
  },
  {
   "cell_type": "markdown",
   "metadata": {},
   "source": [
    "抽烟的人和不抽烟的人收入有差异吗？"
   ]
  },
  {
   "cell_type": "code",
   "execution_count": 121,
   "metadata": {},
   "outputs": [
    {
     "data": {
      "text/plain": [
       "E18\n",
       "0    51502.348019\n",
       "1    48135.499121\n",
       "Name: A8a, dtype: float64"
      ]
     },
     "execution_count": 121,
     "metadata": {},
     "output_type": "execute_result"
    }
   ],
   "source": [
    "df_1.groupby(\"E18\").A8a.mean()\n"
   ]
  },
  {
   "cell_type": "code",
   "execution_count": 124,
   "metadata": {},
   "outputs": [],
   "source": [
    "df_tmp = df_1[[\"E18\",\"A8a\"]].dropna()"
   ]
  },
  {
   "cell_type": "code",
   "execution_count": 126,
   "metadata": {},
   "outputs": [
    {
     "data": {
      "text/plain": [
       "TtestResult(statistic=-0.23205102043524434, pvalue=0.8165048636087234, df=7331.0)"
      ]
     },
     "execution_count": 126,
     "metadata": {},
     "output_type": "execute_result"
    }
   ],
   "source": [
    "stats.ttest_ind(\n",
    "    df_tmp[\"A8a\"][df_tmp[\"E18\"] == 1],\n",
    "    df_tmp[\"A8a\"][df_tmp[\"E18\"] == 0],\n",
    ")"
   ]
  },
  {
   "cell_type": "markdown",
   "metadata": {},
   "source": [
    "# 相关分析"
   ]
  },
  {
   "cell_type": "code",
   "execution_count": 108,
   "metadata": {},
   "outputs": [
    {
     "data": {
      "text/plain": [
       "0       NaN\n",
       "1       5.0\n",
       "2       NaN\n",
       "3       3.0\n",
       "4       NaN\n",
       "       ... \n",
       "8143    NaN\n",
       "8144    NaN\n",
       "8145    NaN\n",
       "8146    NaN\n",
       "8147    5.0\n",
       "Name: E19, Length: 8148, dtype: float64"
      ]
     },
     "execution_count": 108,
     "metadata": {},
     "output_type": "execute_result"
    }
   ],
   "source": [
    "df_1.E19"
   ]
  },
  {
   "cell_type": "code",
   "execution_count": 103,
   "metadata": {},
   "outputs": [
    {
     "data": {
      "text/plain": [
       "<Axes: xlabel='A8a', ylabel='C2_C205'>"
      ]
     },
     "execution_count": 103,
     "metadata": {},
     "output_type": "execute_result"
    },
    {
     "data": {
      "image/png": "[encoded data removed]",
      "text/plain": [
       "<Figure size 640x480 with 1 Axes>"
      ]
     },
     "metadata": {},
     "output_type": "display_data"
    }
   ],
   "source": [
    "# 散点图（两变量）（包含拟合直线）\n",
    "sns.regplot(x = \"A8a\", y = \"C2_C205\", data = df_1)"
   ]
  },
  {
   "cell_type": "code",
   "execution_count": 148,
   "metadata": {},
   "outputs": [
    {
     "data": {
      "text/plain": [
       "<Axes: xlabel='age', ylabel='log_income'>"
      ]
     },
     "execution_count": 148,
     "metadata": {},
     "output_type": "execute_result"
    },
    {
     "data": {
      "image/png": "[encoded data removed]",
      "text/plain": [
       "<Figure size 640x480 with 1 Axes>"
      ]
     },
     "metadata": {},
     "output_type": "display_data"
    }
   ],
   "source": [
    "sns.regplot(x = \"age\", y = \"log_income\", data = df_1)"
   ]
  },
  {
   "cell_type": "code",
   "execution_count": 146,
   "metadata": {},
   "outputs": [
    {
     "data": {
      "text/plain": [
       "Index(['id', 'provinces', 'community_i', 'type', 'A00', 'A1', 'A011601',\n",
       "       'A011602', 'A011603', 'A011604',\n",
       "       ...\n",
       "       'isco08_a59d', 'isco08_a60d', 'isco08_sp', 'isco08_f', 'isco08_m',\n",
       "       'weight', 'weight_raking', 'gender_ideology', 'log_income', 'age'],\n",
       "      dtype='object', length=703)"
      ]
     },
     "execution_count": 146,
     "metadata": {},
     "output_type": "execute_result"
    }
   ],
   "source": [
    "df_1.columns"
   ]
  }
 ],
 "metadata": {
  "kernelspec": {
   "display_name": "base",
   "language": "python",
   "name": "python3"
  },
  "language_info": {
   "codemirror_mode": {
    "name": "ipython",
    "version": 3
   },
   "file_extension": ".py",
   "mimetype": "text/x-python",
   "name": "python",
   "nbconvert_exporter": "python",
   "pygments_lexer": "ipython3",
   "version": "3.10.9"
  }
 },
 "nbformat": 4,
 "nbformat_minor": 2
}
