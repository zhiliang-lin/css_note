{
 "cells": [
  {
   "cell_type": "markdown",
   "metadata": {},
   "source": [
    "# 独立样本t检验"
   ]
  },
  {
   "cell_type": "markdown",
   "metadata": {},
   "source": [
    "- **做多个独立样本t检验，并将结果保存到一张表格中**"
   ]
  },
  {
   "cell_type": "code",
   "execution_count": 1,
   "metadata": {},
   "outputs": [
    {
     "name": "stdout",
     "output_type": "stream",
     "text": [
      "  Group 1 Group 2  T-statistic   P-value Significance\n",
      "0  group1  group2    -4.184736  0.000557         显著差异\n",
      "1  group1  group3    -2.142038  0.046116         显著差异\n",
      "2  group2  group1     4.184736  0.000557         显著差异\n",
      "3  group2  group3     2.449490  0.024770         显著差异\n",
      "4  group3  group1     2.142038  0.046116         显著差异\n",
      "5  group3  group2    -2.449490  0.024770         显著差异\n"
     ]
    }
   ],
   "source": [
    "import pandas as pd\n",
    "import scipy.stats as stats\n",
    "\n",
    "# 多组示例数据\n",
    "data = {\n",
    "    'group1': [23, 21, 18, 25, 27, 29, 30, 28, 26, 24],\n",
    "    'group2': [31, 29, 28, 35, 32, 30, 33, 28, 30, 34],\n",
    "    'group3': [27, 25, 24, 29, 31, 30, 32, 28, 26, 30],\n",
    "    # Add more groups as needed\n",
    "}\n",
    "\n",
    "# 存储结果的列表\n",
    "results = []\n",
    "\n",
    "# 循环进行多个独立样本 t 检验\n",
    "alpha = 0.05\n",
    "for group_name, group_data in data.items():\n",
    "    for other_group_name, other_group_data in data.items():\n",
    "        if group_name != other_group_name:\n",
    "            t_statistic, p_value = stats.ttest_ind(group_data, other_group_data)\n",
    "            \n",
    "            # 判断显著性并添加到结果列表\n",
    "            if p_value < alpha:\n",
    "                significance = '显著差异'\n",
    "            else:\n",
    "                significance = '差异不显著'\n",
    "                \n",
    "            results.append({\n",
    "                'Group 1': group_name,\n",
    "                'Group 2': other_group_name,\n",
    "                'T-statistic': t_statistic,\n",
    "                'P-value': p_value,\n",
    "                'Significance': significance\n",
    "            })\n",
    "\n",
    "# 创建 DataFrame\n",
    "results_df = pd.DataFrame(results)\n",
    "\n",
    "# 显示整理后的表格\n",
    "print(results_df)\n"
   ]
  }
 ],
 "metadata": {
  "kernelspec": {
   "display_name": "base",
   "language": "python",
   "name": "python3"
  },
  "language_info": {
   "codemirror_mode": {
    "name": "ipython",
    "version": 3
   },
   "file_extension": ".py",
   "mimetype": "text/x-python",
   "name": "python",
   "nbconvert_exporter": "python",
   "pygments_lexer": "ipython3",
   "version": "3.10.9"
  }
 },
 "nbformat": 4,
 "nbformat_minor": 2
}
