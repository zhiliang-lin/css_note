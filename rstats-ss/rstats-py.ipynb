{
 "cells": [
  {
   "cell_type": "markdown",
   "metadata": {},
   "source": [
    "# 独立样本t检验"
   ]
  },
  {
   "cell_type": "markdown",
   "metadata": {},
   "source": [
    "- **做多个独立样本t检验，并将结果保存到一张表格中**"
   ]
  },
  {
   "cell_type": "code",
   "execution_count": 60,
   "metadata": {},
   "outputs": [
    {
     "name": "stdout",
     "output_type": "stream",
     "text": [
      "               Comparison  mean_value_1  mean_value_2  T-statistic   P-value\n",
      "0  A vs B (group1)-value1         21.75          28.0    -4.066250  0.004772\n",
      "1  A vs B (group1)-value2        121.75         128.0    -4.066250  0.004772\n",
      "6  C vs D (group2)-value1         28.25          22.8     2.833457  0.025281\n",
      "7  C vs D (group2)-value2        128.25         122.8     2.833457  0.025281\n"
     ]
    },
    {
     "name": "stderr",
     "output_type": "stream",
     "text": [
      "C:\\Users\\Administrator\\AppData\\Local\\Temp\\ipykernel_3808\\2526641256.py:36: FutureWarning: The behavior of DataFrame concatenation with empty or all-NA entries is deprecated. In a future version, this will no longer exclude empty or all-NA columns when determining the result dtypes. To retain the old behavior, exclude the relevant entries before the concat operation.\n",
      "  result_df = pd.concat([result_df, pd.DataFrame({\n"
     ]
    }
   ],
   "source": [
    "import pandas as pd\n",
    "import scipy.stats as stats\n",
    "\n",
    "data = {\n",
    "    'group1': ['A', 'A', 'A', 'A', 'B', 'B', 'B', 'B', 'B'],\n",
    "    'group2': ['D', 'D', 'D', 'D', 'D', 'C', 'C', 'C', 'C'],\n",
    "    'value1': [23, 21, 18, 25, 27, 29, 30, 28, 26],\n",
    "    'value2': [123, 121, 118, 125, 127, 129, 130, 128, 126],\n",
    "}\n",
    "\n",
    "df = pd.DataFrame(data)\n",
    "\n",
    "# 指定要比较的组合\n",
    "comparisons = [('A', 'B'), ('C', 'D')]\n",
    "columns_cmp = ['group1', 'group2']\n",
    "columns_dep = ['value1', 'value2']\n",
    "\n",
    "# 初始化一个空的 DataFrame 用于存储结果\n",
    "result_df = pd.DataFrame(columns=['Comparison', 'mean_value_1', 'mean_value_2', 'T-statistic', 'P-value'])\n",
    "\n",
    "# 遍历每个组合并进行独立样本 t 检验\n",
    "for comparison in comparisons:    \n",
    "    for column in columns_cmp:\n",
    "            for column_dep in columns_dep:\n",
    "                values_1 = df[column_dep][(df[column] == comparison[0])]\n",
    "                values_2 = df[column_dep][(df[column] == comparison[1])]\n",
    "\n",
    "                # 计算均值\n",
    "                mean_value_1 = values_1.mean()\n",
    "                mean_value_2 = values_2.mean()\n",
    "\n",
    "                # 进行独立样本 t 检验\n",
    "                t_statistic, p_value = stats.ttest_ind(values_1, values_2)\n",
    "    \n",
    "                # 将结果添加到结果 DataFrame\n",
    "                result_df = pd.concat([result_df, pd.DataFrame({\n",
    "                    'Comparison': [f\"{comparison[0]} vs {comparison[1]} ({column})-{column_dep}\"],\n",
    "                    'mean_value_1': [mean_value_1],\n",
    "                    'mean_value_2': [mean_value_2],\n",
    "                    'T-statistic': [t_statistic],\n",
    "                    'P-value': [p_value]\n",
    "                })], ignore_index=True)\n",
    "\n",
    "# 删除包含空值的行\n",
    "result_df = result_df.dropna()\n",
    "# 显示结果 DataFrame\n",
    "print(result_df)"
   ]
  },
  {
   "cell_type": "markdown",
   "metadata": {},
   "source": [
    "# 单因素方差检验"
   ]
  },
  {
   "cell_type": "code",
   "execution_count": 63,
   "metadata": {},
   "outputs": [
    {
     "name": "stdout",
     "output_type": "stream",
     "text": [
      "F-statistic: 9.93023255813954\n",
      "P-value: 0.012489491482224382\n",
      "在显著性水平为 0.05 下，拒绝原假设\n"
     ]
    }
   ],
   "source": [
    "import pandas as pd\n",
    "from scipy.stats import f_oneway\n",
    "\n",
    "# 示例数据\n",
    "data = {\n",
    "    'category': ['A', 'A', 'A', 'B', 'B', 'B', 'C', 'C', 'C'],\n",
    "    'value': [23, 21, 18, 25, 27, 29, 30, 28, 26]\n",
    "}\n",
    "\n",
    "df = pd.DataFrame(data)\n",
    "\n",
    "# 执行单因素方差分析\n",
    "groups = [df['value'][df['category'] == category] for category in df['category'].unique()]\n",
    "f_statistic, p_value = f_oneway(*groups)\n",
    "\n",
    "# 显示结果\n",
    "print(f\"F-statistic: {f_statistic}\")\n",
    "print(f\"P-value: {p_value}\")\n",
    "\n",
    "# 判断显著性\n",
    "alpha = 0.05\n",
    "if p_value < alpha:\n",
    "    print(\"在显著性水平为 0.05 下，拒绝原假设\")\n",
    "else:\n",
    "    print(\"在显著性水平为 0.05 下，接受原假设\")\n"
   ]
  },
  {
   "cell_type": "code",
   "execution_count": 65,
   "metadata": {},
   "outputs": [
    {
     "name": "stdout",
     "output_type": "stream",
     "text": [
      "F-statistic: 9.93023255813954\n",
      "P-value: 0.012489491482224382\n",
      "在显著性水平为 0.05 下，拒绝原假设\n"
     ]
    }
   ],
   "source": [
    "import pandas as pd\n",
    "from scipy.stats import f_oneway\n",
    "\n",
    "# 示例数据\n",
    "data = {\n",
    "    'category': ['A', 'A', 'A', 'B', 'B', 'B', 'C', 'C', 'C'],\n",
    "    'value': [23, 21, 18, 25, 27, 29, 30, 28, 26]\n",
    "}\n",
    "\n",
    "df = pd.DataFrame(data)\n",
    "\n",
    "# 执行单因素方差分析\n",
    "groups = [df['value'][df['category'] == category] for category in df['category'].unique()]\n",
    "f_statistic, p_value = f_oneway(*groups) # *groups 是将列表 groups 中的元素拆包传递给 f_oneway 函数。在这里，groups 列表包含了每个类别的值，而 *groups 则将这些列表拆包，作为参数传递给 f_oneway 函数。\n",
    "\n",
    "# 显示结果\n",
    "print(f\"F-statistic: {f_statistic}\")\n",
    "print(f\"P-value: {p_value}\")\n",
    "\n",
    "# 判断显著性\n",
    "alpha = 0.05\n",
    "if p_value < alpha:\n",
    "    print(\"在显著性水平为 0.05 下，拒绝原假设\")\n",
    "else:\n",
    "    print(\"在显著性水平为 0.05 下，接受原假设\")\n"
   ]
  }
 ],
 "metadata": {
  "kernelspec": {
   "display_name": "base",
   "language": "python",
   "name": "python3"
  },
  "language_info": {
   "codemirror_mode": {
    "name": "ipython",
    "version": 3
   },
   "file_extension": ".py",
   "mimetype": "text/x-python",
   "name": "python",
   "nbconvert_exporter": "python",
   "pygments_lexer": "ipython3",
   "version": "3.10.9"
  }
 },
 "nbformat": 4,
 "nbformat_minor": 2
}
