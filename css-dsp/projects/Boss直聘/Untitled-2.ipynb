{
 "cells": [
  {
   "cell_type": "markdown",
   "metadata": {},
   "source": [
    "**导入相应的库**"
   ]
  },
  {
   "cell_type": "code",
   "execution_count": 1,
   "metadata": {},
   "outputs": [],
   "source": [
    "import requests\n",
    "import json\n",
    "import csv"
   ]
  },
  {
   "cell_type": "code",
   "execution_count": 2,
   "metadata": {},
   "outputs": [],
   "source": [
    "url = 'https://www.zhipin.com/wapi/zpgeek/search/joblist.json?scene=1&query=%E6%96%B0%E5%AA%92%E4%BD%93%E8%BF%90%E8%90%A5&city=101280100&experience=&payType=&partTime=&degree=&industry=&scale=&stage=&position=&jobType=&salary=&multiBusinessDistrict=&multiSubway=&page=1&pageSize=30'"
   ]
  },
  {
   "cell_type": "code",
   "execution_count": 9,
   "metadata": {},
   "outputs": [],
   "source": [
    "headers = {\"User-Agent\": \"Mozilla/5.0 (Windows NT 10.0; Win64; x64) AppleWebKit/537.36 (KHTML, like Gecko) Chrome/131.0.0.0 Safari/537.36 Edg/131.0.0.0\",\n",
    "          \"cookies\":'__g=-; ab_guid=eba8824e-2585-4d6a-a402-f5f43324e505; wt2=Dt9FM1cwHbMA-KLvbLF28VudMWuOUwQ0Lf103SVxVGcmmDUyBAFDnMRfOH6h79FQJ-mRyMa7nG3yi88TOGsrdZw~~; wbg=0; zp_at=qy4t6SFe5ww1RPjMDA7Z-0zR5UfOUHSY8jNnh_NsZ84~; gdxidpyhxdE=Pzlce0lpXN9pkWXHJZfVx1d%2FcnZVzp8lxMwmuM4SadeW7Wt3ZDBGwWE28B5Q3pUyH94T2ZLEuv5TnJ7EptgIxviTwmePeBjfHJA0ELsRKUSrJ5D7L4backZA95LE4ou57fhcnJBHdE2h6As451RWybxUiAIynhxRLq55u0vOspLkDJBQ%3A1735100043918; __l=l=%2Fwww.zhipin.com%2Fgongsi%2F13f30c63775970411nxy3t21FA~~.html%3Fka%3Dcompany-intro&s=3&friend_source=0&s=3&friend_source=0; lastCity=101280600; bst=V2Rd4jEub521dgXdJqyR0ZLimw7D7UwA~~|Rd4jEub521dgXdJqyR0ZLimw7DnVxw~~; __c=1735098359; __a=95378432.1729312291.1729312291.1735098359.34.2.32.34; __zp_stoken__=18aefw4A2w5QLNwAJWFoVQcOFTsK%2FUUNxwrJhwrh1wrd8wpNbTm1Yw4XCn2TCjVvCulbCp3ZJZsO%2BwqdPWMKMQ8O3wp7CkFXCksKbwrXCtMKcxJHDrsKQxYXEo8KmwrPCpj4qBwcHAwcPDw8LDxUVAg4CFhYWChYBAQENATAvw7PCvcOaMjFGNy1UVFQBSVtaQ2ZNDVBMQjM3ABRcCzc1HTczM8OGP8K6WcK5M8OGwr3CuTPDhsKTNzszM8KxKyA%2FwrPDpQPCssOpLEkDTQcRB8OHZEzCk8Oqwr3DmS8xMcK3xLxGMh05MjJEMj47MjItPiPDg2RMwpfDqsKxw5UiNxI6MjJFMDIyMjsyRC4yRi0sMjMnRhUCAA0UIUXCt8K%2FwrPDmzIy; __zp_sseed__=lxizXZ6cDmFb1zTC89nzM5PcmELxS0Qo8JGFsiLiF9w=; __zp_sname__=e9ef2f1f; __zp_sts__=1735368923450'}"
   ]
  },
  {
   "cell_type": "code",
   "execution_count": 10,
   "metadata": {},
   "outputs": [],
   "source": [
    "response = requests.get(url,headers=headers)\n",
    "\n",
    "html = response.text\n"
   ]
  },
  {
   "cell_type": "code",
   "execution_count": 11,
   "metadata": {},
   "outputs": [
    {
     "data": {
      "text/plain": [
       "'{\"code\":35,\"message\":\"您的IP地址存在异常行为.\",\"zpData\":{}}'"
      ]
     },
     "execution_count": 11,
     "metadata": {},
     "output_type": "execute_result"
    }
   ],
   "source": [
    "html"
   ]
  }
 ],
 "metadata": {
  "kernelspec": {
   "display_name": "base",
   "language": "python",
   "name": "python3"
  },
  "language_info": {
   "codemirror_mode": {
    "name": "ipython",
    "version": 3
   },
   "file_extension": ".py",
   "mimetype": "text/x-python",
   "name": "python",
   "nbconvert_exporter": "python",
   "pygments_lexer": "ipython3",
   "version": "3.10.9"
  }
 },
 "nbformat": 4,
 "nbformat_minor": 2
}
