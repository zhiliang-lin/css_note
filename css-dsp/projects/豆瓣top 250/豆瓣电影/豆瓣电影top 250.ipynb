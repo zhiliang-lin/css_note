{
 "cells": [
  {
   "cell_type": "markdown",
   "id": "6e2ae767",
   "metadata": {},
   "source": [
    "# 生成网址"
   ]
  },
  {
   "cell_type": "code",
   "execution_count": 1,
   "id": "3a6ceb20",
   "metadata": {
    "ExecuteTime": {
     "end_time": "2023-08-08T18:07:33.907385Z",
     "start_time": "2023-08-08T18:07:33.901840Z"
    }
   },
   "outputs": [],
   "source": [
    "# 函数：生成网址  \n",
    "# 返回值：url_list为网址列表\n",
    "def generate_url():   # 添加：定义函数名\n",
    "    url_list = []\n",
    "    template = 'https://movie.douban.com/top250?start={num}'\n",
    "    for p in range(1,11):\n",
    "        url = template.format(num=(p-1)*25)\n",
    "        url_list.append(url)\n",
    "    return url_list        # 添加：返回网址列表"
   ]
  },
  {
   "cell_type": "markdown",
   "id": "51dc462d",
   "metadata": {},
   "source": [
    "# 请求+获取网页数据\t"
   ]
  },
  {
   "cell_type": "code",
   "execution_count": 2,
   "id": "333f7535",
   "metadata": {
    "ExecuteTime": {
     "end_time": "2023-08-08T18:11:31.669795Z",
     "start_time": "2023-08-08T18:11:31.665245Z"
    }
   },
   "outputs": [],
   "source": [
    "import requests\n",
    "\n",
    "# 函数：获得html  get_html(url)\n",
    "# 参数说明：url为单个网址\n",
    "# 返回值：html为网址的html数据，即网页源代码的字符串\n",
    "def get_html(url):         # 添加：定义函数名\n",
    "    headers = {'User-Agent': 'Mozilla/5.0 (Windows NT 10.0; Win64; x64) \\\n",
    "            AppleWebKit/537.36 (KHTML, like Gecko) \\\n",
    "           Chrome/119.0.0.0 Safari/537.36 Edg/119.0.0.0'}\n",
    "    resp = requests.get(url,headers=headers)\n",
    "    html = resp.text\n",
    "    return html            # 添加：返回网址的html数据"
   ]
  },
  {
   "cell_type": "markdown",
   "id": "c7413d23",
   "metadata": {},
   "source": [
    "# 解析数据"
   ]
  },
  {
   "cell_type": "code",
   "execution_count": 3,
   "id": "c6e09979",
   "metadata": {
    "ExecuteTime": {
     "end_time": "2023-08-08T16:52:41.315680Z",
     "start_time": "2023-08-08T16:52:41.307699Z"
    }
   },
   "outputs": [],
   "source": [
    "from pyquery import PyQuery as pq  #导入pyquery包\n",
    "import re    # 导入re包\n",
    "\n",
    "# 函数：解析数据  extract_movieinfo_list(html)\n",
    "# 参数说明：html为网页源代码的字符串\n",
    "# 返回值：bookinfo_list为书籍的字典列表\n",
    "def extract_movieinfo_list(html):         # 添加：定义函数名\n",
    "    movieinfo_list = []\n",
    "    doc = pq(html)\n",
    "    for movie in doc.items('div.info'):\n",
    "        try:                             # 添加：try语句，避免特殊网页中断整个循环\n",
    "            movie_name = movie('div.hd a').text()    \n",
    "            desc = movie('span.inq').text()\n",
    "            score = movie('span.rating_nums').text()\n",
    "            \n",
    "            # 提取导演信息\n",
    "            director = doc('.bd p').text().split('导演: ')[1].split('&')[0].strip()\n",
    "            # 提取演员信息\n",
    "            actors = doc('.bd p').text().split('主演: ')[1].split('<br>')[0].strip().split(' / ')\n",
    "            # 提取年份\n",
    "            year = doc('.bd p').text().split('&nbsp;/&nbsp;')[0].strip()\n",
    "            # 提取产出地\n",
    "            place = doc('.bd p').text().split('&nbsp;/&nbsp;')[1].strip()\n",
    "\n",
    "            # 提取电影类型\n",
    "            genres = doc('.bd p').text().split('&nbsp;/&nbsp;')[2].strip().split(' ')\n",
    "            \n",
    "            people_num_raw = movie('span.pl').text()       \n",
    "            people_num = re.findall('[0-9]+', people_num_raw)[0]\n",
    "\n",
    "            movieinfo = {'movie_name':movie_name,\n",
    "                         'director':director,\n",
    "                         'actors':actors,\n",
    "                         'year':year,\n",
    "                         'place':place,\n",
    "                         'score':score,\n",
    "                         'people_num':people_num,\n",
    "                          'desc':desc,\n",
    "                        }\n",
    "\n",
    "            movieinfo_list.append(movieinfo)\n",
    "        except:                        # 添加：except和pass语句，如果碰到bug，那么跳出此次循环、不执行任何操作，进行下一次循环\n",
    "            pass\n",
    "        \n",
    "    return movieinfo_list               # 添加：返回书籍的字典列表"
   ]
  },
  {
   "cell_type": "markdown",
   "id": "84e4e3ce",
   "metadata": {},
   "source": [
    "# 存储数据"
   ]
  },
  {
   "cell_type": "code",
   "execution_count": 4,
   "id": "40bbcd27",
   "metadata": {
    "ExecuteTime": {
     "end_time": "2023-08-08T16:52:42.734046Z",
     "start_time": "2023-08-08T16:52:42.727339Z"
    }
   },
   "outputs": [],
   "source": [
    "import csv     # 导入csv包"
   ]
  },
  {
   "cell_type": "code",
   "execution_count": 5,
   "id": "681de3ed",
   "metadata": {
    "ExecuteTime": {
     "end_time": "2023-08-08T16:53:08.861895Z",
     "start_time": "2023-08-08T16:53:08.855334Z"
    }
   },
   "outputs": [],
   "source": [
    "# 函数：爬虫主函数  main(filename)\n",
    "# 参数说明：filename为文件名称\n",
    "# 仅执行命令，不返回任何值\n",
    "def main(filename):         # 添加：定义函数名\n",
    "    print('开始采集豆瓣电影top 250！')              # 添加：说明“开始采集豆瓣读书top 250书籍！”\n",
    "    \n",
    "    # 生成所有网址url_list\n",
    "    url_list = generate_url()\n",
    "    \n",
    "    # 打开文件\n",
    "    file = open(filename, 'a+', encoding='utf-8', newline='')     # 修改：将文件名称，设定为函数的参数\n",
    "    fieldnames = ['movie_name','director','actors','year','place','score','people_num','desc'] \n",
    "    writer = csv.DictWriter(file, fieldnames=fieldnames)    \n",
    "    writer.writeheader() \n",
    "\n",
    "    # 对所有网址url_list循环步骤2-4\n",
    "    for url in url_list:\n",
    "        print('正在采集：{url}'.format(url=url))    # 添加：说明“正在采集<url>”\n",
    "        html = get_html(url)\n",
    "        movieinfo_list = extract_movieinfo_list(html)\n",
    "        for movieinfo in movieinfo_list:\n",
    "            writer.writerow(movieinfo)\n",
    "\n",
    "    file.close()\n",
    "\n",
    "    print('采集完毕！')            # 添加：说明“采集完毕！”"
   ]
  },
  {
   "cell_type": "code",
   "execution_count": 6,
   "metadata": {},
   "outputs": [
    {
     "name": "stdout",
     "output_type": "stream",
     "text": [
      "开始采集豆瓣电影top 250！\n",
      "正在采集：https://movie.douban.com/top250?start=0\n",
      "正在采集：https://movie.douban.com/top250?start=25\n",
      "正在采集：https://movie.douban.com/top250?start=50\n",
      "正在采集：https://movie.douban.com/top250?start=75\n",
      "正在采集：https://movie.douban.com/top250?start=100\n",
      "正在采集：https://movie.douban.com/top250?start=125\n",
      "正在采集：https://movie.douban.com/top250?start=150\n",
      "正在采集：https://movie.douban.com/top250?start=175\n",
      "正在采集：https://movie.douban.com/top250?start=200\n",
      "正在采集：https://movie.douban.com/top250?start=225\n",
      "采集完毕！\n"
     ]
    }
   ],
   "source": [
    "main(filename='movies_250.csv')"
   ]
  },
  {
   "cell_type": "markdown",
   "id": "dd09a1fe",
   "metadata": {},
   "source": [
    "# 参考：\n",
    "- [Excel打开监控数据CSV文件乱码如何处理？_云监控服务 CES_常见问题_产品咨询_华为云 ](https://support.huaweicloud.com/ces_faq/ces_faq_0018.html)"
   ]
  }
 ],
 "metadata": {
  "celltoolbar": "原始单元格格式",
  "hide_input": false,
  "kernelspec": {
   "display_name": "base",
   "language": "python",
   "name": "python3"
  },
  "language_info": {
   "codemirror_mode": {
    "name": "ipython",
    "version": 3
   },
   "file_extension": ".py",
   "mimetype": "text/x-python",
   "name": "python",
   "nbconvert_exporter": "python",
   "pygments_lexer": "ipython3",
   "version": "3.10.9"
  },
  "toc": {
   "base_numbering": 1,
   "nav_menu": {},
   "number_sections": true,
   "sideBar": true,
   "skip_h1_title": false,
   "title_cell": "Table of Contents",
   "title_sidebar": "Contents",
   "toc_cell": false,
   "toc_position": {
    "height": "calc(100% - 180px)",
    "left": "10px",
    "top": "150px",
    "width": "213.788px"
   },
   "toc_section_display": true,
   "toc_window_display": false
  },
  "varInspector": {
   "cols": {
    "lenName": 16,
    "lenType": 16,
    "lenVar": 40
   },
   "kernels_config": {
    "python": {
     "delete_cmd_postfix": "",
     "delete_cmd_prefix": "del ",
     "library": "var_list.py",
     "varRefreshCmd": "print(var_dic_list())"
    },
    "r": {
     "delete_cmd_postfix": ") ",
     "delete_cmd_prefix": "rm(",
     "library": "var_list.r",
     "varRefreshCmd": "cat(var_dic_list()) "
    }
   },
   "types_to_exclude": [
    "module",
    "function",
    "builtin_function_or_method",
    "instance",
    "_Feature"
   ],
   "window_display": false
  }
 },
 "nbformat": 4,
 "nbformat_minor": 5
}
