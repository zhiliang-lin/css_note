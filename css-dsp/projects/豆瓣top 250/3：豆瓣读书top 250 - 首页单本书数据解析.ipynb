{
 "cells": [
  {
   "cell_type": "markdown",
   "metadata": {},
   "source": [
    "**解析豆瓣读书top 250 - 首页单本书数据**"
   ]
  },
  {
   "cell_type": "code",
   "execution_count": null,
   "metadata": {},
   "outputs": [],
   "source": [
    "import requests\n",
    "from pyquery import PyQuery as pq\n",
    "import re\n",
    "import csv"
   ]
  },
  {
   "cell_type": "code",
   "execution_count": null,
   "metadata": {},
   "outputs": [],
   "source": [
    "url = 'https://book.douban.com/top250'"
   ]
  },
  {
   "cell_type": "code",
   "execution_count": null,
   "metadata": {},
   "outputs": [],
   "source": [
    "def get_html(url):         # 添加：定义函数名\n",
    "    headers = {'User-Agent': 'Mozilla/5.0 (Windows NT 10.0; Win64; x64) \\\n",
    "            AppleWebKit/537.36 (KHTML, like Gecko) \\\n",
    "           Chrome/119.0.0.0 Safari/537.36 Edg/119.0.0.0'}\n",
    "    resp = requests.get(url,headers=headers)\n",
    "    html = resp.text\n",
    "    return html            # 添加：返回网址的html数据"
   ]
  },
  {
   "cell_type": "code",
   "execution_count": null,
   "metadata": {},
   "outputs": [],
   "source": []
  },
  {
   "cell_type": "code",
   "execution_count": 4,
   "metadata": {},
   "outputs": [],
   "source": [
    "book_html = \"\"\"\n",
    "<tr class=\"item\">\n",
    "          <td width=\"100\" valign=\"top\">\n",
    "            <a class=\"nbg\" href=\"https://book.douban.com/subject/1007305/\" onclick=\"moreurl(this,{i:'0'})\">\n",
    "              <img src=\"https://img1.doubanio.com/view/subject/s/public/s1070959.jpg\" width=\"90\"/>\n",
    "            </a>\n",
    "          </td>\n",
    "          <td valign=\"top\">\n",
    "            \n",
    "            <div class=\"pl2\">\n",
    "\n",
    "\n",
    "              <a href=\"https://book.douban.com/subject/1007305/\" onclick=\"&quot;moreurl(this,{i:'0'})&quot;\" title=\"红楼梦\">\n",
    "                红楼梦\n",
    "\n",
    "                \n",
    "              </a>\n",
    "\n",
    "\n",
    "\n",
    "                  <img src=\"/pics/read.gif\" alt=\"可试读\" title=\"可试读\"/>\n",
    "\n",
    "              \n",
    "            </div>\n",
    "\n",
    "              <p class=\"pl\">[清] 曹雪芹 著 / 人民文学出版社 / 1996-12 / 59.70元</p>\n",
    "\n",
    "            \n",
    "\n",
    "              \n",
    "              <div class=\"star clearfix\">\n",
    "                  <span class=\"allstar50\"/>\n",
    "                  <span class=\"rating_nums\">9.6</span>\n",
    "\n",
    "                <span class=\"pl\">(\n",
    "                    413885人评价\n",
    "                )</span>\n",
    "              </div>\n",
    "\n",
    "            \n",
    "              <p class=\"quote\" style=\"margin: 10px 0; color: #666\">\n",
    "                  <span class=\"inq\">都云作者痴，谁解其中味？</span>\n",
    "              </p>\n",
    "\n",
    "\n",
    "          </td>\n",
    "        </tr>\n",
    "\"\"\"\n"
   ]
  },
  {
   "cell_type": "markdown",
   "metadata": {},
   "source": [
    "# 数据解析"
   ]
  },
  {
   "cell_type": "code",
   "execution_count": null,
   "metadata": {},
   "outputs": [],
   "source": [
    "# 第一步先将字符串转化为pyquery对象\n",
    "doc = pq(book_html)"
   ]
  },
  {
   "cell_type": "markdown",
   "metadata": {},
   "source": [
    "------------------------------ "
   ]
  },
  {
   "cell_type": "markdown",
   "metadata": {},
   "source": [
    "- **书名**"
   ]
  },
  {
   "cell_type": "code",
   "execution_count": 5,
   "metadata": {},
   "outputs": [
    {
     "name": "stdout",
     "output_type": "stream",
     "text": [
      "红楼梦\n"
     ]
    }
   ],
   "source": [
    "book_name = doc('div.pl2 a').text()\n",
    "print(book_name)"
   ]
  },
  {
   "cell_type": "markdown",
   "metadata": {},
   "source": [
    "--------------------------------------------------------------"
   ]
  },
  {
   "cell_type": "markdown",
   "metadata": {},
   "source": [
    "- **```基本信息```**"
   ]
  },
  {
   "cell_type": "code",
   "execution_count": 6,
   "metadata": {},
   "outputs": [
    {
     "name": "stdout",
     "output_type": "stream",
     "text": [
      "[清] 曹雪芹 著 / 人民文学出版社 / 1996-12 / 59.70元\n"
     ]
    }
   ],
   "source": [
    "info = doc('p.pl').text()\n",
    "print(info)"
   ]
  },
  {
   "cell_type": "code",
   "execution_count": 7,
   "metadata": {},
   "outputs": [
    {
     "data": {
      "text/plain": [
       "['[清] 曹雪芹 著 ', ' 人民文学出版社 ', ' 1996-12 ', ' 59.70元']"
      ]
     },
     "execution_count": 7,
     "metadata": {},
     "output_type": "execute_result"
    }
   ],
   "source": [
    "info_list = info.split('/')\n",
    "info_list"
   ]
  },
  {
   "cell_type": "markdown",
   "metadata": {},
   "source": [
    "- **价格**"
   ]
  },
  {
   "cell_type": "code",
   "execution_count": 8,
   "metadata": {},
   "outputs": [
    {
     "data": {
      "text/plain": [
       "' 59.70元'"
      ]
     },
     "execution_count": 8,
     "metadata": {},
     "output_type": "execute_result"
    }
   ],
   "source": [
    "price = info_list[-1]\n",
    "price"
   ]
  },
  {
   "cell_type": "markdown",
   "metadata": {},
   "source": [
    "- **出版时间**"
   ]
  },
  {
   "cell_type": "code",
   "execution_count": 9,
   "metadata": {},
   "outputs": [
    {
     "data": {
      "text/plain": [
       "' 1996-12 '"
      ]
     },
     "execution_count": 9,
     "metadata": {},
     "output_type": "execute_result"
    }
   ],
   "source": [
    "pub_time = info_list[-2]\n",
    "pub_time"
   ]
  },
  {
   "cell_type": "markdown",
   "metadata": {},
   "source": [
    "- **出版社**\n"
   ]
  },
  {
   "cell_type": "code",
   "execution_count": 10,
   "metadata": {},
   "outputs": [
    {
     "data": {
      "text/plain": [
       "' 人民文学出版社 '"
      ]
     },
     "execution_count": 10,
     "metadata": {},
     "output_type": "execute_result"
    }
   ],
   "source": [
    "publisher = info_list[-3]\n",
    "publisher"
   ]
  },
  {
   "cell_type": "markdown",
   "metadata": {},
   "source": [
    "- **作者**"
   ]
  },
  {
   "cell_type": "code",
   "execution_count": 11,
   "metadata": {},
   "outputs": [
    {
     "data": {
      "text/plain": [
       "'[清] 曹雪芹 著 '"
      ]
     },
     "execution_count": 11,
     "metadata": {},
     "output_type": "execute_result"
    }
   ],
   "source": [
    "authors = ','.join(info_list[:-3])\n",
    "authors"
   ]
  },
  {
   "cell_type": "markdown",
   "metadata": {},
   "source": [
    "------------------------------------------------------------"
   ]
  },
  {
   "cell_type": "markdown",
   "metadata": {},
   "source": [
    "- **评分**"
   ]
  },
  {
   "cell_type": "code",
   "execution_count": 12,
   "metadata": {},
   "outputs": [
    {
     "data": {
      "text/plain": [
       "'9.6'"
      ]
     },
     "execution_count": 12,
     "metadata": {},
     "output_type": "execute_result"
    }
   ],
   "source": [
    "rating_nums = doc('span.rating_nums').text()\n",
    "rating_nums"
   ]
  },
  {
   "cell_type": "markdown",
   "metadata": {},
   "source": [
    "- **评分人数**"
   ]
  },
  {
   "cell_type": "code",
   "execution_count": 13,
   "metadata": {},
   "outputs": [
    {
     "data": {
      "text/plain": [
       "'( 413885人评价 )'"
      ]
     },
     "execution_count": 13,
     "metadata": {},
     "output_type": "execute_result"
    }
   ],
   "source": [
    "rating_count_raw = doc('span.pl').text()\n",
    "rating_count_raw"
   ]
  },
  {
   "cell_type": "code",
   "execution_count": 14,
   "metadata": {},
   "outputs": [
    {
     "data": {
      "text/plain": [
       "'413885'"
      ]
     },
     "execution_count": 14,
     "metadata": {},
     "output_type": "execute_result"
    }
   ],
   "source": [
    "rating_count = re.findall('\\d+', rating_count_raw)[0]\n",
    "rating_count"
   ]
  },
  {
   "cell_type": "markdown",
   "metadata": {},
   "source": [
    "- **介绍**"
   ]
  },
  {
   "cell_type": "code",
   "execution_count": 15,
   "metadata": {},
   "outputs": [
    {
     "data": {
      "text/plain": [
       "'都云作者痴，谁解其中味？'"
      ]
     },
     "execution_count": 15,
     "metadata": {},
     "output_type": "execute_result"
    }
   ],
   "source": [
    "quote = doc('p.quote span.inq').text()\n",
    "quote"
   ]
  },
  {
   "cell_type": "markdown",
   "metadata": {},
   "source": [
    "------------------------------ "
   ]
  },
  {
   "cell_type": "markdown",
   "metadata": {},
   "source": [
    "## 合并版：整合数据解析的代码"
   ]
  },
  {
   "cell_type": "code",
   "execution_count": null,
   "metadata": {},
   "outputs": [],
   "source": [
    "doc = pq(book_html)\n",
    "\n",
    "book_name = doc('div.pl2 a').text() # 书名\n",
    "\n",
    "info = doc('p.pl').text() # 作者/出版社/出版时间/价格\n",
    "info_list = info.split('/')\n",
    "price = info_list[-1] # 价格\n",
    "pub_time = info_list[-2] # 出版时间\n",
    "publisher = info_list[-3] # 出版社\n",
    "authors = ','.join(info_list[:-3]) # 作者\n",
    "\n",
    "rating_nums = doc('span.rating_nums').text() # 评分\n",
    "\n",
    "rating_count_raw = doc('span.pl').text() \n",
    "rating_count = re.findall('\\d+', rating_count_raw)[0] # 评分人数\n",
    "\n",
    "quote = doc('p.quote span.inq').text() # 介绍\n"
   ]
  },
  {
   "cell_type": "markdown",
   "metadata": {},
   "source": [
    "# 将以上结果保存为一个字典"
   ]
  },
  {
   "cell_type": "code",
   "execution_count": 16,
   "metadata": {},
   "outputs": [
    {
     "name": "stdout",
     "output_type": "stream",
     "text": [
      "{'book_name': '红楼梦', 'price': ' 59.70元', 'pub_time': ' 1996-12 ', 'publisher': ' 人民文学出版社 ', 'authors': '[清] 曹雪芹 著 ', 'rating_nums': '9.6', 'rating_count': '413885', 'quote': '都云作者痴，谁解其中味？'}\n"
     ]
    }
   ],
   "source": [
    "book_info = {\n",
    "    'book_name': book_name,\n",
    "    'price': price,\n",
    "    'pub_time': pub_time,\n",
    "    'publisher': publisher,\n",
    "    'authors': authors,\n",
    "    'rating_nums': rating_nums,\n",
    "    'rating_count': rating_count,\n",
    "    'quote': quote\n",
    "}\n",
    "\n",
    "print(book_info)"
   ]
  },
  {
   "cell_type": "markdown",
   "metadata": {},
   "source": [
    "# 将字典内容保存为本地csv格式文件"
   ]
  },
  {
   "cell_type": "code",
   "execution_count": null,
   "metadata": {},
   "outputs": [],
   "source": [
    "# 打开名为 'book_info.csv' 的文件，如果不存在则创建，并使用读写模式 'a+'，同时指定编码方式为 'utf-8'，并设置 newline 参数为空，以避免额外的空行\n",
    "file = open('book_info.csv', 'a+', encoding='utf-8', newline='')\n",
    "\n",
    "# 从 book_info 字典中获取字段名列表，用于写入CSV文件的标题行\n",
    "fieldnames = book_info.keys()\n",
    "\n",
    "# 创建一个 DictWriter 对象，用于将字典数据写入CSV文件，传入文件对象 file 和字段名列表 fieldnames\n",
    "writer = csv.DictWriter(file, fieldnames=fieldnames)\n",
    "\n",
    "# 写入CSV文件的标题行，即字段名列表\n",
    "writer.writeheader()\n",
    "\n",
    "# 将 book_info 字典写入CSV文件\n",
    "writer.writerow(book_info)\n",
    "\n",
    "# 关闭文件\n",
    "file.close()"
   ]
  },
  {
   "cell_type": "code",
   "execution_count": null,
   "metadata": {},
   "outputs": [],
   "source": [
    "# 另外一种写法\n",
    "# with open('book_info.csv', 'a+', encoding='utf-8', newline='') as file:\n",
    "#     fieldnames = book_info.keys()\n",
    "#     writer = csv.DictWriter(file, fieldnames=fieldnames)\n",
    "#     writer.writeheader()\n",
    "#     writer.writerow(book_info)"
   ]
  }
 ],
 "metadata": {
  "kernelspec": {
   "display_name": "base",
   "language": "python",
   "name": "python3"
  },
  "language_info": {
   "codemirror_mode": {
    "name": "ipython",
    "version": 3
   },
   "file_extension": ".py",
   "mimetype": "text/x-python",
   "name": "python",
   "nbconvert_exporter": "python",
   "pygments_lexer": "ipython3",
   "version": "3.10.9"
  }
 },
 "nbformat": 4,
 "nbformat_minor": 2
}
