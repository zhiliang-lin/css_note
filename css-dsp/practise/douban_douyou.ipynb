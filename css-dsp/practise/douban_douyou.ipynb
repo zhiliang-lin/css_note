{
 "cells": [
  {
   "cell_type": "markdown",
   "metadata": {},
   "source": [
    "# 参考资料"
   ]
  },
  {
   "cell_type": "markdown",
   "metadata": {},
   "source": [
    "- [python登录豆瓣并获取自己看过的电影 - Johu - 博客园](https://www.cnblogs.com/johu/p/12970233.html)"
   ]
  },
  {
   "cell_type": "markdown",
   "metadata": {},
   "source": [
    "# 导入相关的包"
   ]
  },
  {
   "cell_type": "code",
   "execution_count": 1,
   "metadata": {},
   "outputs": [],
   "source": [
    "import requests\n",
    "from pyquery import PyQuery as pq \n",
    "import re\n",
    "import csv\n",
    "from fake_useragent import UserAgent\n",
    "import pandas as pd"
   ]
  },
  {
   "cell_type": "markdown",
   "metadata": {},
   "source": [
    "# 构造url"
   ]
  },
  {
   "cell_type": "code",
   "execution_count": 2,
   "metadata": {},
   "outputs": [],
   "source": [
    "df = pd.read_csv(\"../data/douban_contacts.csv\")"
   ]
  },
  {
   "cell_type": "code",
   "execution_count": 3,
   "metadata": {},
   "outputs": [],
   "source": [
    "user_id_list = df.user_id.to_list()"
   ]
  },
  {
   "cell_type": "code",
   "execution_count": 4,
   "metadata": {},
   "outputs": [
    {
     "data": {
      "text/plain": [
       "'atreides1030'"
      ]
     },
     "execution_count": 4,
     "metadata": {},
     "output_type": "execute_result"
    }
   ],
   "source": [
    "user_id_list[0]"
   ]
  },
  {
   "cell_type": "code",
   "execution_count": 5,
   "metadata": {},
   "outputs": [],
   "source": [
    "book_read_url = \"https://book.douban.com/people/{user}/collect?start={num}&sort=time&rating=all&filter=all&mode=grid\"\n",
    "#某用户已读书籍首页\n",
    "book_read_start_url = \"https://book.douban.com/people/{user}/collect?start=0&sort=time&rating=all&filter=all&mode=grid\"\n"
   ]
  },
  {
   "cell_type": "code",
   "execution_count": 9,
   "metadata": {},
   "outputs": [],
   "source": [
    "# 函数：获得html  get_html(url)\n",
    "# 参数说明：url为单个网址\n",
    "# 返回值：html为网址的html数据，即网页源代码的字符串\n",
    "def get_html(url):         # 添加：定义函数名\n",
    "    headers = {\n",
    "        'User-Agent': UserAgent().random\n",
    "    }\n",
    "    resp = requests.get(url,headers=headers)\n",
    "    html = resp.text\n",
    "    return html            # 添加：返回网址的html数据"
   ]
  },
  {
   "cell_type": "code",
   "execution_count": 10,
   "metadata": {},
   "outputs": [],
   "source": [
    "html_tmp = get_html(test_url)"
   ]
  },
  {
   "cell_type": "code",
   "execution_count": 11,
   "metadata": {},
   "outputs": [
    {
     "data": {
      "text/plain": [
       "'<html>\\r\\n<head><title>403 Forbidden</title></head>\\r\\n<body>\\r\\n<center><h1>403 Forbidden</h1></center>\\r\\n<hr><center>nginx</center>\\r\\n</body>\\r\\n</html>\\r\\n'"
      ]
     },
     "execution_count": 11,
     "metadata": {},
     "output_type": "execute_result"
    }
   ],
   "source": [
    "html_tmp"
   ]
  },
  {
   "cell_type": "code",
   "execution_count": null,
   "metadata": {},
   "outputs": [],
   "source": [
    "# 判断一共有多少页\n",
    "\n",
    "def get_total_page(url):\n",
    "    headers = {\n",
    "        'User-Agent': UserAgent().random\n",
    "    }\n",
    "    response = requests.get(url, headers=headers)\n",
    "    html = response.text\n",
    "    # 使用 PyQuery 解析 HTML\n",
    "    doc = pq(html)\n",
    "    # 选择 div.paginator 下的最后一个 a 标签，并获取其文本内容\n",
    "    total_page = doc('.paginator a:last').text()  \n",
    "    return int(total_page)"
   ]
  },
  {
   "cell_type": "code",
   "execution_count": 7,
   "metadata": {},
   "outputs": [
    {
     "data": {
      "text/plain": [
       "'https://book.douban.com/people/atreides1030/collect?start=0&sort=time&rating=all&filter=all&mode=grid'"
      ]
     },
     "execution_count": 7,
     "metadata": {},
     "output_type": "execute_result"
    }
   ],
   "source": [
    "test_url = book_read_url.format(user=user_id_list[0],num=\"0\")\n",
    "\n",
    "test_url"
   ]
  },
  {
   "cell_type": "code",
   "execution_count": 37,
   "metadata": {},
   "outputs": [],
   "source": [
    "test_url2 = \"https://book.douban.com\""
   ]
  },
  {
   "cell_type": "markdown",
   "metadata": {},
   "source": [
    "# 请求网页"
   ]
  },
  {
   "cell_type": "code",
   "execution_count": 63,
   "metadata": {},
   "outputs": [
    {
     "data": {
      "text/plain": [
       "<Response [403]>"
      ]
     },
     "execution_count": 63,
     "metadata": {},
     "output_type": "execute_result"
    }
   ],
   "source": [
    "# 创建 UserAgent 对象\n",
    "ua = UserAgent()\n",
    "\n",
    "# 生成随机的 User-Agent 字符串\n",
    "user_agent = ua.firefox\n",
    "# 尝试加入user-agent\n",
    "headers = {'User-Agent': user_agent}\n",
    "resp = requests.get(test_url, headers=headers)  # 设置参数headers\n",
    "resp #返回码200说明访问成功"
   ]
  },
  {
   "cell_type": "code",
   "execution_count": 22,
   "metadata": {},
   "outputs": [
    {
     "data": {
      "text/plain": [
       "'Mozilla/5.0 (Windows NT 10.0; Win64; x64) AppleWebKit/537.36 (KHTML, like Gecko) Chrome/109.0.0.0 Safari/537.36'"
      ]
     },
     "execution_count": 22,
     "metadata": {},
     "output_type": "execute_result"
    }
   ],
   "source": [
    "user_agent"
   ]
  },
  {
   "cell_type": "code",
   "execution_count": 49,
   "metadata": {},
   "outputs": [],
   "source": [
    "def get_html(url):         # 添加：定义函数名\n",
    "    headers = {'User-Agent': 'Mozilla/5.0 (Windows NT 10.0; Win64; x64) \\\n",
    "                AppleWebKit/537.36 (KHTML, like Gecko) \\\n",
    "                Chrome/119.0.0.0 Safari/537.36'}\n",
    "    resp = requests.get(url,headers=headers)\n",
    "    html = resp.text\n",
    "    return html            # 添加：返回网址的html数据"
   ]
  },
  {
   "cell_type": "code",
   "execution_count": 26,
   "metadata": {},
   "outputs": [],
   "source": [
    "test_html = get_html(test_url)"
   ]
  },
  {
   "cell_type": "code",
   "execution_count": 27,
   "metadata": {},
   "outputs": [
    {
     "data": {
      "text/plain": [
       "'<html>\\r\\n<head><title>403 Forbidden</title></head>\\r\\n<body>\\r\\n<center><h1>403 Forbidden</h1></center>\\r\\n<hr><center>nginx</center>\\r\\n</body>\\r\\n</html>\\r\\n<!-- a padding to disable MSIE and Chrome friendly error page -->\\r\\n<!-- a padding to disable MSIE and Chrome friendly error page -->\\r\\n<!-- a padding to disable MSIE and Chrome friendly error page -->\\r\\n<!-- a padding to disable MSIE and Chrome friendly error page -->\\r\\n<!-- a padding to disable MSIE and Chrome friendly error page -->\\r\\n<!-- a padding to disable MSIE and Chrome friendly error page -->\\r\\n'"
      ]
     },
     "execution_count": 27,
     "metadata": {},
     "output_type": "execute_result"
    }
   ],
   "source": [
    "test_html"
   ]
  },
  {
   "cell_type": "markdown",
   "metadata": {},
   "source": [
    "# 解析网页"
   ]
  },
  {
   "cell_type": "code",
   "execution_count": 16,
   "metadata": {},
   "outputs": [],
   "source": [
    "# 函数：解析数据  extract_bookinfo_list(html)\n",
    "# 参数说明：html为网页源代码的字符串\n",
    "# 返回值：bookinfo_list为书籍的字典列表\n",
    "def extract_bookinfo_list(html):         # 添加：定义函数名\n",
    "    bookinfo_list = []\n",
    "    doc = PyQuery(html)\n",
    "    for book in doc.items('div.info'):\n",
    "        book_name = book('h2 a').text() #书名   \n",
    "        comments = book('div.short-note p').text() #短评\n",
    "        rating_raw = book('div.short-note div span:first').attr(\"class\") #评分\n",
    "        rating = re.findall('\\d',rating_raw)\n",
    "        info_list = book('div.pub').text().split('/')   #书籍信息 \n",
    "        publisher = info_list[-3].strip()   \n",
    "        pub_time = info_list[-2]\n",
    "        price = info_list[-1]\n",
    "        authors = ''.join(info_list[:-3])\n",
    "        date_raw = book('span.date').text()       \n",
    "        date = re.findall('[0-9]+-[0-9]+-[0-9]+', date_raw)[0]\n",
    "\n",
    "        bookinfo = {'book_name':book_name,\n",
    "                    'authors':authors,\n",
    "                    'publisher':publisher,\n",
    "                    'pub_time':pub_time,\n",
    "                    'comments':comments,\n",
    "                    'rating':rating,\n",
    "                    'date':date,\n",
    "                    'price':price,\n",
    "                    }\n",
    "\n",
    "        bookinfo_list.append(bookinfo)\n",
    "\n",
    "        \n",
    "    return bookinfo_list               # 添加：返回书籍的字典列表"
   ]
  },
  {
   "cell_type": "code",
   "execution_count": 21,
   "metadata": {},
   "outputs": [],
   "source": [
    "doc =PyQuery(test_html)\n",
    "doc\n",
    "\n",
    "for book in doc.items(\"div.info\"):\n",
    "    print(book(\"h2 a\").text())"
   ]
  },
  {
   "cell_type": "code",
   "execution_count": 17,
   "metadata": {},
   "outputs": [
    {
     "data": {
      "text/plain": [
       "[]"
      ]
     },
     "execution_count": 17,
     "metadata": {},
     "output_type": "execute_result"
    }
   ],
   "source": [
    "extract_bookinfo_list(test_html)"
   ]
  }
 ],
 "metadata": {
  "kernelspec": {
   "display_name": "base",
   "language": "python",
   "name": "python3"
  },
  "language_info": {
   "codemirror_mode": {
    "name": "ipython",
    "version": 3
   },
   "file_extension": ".py",
   "mimetype": "text/x-python",
   "name": "python",
   "nbconvert_exporter": "python",
   "pygments_lexer": "ipython3",
   "version": "3.10.9"
  }
 },
 "nbformat": 4,
 "nbformat_minor": 2
}
