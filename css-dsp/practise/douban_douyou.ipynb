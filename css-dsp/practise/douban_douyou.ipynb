{
 "cells": [
  {
   "cell_type": "markdown",
   "metadata": {},
   "source": [
    "# 参考资料"
   ]
  },
  {
   "cell_type": "markdown",
   "metadata": {},
   "source": [
    "- [python登录豆瓣并获取自己看过的电影 - Johu - 博客园](https://www.cnblogs.com/johu/p/12970233.html)"
   ]
  },
  {
   "cell_type": "markdown",
   "metadata": {},
   "source": [
    "# 导入相关的包"
   ]
  },
  {
   "cell_type": "code",
   "execution_count": 1,
   "metadata": {},
   "outputs": [],
   "source": [
    "import requests\n",
    "from pyquery import PyQuery  \n",
    "import re\n",
    "import csv"
   ]
  },
  {
   "cell_type": "markdown",
   "metadata": {},
   "source": [
    "# 登录"
   ]
  },
  {
   "cell_type": "code",
   "execution_count": 2,
   "metadata": {},
   "outputs": [],
   "source": [
    "url_basic = 'https://accounts.douban.com/j/mobile/login/basic'"
   ]
  },
  {
   "cell_type": "code",
   "execution_count": 9,
   "metadata": {},
   "outputs": [],
   "source": [
    "ua_headers = {\n",
    "    \"User-Agent\": 'Mozilla/5.0 (Windows NT 10.0; Win64; x64) AppleWebKit/537.36 (KHTML, like Gecko) Chrome/119.0.0.0 Safari/537.36 Edg/119.0.0.0',\n",
    "    \"Cookie\": '',\n",
    "}\n",
    "   \n",
    "data = {\n",
    "    'ck': '',\n",
    "    'name': '',\n",
    "    'password': '',\n",
    "    'remember': 'true',\n",
    "    'ticket': ''\n",
    "    }\n"
   ]
  },
  {
   "cell_type": "code",
   "execution_count": 10,
   "metadata": {},
   "outputs": [],
   "source": [
    "s = requests.Session()\n",
    "    \n",
    "r = s.post(url=url_basic, data=data, headers=ua_headers)"
   ]
  },
  {
   "cell_type": "code",
   "execution_count": 11,
   "metadata": {},
   "outputs": [
    {
     "data": {
      "text/plain": [
       "'{\"r\": 1, \"code\": 403, \"message\": \"Access denied\"}'"
      ]
     },
     "execution_count": 11,
     "metadata": {},
     "output_type": "execute_result"
    }
   ],
   "source": [
    "r.text"
   ]
  },
  {
   "cell_type": "markdown",
   "metadata": {},
   "source": [
    "# 构造url"
   ]
  },
  {
   "cell_type": "code",
   "execution_count": null,
   "metadata": {},
   "outputs": [],
   "source": [
    "id_list =[\"hatashi\",\"mlln\"]"
   ]
  },
  {
   "cell_type": "code",
   "execution_count": 2,
   "metadata": {},
   "outputs": [],
   "source": [
    "book_read_url = \"https://book.douban.com/people/{user}/collect?start={num}\"\n"
   ]
  },
  {
   "cell_type": "code",
   "execution_count": 22,
   "metadata": {},
   "outputs": [],
   "source": [
    "test_url = book_read_url.format(user=\"hatashi\",num=0)"
   ]
  },
  {
   "cell_type": "markdown",
   "metadata": {},
   "source": [
    "# 请求网页"
   ]
  },
  {
   "cell_type": "code",
   "execution_count": null,
   "metadata": {},
   "outputs": [],
   "source": [
    "login_\n",
    "session = requests.Session()\n",
    "login_data = {\n",
    "    'username': '',\n",
    "    'password': ''\n",
    "}\n",
    "\n",
    "# 登录\n",
    "session.post(login_url, data=login_data)"
   ]
  },
  {
   "cell_type": "code",
   "execution_count": 25,
   "metadata": {},
   "outputs": [],
   "source": [
    "def get_html(url):         # 添加：定义函数名\n",
    "    headers = {'User-Agent': 'Mozilla/5.0 (Windows NT 10.0; Win64; x64) \\\n",
    "                AppleWebKit/537.36 (KHTML, like Gecko) \\\n",
    "                Chrome/119.0.0.0 Safari/537.36'}\n",
    "    resp = requests.get(url,headers=headers)\n",
    "    html = resp.text\n",
    "    return html            # 添加：返回网址的html数据"
   ]
  },
  {
   "cell_type": "code",
   "execution_count": 26,
   "metadata": {},
   "outputs": [],
   "source": [
    "test_html = get_html(test_url)"
   ]
  },
  {
   "cell_type": "code",
   "execution_count": 27,
   "metadata": {},
   "outputs": [
    {
     "data": {
      "text/plain": [
       "'<html>\\r\\n<head><title>403 Forbidden</title></head>\\r\\n<body>\\r\\n<center><h1>403 Forbidden</h1></center>\\r\\n<hr><center>nginx</center>\\r\\n</body>\\r\\n</html>\\r\\n<!-- a padding to disable MSIE and Chrome friendly error page -->\\r\\n<!-- a padding to disable MSIE and Chrome friendly error page -->\\r\\n<!-- a padding to disable MSIE and Chrome friendly error page -->\\r\\n<!-- a padding to disable MSIE and Chrome friendly error page -->\\r\\n<!-- a padding to disable MSIE and Chrome friendly error page -->\\r\\n<!-- a padding to disable MSIE and Chrome friendly error page -->\\r\\n'"
      ]
     },
     "execution_count": 27,
     "metadata": {},
     "output_type": "execute_result"
    }
   ],
   "source": [
    "test_html"
   ]
  },
  {
   "cell_type": "markdown",
   "metadata": {},
   "source": [
    "# 解析网页"
   ]
  },
  {
   "cell_type": "code",
   "execution_count": 16,
   "metadata": {},
   "outputs": [],
   "source": [
    "# 函数：解析数据  extract_bookinfo_list(html)\n",
    "# 参数说明：html为网页源代码的字符串\n",
    "# 返回值：bookinfo_list为书籍的字典列表\n",
    "def extract_bookinfo_list(html):         # 添加：定义函数名\n",
    "    bookinfo_list = []\n",
    "    doc = PyQuery(html)\n",
    "    for book in doc.items('div.info'):\n",
    "        book_name = book('h2 a').text() #书名   \n",
    "        comments = book('div.short-note p').text() #短评\n",
    "        rating_raw = book('div.short-note div span:first').attr(\"class\") #评分\n",
    "        rating = re.findall('\\d',rating_raw)\n",
    "        info_list = book('div.pub').text().split('/')   #书籍信息 \n",
    "        publisher = info_list[-3].strip()   \n",
    "        pub_time = info_list[-2]\n",
    "        price = info_list[-1]\n",
    "        authors = ''.join(info_list[:-3])\n",
    "        date_raw = book('span.date').text()       \n",
    "        date = re.findall('[0-9]+-[0-9]+-[0-9]+', date_raw)[0]\n",
    "\n",
    "        bookinfo = {'book_name':book_name,\n",
    "                    'authors':authors,\n",
    "                    'publisher':publisher,\n",
    "                    'pub_time':pub_time,\n",
    "                    'comments':comments,\n",
    "                    'rating':rating,\n",
    "                    'date':date,\n",
    "                    'price':price,\n",
    "                    }\n",
    "\n",
    "        bookinfo_list.append(bookinfo)\n",
    "\n",
    "        \n",
    "    return bookinfo_list               # 添加：返回书籍的字典列表"
   ]
  },
  {
   "cell_type": "code",
   "execution_count": 21,
   "metadata": {},
   "outputs": [],
   "source": [
    "doc =PyQuery(test_html)\n",
    "doc\n",
    "\n",
    "for book in doc.items(\"div.info\"):\n",
    "    print(book(\"h2 a\").text())"
   ]
  },
  {
   "cell_type": "code",
   "execution_count": 17,
   "metadata": {},
   "outputs": [
    {
     "data": {
      "text/plain": [
       "[]"
      ]
     },
     "execution_count": 17,
     "metadata": {},
     "output_type": "execute_result"
    }
   ],
   "source": [
    "extract_bookinfo_list(test_html)"
   ]
  }
 ],
 "metadata": {
  "kernelspec": {
   "display_name": "base",
   "language": "python",
   "name": "python3"
  },
  "language_info": {
   "codemirror_mode": {
    "name": "ipython",
    "version": 3
   },
   "file_extension": ".py",
   "mimetype": "text/x-python",
   "name": "python",
   "nbconvert_exporter": "python",
   "pygments_lexer": "ipython3",
   "version": "3.10.9"
  }
 },
 "nbformat": 4,
 "nbformat_minor": 2
}
