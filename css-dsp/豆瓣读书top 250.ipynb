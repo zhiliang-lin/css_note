{
 "cells": [
  {
   "cell_type": "markdown",
   "id": "692ad455",
   "metadata": {},
   "source": [
    "# 准备知识"
   ]
  },
  {
   "cell_type": "markdown",
   "id": "94d4198f",
   "metadata": {},
   "source": [
    "## 网络爬虫（web crawler）"
   ]
  },
  {
   "cell_type": "markdown",
   "id": "17357660",
   "metadata": {},
   "source": [
    "1. **```定义```**：<br>\n",
    "    - 在互联网中自动采集与整理数据信息<br>\n",
    "    <br>\n",
    "2. **```可行性```**：<br>\n",
    "    - <u>有权限</u>，如果没有权限，便不能爬取，例如银行的后台数据\n",
    "    - <u>能看到</u>，一些小众论坛只有在登录情况下才能查看，那么需要模拟登录，让电脑“看得到”数据\n",
    "3. **```伦理```**：<br>\n",
    "    - 除了一般的研究伦理，如果爬取的是<u>特定地区的论坛</u>，研究报告时可能需要匿名化处理。"
   ]
  },
  {
   "cell_type": "markdown",
   "id": "fc2fe2b6",
   "metadata": {},
   "source": [
    "## 基本思路"
   ]
  },
  {
   "cell_type": "markdown",
   "id": "f7eb91bb",
   "metadata": {},
   "source": [
    "|**步骤**|任务|说明|方法|\n",
    "|:----:|:----:|:-----|:----:|\n",
    "|**1**|**生成网址**|分析**<mark>网址规律</mark>**，批量生成网址|for循环，format函数|\n",
    "|2|请求+获取网页数据|模拟人工打开网页，并将网页存储为数据对象|requests包|\n",
    "|**3**|**解析数据**|分析数据规律，整理出所需字段|**<mark>pyquery包</mark>**，json包<br>（还有**<mark>lxml包和beautifulsoup4包</mark>**）|\n",
    "|4|存储数据|使用csv包将数据存储到csv文件中|csv包|\n",
    "|5|批量爬取|对所有网址循环步骤2-4|for循环|"
   ]
  },
  {
   "cell_type": "markdown",
   "id": "6e2ae767",
   "metadata": {},
   "source": [
    "# 生成网址"
   ]
  },
  {
   "cell_type": "markdown",
   "id": "294c6623",
   "metadata": {},
   "source": [
    "## 分析网址规律"
   ]
  },
  {
   "cell_type": "markdown",
   "id": "c6b59250",
   "metadata": {},
   "source": [
    "1. **```任务对象```**：\n",
    "    - https://book.douban.com/top250<br>\n",
    "<br>\n",
    "<br>\n",
    "2. **```基本情况```**：\n",
    "    - 每翻一页，网址中的某个**<u>```数字发生规律性变化```</u>**\n",
    "    - 每页20本书的信息，最多翻到50页"
   ]
  },
  {
   "cell_type": "markdown",
   "id": "490cdfb0",
   "metadata": {},
   "source": [
    "3. **```规律```**：\n",
    "- **<u>```原网址```</u>**：\n",
    "    * https://book.douban.com/top250?start=25\n",
    "    * https://book.douban.com/top250?start=50\n",
    "\n",
    "    * ……\n",
    "    * https://book.douban.com/top250?start=225\n",
    "\n",
    "<br>\n",
    "- **<u>```总结规律```</u>**：\n",
    "    * 第1页，数字为0\n",
    "    * 第2页，数字为25\n",
    "    * 第3页，数字为50\n",
    "    * ……\n",
    "    * 第10页，数字为225\n",
    "<br>\n",
    "<br>\n",
    "    * <mark><big>第p页，数字为(p-1)*25</big></mark>"
   ]
  },
  {
   "cell_type": "markdown",
   "id": "6ab62d68",
   "metadata": {},
   "source": [
    "## 批量生成网址"
   ]
  },
  {
   "cell_type": "code",
   "execution_count": 1,
   "id": "8cb53376",
   "metadata": {
    "ExecuteTime": {
     "end_time": "2023-08-08T18:04:09.548621Z",
     "start_time": "2023-08-08T18:04:09.539133Z"
    }
   },
   "outputs": [
    {
     "data": {
      "text/plain": [
       "'https://book.douban.com/top250?start=100'"
      ]
     },
     "execution_count": 1,
     "metadata": {},
     "output_type": "execute_result"
    }
   ],
   "source": [
    "# 尝试用format替换数字\n",
    "'https://book.douban.com/top250?start={num}'.format(num=100)\n",
    "# 'https://book.douban.com/top250?start={num}'.format(num=0)   # num取0"
   ]
  },
  {
   "cell_type": "code",
   "execution_count": null,
   "id": "bac5a9e7",
   "metadata": {
    "ExecuteTime": {
     "end_time": "2023-08-08T18:04:16.047085Z",
     "start_time": "2023-08-08T18:04:16.039074Z"
    }
   },
   "outputs": [],
   "source": [
    "'https://book.douban.com/top250?start={num}'.format(num=25)  # num取25"
   ]
  },
  {
   "cell_type": "code",
   "execution_count": null,
   "id": "c97f7aa6",
   "metadata": {
    "ExecuteTime": {
     "end_time": "2023-08-08T18:06:06.289042Z",
     "start_time": "2023-08-08T18:06:06.282715Z"
    }
   },
   "outputs": [],
   "source": [
    "# 简写\n",
    "template = 'https://book.douban.com/top250?start={num}'\n",
    "template.format(num=25)"
   ]
  },
  {
   "cell_type": "code",
   "execution_count": 2,
   "id": "9d6b7cdc",
   "metadata": {
    "ExecuteTime": {
     "end_time": "2023-08-08T18:06:07.043933Z",
     "start_time": "2023-08-08T18:06:07.036924Z"
    }
   },
   "outputs": [],
   "source": [
    "# 循环生成网址，并存入网址列表中\n",
    "url_list = []    # 生成空列表，用于存储网址\n",
    "template = 'https://book.douban.com/top250?start={num}'\n",
    "for p in range(1,11):   # range取1到10\n",
    "    url = template.format(num=(p-1)*25)    # 取1时，为(1-1)*25，即num为0，以此类推\n",
    "    url_list.append(url)   # 将上面获得的url【添加进】列表"
   ]
  },
  {
   "cell_type": "code",
   "execution_count": 3,
   "id": "c7e65a26",
   "metadata": {
    "ExecuteTime": {
     "end_time": "2023-08-08T18:06:08.684675Z",
     "start_time": "2023-08-08T18:06:08.677693Z"
    },
    "collapsed": true
   },
   "outputs": [
    {
     "data": {
      "text/plain": [
       "['https://book.douban.com/top250?start=0',\n",
       " 'https://book.douban.com/top250?start=25',\n",
       " 'https://book.douban.com/top250?start=50',\n",
       " 'https://book.douban.com/top250?start=75',\n",
       " 'https://book.douban.com/top250?start=100',\n",
       " 'https://book.douban.com/top250?start=125',\n",
       " 'https://book.douban.com/top250?start=150',\n",
       " 'https://book.douban.com/top250?start=175',\n",
       " 'https://book.douban.com/top250?start=200',\n",
       " 'https://book.douban.com/top250?start=225']"
      ]
     },
     "execution_count": 3,
     "metadata": {},
     "output_type": "execute_result"
    }
   ],
   "source": [
    "# 查看url_list情况（获得50页的网址）\n",
    "url_list"
   ]
  },
  {
   "cell_type": "code",
   "execution_count": 6,
   "id": "3a6ceb20",
   "metadata": {
    "ExecuteTime": {
     "end_time": "2023-08-08T18:07:33.907385Z",
     "start_time": "2023-08-08T18:07:33.901840Z"
    }
   },
   "outputs": [],
   "source": [
    "# 函数：生成网址  generate_url_list()\n",
    "# 返回值：url_list为网址列表\n",
    "def generate_url_list():   # 添加：定义函数名\n",
    "    url_list = []\n",
    "    template = 'https://book.douban.com/top250?start={num}'\n",
    "    for p in range(1,11):\n",
    "        url = template.format(num=(p-1)*25)\n",
    "        url_list.append(url)\n",
    "    return url_list        # 添加：返回网址列表"
   ]
  },
  {
   "cell_type": "code",
   "execution_count": 7,
   "id": "b66e341e",
   "metadata": {
    "ExecuteTime": {
     "end_time": "2023-08-08T18:07:34.601052Z",
     "start_time": "2023-08-08T18:07:34.594291Z"
    }
   },
   "outputs": [
    {
     "data": {
      "text/plain": [
       "['https://book.douban.com/top250?start=0',\n",
       " 'https://book.douban.com/top250?start=25',\n",
       " 'https://book.douban.com/top250?start=50',\n",
       " 'https://book.douban.com/top250?start=75',\n",
       " 'https://book.douban.com/top250?start=100',\n",
       " 'https://book.douban.com/top250?start=125',\n",
       " 'https://book.douban.com/top250?start=150',\n",
       " 'https://book.douban.com/top250?start=175',\n",
       " 'https://book.douban.com/top250?start=200',\n",
       " 'https://book.douban.com/top250?start=225']"
      ]
     },
     "execution_count": 7,
     "metadata": {},
     "output_type": "execute_result"
    }
   ],
   "source": [
    "# 调用函数  generate_url_list()\n",
    "url_list_tmp = generate_url_list()\n",
    "url_list_tmp"
   ]
  },
  {
   "cell_type": "markdown",
   "id": "51dc462d",
   "metadata": {},
   "source": [
    "# 请求+获取网页数据\t"
   ]
  },
  {
   "cell_type": "markdown",
   "id": "fcfb775c",
   "metadata": {},
   "source": [
    "- 以第1页为例，来请求并获取网页数据\n",
    "- 例子：https://book.douban.com/top250?start=0"
   ]
  },
  {
   "cell_type": "code",
   "execution_count": 10,
   "id": "cf91a1e3",
   "metadata": {
    "ExecuteTime": {
     "end_time": "2023-08-08T18:08:35.325763Z",
     "start_time": "2023-08-08T18:08:35.128751Z"
    }
   },
   "outputs": [
    {
     "data": {
      "text/plain": [
       "<Response [418]>"
      ]
     },
     "execution_count": 10,
     "metadata": {},
     "output_type": "execute_result"
    }
   ],
   "source": [
    "import requests   # 导入requests包\n",
    "\n",
    "url = 'https://book.douban.com/top250'\n",
    "resp = requests.get(url)   # 用get向服务器请求获取数据\n",
    "resp # 查看状态码，返回码418说明访问不成功，需要伪装访问，假装是人工打开网页"
   ]
  },
  {
   "cell_type": "markdown",
   "id": "86c3d7a9",
   "metadata": {},
   "source": [
    "##  1. **状态码**：\n"
   ]
  },
  {
   "cell_type": "markdown",
   "metadata": {},
   "source": [
    "    * 1开头：信息状态码\n",
    "    * 2开头：成功状态码\n",
    "    * 3开头：重定向状态码\n",
    "    * 4开头：客户端错误状态码\n",
    "    * 5开头：服务端错误状态码"
   ]
  },
  {
   "cell_type": "code",
   "execution_count": 11,
   "id": "3ec1949a",
   "metadata": {},
   "outputs": [
    {
     "data": {
      "text/plain": [
       "''"
      ]
     },
     "execution_count": 11,
     "metadata": {},
     "output_type": "execute_result"
    }
   ],
   "source": [
    "resp.text"
   ]
  },
  {
   "cell_type": "markdown",
   "id": "82699404",
   "metadata": {},
   "source": [
    "## 2. **```应对方式```**："
   ]
  },
  {
   "cell_type": "markdown",
   "metadata": {},
   "source": [
    "加入请求头headers，一般包括user-agent、cookie和referer等\n"
   ]
  },
  {
   "cell_type": "markdown",
   "metadata": {},
   "source": [
    "    * **<u>```user-agent```</u>**：浏览器类型及版本、操作系统及版本、浏览器内核等的信息标识\n",
    "    * **<u>```cookie```</u>**：用于识别用户身份、记录历史的一段数据（浏览器访问服务器后，服务器传给浏览器的）\n",
    "    * **<u>```referer```</u>**：告诉服务器该网页是从哪个页面链接过来的"
   ]
  },
  {
   "cell_type": "code",
   "execution_count": 14,
   "id": "abf0e78f",
   "metadata": {
    "ExecuteTime": {
     "end_time": "2023-08-08T18:10:00.695696Z",
     "start_time": "2023-08-08T18:09:59.987096Z"
    }
   },
   "outputs": [
    {
     "data": {
      "text/plain": [
       "<Response [200]>"
      ]
     },
     "execution_count": 14,
     "metadata": {},
     "output_type": "execute_result"
    }
   ],
   "source": [
    "# 尝试加入user-agent\n",
    "headers = {'User-Agent': 'Mozilla/5.0 (Windows NT 10.0; Win64; x64) \\\n",
    "            AppleWebKit/537.36 (KHTML, like Gecko) \\\n",
    "           Chrome/119.0.0.0 Safari/537.36 Edg/119.0.0.0'}\n",
    "resp = requests.get(url, headers=headers)  # 设置参数headers\n",
    "resp #返回码200说明访问成功"
   ]
  },
  {
   "cell_type": "code",
   "execution_count": 15,
   "id": "ca70c4b8",
   "metadata": {
    "ExecuteTime": {
     "end_time": "2023-08-08T18:10:08.984050Z",
     "start_time": "2023-08-08T18:10:08.975976Z"
    }
   },
   "outputs": [
    {
     "data": {
      "text/plain": [
       "'\\n\\n<!DOCTYPE html>\\n<html lang=\"zh-cmn-Hans\" class=\"ua-windows ua-webkit book-new-nav\">\\n<head>\\n  <meta http-equiv=\"Content-Type\" content=\"text/html; charset=utf-8\">\\n  <title>豆瓣读书 Top 250</title>\\n  \\n<script>!function(e){var o=function(o,n,t){var c,i,r=new Date;n=n||30,t=t||\"/\",r.setTime(r.getTime()+24*n*60*60*1e3),c=\"; expires=\"+r.toGMTString();for(i in o)e.cookie=i+\"=\"+o[i]+c+\"; path=\"+t},n=function(o){var n,t,c,i=o+\"=\",r=e.cookie.split(\";\");for(t=0,c=r.length;t<c;t++)if(n=r[t].replace(/^\\\\s+|\\\\s+$/g,\"\"),0==n.indexOf(i))return n.substring(i.length,n.length).replace(/\\\\\"/g,\"\");return null},t=e.write,c={\"douban.com\":1,\"douban.fm\":1,\"google.com\":1,\"google.cn\":1,\"googleapis.com\":1,\"gmaptiles.co.kr\":1,\"gstatic.com\":1,\"gstatic.cn\":1,\"google-analytics.com\":1,\"googleadservices.com\":1},i=function(e,o){var n=new Image;n.onload=function(){},n.src=\"https://www.douban.com/j/except_report?kind=ra022&reason=\"+encodeURIComponent(e)+\"&environment=\"+encodeURIComponent(o)},r=function(o){try{t.call(e,o)}catch(e){t(o)}},a=/<script.*?src\\\\=[\"\\']?([^\"\\'\\\\s>]+)/gi,g=/http:\\\\/\\\\/(.+?)\\\\.([^\\\\/]+).+/i;e.writeln=e.write=function(e){var t,l=a.exec(e);return l&&(t=g.exec(l[1]))?c[t[2]]?void r(e):void(\"tqs\"!==n(\"hj\")&&(i(l[1],location.href),o({hj:\"tqs\"},1),setTimeout(function(){location.replace(location.href)},50))):void r(e)}}(document);</script>\\n\\n  \\n  <meta http-equiv=\"Pragma\" content=\"no-cache\">\\n  <meta http-equiv=\"Expires\" content=\"Sun, 6 Mar 2005 01:00:00 GMT\">\\n  \\n  <script>var _head_start = new Date();</script>\\n  \\n  <link href=\"https://img1.doubanio.com/f/vendors/02814fbb5bee25484516bd0a642af695f7ec5a83/css/douban.css\" rel=\"stylesheet\" type=\"text/css\">\\n  <link href=\"https://img2.doubanio.com/cuphead/book-static/common/master.dd2c2.css\" rel=\"stylesheet\" type=\"text/css\">\\n\\n  <link href=\"https://img2.doubanio.com/cuphead/book-static/base/init.e399f.css\" rel=\"stylesheet\">\\n  <style type=\"text/css\"></style>\\n  <script src=\"https://img1.doubanio.com/f/vendors/0511abe9863c2ea7084efa7e24d1d86c5b3974f1/js/jquery-1.10.2.min.js\"></script>\\n  <script src=\"https://img1.doubanio.com/f/vendors/aa9559674f2476cdc16f755b3cdc4ebc478db669/js/douban.js\"></script>\\n  <script src=\"https://img1.doubanio.com/cuphead/book-static/common/master.307d7.js\"></script>\\n  \\n\\n  \\n  <script>  </script>\\n  <!-- COLLECTED CSS -->\\n\\n  <link rel=\"shortcut icon\" href=\"https://img1.doubanio.com/favicon.ico\" type=\"image/x-icon\">\\n</head>\\n<body>\\n  \\n    <script>var _body_start = new Date();</script>\\n    \\n  \\n\\n\\n\\n    <link href=\"//img3.doubanio.com/dae/accounts/resources/164cfd8/shire/bundle.css\" rel=\"stylesheet\" type=\"text/css\">\\n\\n\\n\\n<div id=\"db-global-nav\" class=\"global-nav\">\\n  <div class=\"bd\">\\n    \\n<div class=\"top-nav-info\">\\n  <a href=\"https://accounts.douban.com/passport/login?source=book\" class=\"nav-login\" rel=\"nofollow\">登录/注册</a>\\n</div>\\n\\n\\n    <div class=\"top-nav-doubanapp\">\\n  <a href=\"https://www.douban.com/doubanapp/app?channel=top-nav\" class=\"lnk-doubanapp\">下载豆瓣客户端</a>\\n  <div id=\"doubanapp-tip\">\\n    <a href=\"https://www.douban.com/doubanapp/app?channel=qipao\" class=\"tip-link\">豆瓣 <span class=\"version\">6.0</span> 全新发布</a>\\n    <a href=\"javascript: void 0;\" class=\"tip-close\">×</a>\\n  </div>\\n  <div id=\"top-nav-appintro\" class=\"more-items\">\\n    <p class=\"appintro-title\">豆瓣</p>\\n    <p class=\"qrcode\">扫码直接下载</p>\\n    <div class=\"download\">\\n      <a href=\"https://www.douban.com/doubanapp/redirect?channel=top-nav&direct_dl=1&download=iOS\">iPhone</a>\\n      <span>·</span>\\n      <a href=\"https://www.douban.com/doubanapp/redirect?channel=top-nav&direct_dl=1&download=Android\" class=\"download-android\">Android</a>\\n    </div>\\n  </div>\\n</div>\\n\\n    \\n\\n\\n<div class=\"global-nav-items\">\\n  <ul>\\n    <li class=\"\">\\n      <a href=\"https://www.douban.com\" target=\"_blank\" data-moreurl-dict=\"{&quot;from&quot;:&quot;top-nav-click-main&quot;,&quot;uid&quot;:&quot;0&quot;}\">豆瓣</a>\\n    </li>\\n    <li class=\"on\">\\n      <a href=\"https://book.douban.com\"  data-moreurl-dict=\"{&quot;from&quot;:&quot;top-nav-click-book&quot;,&quot;uid&quot;:&quot;0&quot;}\">读书</a>\\n    </li>\\n    <li class=\"\">\\n      <a href=\"https://movie.douban.com\" target=\"_blank\" data-moreurl-dict=\"{&quot;from&quot;:&quot;top-nav-click-movie&quot;,&quot;uid&quot;:&quot;0&quot;}\">电影</a>\\n    </li>\\n    <li class=\"\">\\n      <a href=\"https://music.douban.com\" target=\"_blank\" data-moreurl-dict=\"{&quot;from&quot;:&quot;top-nav-click-music&quot;,&quot;uid&quot;:&quot;0&quot;}\">音乐</a>\\n    </li>\\n    <li class=\"\">\\n      <a href=\"https://www.douban.com/location\" target=\"_blank\" data-moreurl-dict=\"{&quot;from&quot;:&quot;top-nav-click-location&quot;,&quot;uid&quot;:&quot;0&quot;}\">同城</a>\\n    </li>\\n    <li class=\"\">\\n      <a href=\"https://www.douban.com/group\" target=\"_blank\" data-moreurl-dict=\"{&quot;from&quot;:&quot;top-nav-click-group&quot;,&quot;uid&quot;:&quot;0&quot;}\">小组</a>\\n    </li>\\n    <li class=\"\">\\n      <a href=\"https://read.douban.com&#47;?dcs=top-nav&amp;dcm=douban\" target=\"_blank\" data-moreurl-dict=\"{&quot;from&quot;:&quot;top-nav-click-read&quot;,&quot;uid&quot;:&quot;0&quot;}\">阅读</a>\\n    </li>\\n    <li class=\"\">\\n      <a href=\"https://fm.douban.com&#47;?from_=shire_top_nav\" target=\"_blank\" data-moreurl-dict=\"{&quot;from&quot;:&quot;top-nav-click-fm&quot;,&quot;uid&quot;:&quot;0&quot;}\">FM</a>\\n    </li>\\n    <li class=\"\">\\n      <a href=\"https://time.douban.com&#47;?dt_time_source=douban-web_top_nav\" target=\"_blank\" data-moreurl-dict=\"{&quot;from&quot;:&quot;top-nav-click-time&quot;,&quot;uid&quot;:&quot;0&quot;}\">时间</a>\\n    </li>\\n    <li class=\"\">\\n      <a href=\"https://market.douban.com&#47;?utm_campaign=douban_top_nav&amp;utm_source=douban&amp;utm_medium=pc_web\" target=\"_blank\" data-moreurl-dict=\"{&quot;from&quot;:&quot;top-nav-click-market&quot;,&quot;uid&quot;:&quot;0&quot;}\">豆品</a>\\n    </li>\\n  </ul>\\n</div>\\n\\n  </div>\\n</div>\\n<script>\\n  ;window._GLOBAL_NAV = {\\n    DOUBAN_URL: \"https://www.douban.com\",\\n    N_NEW_NOTIS: 0,\\n    N_NEW_DOUMAIL: 0\\n  };\\n</script>\\n\\n\\n\\n    <script src=\"//img3.doubanio.com/dae/accounts/resources/164cfd8/shire/bundle.js\" defer=\"defer\"></script>\\n\\n\\n\\n\\n  \\n\\n\\n\\n    <link href=\"//img3.doubanio.com/dae/accounts/resources/164cfd8/book/bundle.css\" rel=\"stylesheet\" type=\"text/css\">\\n\\n\\n\\n\\n<div id=\"db-nav-book\" class=\"nav\">\\n  <div class=\"nav-wrap\">\\n  <div class=\"nav-primary\">\\n    <div class=\"nav-logo\">\\n      <a href=\"https:&#47;&#47;book.douban.com\">豆瓣读书</a>\\n    </div>\\n    <div class=\"nav-search\">\\n      <form action=\"https:&#47;&#47;search.douban.com&#47;book/subject_search\" method=\"get\">\\n        <fieldset>\\n          <legend>搜索：</legend>\\n          <label for=\"inp-query\">\\n          </label>\\n          <div class=\"inp\"><input id=\"inp-query\" name=\"search_text\" size=\"22\" maxlength=\"60\" placeholder=\"书名、作者、ISBN\" value=\"\"></div>\\n          <div class=\"inp-btn\"><input type=\"submit\" value=\"搜索\"></div>\\n          <input type=\"hidden\" name=\"cat\" value=\"1001\" />\\n        </fieldset>\\n      </form>\\n    </div>\\n  </div>\\n  </div>\\n  <div class=\"nav-secondary\">\\n    \\n\\n<div class=\"nav-items\">\\n  <ul>\\n    <li    ><a href=\"https://book.douban.com/cart/\"\\n     >购书单</a>\\n    </li>\\n    <li    ><a href=\"https://read.douban.com/ebooks/?dcs=book-nav&dcm=douban\"\\n            target=\"_blank\"\\n     >电子图书</a>\\n    </li>\\n    <li    ><a href=\"https://market.douban.com/book?utm_campaign=book_nav_freyr&utm_source=douban&utm_medium=pc_web\"\\n     >豆瓣书店</a>\\n    </li>\\n    <li    ><a href=\"https://book.douban.com/annual/2022?fullscreen=1&source=navigation\"\\n            target=\"_blank\"\\n     >2022年度榜单</a>\\n    </li>\\n    <li    ><a href=\"https://standbyme2022.douban.com/?autorotate=false&fullscreen=true&hidenav=true&source=web_navigation\"\\n            target=\"_blank\"\\n     >2022书影音报告</a>\\n    </li>\\n    <li          class=\" book-cart\"\\n    ><a href=\"https://market.douban.com/cart/?biz_type=book&utm_campaign=book_nav_cart&utm_source=douban&utm_medium=pc_web\"\\n            target=\"_blank\"\\n     >购物车</a>\\n    </li>\\n  </ul>\\n</div>\\n\\n    <a href=\"https://book.douban.com/annual/2022?fullscreen=1&source=book_navigation\" class=\"bookannual\"></a>\\n  </div>\\n</div>\\n\\n<script id=\"suggResult\" type=\"text/x-jquery-tmpl\">\\n  <li data-link=\"{{= url}}\">\\n            <a href=\"{{= url}}\" onclick=\"moreurl(this, {from:\\'book_search_sugg\\', query:\\'{{= keyword }}\\', subject_id:\\'{{= id}}\\', i: \\'{{= index}}\\', type: \\'{{= type}}\\'})\">\\n            <img src=\"{{= pic}}\" width=\"40\" />\\n            <div>\\n                <em>{{= title}}</em>\\n                {{if year}}\\n                    <span>{{= year}}</span>\\n                {{/if}}\\n                <p>\\n                {{if type == \"b\"}}\\n                    {{= author_name}}\\n                {{else type == \"a\" }}\\n                    {{if en_name}}\\n                        {{= en_name}}\\n                    {{/if}}\\n                {{/if}}\\n                 </p>\\n            </div>\\n        </a>\\n        </li>\\n  </script>\\n\\n\\n\\n\\n    <script src=\"//img3.doubanio.com/dae/accounts/resources/164cfd8/book/bundle.js\" defer=\"defer\"></script>\\n\\n\\n\\n\\n\\n    <div id=\"wrapper\">\\n        \\n        \\n  <div id=\"content\">\\n    \\n    <h1>豆瓣读书 Top 250</h1>\\n\\n    <div class=\"grid-16-8 clearfix\">\\n      \\n      <div class=\"article\">\\n  <div class=\"indent\">\\n    \\n  \\n\\n        <p class=\"ulfirst\"></p>\\n\\n      \\n  \\n\\n      <table width=\"100%\">\\n        <tr class=\"item\">\\n          <td width=\"100\" valign=\"top\">\\n            <a class=\"nbg\" href=\"https://book.douban.com/subject/1007305/\"\\n              onclick=\"moreurl(this,{i:\\'0\\'})\"\\n\\n              >\\n              <img src=\"https://img1.doubanio.com/view/subject/s/public/s1070959.jpg\" width=\"90\" />\\n            </a>\\n          </td>\\n          <td valign=\"top\">\\n            \\n            <div class=\"pl2\">\\n\\n\\n              <a href=\"https://book.douban.com/subject/1007305/\" onclick=&#34;moreurl(this,{i:&#39;0&#39;})&#34; title=\"红楼梦\"\\n                \\n              >\\n                红楼梦\\n\\n                \\n              </a>\\n\\n\\n\\n                &nbsp; <img src=\"/pics/read.gif\" alt=\"可试读\" title=\"可试读\"/>\\n\\n              \\n            </div>\\n\\n              <p class=\"pl\">[清] 曹雪芹 著 / 人民文学出版社 / 1996-12 / 59.70元</p>\\n\\n            \\n\\n              \\n              <div class=\"star clearfix\">\\n                  <span class=\"allstar50\"></span>\\n                  <span class=\"rating_nums\">9.6</span>\\n\\n                <span class=\"pl\">(\\n                    413884人评价\\n                )</span>\\n              </div>\\n\\n            \\n              <p class=\"quote\" style=\"margin: 10px 0; color: #666\">\\n                  <span class=\"inq\">都云作者痴，谁解其中味？</span>\\n              </p>\\n\\n\\n          </td>\\n        </tr>\\n      </table>\\n        <p class=\"ul\"></p>\\n\\n      \\n  \\n\\n      <table width=\"100%\">\\n        <tr class=\"item\">\\n          <td width=\"100\" valign=\"top\">\\n            <a class=\"nbg\" href=\"https://book.douban.com/subject/4913064/\"\\n              onclick=\"moreurl(this,{i:\\'1\\'})\"\\n\\n              >\\n              <img src=\"https://img1.doubanio.com/view/subject/s/public/s29053580.jpg\" width=\"90\" />\\n            </a>\\n          </td>\\n          <td valign=\"top\">\\n            \\n            <div class=\"pl2\">\\n\\n\\n              <a href=\"https://book.douban.com/subject/4913064/\" onclick=&#34;moreurl(this,{i:&#39;1&#39;})&#34; title=\"活着\"\\n                \\n              >\\n                活着\\n\\n                \\n              </a>\\n\\n\\n\\n                &nbsp; <img src=\"/pics/read.gif\" alt=\"可试读\" title=\"可试读\"/>\\n\\n              \\n            </div>\\n\\n              <p class=\"pl\">余华 / 作家出版社 / 2012-8-1 / 20.00元</p>\\n\\n            \\n\\n              \\n              <div class=\"star clearfix\">\\n                  <span class=\"allstar45\"></span>\\n                  <span class=\"rating_nums\">9.4</span>\\n\\n                <span class=\"pl\">(\\n                    806544人评价\\n                )</span>\\n              </div>\\n\\n            \\n              <p class=\"quote\" style=\"margin: 10px 0; color: #666\">\\n                  <span class=\"inq\">生的苦难与伟大</span>\\n              </p>\\n\\n\\n          </td>\\n        </tr>\\n      </table>\\n        <p class=\"ul\"></p>\\n\\n      \\n  \\n\\n      <table width=\"100%\">\\n        <tr class=\"item\">\\n          <td width=\"100\" valign=\"top\">\\n            <a class=\"nbg\" href=\"https://book.douban.com/subject/4820710/\"\\n              onclick=\"moreurl(this,{i:\\'2\\'})\"\\n\\n              >\\n              <img src=\"https://img1.doubanio.com/view/subject/s/public/s4371408.jpg\" width=\"90\" />\\n            </a>\\n          </td>\\n          <td valign=\"top\">\\n            \\n            <div class=\"pl2\">\\n\\n\\n              <a href=\"https://book.douban.com/subject/4820710/\" onclick=&#34;moreurl(this,{i:&#39;2&#39;})&#34; title=\"1984\"\\n                \\n              >\\n                1984\\n\\n                \\n              </a>\\n\\n\\n\\n\\n              \\n                <br/>\\n                <span style=\"font-size:12px;\">Nineteen Eighty-Four</span>\\n            </div>\\n\\n              <p class=\"pl\">[英] 乔治·奥威尔 / 刘绍铭 / 北京十月文艺出版社 / 2010-4-1 / 28.00</p>\\n\\n            \\n\\n              \\n              <div class=\"star clearfix\">\\n                  <span class=\"allstar45\"></span>\\n                  <span class=\"rating_nums\">9.4</span>\\n\\n                <span class=\"pl\">(\\n                    275813人评价\\n                )</span>\\n              </div>\\n\\n            \\n              <p class=\"quote\" style=\"margin: 10px 0; color: #666\">\\n                  <span class=\"inq\">栗树荫下，我出卖你，你出卖我</span>\\n              </p>\\n\\n\\n          </td>\\n        </tr>\\n      </table>\\n        <p class=\"ul\"></p>\\n\\n      \\n  \\n\\n      <table width=\"100%\">\\n        <tr class=\"item\">\\n          <td width=\"100\" valign=\"top\">\\n            <a class=\"nbg\" href=\"https://book.douban.com/subject/6518605/\"\\n              onclick=\"moreurl(this,{i:\\'3\\'})\"\\n\\n              >\\n              <img src=\"https://img2.doubanio.com/view/subject/s/public/s30016152.jpg\" width=\"90\" />\\n            </a>\\n          </td>\\n          <td valign=\"top\">\\n            \\n            <div class=\"pl2\">\\n\\n\\n              <a href=\"https://book.douban.com/subject/6518605/\" onclick=&#34;moreurl(this,{i:&#39;3&#39;})&#34; title=\"三体全集\"\\n                \\n              >\\n                三体全集\\n\\n                \\n                  <span style=\"font-size:12px;\"> : 地球往事三部曲 </span>\\n              </a>\\n\\n\\n\\n\\n              \\n            </div>\\n\\n              <p class=\"pl\">刘慈欣 / 重庆出版社 / 2012-1 / 168.00元</p>\\n\\n            \\n\\n              \\n              <div class=\"star clearfix\">\\n                  <span class=\"allstar50\"></span>\\n                  <span class=\"rating_nums\">9.5</span>\\n\\n                <span class=\"pl\">(\\n                    178122人评价\\n                )</span>\\n              </div>\\n\\n            \\n              <p class=\"quote\" style=\"margin: 10px 0; color: #666\">\\n                  <span class=\"inq\">地球往事三部曲</span>\\n              </p>\\n\\n\\n          </td>\\n        </tr>\\n      </table>\\n        <p class=\"ul\"></p>\\n\\n      \\n  \\n\\n      <table width=\"100%\">\\n        <tr class=\"item\">\\n          <td width=\"100\" valign=\"top\">\\n            <a class=\"nbg\" href=\"https://book.douban.com/subject/24531956/\"\\n              onclick=\"moreurl(this,{i:\\'4\\'})\"\\n\\n              >\\n              <img src=\"https://img9.doubanio.com/view/subject/s/public/s29101586.jpg\" width=\"90\" />\\n            </a>\\n          </td>\\n          <td valign=\"top\">\\n            \\n            <div class=\"pl2\">\\n\\n\\n              <a href=\"https://book.douban.com/subject/24531956/\" onclick=&#34;moreurl(this,{i:&#39;4&#39;})&#34; title=\"哈利·波特\"\\n                \\n              >\\n                哈利·波特\\n\\n                \\n              </a>\\n\\n\\n\\n\\n              \\n                <br/>\\n                <span style=\"font-size:12px;\">Harry Potter</span>\\n            </div>\\n\\n              <p class=\"pl\">J.K.罗琳 (J.K.Rowling) / 苏农 / 人民文学出版社 / 2008-12-1 / 498.00元</p>\\n\\n            \\n\\n              \\n              <div class=\"star clearfix\">\\n                  <span class=\"allstar50\"></span>\\n                  <span class=\"rating_nums\">9.7</span>\\n\\n                <span class=\"pl\">(\\n                    99447人评价\\n                )</span>\\n              </div>\\n\\n            \\n              <p class=\"quote\" style=\"margin: 10px 0; color: #666\">\\n                  <span class=\"inq\">从9¾站台开始的旅程</span>\\n              </p>\\n\\n\\n          </td>\\n        </tr>\\n      </table>\\n        <p class=\"ul\"></p>\\n\\n      \\n  \\n\\n      <table width=\"100%\">\\n        <tr class=\"item\">\\n          <td width=\"100\" valign=\"top\">\\n            <a class=\"nbg\" href=\"https://book.douban.com/subject/6082808/\"\\n              onclick=\"moreurl(this,{i:\\'5\\'})\"\\n\\n              >\\n              <img src=\"https://img1.doubanio.com/view/subject/s/public/s27237850.jpg\" width=\"90\" />\\n            </a>\\n          </td>\\n          <td valign=\"top\">\\n            \\n            <div class=\"pl2\">\\n\\n\\n              <a href=\"https://book.douban.com/subject/6082808/\" onclick=&#34;moreurl(this,{i:&#39;5&#39;})&#34; title=\"百年孤独\"\\n                \\n              >\\n                百年孤独\\n\\n                \\n              </a>\\n\\n\\n\\n\\n              \\n                <br/>\\n                <span style=\"font-size:12px;\">Cien años de soledad</span>\\n            </div>\\n\\n              <p class=\"pl\">[哥伦比亚] 加西亚·马尔克斯 / 范晔 / 南海出版公司 / 2011-6 / 39.50元</p>\\n\\n            \\n\\n              \\n              <div class=\"star clearfix\">\\n                  <span class=\"allstar45\"></span>\\n                  <span class=\"rating_nums\">9.3</span>\\n\\n                <span class=\"pl\">(\\n                    414700人评价\\n                )</span>\\n              </div>\\n\\n            \\n              <p class=\"quote\" style=\"margin: 10px 0; color: #666\">\\n                  <span class=\"inq\">魔幻现实主义文学代表作</span>\\n              </p>\\n\\n\\n          </td>\\n        </tr>\\n      </table>\\n        <p class=\"ul\"></p>\\n\\n      \\n  \\n\\n      <table width=\"100%\">\\n        <tr class=\"item\">\\n          <td width=\"100\" valign=\"top\">\\n            <a class=\"nbg\" href=\"https://book.douban.com/subject/1068920/\"\\n              onclick=\"moreurl(this,{i:\\'6\\'})\"\\n\\n              >\\n              <img src=\"https://img1.doubanio.com/view/subject/s/public/s1078958.jpg\" width=\"90\" />\\n            </a>\\n          </td>\\n          <td valign=\"top\">\\n            \\n            <div class=\"pl2\">\\n\\n\\n              <a href=\"https://book.douban.com/subject/1068920/\" onclick=&#34;moreurl(this,{i:&#39;6&#39;})&#34; title=\"飘\"\\n                \\n              >\\n                飘\\n\\n                \\n              </a>\\n\\n\\n\\n\\n              \\n                <br/>\\n                <span style=\"font-size:12px;\">Gone with the Wind</span>\\n            </div>\\n\\n              <p class=\"pl\">[美国] 玛格丽特·米切尔 / 李美华 / 译林出版社 / 2000-9 / 40.00元</p>\\n\\n            \\n\\n              \\n              <div class=\"star clearfix\">\\n                  <span class=\"allstar45\"></span>\\n                  <span class=\"rating_nums\">9.3</span>\\n\\n                <span class=\"pl\">(\\n                    208438人评价\\n                )</span>\\n              </div>\\n\\n            \\n              <p class=\"quote\" style=\"margin: 10px 0; color: #666\">\\n                  <span class=\"inq\">革命时期的爱情，随风而逝</span>\\n              </p>\\n\\n\\n          </td>\\n        </tr>\\n      </table>\\n        <p class=\"ul\"></p>\\n\\n      \\n  \\n\\n      <table width=\"100%\">\\n        <tr class=\"item\">\\n          <td width=\"100\" valign=\"top\">\\n            <a class=\"nbg\" href=\"https://book.douban.com/subject/1019568/\"\\n              onclick=\"moreurl(this,{i:\\'7\\'})\"\\n\\n              >\\n              <img src=\"https://img2.doubanio.com/view/subject/s/public/s1076932.jpg\" width=\"90\" />\\n            </a>\\n          </td>\\n          <td valign=\"top\">\\n            \\n            <div class=\"pl2\">\\n\\n\\n              <a href=\"https://book.douban.com/subject/1019568/\" onclick=&#34;moreurl(this,{i:&#39;7&#39;})&#34; title=\"三国演义（全二册）\"\\n                \\n              >\\n                三国演义（全二册）\\n\\n                \\n              </a>\\n\\n\\n\\n                &nbsp; <img src=\"/pics/read.gif\" alt=\"可试读\" title=\"可试读\"/>\\n\\n              \\n            </div>\\n\\n              <p class=\"pl\">[明] 罗贯中 / 人民文学出版社 / 1998-05 / 39.50元</p>\\n\\n            \\n\\n              \\n              <div class=\"star clearfix\">\\n                  <span class=\"allstar45\"></span>\\n                  <span class=\"rating_nums\">9.3</span>\\n\\n                <span class=\"pl\">(\\n                    164241人评价\\n                )</span>\\n              </div>\\n\\n            \\n              <p class=\"quote\" style=\"margin: 10px 0; color: #666\">\\n                  <span class=\"inq\">是非成败转头空</span>\\n              </p>\\n\\n\\n          </td>\\n        </tr>\\n      </table>\\n        <p class=\"ul\"></p>\\n\\n      \\n  \\n\\n      <table width=\"100%\">\\n        <tr class=\"item\">\\n          <td width=\"100\" valign=\"top\">\\n            <a class=\"nbg\" href=\"https://book.douban.com/subject/27614904/\"\\n              onclick=\"moreurl(this,{i:\\'8\\'})\"\\n\\n              >\\n              <img src=\"https://img2.doubanio.com/view/subject/s/public/s29651121.jpg\" width=\"90\" />\\n            </a>\\n          </td>\\n          <td valign=\"top\">\\n            \\n            <div class=\"pl2\">\\n\\n\\n              <a href=\"https://book.douban.com/subject/27614904/\" onclick=&#34;moreurl(this,{i:&#39;8&#39;})&#34; title=\"房思琪的初恋乐园\"\\n                \\n              >\\n                房思琪的初恋乐园\\n\\n                \\n              </a>\\n\\n\\n\\n                &nbsp; <img src=\"/pics/read.gif\" alt=\"可试读\" title=\"可试读\"/>\\n\\n              \\n            </div>\\n\\n              <p class=\"pl\">林奕含 / 北京联合出版公司 / 2018-2 / 45.00元</p>\\n\\n            \\n\\n              \\n              <div class=\"star clearfix\">\\n                  <span class=\"allstar45\"></span>\\n                  <span class=\"rating_nums\">9.2</span>\\n\\n                <span class=\"pl\">(\\n                    366758人评价\\n                )</span>\\n              </div>\\n\\n            \\n              <p class=\"quote\" style=\"margin: 10px 0; color: #666\">\\n                  <span class=\"inq\">向死而生的文学绝唱</span>\\n              </p>\\n\\n\\n          </td>\\n        </tr>\\n      </table>\\n        <p class=\"ul\"></p>\\n\\n      \\n  \\n\\n      <table width=\"100%\">\\n        <tr class=\"item\">\\n          <td width=\"100\" valign=\"top\">\\n            <a class=\"nbg\" href=\"https://book.douban.com/subject/2035179/\"\\n              onclick=\"moreurl(this,{i:\\'9\\'})\"\\n\\n              >\\n              <img src=\"https://img1.doubanio.com/view/subject/s/public/s2347590.jpg\" width=\"90\" />\\n            </a>\\n          </td>\\n          <td valign=\"top\">\\n            \\n            <div class=\"pl2\">\\n\\n\\n              <a href=\"https://book.douban.com/subject/2035179/\" onclick=&#34;moreurl(this,{i:&#39;9&#39;})&#34; title=\"动物农场\"\\n                \\n              >\\n                动物农场\\n\\n                \\n              </a>\\n\\n\\n\\n\\n              \\n                <br/>\\n                <span style=\"font-size:12px;\">Animal Farm</span>\\n            </div>\\n\\n              <p class=\"pl\">[英] 乔治·奥威尔 / 荣如德 / 上海译文出版社 / 2007-3 / 10.00元</p>\\n\\n            \\n\\n              \\n              <div class=\"star clearfix\">\\n                  <span class=\"allstar45\"></span>\\n                  <span class=\"rating_nums\">9.3</span>\\n\\n                <span class=\"pl\">(\\n                    154292人评价\\n                )</span>\\n              </div>\\n\\n            \\n              <p class=\"quote\" style=\"margin: 10px 0; color: #666\">\\n                  <span class=\"inq\">太阳底下并无新事</span>\\n              </p>\\n\\n\\n          </td>\\n        </tr>\\n      </table>\\n        <p class=\"ul\"></p>\\n\\n      \\n  \\n\\n      <table width=\"100%\">\\n        <tr class=\"item\">\\n          <td width=\"100\" valign=\"top\">\\n            <a class=\"nbg\" href=\"https://book.douban.com/subject/1040211/\"\\n              onclick=\"moreurl(this,{i:\\'10\\'})\"\\n\\n              >\\n              <img src=\"https://img1.doubanio.com/view/subject/s/public/s1229240.jpg\" width=\"90\" />\\n            </a>\\n          </td>\\n          <td valign=\"top\">\\n            \\n            <div class=\"pl2\">\\n\\n\\n              <a href=\"https://book.douban.com/subject/1040211/\" onclick=&#34;moreurl(this,{i:&#39;10&#39;})&#34; title=\"福尔摩斯探案全集（上中下）\"\\n                \\n              >\\n                福尔摩斯探案全集（上中下）\\n\\n                \\n              </a>\\n\\n\\n\\n\\n              \\n            </div>\\n\\n              <p class=\"pl\">[英] 阿·柯南道尔 / 丁钟华 等 / 群众出版社 / 1981-8 / 53.00元/68.00元</p>\\n\\n            \\n\\n              \\n              <div class=\"star clearfix\">\\n                  <span class=\"allstar45\"></span>\\n                  <span class=\"rating_nums\">9.3</span>\\n\\n                <span class=\"pl\">(\\n                    130421人评价\\n                )</span>\\n              </div>\\n\\n            \\n              <p class=\"quote\" style=\"margin: 10px 0; color: #666\">\\n                  <span class=\"inq\">名侦探的代名词</span>\\n              </p>\\n\\n\\n          </td>\\n        </tr>\\n      </table>\\n        <p class=\"ul\"></p>\\n\\n      \\n  \\n\\n      <table width=\"100%\">\\n        <tr class=\"item\">\\n          <td width=\"100\" valign=\"top\">\\n            <a class=\"nbg\" href=\"https://book.douban.com/subject/10554308/\"\\n              onclick=\"moreurl(this,{i:\\'11\\'})\"\\n\\n              >\\n              <img src=\"https://img1.doubanio.com/view/subject/s/public/s24514468.jpg\" width=\"90\" />\\n            </a>\\n          </td>\\n          <td valign=\"top\">\\n            \\n            <div class=\"pl2\">\\n\\n\\n              <a href=\"https://book.douban.com/subject/10554308/\" onclick=&#34;moreurl(this,{i:&#39;11&#39;})&#34; title=\"白夜行\"\\n                \\n              >\\n                白夜行\\n\\n                \\n              </a>\\n\\n\\n\\n\\n              \\n            </div>\\n\\n              <p class=\"pl\">[日] 东野圭吾 / 刘姿君 / 南海出版公司 / 2013-1-1 / 39.50元</p>\\n\\n            \\n\\n              \\n              <div class=\"star clearfix\">\\n                  <span class=\"allstar45\"></span>\\n                  <span class=\"rating_nums\">9.2</span>\\n\\n                <span class=\"pl\">(\\n                    458437人评价\\n                )</span>\\n              </div>\\n\\n            \\n              <p class=\"quote\" style=\"margin: 10px 0; color: #666\">\\n                  <span class=\"inq\">一宗离奇命案牵出跨度近20年步步惊心的故事</span>\\n              </p>\\n\\n\\n          </td>\\n        </tr>\\n      </table>\\n        <p class=\"ul\"></p>\\n\\n      \\n  \\n\\n      <table width=\"100%\">\\n        <tr class=\"item\">\\n          <td width=\"100\" valign=\"top\">\\n            <a class=\"nbg\" href=\"https://book.douban.com/subject/1084336/\"\\n              onclick=\"moreurl(this,{i:\\'12\\'})\"\\n\\n              >\\n              <img src=\"https://img2.doubanio.com/view/subject/s/public/s1103152.jpg\" width=\"90\" />\\n            </a>\\n          </td>\\n          <td valign=\"top\">\\n            \\n            <div class=\"pl2\">\\n\\n\\n              <a href=\"https://book.douban.com/subject/1084336/\" onclick=&#34;moreurl(this,{i:&#39;12&#39;})&#34; title=\"小王子\"\\n                \\n              >\\n                小王子\\n\\n                \\n              </a>\\n\\n\\n\\n\\n              \\n                <br/>\\n                <span style=\"font-size:12px;\">Le Petit Prince</span>\\n            </div>\\n\\n              <p class=\"pl\">[法] 圣埃克苏佩里 / 马振聘 / 人民文学出版社 / 2003-8 / 22.00元</p>\\n\\n            \\n\\n              \\n              <div class=\"star clearfix\">\\n                  <span class=\"allstar45\"></span>\\n                  <span class=\"rating_nums\">9.1</span>\\n\\n                <span class=\"pl\">(\\n                    743055人评价\\n                )</span>\\n              </div>\\n\\n            \\n              <p class=\"quote\" style=\"margin: 10px 0; color: #666\">\\n                  <span class=\"inq\">献给长成了大人的孩子们</span>\\n              </p>\\n\\n\\n          </td>\\n        </tr>\\n      </table>\\n        <p class=\"ul\"></p>\\n\\n      \\n  \\n\\n      <table width=\"100%\">\\n        <tr class=\"item\">\\n          <td width=\"100\" valign=\"top\">\\n            <a class=\"nbg\" href=\"https://book.douban.com/subject/1060068/\"\\n              onclick=\"moreurl(this,{i:\\'13\\'})\"\\n\\n              >\\n              <img src=\"https://img2.doubanio.com/view/subject/s/public/s1369343.jpg\" width=\"90\" />\\n            </a>\\n          </td>\\n          <td valign=\"top\">\\n            \\n            <div class=\"pl2\">\\n\\n\\n              <a href=\"https://book.douban.com/subject/1060068/\" onclick=&#34;moreurl(this,{i:&#39;13&#39;})&#34; title=\"撒哈拉的故事\"\\n                \\n              >\\n                撒哈拉的故事\\n\\n                \\n              </a>\\n\\n\\n\\n\\n              \\n            </div>\\n\\n              <p class=\"pl\">三毛 / 哈尔滨出版社 / 2003-8 / 15.80元</p>\\n\\n            \\n\\n              \\n              <div class=\"star clearfix\">\\n                  <span class=\"allstar45\"></span>\\n                  <span class=\"rating_nums\">9.2</span>\\n\\n                <span class=\"pl\">(\\n                    167769人评价\\n                )</span>\\n              </div>\\n\\n            \\n              <p class=\"quote\" style=\"margin: 10px 0; color: #666\">\\n                  <span class=\"inq\">游荡的自由灵魂</span>\\n              </p>\\n\\n\\n          </td>\\n        </tr>\\n      </table>\\n        <p class=\"ul\"></p>\\n\\n      \\n  \\n\\n      <table width=\"100%\">\\n        <tr class=\"item\">\\n          <td width=\"100\" valign=\"top\">\\n            <a class=\"nbg\" href=\"https://book.douban.com/subject/1046209/\"\\n              onclick=\"moreurl(this,{i:\\'14\\'})\"\\n\\n              >\\n              <img src=\"https://img2.doubanio.com/view/subject/s/public/s1034062.jpg\" width=\"90\" />\\n            </a>\\n          </td>\\n          <td valign=\"top\">\\n            \\n            <div class=\"pl2\">\\n\\n\\n              <a href=\"https://book.douban.com/subject/1046209/\" onclick=&#34;moreurl(this,{i:&#39;14&#39;})&#34; title=\"安徒生童话故事集\"\\n                \\n              >\\n                安徒生童话故事集\\n\\n                \\n              </a>\\n\\n\\n\\n\\n              \\n            </div>\\n\\n              <p class=\"pl\">（丹麦）安徒生 / 叶君健 / 人民文学出版社 / 1997-08 / 25.00元</p>\\n\\n            \\n\\n              \\n              <div class=\"star clearfix\">\\n                  <span class=\"allstar45\"></span>\\n                  <span class=\"rating_nums\">9.3</span>\\n\\n                <span class=\"pl\">(\\n                    129084人评价\\n                )</span>\\n              </div>\\n\\n            \\n              <p class=\"quote\" style=\"margin: 10px 0; color: #666\">\\n                  <span class=\"inq\">为了争取未来的一代</span>\\n              </p>\\n\\n\\n          </td>\\n        </tr>\\n      </table>\\n        <p class=\"ul\"></p>\\n\\n      \\n  \\n\\n      <table width=\"100%\">\\n        <tr class=\"item\">\\n          <td width=\"100\" valign=\"top\">\\n            <a class=\"nbg\" href=\"https://book.douban.com/subject/1255625/\"\\n              onclick=\"moreurl(this,{i:\\'15\\'})\"\\n\\n              >\\n              <img src=\"https://img9.doubanio.com/view/subject/s/public/s26018275.jpg\" width=\"90\" />\\n            </a>\\n          </td>\\n          <td valign=\"top\">\\n            \\n            <div class=\"pl2\">\\n\\n\\n              <a href=\"https://book.douban.com/subject/1255625/\" onclick=&#34;moreurl(this,{i:&#39;15&#39;})&#34; title=\"天龙八部\"\\n                \\n              >\\n                天龙八部\\n\\n                \\n              </a>\\n\\n\\n\\n\\n              \\n            </div>\\n\\n              <p class=\"pl\">金庸 / 生活·读书·新知三联书店 / 1994-5 / 96.00元</p>\\n\\n            \\n\\n              \\n              <div class=\"star clearfix\">\\n                  <span class=\"allstar45\"></span>\\n                  <span class=\"rating_nums\">9.2</span>\\n\\n                <span class=\"pl\">(\\n                    130360人评价\\n                )</span>\\n              </div>\\n\\n            \\n              <p class=\"quote\" style=\"margin: 10px 0; color: #666\">\\n                  <span class=\"inq\">有情皆孽，无人不冤</span>\\n              </p>\\n\\n\\n          </td>\\n        </tr>\\n      </table>\\n        <p class=\"ul\"></p>\\n\\n      \\n  \\n\\n      <table width=\"100%\">\\n        <tr class=\"item\">\\n          <td width=\"100\" valign=\"top\">\\n            <a class=\"nbg\" href=\"https://book.douban.com/subject/1449351/\"\\n              onclick=\"moreurl(this,{i:\\'16\\'})\"\\n\\n              >\\n              <img src=\"https://img9.doubanio.com/view/subject/s/public/s34099286.jpg\" width=\"90\" />\\n            </a>\\n          </td>\\n          <td valign=\"top\">\\n            \\n            <div class=\"pl2\">\\n\\n\\n              <a href=\"https://book.douban.com/subject/1449351/\" onclick=&#34;moreurl(this,{i:&#39;16&#39;})&#34; title=\"呐喊\"\\n                \\n              >\\n                呐喊\\n\\n                \\n              </a>\\n\\n\\n\\n\\n              \\n            </div>\\n\\n              <p class=\"pl\">鲁迅 / 人民文学出版社 / 1973-3 / 0.36元</p>\\n\\n            \\n\\n              \\n              <div class=\"star clearfix\">\\n                  <span class=\"allstar45\"></span>\\n                  <span class=\"rating_nums\">9.2</span>\\n\\n                <span class=\"pl\">(\\n                    155483人评价\\n                )</span>\\n              </div>\\n\\n            \\n              <p class=\"quote\" style=\"margin: 10px 0; color: #666\">\\n                  <span class=\"inq\">新文学的第一声呐喊</span>\\n              </p>\\n\\n\\n          </td>\\n        </tr>\\n      </table>\\n        <p class=\"ul\"></p>\\n\\n      \\n  \\n\\n      <table width=\"100%\">\\n        <tr class=\"item\">\\n          <td width=\"100\" valign=\"top\">\\n            <a class=\"nbg\" href=\"https://book.douban.com/subject/26980487/\"\\n              onclick=\"moreurl(this,{i:\\'17\\'})\"\\n\\n              >\\n              <img src=\"https://img1.doubanio.com/view/subject/s/public/s29396368.jpg\" width=\"90\" />\\n            </a>\\n          </td>\\n          <td valign=\"top\">\\n            \\n            <div class=\"pl2\">\\n\\n\\n              <a href=\"https://book.douban.com/subject/26980487/\" onclick=&#34;moreurl(this,{i:&#39;17&#39;})&#34; title=\"悉达多\"\\n                \\n              >\\n                悉达多\\n\\n                \\n                  <span style=\"font-size:12px;\"> : 一首印度的诗 </span>\\n              </a>\\n\\n\\n\\n                &nbsp; <img src=\"/pics/read.gif\" alt=\"可试读\" title=\"可试读\"/>\\n\\n              \\n                <br/>\\n                <span style=\"font-size:12px;\">Siddhartha</span>\\n            </div>\\n\\n              <p class=\"pl\">[德] 赫尔曼·黑塞 / 姜乙 / 天津人民出版社 / 2017-1 / 32.00元</p>\\n\\n            \\n\\n              \\n              <div class=\"star clearfix\">\\n                  <span class=\"allstar45\"></span>\\n                  <span class=\"rating_nums\">9.3</span>\\n\\n                <span class=\"pl\">(\\n                    87146人评价\\n                )</span>\\n              </div>\\n\\n            \\n\\n\\n          </td>\\n        </tr>\\n      </table>\\n        <p class=\"ul\"></p>\\n\\n      \\n  \\n\\n      <table width=\"100%\">\\n        <tr class=\"item\">\\n          <td width=\"100\" valign=\"top\">\\n            <a class=\"nbg\" href=\"https://book.douban.com/subject/6781808/\"\\n              onclick=\"moreurl(this,{i:\\'18\\'})\"\\n\\n              >\\n              <img src=\"https://img2.doubanio.com/view/subject/s/public/s23128183.jpg\" width=\"90\" />\\n            </a>\\n          </td>\\n          <td valign=\"top\">\\n            \\n            <div class=\"pl2\">\\n\\n\\n              <a href=\"https://book.douban.com/subject/6781808/\" onclick=&#34;moreurl(this,{i:&#39;18&#39;})&#34; title=\"杀死一只知更鸟\"\\n                \\n              >\\n                杀死一只知更鸟\\n\\n                \\n              </a>\\n\\n\\n\\n                &nbsp; <img src=\"/pics/read.gif\" alt=\"可试读\" title=\"可试读\"/>\\n\\n              \\n                <br/>\\n                <span style=\"font-size:12px;\">To Kill a Mocking Bird</span>\\n            </div>\\n\\n              <p class=\"pl\">[美] 哈珀·李 / 高红梅 / 译林出版社 / 2012-9 / 32.00元</p>\\n\\n            \\n\\n              \\n              <div class=\"star clearfix\">\\n                  <span class=\"allstar45\"></span>\\n                  <span class=\"rating_nums\">9.2</span>\\n\\n                <span class=\"pl\">(\\n                    141849人评价\\n                )</span>\\n              </div>\\n\\n            \\n              <p class=\"quote\" style=\"margin: 10px 0; color: #666\">\\n                  <span class=\"inq\">有一种东西不能遵循从众原则，那就是——人的良心</span>\\n              </p>\\n\\n\\n          </td>\\n        </tr>\\n      </table>\\n        <p class=\"ul\"></p>\\n\\n      \\n  \\n\\n      <table width=\"100%\">\\n        <tr class=\"item\">\\n          <td width=\"100\" valign=\"top\">\\n            <a class=\"nbg\" href=\"https://book.douban.com/subject/20424526/\"\\n              onclick=\"moreurl(this,{i:\\'19\\'})\"\\n\\n              >\\n              <img src=\"https://img1.doubanio.com/view/subject/s/public/s24516687.jpg\" width=\"90\" />\\n            </a>\\n          </td>\\n          <td valign=\"top\">\\n            \\n            <div class=\"pl2\">\\n\\n\\n              <a href=\"https://book.douban.com/subject/20424526/\" onclick=&#34;moreurl(this,{i:&#39;19&#39;})&#34; title=\"邓小平时代\"\\n                \\n              >\\n                邓小平时代\\n\\n                \\n              </a>\\n\\n\\n\\n\\n              \\n                <br/>\\n                <span style=\"font-size:12px;\">Deng Xiaoping and the Transformation of China</span>\\n            </div>\\n\\n              <p class=\"pl\">【美】傅高义 (Ezra.F.Vogel) / 冯克利 / 生活·读书·新知三联书店 / 2013-1-18 / 88.00元</p>\\n\\n            \\n\\n              \\n              <div class=\"star clearfix\">\\n                  <span class=\"allstar45\"></span>\\n                  <span class=\"rating_nums\">9.3</span>\\n\\n                <span class=\"pl\">(\\n                    65888人评价\\n                )</span>\\n              </div>\\n\\n            \\n              <p class=\"quote\" style=\"margin: 10px 0; color: #666\">\\n                  <span class=\"inq\">个人命运背后的历史变局</span>\\n              </p>\\n\\n\\n          </td>\\n        </tr>\\n      </table>\\n        <p class=\"ul\"></p>\\n\\n      \\n  \\n\\n      <table width=\"100%\">\\n        <tr class=\"item\">\\n          <td width=\"100\" valign=\"top\">\\n            <a class=\"nbg\" href=\"https://book.douban.com/subject/3674537/\"\\n              onclick=\"moreurl(this,{i:\\'20\\'})\"\\n\\n              >\\n              <img src=\"https://img9.doubanio.com/view/subject/s/public/s3745215.jpg\" width=\"90\" />\\n            </a>\\n          </td>\\n          <td valign=\"top\">\\n            \\n            <div class=\"pl2\">\\n\\n\\n              <a href=\"https://book.douban.com/subject/3674537/\" onclick=&#34;moreurl(this,{i:&#39;20&#39;})&#34; title=\"明朝那些事儿（1-9）\"\\n                \\n              >\\n                明朝那些事儿（1-9）\\n\\n                \\n                  <span style=\"font-size:12px;\"> : 限量版 </span>\\n              </a>\\n\\n\\n\\n\\n              \\n            </div>\\n\\n              <p class=\"pl\">当年明月 / 中国海关出版社 / 2009-4 / 358.20元</p>\\n\\n            \\n\\n              \\n              <div class=\"star clearfix\">\\n                  <span class=\"allstar45\"></span>\\n                  <span class=\"rating_nums\">9.2</span>\\n\\n                <span class=\"pl\">(\\n                    166329人评价\\n                )</span>\\n              </div>\\n\\n            \\n              <p class=\"quote\" style=\"margin: 10px 0; color: #666\">\\n                  <span class=\"inq\">不拘一格的历史书写</span>\\n              </p>\\n\\n\\n          </td>\\n        </tr>\\n      </table>\\n        <p class=\"ul\"></p>\\n\\n      \\n  \\n\\n      <table width=\"100%\">\\n        <tr class=\"item\">\\n          <td width=\"100\" valign=\"top\">\\n            <a class=\"nbg\" href=\"https://book.douban.com/subject/30172069/\"\\n              onclick=\"moreurl(this,{i:\\'21\\'})\"\\n\\n              >\\n              <img src=\"https://img1.doubanio.com/view/subject/s/public/s29799269.jpg\" width=\"90\" />\\n            </a>\\n          </td>\\n          <td valign=\"top\">\\n            \\n            <div class=\"pl2\">\\n\\n\\n              <a href=\"https://book.douban.com/subject/30172069/\" onclick=&#34;moreurl(this,{i:&#39;21&#39;})&#34; title=\"失踪的孩子\"\\n                \\n              >\\n                失踪的孩子\\n\\n                \\n                  <span style=\"font-size:12px;\"> : 那不勒斯四部曲4 </span>\\n              </a>\\n\\n\\n\\n                &nbsp; <img src=\"/pics/read.gif\" alt=\"可试读\" title=\"可试读\"/>\\n\\n              \\n                <br/>\\n                <span style=\"font-size:12px;\">Storia della bambina perduta</span>\\n            </div>\\n\\n              <p class=\"pl\">[意] 埃莱娜·费兰特 / 陈英 / 人民文学出版社 / 2018-7 / 62.00元</p>\\n\\n            \\n\\n              \\n              <div class=\"star clearfix\">\\n                  <span class=\"allstar45\"></span>\\n                  <span class=\"rating_nums\">9.2</span>\\n\\n                <span class=\"pl\">(\\n                    76812人评价\\n                )</span>\\n              </div>\\n\\n            \\n              <p class=\"quote\" style=\"margin: 10px 0; color: #666\">\\n                  <span class=\"inq\">我的整个生命，只是一场为了提升社会地位的低俗斗争。</span>\\n              </p>\\n\\n\\n          </td>\\n        </tr>\\n      </table>\\n        <p class=\"ul\"></p>\\n\\n      \\n  \\n\\n      <table width=\"100%\">\\n        <tr class=\"item\">\\n          <td width=\"100\" valign=\"top\">\\n            <a class=\"nbg\" href=\"https://book.douban.com/subject/26986954/\"\\n              onclick=\"moreurl(this,{i:\\'22\\'})\"\\n\\n              >\\n              <img src=\"https://img9.doubanio.com/view/subject/s/public/s29376146.jpg\" width=\"90\" />\\n            </a>\\n          </td>\\n          <td valign=\"top\">\\n            \\n            <div class=\"pl2\">\\n\\n\\n              <a href=\"https://book.douban.com/subject/26986954/\" onclick=&#34;moreurl(this,{i:&#39;22&#39;})&#34; title=\"新名字的故事\"\\n                \\n              >\\n                新名字的故事\\n\\n                \\n                  <span style=\"font-size:12px;\"> : 那不勒斯四部曲2 </span>\\n              </a>\\n\\n\\n\\n                &nbsp; <img src=\"/pics/read.gif\" alt=\"可试读\" title=\"可试读\"/>\\n\\n              \\n                <br/>\\n                <span style=\"font-size:12px;\">Storia del nuovo cognome</span>\\n            </div>\\n\\n              <p class=\"pl\">[意] 埃莱娜·费兰特 / 陈英 / 人民文学出版社 / 2017-4 / 59.00元</p>\\n\\n            \\n\\n              \\n              <div class=\"star clearfix\">\\n                  <span class=\"allstar45\"></span>\\n                  <span class=\"rating_nums\">9.2</span>\\n\\n                <span class=\"pl\">(\\n                    87334人评价\\n                )</span>\\n              </div>\\n\\n            \\n              <p class=\"quote\" style=\"margin: 10px 0; color: #666\">\\n                  <span class=\"inq\">探索青年时代的激情、困惑、挣扎、背叛和失去</span>\\n              </p>\\n\\n\\n          </td>\\n        </tr>\\n      </table>\\n        <p class=\"ul\"></p>\\n\\n      \\n  \\n\\n      <table width=\"100%\">\\n        <tr class=\"item\">\\n          <td width=\"100\" valign=\"top\">\\n            <a class=\"nbg\" href=\"https://book.douban.com/subject/1054685/\"\\n              onclick=\"moreurl(this,{i:\\'23\\'})\"\\n\\n              >\\n              <img src=\"https://img1.doubanio.com/view/subject/s/public/s1447349.jpg\" width=\"90\" />\\n            </a>\\n          </td>\\n          <td valign=\"top\">\\n            \\n            <div class=\"pl2\">\\n\\n\\n              <a href=\"https://book.douban.com/subject/1054685/\" onclick=&#34;moreurl(this,{i:&#39;23&#39;})&#34; title=\"沉默的大多数\"\\n                \\n              >\\n                沉默的大多数\\n\\n                \\n                  <span style=\"font-size:12px;\"> : 王小波杂文随笔全编 </span>\\n              </a>\\n\\n\\n\\n\\n              \\n            </div>\\n\\n              <p class=\"pl\">王小波 / 中国青年出版社 / 1997-10 / 27.00元</p>\\n\\n            \\n\\n              \\n              <div class=\"star clearfix\">\\n                  <span class=\"allstar45\"></span>\\n                  <span class=\"rating_nums\">9.1</span>\\n\\n                <span class=\"pl\">(\\n                    147835人评价\\n                )</span>\\n              </div>\\n\\n            \\n              <p class=\"quote\" style=\"margin: 10px 0; color: #666\">\\n                  <span class=\"inq\">沉默是沉默者的通行证</span>\\n              </p>\\n\\n\\n          </td>\\n        </tr>\\n      </table>\\n        <p class=\"ul\"></p>\\n\\n      \\n  \\n\\n      <table width=\"100%\">\\n        <tr class=\"item\">\\n          <td width=\"100\" valign=\"top\">\\n            <a class=\"nbg\" href=\"https://book.douban.com/subject/1915958/\"\\n              onclick=\"moreurl(this,{i:\\'24\\'})\"\\n\\n              >\\n              <img src=\"https://img2.doubanio.com/view/subject/s/public/s34099301.jpg\" width=\"90\" />\\n            </a>\\n          </td>\\n          <td valign=\"top\">\\n            \\n            <div class=\"pl2\">\\n\\n\\n              <a href=\"https://book.douban.com/subject/1915958/\" onclick=&#34;moreurl(this,{i:&#39;24&#39;})&#34; title=\"野草\"\\n                \\n              >\\n                野草\\n\\n                \\n              </a>\\n\\n\\n\\n\\n              \\n            </div>\\n\\n              <p class=\"pl\">鲁迅 / 人民文学出版社 / 1973-3 / 0.20元</p>\\n\\n            \\n\\n              \\n              <div class=\"star clearfix\">\\n                  <span class=\"allstar50\"></span>\\n                  <span class=\"rating_nums\">9.5</span>\\n\\n                <span class=\"pl\">(\\n                    44970人评价\\n                )</span>\\n              </div>\\n\\n            \\n              <p class=\"quote\" style=\"margin: 10px 0; color: #666\">\\n                  <span class=\"inq\">我以这一丛野草，在明与暗，生与死，过去与未来之际，献于友与仇，人与兽，爱者与不爱者之前作证。</span>\\n              </p>\\n\\n\\n          </td>\\n        </tr>\\n      </table>\\n\\n    \\n    \\n    \\n    \\n        <div class=\"paginator\">\\n        <span class=\"prev\">\\n            &lt;前页\\n        </span>\\n        \\n        \\n\\n                <span class=\"thispage\">1</span>\\n                \\n            <a href=\"https://book.douban.com/top250?start=25\" >2</a>\\n        \\n                \\n            <a href=\"https://book.douban.com/top250?start=50\" >3</a>\\n        \\n                \\n            <a href=\"https://book.douban.com/top250?start=75\" >4</a>\\n        \\n                \\n            <a href=\"https://book.douban.com/top250?start=100\" >5</a>\\n        \\n                \\n            <a href=\"https://book.douban.com/top250?start=125\" >6</a>\\n        \\n                \\n            <a href=\"https://book.douban.com/top250?start=150\" >7</a>\\n        \\n                \\n            <a href=\"https://book.douban.com/top250?start=175\" >8</a>\\n        \\n                \\n            <a href=\"https://book.douban.com/top250?start=200\" >9</a>\\n        \\n                \\n            <a href=\"https://book.douban.com/top250?start=225\" >10</a>\\n        \\n        <span class=\"next\">\\n            <link rel=\"next\" href=\"https://book.douban.com/top250?start=25\"/>\\n            <a href=\"https://book.douban.com/top250?start=25\" >后页&gt;</a>\\n        </span>\\n\\n        </div>\\n\\n\\n  </div>\\n</div>\\n      <div class=\"aside\">\\n        \\n  <span class=\"indent pl\">\\n    豆瓣用户每天都在对“读过”的书进行“很差”到“力荐”的评价，豆瓣根据每本书读过的人数以及该书所得的评价等综合数据，通过算法分析产生了豆瓣读书 Top 250。\\n  </span>\\n\\n      </div>\\n      <div class=\"extra\">\\n        \\n      </div>\\n    </div>\\n  </div>\\n\\n        \\n  <div id=\"footer\">\\n    \\n<span id=\"icp\" class=\"fleft gray-link\">\\n    &copy; 2005－2023 douban.com, all rights reserved 北京豆网科技有限公司\\n</span>\\n\\n<a href=\"https://www.douban.com/hnypt/variformcyst.py\" style=\"display: none;\"></a>\\n\\n<span class=\"fright\">\\n    <a href=\"https://www.douban.com/about\">关于豆瓣</a>\\n    · <a href=\"https://www.douban.com/jobs\">在豆瓣工作</a>\\n    · <a href=\"https://www.douban.com/about?topic=contactus\">联系我们</a>\\n    · <a href=\"https://www.douban.com/about/legal\">法律声明</a>\\n    \\n    · <a href=\"https://help.douban.com/?app=book\" target=\"_blank\">帮助中心</a>\\n    · <a href=\"https://book.douban.com/library_invitation\">图书馆合作</a>\\n    · <a href=\"https://www.douban.com/doubanapp/\">移动应用</a>\\n    · <a href=\"https://www.douban.com/partner/\">豆瓣广告</a>\\n</span>\\n\\n  </div>\\n\\n    </div>\\n      \\n\\n    <!-- COLLECTED JS -->\\n    <!-- mako -->\\n    \\n    \\n  \\n\\n<script type=\"text/javascript\">\\n  var _paq = _paq || [];\\n  _paq.push([\\'trackPageView\\']);\\n  _paq.push([\\'enableLinkTracking\\']);\\n  (function() {\\n    var p=((\\'https:\\' == document.location.protocol) ? \\'https\\' : \\'http\\'), u=p+\\'://fundin.douban.com/\\';\\n    _paq.push([\\'setTrackerUrl\\', u+\\'piwik\\']);\\n    _paq.push([\\'setSiteId\\', \\'100001\\']);\\n    var d=document, g=d.createElement(\\'script\\'), s=d.getElementsByTagName(\\'script\\')[0]; \\n    g.type=\\'text/javascript\\';\\n    g.defer=true; \\n    g.async=true; \\n    g.src=p+\\'://s.doubanio.com/dae/fundin/piwik.js\\';\\n    s.parentNode.insertBefore(g,s);\\n  })();\\n</script>\\n\\n<script type=\"text/javascript\">\\nvar setMethodWithNs = function(namespace) {\\n  var ns = namespace ? namespace + \\'.\\' : \\'\\'\\n    , fn = function(string) {\\n        if(!ns) {return string}\\n        return ns + string\\n      }\\n  return fn\\n}\\n\\nvar gaWithNamespace = function(fn, namespace) {\\n  var method = setMethodWithNs(namespace)\\n  fn.call(this, method)\\n}\\n\\nvar _gaq = _gaq || []\\n  , accounts = [\\n      { id: \\'UA-7019765-1\\', namespace: \\'douban\\' }\\n    , { id: \\'UA-7019765-16\\', namespace: \\'\\' }\\n    ]\\n  , gaInit = function(account) {\\n      gaWithNamespace(function(method) {\\n        gaInitFn.call(this, method, account)\\n      }, account.namespace)\\n    }\\n  , gaInitFn = function(method, account) {\\n      _gaq.push([method(\\'_setAccount\\'), account.id])\\n\\n      \\n  _gaq.push([method(\\'_addOrganic\\'), \\'google\\', \\'q\\'])\\n  _gaq.push([method(\\'_addOrganic\\'), \\'baidu\\', \\'wd\\'])\\n  _gaq.push([method(\\'_addOrganic\\'), \\'soso\\', \\'w\\'])\\n  _gaq.push([method(\\'_addOrganic\\'), \\'youdao\\', \\'q\\'])\\n  _gaq.push([method(\\'_addOrganic\\'), \\'so.360.cn\\', \\'q\\'])\\n  _gaq.push([method(\\'_addOrganic\\'), \\'sogou\\', \\'query\\'])\\n  if (account.namespace) {\\n    _gaq.push([method(\\'_addIgnoredOrganic\\'), \\'豆瓣\\'])\\n    _gaq.push([method(\\'_addIgnoredOrganic\\'), \\'douban\\'])\\n    _gaq.push([method(\\'_addIgnoredOrganic\\'), \\'豆瓣网\\'])\\n    _gaq.push([method(\\'_addIgnoredOrganic\\'), \\'www.douban.com\\'])\\n  }\\n\\n      if (account.namespace === \\'douban\\') {\\n        _gaq.push([method(\\'_setDomainName\\'), \\'.douban.com\\'])\\n      }\\n\\n        _gaq.push([method(\\'_setCustomVar\\'), 1, \\'responsive_view_mode\\', \\'desktop\\', 3])\\n\\n        _gaq.push([method(\\'_setCustomVar\\'), 2, \\'login_status\\', \\'0\\', 2]);\\n\\n      _gaq.push([method(\\'_trackPageview\\')])\\n    }\\n\\nfor(var i = 0, l = accounts.length; i < l; i++) {\\n  var account = accounts[i]\\n  gaInit(account)\\n}\\n\\n\\n;(function() {\\n    var ga = document.createElement(\\'script\\');\\n    ga.src = (\\'https:\\' == document.location.protocol ? \\'https://ssl\\' : \\'http://www\\') + \\'.google-analytics.com/ga.js\\';\\n    ga.setAttribute(\\'async\\', \\'true\\');\\n    document.documentElement.firstChild.appendChild(ga);\\n})()\\n</script>\\n\\n\\n\\n\\n\\n\\n\\n\\n    <!-- dae-web-book--default-5777c958f4-5mnfk-->\\n\\n</body>\\n</html>\\n\\n\\n\\n\\n\\n\\n\\n\\n\\n\\n\\n\\n\\n\\n\\n\\n\\n\\n\\n\\n\\n\\n\\n\\n\\n\\n\\n\\n\\n\\n\\n\\n\\n\\n\\n\\n'"
      ]
     },
     "execution_count": 15,
     "metadata": {},
     "output_type": "execute_result"
    }
   ],
   "source": [
    "# 查看返回内容，搜索该页面的“人类简史”是否在返回的文本中，确认与网页一致\n",
    "resp.text"
   ]
  },
  {
   "cell_type": "code",
   "execution_count": 16,
   "id": "05b82372",
   "metadata": {
    "ExecuteTime": {
     "end_time": "2023-08-08T18:10:37.057391Z",
     "start_time": "2023-08-08T18:10:37.050693Z"
    }
   },
   "outputs": [
    {
     "data": {
      "text/plain": [
       "str"
      ]
     },
     "execution_count": 16,
     "metadata": {},
     "output_type": "execute_result"
    }
   ],
   "source": [
    "# 将返回内容放入html中，html为str\n",
    "html = resp.text\n",
    "html\n",
    "type(html)"
   ]
  },
  {
   "cell_type": "code",
   "execution_count": 17,
   "id": "333f7535",
   "metadata": {
    "ExecuteTime": {
     "end_time": "2023-08-08T18:11:31.669795Z",
     "start_time": "2023-08-08T18:11:31.665245Z"
    }
   },
   "outputs": [],
   "source": [
    "# 函数：获得html  get_html(url)\n",
    "# 参数说明：url为单个网址\n",
    "# 返回值：html为网址的html数据，即网页源代码的字符串\n",
    "def get_html(url):         # 添加：定义函数名\n",
    "    headers = {'User-Agent': 'Mozilla/5.0 (Windows NT 10.0; Win64; x64) \\\n",
    "            AppleWebKit/537.36 (KHTML, like Gecko) \\\n",
    "           Chrome/119.0.0.0 Safari/537.36 Edg/119.0.0.0'}\n",
    "    resp = requests.get(url,headers=headers)\n",
    "    html = resp.text\n",
    "    return html            # 添加：返回网址的html数据"
   ]
  },
  {
   "cell_type": "code",
   "execution_count": 18,
   "id": "24dd07fa",
   "metadata": {
    "ExecuteTime": {
     "end_time": "2023-08-08T18:11:55.212151Z",
     "start_time": "2023-08-08T18:11:51.124348Z"
    }
   },
   "outputs": [
    {
     "data": {
      "text/plain": [
       "'\\n\\n<!DOCTYPE html>\\n<html lang=\"zh-cmn-Hans\" class=\"ua-windows ua-webkit book-new-nav\">\\n<head>\\n  <meta http-equiv=\"Content-Type\" content=\"text/html; charset=utf-8\">\\n  <title>豆瓣读书 Top 250</title>\\n  \\n<script>!function(e){var o=function(o,n,t){var c,i,r=new Date;n=n||30,t=t||\"/\",r.setTime(r.getTime()+24*n*60*60*1e3),c=\"; expires=\"+r.toGMTString();for(i in o)e.cookie=i+\"=\"+o[i]+c+\"; path=\"+t},n=function(o){var n,t,c,i=o+\"=\",r=e.cookie.split(\";\");for(t=0,c=r.length;t<c;t++)if(n=r[t].replace(/^\\\\s+|\\\\s+$/g,\"\"),0==n.indexOf(i))return n.substring(i.length,n.length).replace(/\\\\\"/g,\"\");return null},t=e.write,c={\"douban.com\":1,\"douban.fm\":1,\"google.com\":1,\"google.cn\":1,\"googleapis.com\":1,\"gmaptiles.co.kr\":1,\"gstatic.com\":1,\"gstatic.cn\":1,\"google-analytics.com\":1,\"googleadservices.com\":1},i=function(e,o){var n=new Image;n.onload=function(){},n.src=\"https://www.douban.com/j/except_report?kind=ra022&reason=\"+encodeURIComponent(e)+\"&environment=\"+encodeURIComponent(o)},r=function(o){try{t.call(e,o)}catch(e){t(o)}},a=/<script.*?src\\\\=[\"\\']?([^\"\\'\\\\s>]+)/gi,g=/http:\\\\/\\\\/(.+?)\\\\.([^\\\\/]+).+/i;e.writeln=e.write=function(e){var t,l=a.exec(e);return l&&(t=g.exec(l[1]))?c[t[2]]?void r(e):void(\"tqs\"!==n(\"hj\")&&(i(l[1],location.href),o({hj:\"tqs\"},1),setTimeout(function(){location.replace(location.href)},50))):void r(e)}}(document);</script>\\n\\n  \\n  <meta http-equiv=\"Pragma\" content=\"no-cache\">\\n  <meta http-equiv=\"Expires\" content=\"Sun, 6 Mar 2005 01:00:00 GMT\">\\n  \\n  <script>var _head_start = new Date();</script>\\n  \\n  <link href=\"https://img1.doubanio.com/f/vendors/02814fbb5bee25484516bd0a642af695f7ec5a83/css/douban.css\" rel=\"stylesheet\" type=\"text/css\">\\n  <link href=\"https://img2.doubanio.com/cuphead/book-static/common/master.dd2c2.css\" rel=\"stylesheet\" type=\"text/css\">\\n\\n  <link href=\"https://img2.doubanio.com/cuphead/book-static/base/init.e399f.css\" rel=\"stylesheet\">\\n  <style type=\"text/css\"></style>\\n  <script src=\"https://img1.doubanio.com/f/vendors/0511abe9863c2ea7084efa7e24d1d86c5b3974f1/js/jquery-1.10.2.min.js\"></script>\\n  <script src=\"https://img1.doubanio.com/f/vendors/aa9559674f2476cdc16f755b3cdc4ebc478db669/js/douban.js\"></script>\\n  <script src=\"https://img1.doubanio.com/cuphead/book-static/common/master.307d7.js\"></script>\\n  \\n\\n  \\n  <script>  </script>\\n  <!-- COLLECTED CSS -->\\n\\n  <link rel=\"shortcut icon\" href=\"https://img1.doubanio.com/favicon.ico\" type=\"image/x-icon\">\\n</head>\\n<body>\\n  \\n    <script>var _body_start = new Date();</script>\\n    \\n  \\n\\n\\n\\n    <link href=\"//img3.doubanio.com/dae/accounts/resources/164cfd8/shire/bundle.css\" rel=\"stylesheet\" type=\"text/css\">\\n\\n\\n\\n<div id=\"db-global-nav\" class=\"global-nav\">\\n  <div class=\"bd\">\\n    \\n<div class=\"top-nav-info\">\\n  <a href=\"https://accounts.douban.com/passport/login?source=book\" class=\"nav-login\" rel=\"nofollow\">登录/注册</a>\\n</div>\\n\\n\\n    <div class=\"top-nav-doubanapp\">\\n  <a href=\"https://www.douban.com/doubanapp/app?channel=top-nav\" class=\"lnk-doubanapp\">下载豆瓣客户端</a>\\n  <div id=\"doubanapp-tip\">\\n    <a href=\"https://www.douban.com/doubanapp/app?channel=qipao\" class=\"tip-link\">豆瓣 <span class=\"version\">6.0</span> 全新发布</a>\\n    <a href=\"javascript: void 0;\" class=\"tip-close\">×</a>\\n  </div>\\n  <div id=\"top-nav-appintro\" class=\"more-items\">\\n    <p class=\"appintro-title\">豆瓣</p>\\n    <p class=\"qrcode\">扫码直接下载</p>\\n    <div class=\"download\">\\n      <a href=\"https://www.douban.com/doubanapp/redirect?channel=top-nav&direct_dl=1&download=iOS\">iPhone</a>\\n      <span>·</span>\\n      <a href=\"https://www.douban.com/doubanapp/redirect?channel=top-nav&direct_dl=1&download=Android\" class=\"download-android\">Android</a>\\n    </div>\\n  </div>\\n</div>\\n\\n    \\n\\n\\n<div class=\"global-nav-items\">\\n  <ul>\\n    <li class=\"\">\\n      <a href=\"https://www.douban.com\" target=\"_blank\" data-moreurl-dict=\"{&quot;from&quot;:&quot;top-nav-click-main&quot;,&quot;uid&quot;:&quot;0&quot;}\">豆瓣</a>\\n    </li>\\n    <li class=\"on\">\\n      <a href=\"https://book.douban.com\"  data-moreurl-dict=\"{&quot;from&quot;:&quot;top-nav-click-book&quot;,&quot;uid&quot;:&quot;0&quot;}\">读书</a>\\n    </li>\\n    <li class=\"\">\\n      <a href=\"https://movie.douban.com\" target=\"_blank\" data-moreurl-dict=\"{&quot;from&quot;:&quot;top-nav-click-movie&quot;,&quot;uid&quot;:&quot;0&quot;}\">电影</a>\\n    </li>\\n    <li class=\"\">\\n      <a href=\"https://music.douban.com\" target=\"_blank\" data-moreurl-dict=\"{&quot;from&quot;:&quot;top-nav-click-music&quot;,&quot;uid&quot;:&quot;0&quot;}\">音乐</a>\\n    </li>\\n    <li class=\"\">\\n      <a href=\"https://www.douban.com/location\" target=\"_blank\" data-moreurl-dict=\"{&quot;from&quot;:&quot;top-nav-click-location&quot;,&quot;uid&quot;:&quot;0&quot;}\">同城</a>\\n    </li>\\n    <li class=\"\">\\n      <a href=\"https://www.douban.com/group\" target=\"_blank\" data-moreurl-dict=\"{&quot;from&quot;:&quot;top-nav-click-group&quot;,&quot;uid&quot;:&quot;0&quot;}\">小组</a>\\n    </li>\\n    <li class=\"\">\\n      <a href=\"https://read.douban.com&#47;?dcs=top-nav&amp;dcm=douban\" target=\"_blank\" data-moreurl-dict=\"{&quot;from&quot;:&quot;top-nav-click-read&quot;,&quot;uid&quot;:&quot;0&quot;}\">阅读</a>\\n    </li>\\n    <li class=\"\">\\n      <a href=\"https://fm.douban.com&#47;?from_=shire_top_nav\" target=\"_blank\" data-moreurl-dict=\"{&quot;from&quot;:&quot;top-nav-click-fm&quot;,&quot;uid&quot;:&quot;0&quot;}\">FM</a>\\n    </li>\\n    <li class=\"\">\\n      <a href=\"https://time.douban.com&#47;?dt_time_source=douban-web_top_nav\" target=\"_blank\" data-moreurl-dict=\"{&quot;from&quot;:&quot;top-nav-click-time&quot;,&quot;uid&quot;:&quot;0&quot;}\">时间</a>\\n    </li>\\n    <li class=\"\">\\n      <a href=\"https://market.douban.com&#47;?utm_campaign=douban_top_nav&amp;utm_source=douban&amp;utm_medium=pc_web\" target=\"_blank\" data-moreurl-dict=\"{&quot;from&quot;:&quot;top-nav-click-market&quot;,&quot;uid&quot;:&quot;0&quot;}\">豆品</a>\\n    </li>\\n  </ul>\\n</div>\\n\\n  </div>\\n</div>\\n<script>\\n  ;window._GLOBAL_NAV = {\\n    DOUBAN_URL: \"https://www.douban.com\",\\n    N_NEW_NOTIS: 0,\\n    N_NEW_DOUMAIL: 0\\n  };\\n</script>\\n\\n\\n\\n    <script src=\"//img3.doubanio.com/dae/accounts/resources/164cfd8/shire/bundle.js\" defer=\"defer\"></script>\\n\\n\\n\\n\\n  \\n\\n\\n\\n    <link href=\"//img3.doubanio.com/dae/accounts/resources/164cfd8/book/bundle.css\" rel=\"stylesheet\" type=\"text/css\">\\n\\n\\n\\n\\n<div id=\"db-nav-book\" class=\"nav\">\\n  <div class=\"nav-wrap\">\\n  <div class=\"nav-primary\">\\n    <div class=\"nav-logo\">\\n      <a href=\"https:&#47;&#47;book.douban.com\">豆瓣读书</a>\\n    </div>\\n    <div class=\"nav-search\">\\n      <form action=\"https:&#47;&#47;search.douban.com&#47;book/subject_search\" method=\"get\">\\n        <fieldset>\\n          <legend>搜索：</legend>\\n          <label for=\"inp-query\">\\n          </label>\\n          <div class=\"inp\"><input id=\"inp-query\" name=\"search_text\" size=\"22\" maxlength=\"60\" placeholder=\"书名、作者、ISBN\" value=\"\"></div>\\n          <div class=\"inp-btn\"><input type=\"submit\" value=\"搜索\"></div>\\n          <input type=\"hidden\" name=\"cat\" value=\"1001\" />\\n        </fieldset>\\n      </form>\\n    </div>\\n  </div>\\n  </div>\\n  <div class=\"nav-secondary\">\\n    \\n\\n<div class=\"nav-items\">\\n  <ul>\\n    <li    ><a href=\"https://book.douban.com/cart/\"\\n     >购书单</a>\\n    </li>\\n    <li    ><a href=\"https://read.douban.com/ebooks/?dcs=book-nav&dcm=douban\"\\n            target=\"_blank\"\\n     >电子图书</a>\\n    </li>\\n    <li    ><a href=\"https://market.douban.com/book?utm_campaign=book_nav_freyr&utm_source=douban&utm_medium=pc_web\"\\n     >豆瓣书店</a>\\n    </li>\\n    <li    ><a href=\"https://book.douban.com/annual/2022?fullscreen=1&source=navigation\"\\n            target=\"_blank\"\\n     >2022年度榜单</a>\\n    </li>\\n    <li    ><a href=\"https://standbyme2022.douban.com/?autorotate=false&fullscreen=true&hidenav=true&source=web_navigation\"\\n            target=\"_blank\"\\n     >2022书影音报告</a>\\n    </li>\\n    <li          class=\" book-cart\"\\n    ><a href=\"https://market.douban.com/cart/?biz_type=book&utm_campaign=book_nav_cart&utm_source=douban&utm_medium=pc_web\"\\n            target=\"_blank\"\\n     >购物车</a>\\n    </li>\\n  </ul>\\n</div>\\n\\n    <a href=\"https://book.douban.com/annual/2022?fullscreen=1&source=book_navigation\" class=\"bookannual\"></a>\\n  </div>\\n</div>\\n\\n<script id=\"suggResult\" type=\"text/x-jquery-tmpl\">\\n  <li data-link=\"{{= url}}\">\\n            <a href=\"{{= url}}\" onclick=\"moreurl(this, {from:\\'book_search_sugg\\', query:\\'{{= keyword }}\\', subject_id:\\'{{= id}}\\', i: \\'{{= index}}\\', type: \\'{{= type}}\\'})\">\\n            <img src=\"{{= pic}}\" width=\"40\" />\\n            <div>\\n                <em>{{= title}}</em>\\n                {{if year}}\\n                    <span>{{= year}}</span>\\n                {{/if}}\\n                <p>\\n                {{if type == \"b\"}}\\n                    {{= author_name}}\\n                {{else type == \"a\" }}\\n                    {{if en_name}}\\n                        {{= en_name}}\\n                    {{/if}}\\n                {{/if}}\\n                 </p>\\n            </div>\\n        </a>\\n        </li>\\n  </script>\\n\\n\\n\\n\\n    <script src=\"//img3.doubanio.com/dae/accounts/resources/164cfd8/book/bundle.js\" defer=\"defer\"></script>\\n\\n\\n\\n\\n\\n    <div id=\"wrapper\">\\n        \\n        \\n  <div id=\"content\">\\n    \\n    <h1>豆瓣读书 Top 250</h1>\\n\\n    <div class=\"grid-16-8 clearfix\">\\n      \\n      <div class=\"article\">\\n  <div class=\"indent\">\\n    \\n  \\n\\n        <p class=\"ulfirst\"></p>\\n\\n      \\n  \\n\\n      <table width=\"100%\">\\n        <tr class=\"item\">\\n          <td width=\"100\" valign=\"top\">\\n            <a class=\"nbg\" href=\"https://book.douban.com/subject/1003479/\"\\n              onclick=\"moreurl(this,{i:\\'0\\'})\"\\n\\n              >\\n              <img src=\"https://img9.doubanio.com/view/subject/s/public/s1319205.jpg\" width=\"90\" />\\n            </a>\\n          </td>\\n          <td valign=\"top\">\\n            \\n            <div class=\"pl2\">\\n\\n\\n              <a href=\"https://book.douban.com/subject/1003479/\" onclick=&#34;moreurl(this,{i:&#39;0&#39;})&#34; title=\"中国历代政治得失\"\\n                \\n              >\\n                中国历代政治得失\\n\\n                \\n              </a>\\n\\n\\n\\n\\n              \\n            </div>\\n\\n              <p class=\"pl\">钱穆 / 生活·读书·新知三联书店 / 2001 / 12.00元</p>\\n\\n            \\n\\n              \\n              <div class=\"star clearfix\">\\n                  <span class=\"allstar45\"></span>\\n                  <span class=\"rating_nums\">9.2</span>\\n\\n                <span class=\"pl\">(\\n                    69643人评价\\n                )</span>\\n              </div>\\n\\n            \\n              <p class=\"quote\" style=\"margin: 10px 0; color: #666\">\\n                  <span class=\"inq\">一部简明的“中国政治制度史”</span>\\n              </p>\\n\\n\\n          </td>\\n        </tr>\\n      </table>\\n        <p class=\"ul\"></p>\\n\\n      \\n  \\n\\n      <table width=\"100%\">\\n        <tr class=\"item\">\\n          <td width=\"100\" valign=\"top\">\\n            <a class=\"nbg\" href=\"https://book.douban.com/subject/4908885/\"\\n              onclick=\"moreurl(this,{i:\\'1\\'})\"\\n\\n              >\\n              <img src=\"https://img9.doubanio.com/view/subject/s/public/s4468484.jpg\" width=\"90\" />\\n            </a>\\n          </td>\\n          <td valign=\"top\">\\n            \\n            <div class=\"pl2\">\\n\\n\\n              <a href=\"https://book.douban.com/subject/4908885/\" onclick=&#34;moreurl(this,{i:&#39;1&#39;})&#34; title=\"局外人\"\\n                \\n              >\\n                局外人\\n\\n                \\n              </a>\\n\\n\\n\\n\\n              \\n                <br/>\\n                <span style=\"font-size:12px;\">L&#39;Etranger</span>\\n            </div>\\n\\n              <p class=\"pl\">[法] 阿尔贝·加缪 / 柳鸣九 / 上海译文出版社 / 2010-8 / 22.00元</p>\\n\\n            \\n\\n              \\n              <div class=\"star clearfix\">\\n                  <span class=\"allstar45\"></span>\\n                  <span class=\"rating_nums\">9.1</span>\\n\\n                <span class=\"pl\">(\\n                    230876人评价\\n                )</span>\\n              </div>\\n\\n            \\n              <p class=\"quote\" style=\"margin: 10px 0; color: #666\">\\n                  <span class=\"inq\">人生在世，永远也不该演戏作假</span>\\n              </p>\\n\\n\\n          </td>\\n        </tr>\\n      </table>\\n        <p class=\"ul\"></p>\\n\\n      \\n  \\n\\n      <table width=\"100%\">\\n        <tr class=\"item\">\\n          <td width=\"100\" valign=\"top\">\\n            <a class=\"nbg\" href=\"https://book.douban.com/subject/25985021/\"\\n              onclick=\"moreurl(this,{i:\\'2\\'})\"\\n\\n              >\\n              <img src=\"https://img2.doubanio.com/view/subject/s/public/s27814883.jpg\" width=\"90\" />\\n            </a>\\n          </td>\\n          <td valign=\"top\">\\n            \\n            <div class=\"pl2\">\\n\\n\\n              <a href=\"https://book.douban.com/subject/25985021/\" onclick=&#34;moreurl(this,{i:&#39;2&#39;})&#34; title=\"人类简史\"\\n                \\n              >\\n                人类简史\\n\\n                \\n                  <span style=\"font-size:12px;\"> : 从动物到上帝 </span>\\n              </a>\\n\\n\\n\\n                &nbsp; <img src=\"/pics/read.gif\" alt=\"可试读\" title=\"可试读\"/>\\n\\n              \\n                <br/>\\n                <span style=\"font-size:12px;\">Sapiens: A brief history of humankind</span>\\n            </div>\\n\\n              <p class=\"pl\">[以色列] 尤瓦尔·赫拉利 / 林俊宏 / 中信出版社 / 2014-11 / 68.00元</p>\\n\\n            \\n\\n              \\n              <div class=\"star clearfix\">\\n                  <span class=\"allstar45\"></span>\\n                  <span class=\"rating_nums\">9.1</span>\\n\\n                <span class=\"pl\">(\\n                    194741人评价\\n                )</span>\\n              </div>\\n\\n            \\n              <p class=\"quote\" style=\"margin: 10px 0; color: #666\">\\n                  <span class=\"inq\">跟着人类一同走过十万年</span>\\n              </p>\\n\\n\\n          </td>\\n        </tr>\\n      </table>\\n        <p class=\"ul\"></p>\\n\\n      \\n  \\n\\n      <table width=\"100%\">\\n        <tr class=\"item\">\\n          <td width=\"100\" valign=\"top\">\\n            <a class=\"nbg\" href=\"https://book.douban.com/subject/1200840/\"\\n              onclick=\"moreurl(this,{i:\\'3\\'})\"\\n\\n              >\\n              <img src=\"https://img2.doubanio.com/view/subject/s/public/s1144911.jpg\" width=\"90\" />\\n            </a>\\n          </td>\\n          <td valign=\"top\">\\n            \\n            <div class=\"pl2\">\\n\\n\\n              <a href=\"https://book.douban.com/subject/1200840/\" onclick=&#34;moreurl(this,{i:&#39;3&#39;})&#34; title=\"平凡的世界（全三部）\"\\n                \\n              >\\n                平凡的世界（全三部）\\n\\n                \\n              </a>\\n\\n\\n\\n\\n              \\n            </div>\\n\\n              <p class=\"pl\">路遥 / 人民文学出版社 / 2005-1 / 64.00元</p>\\n\\n            \\n\\n              \\n              <div class=\"star clearfix\">\\n                  <span class=\"allstar45\"></span>\\n                  <span class=\"rating_nums\">9.0</span>\\n\\n                <span class=\"pl\">(\\n                    318948人评价\\n                )</span>\\n              </div>\\n\\n            \\n              <p class=\"quote\" style=\"margin: 10px 0; color: #666\">\\n                  <span class=\"inq\">中国当代城乡生活全景</span>\\n              </p>\\n\\n\\n          </td>\\n        </tr>\\n      </table>\\n        <p class=\"ul\"></p>\\n\\n      \\n  \\n\\n      <table width=\"100%\">\\n        <tr class=\"item\">\\n          <td width=\"100\" valign=\"top\">\\n            <a class=\"nbg\" href=\"https://book.douban.com/subject/10564071/\"\\n              onclick=\"moreurl(this,{i:\\'4\\'})\"\\n\\n              >\\n              <img src=\"https://img9.doubanio.com/view/subject/s/public/s28111905.jpg\" width=\"90\" />\\n            </a>\\n          </td>\\n          <td valign=\"top\">\\n            \\n            <div class=\"pl2\">\\n\\n\\n              <a href=\"https://book.douban.com/subject/10564071/\" onclick=&#34;moreurl(this,{i:&#39;4&#39;})&#34; title=\"白鹿原\"\\n                \\n              >\\n                白鹿原\\n\\n                \\n              </a>\\n\\n\\n\\n                &nbsp; <img src=\"/pics/read.gif\" alt=\"可试读\" title=\"可试读\"/>\\n\\n              \\n            </div>\\n\\n              <p class=\"pl\">陈忠实 / 人民文学出版社 / 2012-9 / 39.00元</p>\\n\\n            \\n\\n              \\n              <div class=\"star clearfix\">\\n                  <span class=\"allstar45\"></span>\\n                  <span class=\"rating_nums\">9.2</span>\\n\\n                <span class=\"pl\">(\\n                    102456人评价\\n                )</span>\\n              </div>\\n\\n            \\n              <p class=\"quote\" style=\"margin: 10px 0; color: #666\">\\n                  <span class=\"inq\">一轴关于我们民族灵魂的现实主义画卷</span>\\n              </p>\\n\\n\\n          </td>\\n        </tr>\\n      </table>\\n        <p class=\"ul\"></p>\\n\\n      \\n  \\n\\n      <table width=\"100%\">\\n        <tr class=\"item\">\\n          <td width=\"100\" valign=\"top\">\\n            <a class=\"nbg\" href=\"https://book.douban.com/subject/1795079/\"\\n              onclick=\"moreurl(this,{i:\\'5\\'})\"\\n\\n              >\\n              <img src=\"https://img1.doubanio.com/view/subject/s/public/s1762210.jpg\" width=\"90\" />\\n            </a>\\n          </td>\\n          <td valign=\"top\">\\n            \\n            <div class=\"pl2\">\\n\\n\\n              <a href=\"https://book.douban.com/subject/1795079/\" onclick=&#34;moreurl(this,{i:&#39;5&#39;})&#34; title=\"乡土中国\"\\n                \\n              >\\n                乡土中国\\n\\n                \\n              </a>\\n\\n\\n\\n\\n              \\n            </div>\\n\\n              <p class=\"pl\">费孝通 / 上海人民出版社 / 2006-04-01 / 38.00</p>\\n\\n            \\n\\n              \\n              <div class=\"star clearfix\">\\n                  <span class=\"allstar45\"></span>\\n                  <span class=\"rating_nums\">9.2</span>\\n\\n                <span class=\"pl\">(\\n                    85198人评价\\n                )</span>\\n              </div>\\n\\n            \\n              <p class=\"quote\" style=\"margin: 10px 0; color: #666\">\\n                  <span class=\"inq\">中国乡土社会传统文化和社会结构理论研究代表作</span>\\n              </p>\\n\\n\\n          </td>\\n        </tr>\\n      </table>\\n        <p class=\"ul\"></p>\\n\\n      \\n  \\n\\n      <table width=\"100%\">\\n        <tr class=\"item\">\\n          <td width=\"100\" valign=\"top\">\\n            <a class=\"nbg\" href=\"https://book.douban.com/subject/1008145/\"\\n              onclick=\"moreurl(this,{i:\\'6\\'})\"\\n\\n              >\\n              <img src=\"https://img2.doubanio.com/view/subject/s/public/s1070222.jpg\" width=\"90\" />\\n            </a>\\n          </td>\\n          <td valign=\"top\">\\n            \\n            <div class=\"pl2\">\\n\\n\\n              <a href=\"https://book.douban.com/subject/1008145/\" onclick=&#34;moreurl(this,{i:&#39;6&#39;})&#34; title=\"围城\"\\n                \\n              >\\n                围城\\n\\n                \\n              </a>\\n\\n\\n\\n\\n              \\n            </div>\\n\\n              <p class=\"pl\">钱锺书 / 人民文学出版社 / 1991-2 / 19.00</p>\\n\\n            \\n\\n              \\n              <div class=\"star clearfix\">\\n                  <span class=\"allstar45\"></span>\\n                  <span class=\"rating_nums\">9.0</span>\\n\\n                <span class=\"pl\">(\\n                    442103人评价\\n                )</span>\\n              </div>\\n\\n            \\n              <p class=\"quote\" style=\"margin: 10px 0; color: #666\">\\n                  <span class=\"inq\">幽默的语言和对生活深刻的观察</span>\\n              </p>\\n\\n\\n          </td>\\n        </tr>\\n      </table>\\n        <p class=\"ul\"></p>\\n\\n      \\n  \\n\\n      <table width=\"100%\">\\n        <tr class=\"item\">\\n          <td width=\"100\" valign=\"top\">\\n            <a class=\"nbg\" href=\"https://book.douban.com/subject/1002299/\"\\n              onclick=\"moreurl(this,{i:\\'7\\'})\"\\n\\n              >\\n              <img src=\"https://img9.doubanio.com/view/subject/s/public/s2157335.jpg\" width=\"90\" />\\n            </a>\\n          </td>\\n          <td valign=\"top\">\\n            \\n            <div class=\"pl2\">\\n\\n\\n              <a href=\"https://book.douban.com/subject/1002299/\" onclick=&#34;moreurl(this,{i:&#39;7&#39;})&#34; title=\"笑傲江湖（全四册）\"\\n                \\n              >\\n                笑傲江湖（全四册）\\n\\n                \\n              </a>\\n\\n\\n\\n\\n              \\n            </div>\\n\\n              <p class=\"pl\">金庸 / 生活·读书·新知三联书店 / 1994-5 / 76.80元</p>\\n\\n            \\n\\n              \\n              <div class=\"star clearfix\">\\n                  <span class=\"allstar45\"></span>\\n                  <span class=\"rating_nums\">9.1</span>\\n\\n                <span class=\"pl\">(\\n                    109687人评价\\n                )</span>\\n              </div>\\n\\n            \\n              <p class=\"quote\" style=\"margin: 10px 0; color: #666\">\\n                  <span class=\"inq\">欲练此功，必先自宫</span>\\n              </p>\\n\\n\\n          </td>\\n        </tr>\\n      </table>\\n        <p class=\"ul\"></p>\\n\\n      \\n  \\n\\n      <table width=\"100%\">\\n        <tr class=\"item\">\\n          <td width=\"100\" valign=\"top\">\\n            <a class=\"nbg\" href=\"https://book.douban.com/subject/21371175/\"\\n              onclick=\"moreurl(this,{i:\\'8\\'})\"\\n\\n              >\\n              <img src=\"https://img2.doubanio.com/view/subject/s/public/s25814002.jpg\" width=\"90\" />\\n            </a>\\n          </td>\\n          <td valign=\"top\">\\n            \\n            <div class=\"pl2\">\\n\\n\\n              <a href=\"https://book.douban.com/subject/21371175/\" onclick=&#34;moreurl(this,{i:&#39;8&#39;})&#34; title=\"罗杰疑案\"\\n                \\n              >\\n                罗杰疑案\\n\\n                \\n                  <span style=\"font-size:12px;\"> : 阿加莎·克里斯蒂侦探作品集02 </span>\\n              </a>\\n\\n\\n\\n                &nbsp; <img src=\"/pics/read.gif\" alt=\"可试读\" title=\"可试读\"/>\\n\\n              \\n                <br/>\\n                <span style=\"font-size:12px;\">The Murder of Roger Ackroyd</span>\\n            </div>\\n\\n              <p class=\"pl\">[英] 阿加莎·克里斯蒂 / 常禾 / 新星出版社 / 2013-3 / 28.00元</p>\\n\\n            \\n\\n              \\n              <div class=\"star clearfix\">\\n                  <span class=\"allstar45\"></span>\\n                  <span class=\"rating_nums\">9.2</span>\\n\\n                <span class=\"pl\">(\\n                    68252人评价\\n                )</span>\\n              </div>\\n\\n            \\n\\n\\n          </td>\\n        </tr>\\n      </table>\\n        <p class=\"ul\"></p>\\n\\n      \\n  \\n\\n      <table width=\"100%\">\\n        <tr class=\"item\">\\n          <td width=\"100\" valign=\"top\">\\n            <a class=\"nbg\" href=\"https://book.douban.com/subject/1449348/\"\\n              onclick=\"moreurl(this,{i:\\'9\\'})\"\\n\\n              >\\n              <img src=\"https://img2.doubanio.com/view/subject/s/public/s34099293.jpg\" width=\"90\" />\\n            </a>\\n          </td>\\n          <td valign=\"top\">\\n            \\n            <div class=\"pl2\">\\n\\n\\n              <a href=\"https://book.douban.com/subject/1449348/\" onclick=&#34;moreurl(this,{i:&#39;9&#39;})&#34; title=\"彷徨\"\\n                \\n              >\\n                彷徨\\n\\n                \\n              </a>\\n\\n\\n\\n\\n              \\n            </div>\\n\\n              <p class=\"pl\">鲁迅 / 人民文学出版社 / 1973-3 / 0.37元</p>\\n\\n            \\n\\n              \\n              <div class=\"star clearfix\">\\n                  <span class=\"allstar45\"></span>\\n                  <span class=\"rating_nums\">9.3</span>\\n\\n                <span class=\"pl\">(\\n                    62780人评价\\n                )</span>\\n              </div>\\n\\n            \\n              <p class=\"quote\" style=\"margin: 10px 0; color: #666\">\\n                  <span class=\"inq\">路漫漫其修远兮，吾将上下而求索</span>\\n              </p>\\n\\n\\n          </td>\\n        </tr>\\n      </table>\\n        <p class=\"ul\"></p>\\n\\n      \\n  \\n\\n      <table width=\"100%\">\\n        <tr class=\"item\">\\n          <td width=\"100\" valign=\"top\">\\n            <a class=\"nbg\" href=\"https://book.douban.com/subject/1209899/\"\\n              onclick=\"moreurl(this,{i:\\'10\\'})\"\\n\\n              >\\n              <img src=\"https://img1.doubanio.com/view/subject/s/public/s1151479.jpg\" width=\"90\" />\\n            </a>\\n          </td>\\n          <td valign=\"top\">\\n            \\n            <div class=\"pl2\">\\n\\n\\n              <a href=\"https://book.douban.com/subject/1209899/\" onclick=&#34;moreurl(this,{i:&#39;10&#39;})&#34; title=\"我与地坛\"\\n                \\n              >\\n                我与地坛\\n\\n                \\n                  <span style=\"font-size:12px;\"> : 史铁生代表作 </span>\\n              </a>\\n\\n\\n\\n\\n              \\n            </div>\\n\\n              <p class=\"pl\">史铁生 / 春风文艺出版社 / 2002-5 / 25.00元</p>\\n\\n            \\n\\n              \\n              <div class=\"star clearfix\">\\n                  <span class=\"allstar45\"></span>\\n                  <span class=\"rating_nums\">9.2</span>\\n\\n                <span class=\"pl\">(\\n                    102419人评价\\n                )</span>\\n              </div>\\n\\n            \\n              <p class=\"quote\" style=\"margin: 10px 0; color: #666\">\\n                  <span class=\"inq\">这是你的罪孽与福祉</span>\\n              </p>\\n\\n\\n          </td>\\n        </tr>\\n      </table>\\n        <p class=\"ul\"></p>\\n\\n      \\n  \\n\\n      <table width=\"100%\">\\n        <tr class=\"item\">\\n          <td width=\"100\" valign=\"top\">\\n            <a class=\"nbg\" href=\"https://book.douban.com/subject/1827374/\"\\n              onclick=\"moreurl(this,{i:\\'11\\'})\"\\n\\n              >\\n              <img src=\"https://img1.doubanio.com/view/subject/s/public/s1765799.jpg\" width=\"90\" />\\n            </a>\\n          </td>\\n          <td valign=\"top\">\\n            \\n            <div class=\"pl2\">\\n\\n\\n              <a href=\"https://book.douban.com/subject/1827374/\" onclick=&#34;moreurl(this,{i:&#39;11&#39;})&#34; title=\"东方快车谋杀案\"\\n                \\n              >\\n                东方快车谋杀案\\n\\n                \\n              </a>\\n\\n\\n\\n                &nbsp; <img src=\"/pics/read.gif\" alt=\"可试读\" title=\"可试读\"/>\\n\\n              \\n                <br/>\\n                <span style=\"font-size:12px;\">Murder on the Orient Express</span>\\n            </div>\\n\\n              <p class=\"pl\">[英] 阿加莎·克里斯蒂 / 陈尧光 / 人民文学出版社 / 2006-5 / 18.00元</p>\\n\\n            \\n\\n              \\n              <div class=\"star clearfix\">\\n                  <span class=\"allstar45\"></span>\\n                  <span class=\"rating_nums\">9.1</span>\\n\\n                <span class=\"pl\">(\\n                    136154人评价\\n                )</span>\\n              </div>\\n\\n            \\n              <p class=\"quote\" style=\"margin: 10px 0; color: #666\">\\n                  <span class=\"inq\">谋杀诡计惊人，波洛的抉择耐人寻味</span>\\n              </p>\\n\\n\\n          </td>\\n        </tr>\\n      </table>\\n        <p class=\"ul\"></p>\\n\\n      \\n  \\n\\n      <table width=\"100%\">\\n        <tr class=\"item\">\\n          <td width=\"100\" valign=\"top\">\\n            <a class=\"nbg\" href=\"https://book.douban.com/subject/1829226/\"\\n              onclick=\"moreurl(this,{i:\\'12\\'})\"\\n\\n              >\\n              <img src=\"https://img9.doubanio.com/view/subject/s/public/s4007145.jpg\" width=\"90\" />\\n            </a>\\n          </td>\\n          <td valign=\"top\">\\n            \\n            <div class=\"pl2\">\\n\\n\\n              <a href=\"https://book.douban.com/subject/1829226/\" onclick=&#34;moreurl(this,{i:&#39;12&#39;})&#34; title=\"肖申克的救赎\"\\n                \\n              >\\n                肖申克的救赎\\n\\n                \\n              </a>\\n\\n\\n\\n                &nbsp; <img src=\"/pics/read.gif\" alt=\"可试读\" title=\"可试读\"/>\\n\\n              \\n                <br/>\\n                <span style=\"font-size:12px;\">Different Seasons</span>\\n            </div>\\n\\n              <p class=\"pl\">[美] 斯蒂芬·金 / 施寄青 / 人民文学出版社 / 2006-7 / 29.90元</p>\\n\\n            \\n\\n              \\n              <div class=\"star clearfix\">\\n                  <span class=\"allstar45\"></span>\\n                  <span class=\"rating_nums\">9.1</span>\\n\\n                <span class=\"pl\">(\\n                    119005人评价\\n                )</span>\\n              </div>\\n\\n            \\n              <p class=\"quote\" style=\"margin: 10px 0; color: #666\">\\n                  <span class=\"inq\">豆瓣电影Top1原著</span>\\n              </p>\\n\\n\\n          </td>\\n        </tr>\\n      </table>\\n        <p class=\"ul\"></p>\\n\\n      \\n  \\n\\n      <table width=\"100%\">\\n        <tr class=\"item\">\\n          <td width=\"100\" valign=\"top\">\\n            <a class=\"nbg\" href=\"https://book.douban.com/subject/26362836/\"\\n              onclick=\"moreurl(this,{i:\\'13\\'})\"\\n\\n              >\\n              <img src=\"https://img1.doubanio.com/view/subject/s/public/s28050760.jpg\" width=\"90\" />\\n            </a>\\n          </td>\\n          <td valign=\"top\">\\n            \\n            <div class=\"pl2\">\\n\\n\\n              <a href=\"https://book.douban.com/subject/26362836/\" onclick=&#34;moreurl(this,{i:&#39;13&#39;})&#34; title=\"献给阿尔吉侬的花束\"\\n                \\n              >\\n                献给阿尔吉侬的花束\\n\\n                \\n              </a>\\n\\n\\n\\n\\n              \\n                <br/>\\n                <span style=\"font-size:12px;\">Flowers for Algernon</span>\\n            </div>\\n\\n              <p class=\"pl\">[美] 丹尼尔·凯斯 / 陈澄和 / 广西师范大学出版社 / 2015-4 / 36.00元</p>\\n\\n            \\n\\n              \\n              <div class=\"star clearfix\">\\n                  <span class=\"allstar45\"></span>\\n                  <span class=\"rating_nums\">9.1</span>\\n\\n                <span class=\"pl\">(\\n                    99370人评价\\n                )</span>\\n              </div>\\n\\n            \\n              <p class=\"quote\" style=\"margin: 10px 0; color: #666\">\\n                  <span class=\"inq\">当声称能改造智能的科学实验选中心智障碍主角</span>\\n              </p>\\n\\n\\n          </td>\\n        </tr>\\n      </table>\\n        <p class=\"ul\"></p>\\n\\n      \\n  \\n\\n      <table width=\"100%\">\\n        <tr class=\"item\">\\n          <td width=\"100\" valign=\"top\">\\n            <a class=\"nbg\" href=\"https://book.douban.com/subject/1085860/\"\\n              onclick=\"moreurl(this,{i:\\'14\\'})\"\\n\\n              >\\n              <img src=\"https://img9.doubanio.com/view/subject/s/public/s3248016.jpg\" width=\"90\" />\\n            </a>\\n          </td>\\n          <td valign=\"top\">\\n            \\n            <div class=\"pl2\">\\n\\n\\n              <a href=\"https://book.douban.com/subject/1085860/\" onclick=&#34;moreurl(this,{i:&#39;14&#39;})&#34; title=\"基督山伯爵\"\\n                \\n              >\\n                基督山伯爵\\n\\n                \\n              </a>\\n\\n\\n\\n\\n              \\n                <br/>\\n                <span style=\"font-size:12px;\">Le Comte de Monte-Cristo</span>\\n            </div>\\n\\n              <p class=\"pl\">[法国] 大仲马 / 周克希 / 上海译文出版社 / 1991-12-1 / 43.90元</p>\\n\\n            \\n\\n              \\n              <div class=\"star clearfix\">\\n                  <span class=\"allstar45\"></span>\\n                  <span class=\"rating_nums\">9.1</span>\\n\\n                <span class=\"pl\">(\\n                    127148人评价\\n                )</span>\\n              </div>\\n\\n            \\n              <p class=\"quote\" style=\"margin: 10px 0; color: #666\">\\n                  <span class=\"inq\">一个报恩复仇的故事，以法国波旁王朝和七月王朝为背景</span>\\n              </p>\\n\\n\\n          </td>\\n        </tr>\\n      </table>\\n        <p class=\"ul\"></p>\\n\\n      \\n  \\n\\n      <table width=\"100%\">\\n        <tr class=\"item\">\\n          <td width=\"100\" valign=\"top\">\\n            <a class=\"nbg\" href=\"https://book.douban.com/subject/4760224/\"\\n              onclick=\"moreurl(this,{i:\\'15\\'})\"\\n\\n              >\\n              <img src=\"https://img1.doubanio.com/view/subject/s/public/s24575140.jpg\" width=\"90\" />\\n            </a>\\n          </td>\\n          <td valign=\"top\">\\n            \\n            <div class=\"pl2\">\\n\\n\\n              <a href=\"https://book.douban.com/subject/4760224/\" onclick=&#34;moreurl(this,{i:&#39;15&#39;})&#34; title=\"许三观卖血记\"\\n                \\n              >\\n                许三观卖血记\\n\\n                \\n              </a>\\n\\n\\n\\n                &nbsp; <img src=\"/pics/read.gif\" alt=\"可试读\" title=\"可试读\"/>\\n\\n              \\n            </div>\\n\\n              <p class=\"pl\">余华 / 作家出版社 / 2012-9 / 24.00元</p>\\n\\n            \\n\\n              \\n              <div class=\"star clearfix\">\\n                  <span class=\"allstar45\"></span>\\n                  <span class=\"rating_nums\">9.2</span>\\n\\n                <span class=\"pl\">(\\n                    151009人评价\\n                )</span>\\n              </div>\\n\\n            \\n\\n\\n          </td>\\n        </tr>\\n      </table>\\n        <p class=\"ul\"></p>\\n\\n      \\n  \\n\\n      <table width=\"100%\">\\n        <tr class=\"item\">\\n          <td width=\"100\" valign=\"top\">\\n            <a class=\"nbg\" href=\"https://book.douban.com/subject/10594787/\"\\n              onclick=\"moreurl(this,{i:\\'16\\'})\"\\n\\n              >\\n              <img src=\"https://img2.doubanio.com/view/subject/s/public/s11284102.jpg\" width=\"90\" />\\n            </a>\\n          </td>\\n          <td valign=\"top\">\\n            \\n            <div class=\"pl2\">\\n\\n\\n              <a href=\"https://book.douban.com/subject/10594787/\" onclick=&#34;moreurl(this,{i:&#39;16&#39;})&#34; title=\"霍乱时期的爱情\"\\n                \\n              >\\n                霍乱时期的爱情\\n\\n                \\n              </a>\\n\\n\\n\\n\\n              \\n                <br/>\\n                <span style=\"font-size:12px;\">El amor en los tiempos del cólera</span>\\n            </div>\\n\\n              <p class=\"pl\">[哥伦比亚] 加西亚·马尔克斯 / 杨玲 / 南海出版公司 / 2012-9-1 / 39.50元</p>\\n\\n            \\n\\n              \\n              <div class=\"star clearfix\">\\n                  <span class=\"allstar45\"></span>\\n                  <span class=\"rating_nums\">9.0</span>\\n\\n                <span class=\"pl\">(\\n                    277927人评价\\n                )</span>\\n              </div>\\n\\n            \\n              <p class=\"quote\" style=\"margin: 10px 0; color: #666\">\\n                  <span class=\"inq\">义无反顾地直达爱情的核心</span>\\n              </p>\\n\\n\\n          </td>\\n        </tr>\\n      </table>\\n        <p class=\"ul\"></p>\\n\\n      \\n  \\n\\n      <table width=\"100%\">\\n        <tr class=\"item\">\\n          <td width=\"100\" valign=\"top\">\\n            <a class=\"nbg\" href=\"https://book.douban.com/subject/7060185/\"\\n              onclick=\"moreurl(this,{i:\\'17\\'})\"\\n\\n              >\\n              <img src=\"https://img9.doubanio.com/view/subject/s/public/s32271204.jpg\" width=\"90\" />\\n            </a>\\n          </td>\\n          <td valign=\"top\">\\n            \\n            <div class=\"pl2\">\\n\\n\\n              <a href=\"https://book.douban.com/subject/7060185/\" onclick=&#34;moreurl(this,{i:&#39;17&#39;})&#34; title=\"江城\"\\n                \\n              >\\n                江城\\n\\n                \\n              </a>\\n\\n\\n\\n                &nbsp; <img src=\"/pics/read.gif\" alt=\"可试读\" title=\"可试读\"/>\\n\\n              \\n                <br/>\\n                <span style=\"font-size:12px;\">River Town</span>\\n            </div>\\n\\n              <p class=\"pl\">[美] 彼得·海斯勒 / 李雪顺 / 上海译文出版社 / 2012-1 / 36.00元</p>\\n\\n            \\n\\n              \\n              <div class=\"star clearfix\">\\n                  <span class=\"allstar45\"></span>\\n                  <span class=\"rating_nums\">9.1</span>\\n\\n                <span class=\"pl\">(\\n                    60654人评价\\n                )</span>\\n              </div>\\n\\n            \\n              <p class=\"quote\" style=\"margin: 10px 0; color: #666\">\\n                  <span class=\"inq\">外国人眼中的涪陵</span>\\n              </p>\\n\\n\\n          </td>\\n        </tr>\\n      </table>\\n        <p class=\"ul\"></p>\\n\\n      \\n  \\n\\n      <table width=\"100%\">\\n        <tr class=\"item\">\\n          <td width=\"100\" valign=\"top\">\\n            <a class=\"nbg\" href=\"https://book.douban.com/subject/25887924/\"\\n              onclick=\"moreurl(this,{i:\\'18\\'})\"\\n\\n              >\\n              <img src=\"https://img1.doubanio.com/view/subject/s/public/s28383857.jpg\" width=\"90\" />\\n            </a>\\n          </td>\\n          <td valign=\"top\">\\n            \\n            <div class=\"pl2\">\\n\\n\\n              <a href=\"https://book.douban.com/subject/25887924/\" onclick=&#34;moreurl(this,{i:&#39;18&#39;})&#34; title=\"卡拉马佐夫兄弟\"\\n                \\n              >\\n                卡拉马佐夫兄弟\\n\\n                \\n              </a>\\n\\n\\n\\n                &nbsp; <img src=\"/pics/read.gif\" alt=\"可试读\" title=\"可试读\"/>\\n\\n              \\n                <br/>\\n                <span style=\"font-size:12px;\">БРАТЬЯ КАРАМАЗОВЫ</span>\\n            </div>\\n\\n              <p class=\"pl\">[俄] 陀思妥耶夫斯基 / 荣如德 / 上海译文出版社 / 2015-2-1 / CNY 78.00</p>\\n\\n            \\n\\n              \\n              <div class=\"star clearfix\">\\n                  <span class=\"allstar50\"></span>\\n                  <span class=\"rating_nums\">9.6</span>\\n\\n                <span class=\"pl\">(\\n                    29807人评价\\n                )</span>\\n              </div>\\n\\n            \\n\\n\\n          </td>\\n        </tr>\\n      </table>\\n        <p class=\"ul\"></p>\\n\\n      \\n  \\n\\n      <table width=\"100%\">\\n        <tr class=\"item\">\\n          <td width=\"100\" valign=\"top\">\\n            <a class=\"nbg\" href=\"https://book.douban.com/subject/1254588/\"\\n              onclick=\"moreurl(this,{i:\\'19\\'})\"\\n\\n              >\\n              <img src=\"https://img1.doubanio.com/view/subject/s/public/s2654869.jpg\" width=\"90\" />\\n            </a>\\n          </td>\\n          <td valign=\"top\">\\n            \\n            <div class=\"pl2\">\\n\\n\\n              <a href=\"https://book.douban.com/subject/1254588/\" onclick=&#34;moreurl(this,{i:&#39;19&#39;})&#34; title=\"城南旧事\"\\n                \\n              >\\n                城南旧事\\n\\n                \\n                  <span style=\"font-size:12px;\"> : 纪念普及版 </span>\\n              </a>\\n\\n\\n\\n\\n              \\n            </div>\\n\\n              <p class=\"pl\">林海音 文 / 中国青年出版社 / 2003-7 / 16.00元</p>\\n\\n            \\n\\n              \\n              <div class=\"star clearfix\">\\n                  <span class=\"allstar45\"></span>\\n                  <span class=\"rating_nums\">9.1</span>\\n\\n                <span class=\"pl\">(\\n                    152592人评价\\n                )</span>\\n              </div>\\n\\n            \\n              <p class=\"quote\" style=\"margin: 10px 0; color: #666\">\\n                  <span class=\"inq\">长亭外，古道边，芳草碧连天</span>\\n              </p>\\n\\n\\n          </td>\\n        </tr>\\n      </table>\\n        <p class=\"ul\"></p>\\n\\n      \\n  \\n\\n      <table width=\"100%\">\\n        <tr class=\"item\">\\n          <td width=\"100\" valign=\"top\">\\n            <a class=\"nbg\" href=\"https://book.douban.com/subject/1041482/\"\\n              onclick=\"moreurl(this,{i:\\'20\\'})\"\\n\\n              >\\n              <img src=\"https://img9.doubanio.com/view/subject/s/public/s1800355.jpg\" width=\"90\" />\\n            </a>\\n          </td>\\n          <td valign=\"top\">\\n            \\n            <div class=\"pl2\">\\n\\n\\n              <a href=\"https://book.douban.com/subject/1041482/\" onclick=&#34;moreurl(this,{i:&#39;20&#39;})&#34; title=\"万历十五年\"\\n                \\n              >\\n                万历十五年\\n\\n                \\n              </a>\\n\\n\\n\\n\\n              \\n            </div>\\n\\n              <p class=\"pl\">[美] 黄仁宇 / 生活·读书·新知三联书店 / 1997-5 / 18.00元</p>\\n\\n            \\n\\n              \\n              <div class=\"star clearfix\">\\n                  <span class=\"allstar45\"></span>\\n                  <span class=\"rating_nums\">9.0</span>\\n\\n                <span class=\"pl\">(\\n                    197017人评价\\n                )</span>\\n              </div>\\n\\n            \\n              <p class=\"quote\" style=\"margin: 10px 0; color: #666\">\\n                  <span class=\"inq\">见微知著，历史观的颠覆</span>\\n              </p>\\n\\n\\n          </td>\\n        </tr>\\n      </table>\\n        <p class=\"ul\"></p>\\n\\n      \\n  \\n\\n      <table width=\"100%\">\\n        <tr class=\"item\">\\n          <td width=\"100\" valign=\"top\">\\n            <a class=\"nbg\" href=\"https://book.douban.com/subject/2046909/\"\\n              onclick=\"moreurl(this,{i:\\'21\\'})\"\\n\\n              >\\n              <img src=\"https://img1.doubanio.com/view/subject/s/public/s34099297.jpg\" width=\"90\" />\\n            </a>\\n          </td>\\n          <td valign=\"top\">\\n            \\n            <div class=\"pl2\">\\n\\n\\n              <a href=\"https://book.douban.com/subject/2046909/\" onclick=&#34;moreurl(this,{i:&#39;21&#39;})&#34; title=\"故事新编\"\\n                \\n              >\\n                故事新编\\n\\n                \\n              </a>\\n\\n\\n\\n\\n              \\n            </div>\\n\\n              <p class=\"pl\">鲁迅 / 人民文学出版社 / 1973-12-01 / 0.31 元</p>\\n\\n            \\n\\n              \\n              <div class=\"star clearfix\">\\n                  <span class=\"allstar45\"></span>\\n                  <span class=\"rating_nums\">9.4</span>\\n\\n                <span class=\"pl\">(\\n                    40949人评价\\n                )</span>\\n              </div>\\n\\n            \\n              <p class=\"quote\" style=\"margin: 10px 0; color: #666\">\\n                  <span class=\"inq\">拾取古代传说，取一点因由，随意点染</span>\\n              </p>\\n\\n\\n          </td>\\n        </tr>\\n      </table>\\n        <p class=\"ul\"></p>\\n\\n      \\n  \\n\\n      <table width=\"100%\">\\n        <tr class=\"item\">\\n          <td width=\"100\" valign=\"top\">\\n            <a class=\"nbg\" href=\"https://book.douban.com/subject/1858513/\"\\n              onclick=\"moreurl(this,{i:\\'22\\'})\"\\n\\n              >\\n              <img src=\"https://img1.doubanio.com/view/subject/s/public/s2659208.jpg\" width=\"90\" />\\n            </a>\\n          </td>\\n          <td valign=\"top\">\\n            \\n            <div class=\"pl2\">\\n\\n\\n              <a href=\"https://book.douban.com/subject/1858513/\" onclick=&#34;moreurl(this,{i:&#39;22&#39;})&#34; title=\"月亮和六便士\"\\n                \\n              >\\n                月亮和六便士\\n\\n                \\n              </a>\\n\\n\\n\\n\\n              \\n                <br/>\\n                <span style=\"font-size:12px;\">The Moon and Sixpence</span>\\n            </div>\\n\\n              <p class=\"pl\">[英] 毛姆 / 傅惟慈 / 上海译文出版社 / 2006-8 / 15.00元</p>\\n\\n            \\n\\n              \\n              <div class=\"star clearfix\">\\n                  <span class=\"allstar45\"></span>\\n                  <span class=\"rating_nums\">9.0</span>\\n\\n                <span class=\"pl\">(\\n                    204636人评价\\n                )</span>\\n              </div>\\n\\n            \\n              <p class=\"quote\" style=\"margin: 10px 0; color: #666\">\\n                  <span class=\"inq\">有多少人会经历顿悟，就有更少的人甘愿自我放逐</span>\\n              </p>\\n\\n\\n          </td>\\n        </tr>\\n      </table>\\n        <p class=\"ul\"></p>\\n\\n      \\n  \\n\\n      <table width=\"100%\">\\n        <tr class=\"item\">\\n          <td width=\"100\" valign=\"top\">\\n            <a class=\"nbg\" href=\"https://book.douban.com/subject/1449352/\"\\n              onclick=\"moreurl(this,{i:\\'23\\'})\"\\n\\n              >\\n              <img src=\"https://img1.doubanio.com/view/subject/s/public/s34099290.jpg\" width=\"90\" />\\n            </a>\\n          </td>\\n          <td valign=\"top\">\\n            \\n            <div class=\"pl2\">\\n\\n\\n              <a href=\"https://book.douban.com/subject/1449352/\" onclick=&#34;moreurl(this,{i:&#39;23&#39;})&#34; title=\"朝花夕拾\"\\n                \\n              >\\n                朝花夕拾\\n\\n                \\n              </a>\\n\\n\\n\\n\\n              \\n            </div>\\n\\n              <p class=\"pl\">鲁迅 / 人民文学出版社 / 1973-4 / 0.25元</p>\\n\\n            \\n\\n              \\n              <div class=\"star clearfix\">\\n                  <span class=\"allstar45\"></span>\\n                  <span class=\"rating_nums\">9.1</span>\\n\\n                <span class=\"pl\">(\\n                    150036人评价\\n                )</span>\\n              </div>\\n\\n            \\n              <p class=\"quote\" style=\"margin: 10px 0; color: #666\">\\n                  <span class=\"inq\">在纷扰中寻出一点闲静</span>\\n              </p>\\n\\n\\n          </td>\\n        </tr>\\n      </table>\\n        <p class=\"ul\"></p>\\n\\n      \\n  \\n\\n      <table width=\"100%\">\\n        <tr class=\"item\">\\n          <td width=\"100\" valign=\"top\">\\n            <a class=\"nbg\" href=\"https://book.douban.com/subject/3162991/\"\\n              onclick=\"moreurl(this,{i:\\'24\\'})\"\\n\\n              >\\n              <img src=\"https://img2.doubanio.com/view/subject/s/public/s3219163.jpg\" width=\"90\" />\\n            </a>\\n          </td>\\n          <td valign=\"top\">\\n            \\n            <div class=\"pl2\">\\n\\n\\n              <a href=\"https://book.douban.com/subject/3162991/\" onclick=&#34;moreurl(this,{i:&#39;24&#39;})&#34; title=\"艺术的故事\"\\n                \\n              >\\n                艺术的故事\\n\\n                \\n              </a>\\n\\n\\n\\n\\n              \\n                <br/>\\n                <span style=\"font-size:12px;\">The Story of Art</span>\\n            </div>\\n\\n              <p class=\"pl\">[英] 贡布里希 (Sir E.H.Gombrich) / 范景中 / 广西美术出版社 / 2008-04 / 280.00</p>\\n\\n            \\n\\n              \\n              <div class=\"star clearfix\">\\n                  <span class=\"allstar50\"></span>\\n                  <span class=\"rating_nums\">9.5</span>\\n\\n                <span class=\"pl\">(\\n                    25421人评价\\n                )</span>\\n              </div>\\n\\n            \\n              <p class=\"quote\" style=\"margin: 10px 0; color: #666\">\\n                  <span class=\"inq\">从最早的洞窟绘画到当今的实验艺术</span>\\n              </p>\\n\\n\\n          </td>\\n        </tr>\\n      </table>\\n\\n    \\n    \\n    \\n    \\n        <div class=\"paginator\">\\n        <span class=\"prev\">\\n            <link rel=\"prev\" href=\"https://book.douban.com/top250?start=0\"/>\\n            <a href=\"https://book.douban.com/top250?start=0\" >&lt;前页</a>\\n        </span>\\n        \\n        \\n\\n                \\n            <a href=\"https://book.douban.com/top250?start=0\" >1</a>\\n        \\n                <span class=\"thispage\">2</span>\\n                \\n            <a href=\"https://book.douban.com/top250?start=50\" >3</a>\\n        \\n                \\n            <a href=\"https://book.douban.com/top250?start=75\" >4</a>\\n        \\n                \\n            <a href=\"https://book.douban.com/top250?start=100\" >5</a>\\n        \\n                \\n            <a href=\"https://book.douban.com/top250?start=125\" >6</a>\\n        \\n                \\n            <a href=\"https://book.douban.com/top250?start=150\" >7</a>\\n        \\n                \\n            <a href=\"https://book.douban.com/top250?start=175\" >8</a>\\n        \\n                \\n            <a href=\"https://book.douban.com/top250?start=200\" >9</a>\\n        \\n                \\n            <a href=\"https://book.douban.com/top250?start=225\" >10</a>\\n        \\n        <span class=\"next\">\\n            <link rel=\"next\" href=\"https://book.douban.com/top250?start=50\"/>\\n            <a href=\"https://book.douban.com/top250?start=50\" >后页&gt;</a>\\n        </span>\\n\\n        </div>\\n\\n\\n  </div>\\n</div>\\n      <div class=\"aside\">\\n        \\n  <span class=\"indent pl\">\\n    豆瓣用户每天都在对“读过”的书进行“很差”到“力荐”的评价，豆瓣根据每本书读过的人数以及该书所得的评价等综合数据，通过算法分析产生了豆瓣读书 Top 250。\\n  </span>\\n\\n      </div>\\n      <div class=\"extra\">\\n        \\n      </div>\\n    </div>\\n  </div>\\n\\n        \\n  <div id=\"footer\">\\n    \\n<span id=\"icp\" class=\"fleft gray-link\">\\n    &copy; 2005－2023 douban.com, all rights reserved 北京豆网科技有限公司\\n</span>\\n\\n<a href=\"https://www.douban.com/hnypt/variformcyst.py\" style=\"display: none;\"></a>\\n\\n<span class=\"fright\">\\n    <a href=\"https://www.douban.com/about\">关于豆瓣</a>\\n    · <a href=\"https://www.douban.com/jobs\">在豆瓣工作</a>\\n    · <a href=\"https://www.douban.com/about?topic=contactus\">联系我们</a>\\n    · <a href=\"https://www.douban.com/about/legal\">法律声明</a>\\n    \\n    · <a href=\"https://help.douban.com/?app=book\" target=\"_blank\">帮助中心</a>\\n    · <a href=\"https://book.douban.com/library_invitation\">图书馆合作</a>\\n    · <a href=\"https://www.douban.com/doubanapp/\">移动应用</a>\\n    · <a href=\"https://www.douban.com/partner/\">豆瓣广告</a>\\n</span>\\n\\n  </div>\\n\\n    </div>\\n      \\n\\n    <!-- COLLECTED JS -->\\n    <!-- mako -->\\n    \\n    \\n  \\n\\n<script type=\"text/javascript\">\\n  var _paq = _paq || [];\\n  _paq.push([\\'trackPageView\\']);\\n  _paq.push([\\'enableLinkTracking\\']);\\n  (function() {\\n    var p=((\\'https:\\' == document.location.protocol) ? \\'https\\' : \\'http\\'), u=p+\\'://fundin.douban.com/\\';\\n    _paq.push([\\'setTrackerUrl\\', u+\\'piwik\\']);\\n    _paq.push([\\'setSiteId\\', \\'100001\\']);\\n    var d=document, g=d.createElement(\\'script\\'), s=d.getElementsByTagName(\\'script\\')[0]; \\n    g.type=\\'text/javascript\\';\\n    g.defer=true; \\n    g.async=true; \\n    g.src=p+\\'://s.doubanio.com/dae/fundin/piwik.js\\';\\n    s.parentNode.insertBefore(g,s);\\n  })();\\n</script>\\n\\n<script type=\"text/javascript\">\\nvar setMethodWithNs = function(namespace) {\\n  var ns = namespace ? namespace + \\'.\\' : \\'\\'\\n    , fn = function(string) {\\n        if(!ns) {return string}\\n        return ns + string\\n      }\\n  return fn\\n}\\n\\nvar gaWithNamespace = function(fn, namespace) {\\n  var method = setMethodWithNs(namespace)\\n  fn.call(this, method)\\n}\\n\\nvar _gaq = _gaq || []\\n  , accounts = [\\n      { id: \\'UA-7019765-1\\', namespace: \\'douban\\' }\\n    , { id: \\'UA-7019765-16\\', namespace: \\'\\' }\\n    ]\\n  , gaInit = function(account) {\\n      gaWithNamespace(function(method) {\\n        gaInitFn.call(this, method, account)\\n      }, account.namespace)\\n    }\\n  , gaInitFn = function(method, account) {\\n      _gaq.push([method(\\'_setAccount\\'), account.id])\\n\\n      \\n  _gaq.push([method(\\'_addOrganic\\'), \\'google\\', \\'q\\'])\\n  _gaq.push([method(\\'_addOrganic\\'), \\'baidu\\', \\'wd\\'])\\n  _gaq.push([method(\\'_addOrganic\\'), \\'soso\\', \\'w\\'])\\n  _gaq.push([method(\\'_addOrganic\\'), \\'youdao\\', \\'q\\'])\\n  _gaq.push([method(\\'_addOrganic\\'), \\'so.360.cn\\', \\'q\\'])\\n  _gaq.push([method(\\'_addOrganic\\'), \\'sogou\\', \\'query\\'])\\n  if (account.namespace) {\\n    _gaq.push([method(\\'_addIgnoredOrganic\\'), \\'豆瓣\\'])\\n    _gaq.push([method(\\'_addIgnoredOrganic\\'), \\'douban\\'])\\n    _gaq.push([method(\\'_addIgnoredOrganic\\'), \\'豆瓣网\\'])\\n    _gaq.push([method(\\'_addIgnoredOrganic\\'), \\'www.douban.com\\'])\\n  }\\n\\n      if (account.namespace === \\'douban\\') {\\n        _gaq.push([method(\\'_setDomainName\\'), \\'.douban.com\\'])\\n      }\\n\\n        _gaq.push([method(\\'_setCustomVar\\'), 1, \\'responsive_view_mode\\', \\'desktop\\', 3])\\n\\n        _gaq.push([method(\\'_setCustomVar\\'), 2, \\'login_status\\', \\'0\\', 2]);\\n\\n      _gaq.push([method(\\'_trackPageview\\')])\\n    }\\n\\nfor(var i = 0, l = accounts.length; i < l; i++) {\\n  var account = accounts[i]\\n  gaInit(account)\\n}\\n\\n\\n;(function() {\\n    var ga = document.createElement(\\'script\\');\\n    ga.src = (\\'https:\\' == document.location.protocol ? \\'https://ssl\\' : \\'http://www\\') + \\'.google-analytics.com/ga.js\\';\\n    ga.setAttribute(\\'async\\', \\'true\\');\\n    document.documentElement.firstChild.appendChild(ga);\\n})()\\n</script>\\n\\n\\n\\n\\n\\n\\n\\n\\n    <!-- dae-web-book--default-5777c958f4-nphth-->\\n\\n</body>\\n</html>\\n\\n\\n\\n\\n\\n\\n\\n\\n\\n\\n\\n\\n\\n\\n\\n\\n\\n\\n\\n\\n\\n\\n\\n\\n\\n\\n\\n\\n\\n\\n\\n\\n\\n\\n\\n\\n'"
      ]
     },
     "execution_count": 18,
     "metadata": {},
     "output_type": "execute_result"
    }
   ],
   "source": [
    "# 调用函数get_html(url)\n",
    "url_tmp = 'https://book.douban.com/top250?start=25'  # 第2页\n",
    "html_tmp = get_html(url_tmp)\n",
    "html_tmp"
   ]
  },
  {
   "cell_type": "markdown",
   "id": "c7413d23",
   "metadata": {},
   "source": [
    "# 解析数据"
   ]
  },
  {
   "cell_type": "markdown",
   "id": "31d6ec1c",
   "metadata": {},
   "source": [
    "- 上面获得的html数据是杂乱的，需要把它**整理成结构化的数据**，即解析数据\n",
    "- 方式：用开发者工具中的elements，分析字段的分布情况，找出具有**定位唯一性的标签**"
   ]
  },
  {
   "cell_type": "code",
   "execution_count": 19,
   "id": "6d822ec9",
   "metadata": {
    "ExecuteTime": {
     "end_time": "2023-08-08T18:13:11.821501Z",
     "start_time": "2023-08-08T18:13:11.800028Z"
    }
   },
   "outputs": [
    {
     "data": {
      "text/plain": [
       "'豆瓣读书 Top 250\\n!function(e){var o=function(o,n,t){var c,i,r=new Date;n=n||30,t=t||\"/\",r.setTime(r.getTime()+24*n*60*60*1e3),c=\"; expires=\"+r.toGMTString();for(i in o)e.cookie=i+\"=\"+o[i]+c+\"; path=\"+t},n=function(o){var n,t,c,i=o+\"=\",r=e.cookie.split(\";\");for(t=0,c=r.length;t<c;t++)if(n=r[t].replace(/^\\\\s+|\\\\s+$/g,\"\"),0==n.indexOf(i))return n.substring(i.length,n.length).replace(/\\\\\"/g,\"\");return null},t=e.write,c={\"douban.com\":1,\"douban.fm\":1,\"google.com\":1,\"google.cn\":1,\"googleapis.com\":1,\"gmaptiles.co.kr\":1,\"gstatic.com\":1,\"gstatic.cn\":1,\"google-analytics.com\":1,\"googleadservices.com\":1},i=function(e,o){var n=new Image;n.onload=function(){},n.src=\"https://www.douban.com/j/except_report?kind=ra022&reason=\"+encodeURIComponent(e)+\"&environment=\"+encodeURIComponent(o)},r=function(o){try{t.call(e,o)}catch(e){t(o)}},a=/<script.*?src\\\\=[\"\\']?([^\"\\'\\\\s>]+)/gi,g=/http:\\\\/\\\\/(.+?)\\\\.([^\\\\/]+).+/i;e.writeln=e.write=function(e){var t,l=a.exec(e);return l&&(t=g.exec(l[1]))?c[t[2]]?void r(e):void(\"tqs\"!==n(\"hj\")&&(i(l[1],location.href),o({hj:\"tqs\"},1),setTimeout(function(){location.replace(location.href)},50))):void r(e)}}(document);\\nvar _head_start = new Date();\\nvar _body_start = new Date();\\n登录/注册\\n下载豆瓣客户端\\n豆瓣 6.0 全新发布 ×\\n豆瓣\\n扫码直接下载\\niPhone · Android\\n豆瓣\\n读书\\n电影\\n音乐\\n同城\\n小组\\n阅读\\nFM\\n时间\\n豆品\\n;window._GLOBAL_NAV = { DOUBAN_URL: \"https://www.douban.com\", N_NEW_NOTIS: 0, N_NEW_DOUMAIL: 0 };\\n豆瓣读书\\n搜索：\\n购书单\\n电子图书\\n豆瓣书店\\n2022年度榜单\\n2022书影音报告\\n购物车\\n<li data-link=\"{{= url}}\"> <a href=\"{{= url}}\" onclick=\"moreurl(this, {from:\\'book_search_sugg\\', query:\\'{{= keyword }}\\', subject_id:\\'{{= id}}\\', i: \\'{{= index}}\\', type: \\'{{= type}}\\'})\"> <img src=\"{{= pic}}\" width=\"40\" /> <div> <em>{{= title}}</em> {{if year}} <span>{{= year}}</span> {{/if}} <p> {{if type == \"b\"}} {{= author_name}} {{else type == \"a\" }} {{if en_name}} {{= en_name}} {{/if}} {{/if}} </p> </div> </a> </li>\\n豆瓣读书 Top 250\\n红楼梦\\n[清] 曹雪芹 著 / 人民文学出版社 / 1996-12 / 59.70元\\n9.6 ( 413884人评价 )\\n都云作者痴，谁解其中味？\\n活着\\n余华 / 作家出版社 / 2012-8-1 / 20.00元\\n9.4 ( 806544人评价 )\\n生的苦难与伟大\\n1984\\nNineteen Eighty-Four\\n[英] 乔治·奥威尔 / 刘绍铭 / 北京十月文艺出版社 / 2010-4-1 / 28.00\\n9.4 ( 275813人评价 )\\n栗树荫下，我出卖你，你出卖我\\n三体全集 : 地球往事三部曲\\n刘慈欣 / 重庆出版社 / 2012-1 / 168.00元\\n9.5 ( 178122人评价 )\\n地球往事三部曲\\n哈利·波特\\nHarry Potter\\nJ.K.罗琳 (J.K.Rowling) / 苏农 / 人民文学出版社 / 2008-12-1 / 498.00元\\n9.7 ( 99447人评价 )\\n从9¾站台开始的旅程\\n百年孤独\\nCien años de soledad\\n[哥伦比亚] 加西亚·马尔克斯 / 范晔 / 南海出版公司 / 2011-6 / 39.50元\\n9.3 ( 414700人评价 )\\n魔幻现实主义文学代表作\\n飘\\nGone with the Wind\\n[美国] 玛格丽特·米切尔 / 李美华 / 译林出版社 / 2000-9 / 40.00元\\n9.3 ( 208438人评价 )\\n革命时期的爱情，随风而逝\\n三国演义（全二册）\\n[明] 罗贯中 / 人民文学出版社 / 1998-05 / 39.50元\\n9.3 ( 164241人评价 )\\n是非成败转头空\\n房思琪的初恋乐园\\n林奕含 / 北京联合出版公司 / 2018-2 / 45.00元\\n9.2 ( 366758人评价 )\\n向死而生的文学绝唱\\n动物农场\\nAnimal Farm\\n[英] 乔治·奥威尔 / 荣如德 / 上海译文出版社 / 2007-3 / 10.00元\\n9.3 ( 154292人评价 )\\n太阳底下并无新事\\n福尔摩斯探案全集（上中下）\\n[英] 阿·柯南道尔 / 丁钟华 等 / 群众出版社 / 1981-8 / 53.00元/68.00元\\n9.3 ( 130421人评价 )\\n名侦探的代名词\\n白夜行\\n[日] 东野圭吾 / 刘姿君 / 南海出版公司 / 2013-1-1 / 39.50元\\n9.2 ( 458437人评价 )\\n一宗离奇命案牵出跨度近20年步步惊心的故事\\n小王子\\nLe Petit Prince\\n[法] 圣埃克苏佩里 / 马振聘 / 人民文学出版社 / 2003-8 / 22.00元\\n9.1 ( 743055人评价 )\\n献给长成了大人的孩子们\\n撒哈拉的故事\\n三毛 / 哈尔滨出版社 / 2003-8 / 15.80元\\n9.2 ( 167769人评价 )\\n游荡的自由灵魂\\n安徒生童话故事集\\n（丹麦）安徒生 / 叶君健 / 人民文学出版社 / 1997-08 / 25.00元\\n9.3 ( 129084人评价 )\\n为了争取未来的一代\\n天龙八部\\n金庸 / 生活·读书·新知三联书店 / 1994-5 / 96.00元\\n9.2 ( 130360人评价 )\\n有情皆孽，无人不冤\\n呐喊\\n鲁迅 / 人民文学出版社 / 1973-3 / 0.36元\\n9.2 ( 155483人评价 )\\n新文学的第一声呐喊\\n悉达多 : 一首印度的诗\\nSiddhartha\\n[德] 赫尔曼·黑塞 / 姜乙 / 天津人民出版社 / 2017-1 / 32.00元\\n9.3 ( 87146人评价 )\\n杀死一只知更鸟\\nTo Kill a Mocking Bird\\n[美] 哈珀·李 / 高红梅 / 译林出版社 / 2012-9 / 32.00元\\n9.2 ( 141849人评价 )\\n有一种东西不能遵循从众原则，那就是——人的良心\\n邓小平时代\\nDeng Xiaoping and the Transformation of China\\n【美】傅高义 (Ezra.F.Vogel) / 冯克利 / 生活·读书·新知三联书店 / 2013-1-18 / 88.00元\\n9.3 ( 65888人评价 )\\n个人命运背后的历史变局\\n明朝那些事儿（1-9） : 限量版\\n当年明月 / 中国海关出版社 / 2009-4 / 358.20元\\n9.2 ( 166329人评价 )\\n不拘一格的历史书写\\n失踪的孩子 : 那不勒斯四部曲4\\nStoria della bambina perduta\\n[意] 埃莱娜·费兰特 / 陈英 / 人民文学出版社 / 2018-7 / 62.00元\\n9.2 ( 76812人评价 )\\n我的整个生命，只是一场为了提升社会地位的低俗斗争。\\n新名字的故事 : 那不勒斯四部曲2\\nStoria del nuovo cognome\\n[意] 埃莱娜·费兰特 / 陈英 / 人民文学出版社 / 2017-4 / 59.00元\\n9.2 ( 87334人评价 )\\n探索青年时代的激情、困惑、挣扎、背叛和失去\\n沉默的大多数 : 王小波杂文随笔全编\\n王小波 / 中国青年出版社 / 1997-10 / 27.00元\\n9.1 ( 147835人评价 )\\n沉默是沉默者的通行证\\n野草\\n鲁迅 / 人民文学出版社 / 1973-3 / 0.20元\\n9.5 ( 44970人评价 )\\n我以这一丛野草，在明与暗，生与死，过去与未来之际，献于友与仇，人与兽，爱者与不爱者之前作证。\\n<前页 1 2 3 4 5 6 7 8 9 10\\n后页>\\n豆瓣用户每天都在对“读过”的书进行“很差”到“力荐”的评价，豆瓣根据每本书读过的人数以及该书所得的评价等综合数据，通过算法分析产生了豆瓣读书 Top 250。\\n© 2005－2023 douban.com, all rights reserved 北京豆网科技有限公司 关于豆瓣 · 在豆瓣工作 · 联系我们 · 法律声明 · 帮助中心 · 图书馆合作 · 移动应用 · 豆瓣广告\\nvar _paq = _paq || []; _paq.push([\\'trackPageView\\']); _paq.push([\\'enableLinkTracking\\']); (function() { var p=((\\'https:\\' == document.location.protocol) ? \\'https\\' : \\'http\\'), u=p+\\'://fundin.douban.com/\\'; _paq.push([\\'setTrackerUrl\\', u+\\'piwik\\']); _paq.push([\\'setSiteId\\', \\'100001\\']); var d=document, g=d.createElement(\\'script\\'), s=d.getElementsByTagName(\\'script\\')[0]; g.type=\\'text/javascript\\'; g.defer=true; g.async=true; g.src=p+\\'://s.doubanio.com/dae/fundin/piwik.js\\'; s.parentNode.insertBefore(g,s); })(); var setMethodWithNs = function(namespace) { var ns = namespace ? namespace + \\'.\\' : \\'\\' , fn = function(string) { if(!ns) {return string} return ns + string } return fn } var gaWithNamespace = function(fn, namespace) { var method = setMethodWithNs(namespace) fn.call(this, method) } var _gaq = _gaq || [] , accounts = [ { id: \\'UA-7019765-1\\', namespace: \\'douban\\' } , { id: \\'UA-7019765-16\\', namespace: \\'\\' } ] , gaInit = function(account) { gaWithNamespace(function(method) { gaInitFn.call(this, method, account) }, account.namespace) } , gaInitFn = function(method, account) { _gaq.push([method(\\'_setAccount\\'), account.id]) _gaq.push([method(\\'_addOrganic\\'), \\'google\\', \\'q\\']) _gaq.push([method(\\'_addOrganic\\'), \\'baidu\\', \\'wd\\']) _gaq.push([method(\\'_addOrganic\\'), \\'soso\\', \\'w\\']) _gaq.push([method(\\'_addOrganic\\'), \\'youdao\\', \\'q\\']) _gaq.push([method(\\'_addOrganic\\'), \\'so.360.cn\\', \\'q\\']) _gaq.push([method(\\'_addOrganic\\'), \\'sogou\\', \\'query\\']) if (account.namespace) { _gaq.push([method(\\'_addIgnoredOrganic\\'), \\'豆瓣\\']) _gaq.push([method(\\'_addIgnoredOrganic\\'), \\'douban\\']) _gaq.push([method(\\'_addIgnoredOrganic\\'), \\'豆瓣网\\']) _gaq.push([method(\\'_addIgnoredOrganic\\'), \\'www.douban.com\\']) } if (account.namespace === \\'douban\\') { _gaq.push([method(\\'_setDomainName\\'), \\'.douban.com\\']) } _gaq.push([method(\\'_setCustomVar\\'), 1, \\'responsive_view_mode\\', \\'desktop\\', 3]) _gaq.push([method(\\'_setCustomVar\\'), 2, \\'login_status\\', \\'0\\', 2]); _gaq.push([method(\\'_trackPageview\\')]) } for(var i = 0, l = accounts.length; i < l; i++) { var account = accounts[i] gaInit(account) } ;(function() { var ga = document.createElement(\\'script\\'); ga.src = (\\'https:\\' == document.location.protocol ? \\'https://ssl\\' : \\'http://www\\') + \\'.google-analytics.com/ga.js\\'; ga.setAttribute(\\'async\\', \\'true\\'); document.documentElement.firstChild.appendChild(ga); })()'"
      ]
     },
     "execution_count": 19,
     "metadata": {},
     "output_type": "execute_result"
    }
   ],
   "source": [
    "from pyquery import PyQuery  #导入pyquery包\n",
    "\n",
    "doc = PyQuery(html) # 将html字符串转换为pyquery数据，便于解析\n",
    "type(doc)   # 数据类型为pyquery.pyquery.PyQuery\n",
    "doc.text()    # 数据变“干净”了"
   ]
  },
  {
   "cell_type": "code",
   "execution_count": 44,
   "id": "4bea106a",
   "metadata": {
    "ExecuteTime": {
     "end_time": "2023-08-08T16:52:32.823420Z",
     "start_time": "2023-08-08T16:52:32.810921Z"
    }
   },
   "outputs": [
    {
     "data": {
      "text/plain": [
       "<generator object PyQuery.items at 0x000001FCEB690BA0>"
      ]
     },
     "execution_count": 44,
     "metadata": {},
     "output_type": "execute_result"
    }
   ],
   "source": [
    "# 只要书籍信息：调用items获得生成器\n",
    "doc.items('tr.item')    # 书的唯一定位标签为 .subject_item"
   ]
  },
  {
   "cell_type": "code",
   "execution_count": 45,
   "id": "1033891a",
   "metadata": {
    "ExecuteTime": {
     "end_time": "2023-08-08T18:29:47.458535Z",
     "start_time": "2023-08-08T18:29:47.447499Z"
    }
   },
   "outputs": [
    {
     "name": "stdout",
     "output_type": "stream",
     "text": [
      "<tr class=\"item\">\n",
      "          <td width=\"100\" valign=\"top\">\n",
      "            <a class=\"nbg\" href=\"https://book.douban.com/subject/1007305/\" onclick=\"moreurl(this,{i:'0'})\">\n",
      "              <img src=\"https://img1.doubanio.com/view/subject/s/public/s1070959.jpg\" width=\"90\"/>\n",
      "            </a>\n",
      "          </td>\n",
      "          <td valign=\"top\">\n",
      "            \n",
      "            <div class=\"pl2\">\n",
      "\n",
      "\n",
      "              <a href=\"https://book.douban.com/subject/1007305/\" onclick=\"&quot;moreurl(this,{i:'0'})&quot;\" title=\"红楼梦\">\n",
      "                红楼梦\n",
      "\n",
      "                \n",
      "              </a>\n",
      "\n",
      "\n",
      "\n",
      "                  <img src=\"/pics/read.gif\" alt=\"可试读\" title=\"可试读\"/>\n",
      "\n",
      "              \n",
      "            </div>\n",
      "\n",
      "              <p class=\"pl\">[清] 曹雪芹 著 / 人民文学出版社 / 1996-12 / 59.70元</p>\n",
      "\n",
      "            \n",
      "\n",
      "              \n",
      "              <div class=\"star clearfix\">\n",
      "                  <span class=\"allstar50\"/>\n",
      "                  <span class=\"rating_nums\">9.6</span>\n",
      "\n",
      "                <span class=\"pl\">(\n",
      "                    413884人评价\n",
      "                )</span>\n",
      "              </div>\n",
      "\n",
      "            \n",
      "              <p class=\"quote\" style=\"margin: 10px 0; color: #666\">\n",
      "                  <span class=\"inq\">都云作者痴，谁解其中味？</span>\n",
      "              </p>\n",
      "\n",
      "\n",
      "          </td>\n",
      "        </tr>\n",
      "      \n",
      "<tr class=\"item\">\n",
      "          <td width=\"100\" valign=\"top\">\n",
      "            <a class=\"nbg\" href=\"https://book.douban.com/subject/4913064/\" onclick=\"moreurl(this,{i:'1'})\">\n",
      "              <img src=\"https://img1.doubanio.com/view/subject/s/public/s29053580.jpg\" width=\"90\"/>\n",
      "            </a>\n",
      "          </td>\n",
      "          <td valign=\"top\">\n",
      "            \n",
      "            <div class=\"pl2\">\n",
      "\n",
      "\n",
      "              <a href=\"https://book.douban.com/subject/4913064/\" onclick=\"&quot;moreurl(this,{i:'1'})&quot;\" title=\"活着\">\n",
      "                活着\n",
      "\n",
      "                \n",
      "              </a>\n",
      "\n",
      "\n",
      "\n",
      "                  <img src=\"/pics/read.gif\" alt=\"可试读\" title=\"可试读\"/>\n",
      "\n",
      "              \n",
      "            </div>\n",
      "\n",
      "              <p class=\"pl\">余华 / 作家出版社 / 2012-8-1 / 20.00元</p>\n",
      "\n",
      "            \n",
      "\n",
      "              \n",
      "              <div class=\"star clearfix\">\n",
      "                  <span class=\"allstar45\"/>\n",
      "                  <span class=\"rating_nums\">9.4</span>\n",
      "\n",
      "                <span class=\"pl\">(\n",
      "                    806544人评价\n",
      "                )</span>\n",
      "              </div>\n",
      "\n",
      "            \n",
      "              <p class=\"quote\" style=\"margin: 10px 0; color: #666\">\n",
      "                  <span class=\"inq\">生的苦难与伟大</span>\n",
      "              </p>\n",
      "\n",
      "\n",
      "          </td>\n",
      "        </tr>\n",
      "      \n",
      "<tr class=\"item\">\n",
      "          <td width=\"100\" valign=\"top\">\n",
      "            <a class=\"nbg\" href=\"https://book.douban.com/subject/4820710/\" onclick=\"moreurl(this,{i:'2'})\">\n",
      "              <img src=\"https://img1.doubanio.com/view/subject/s/public/s4371408.jpg\" width=\"90\"/>\n",
      "            </a>\n",
      "          </td>\n",
      "          <td valign=\"top\">\n",
      "            \n",
      "            <div class=\"pl2\">\n",
      "\n",
      "\n",
      "              <a href=\"https://book.douban.com/subject/4820710/\" onclick=\"&quot;moreurl(this,{i:'2'})&quot;\" title=\"1984\">\n",
      "                1984\n",
      "\n",
      "                \n",
      "              </a>\n",
      "\n",
      "\n",
      "\n",
      "\n",
      "              \n",
      "                <br/>\n",
      "                <span style=\"font-size:12px;\">Nineteen Eighty-Four</span>\n",
      "            </div>\n",
      "\n",
      "              <p class=\"pl\">[英] 乔治·奥威尔 / 刘绍铭 / 北京十月文艺出版社 / 2010-4-1 / 28.00</p>\n",
      "\n",
      "            \n",
      "\n",
      "              \n",
      "              <div class=\"star clearfix\">\n",
      "                  <span class=\"allstar45\"/>\n",
      "                  <span class=\"rating_nums\">9.4</span>\n",
      "\n",
      "                <span class=\"pl\">(\n",
      "                    275813人评价\n",
      "                )</span>\n",
      "              </div>\n",
      "\n",
      "            \n",
      "              <p class=\"quote\" style=\"margin: 10px 0; color: #666\">\n",
      "                  <span class=\"inq\">栗树荫下，我出卖你，你出卖我</span>\n",
      "              </p>\n",
      "\n",
      "\n",
      "          </td>\n",
      "        </tr>\n",
      "      \n",
      "<tr class=\"item\">\n",
      "          <td width=\"100\" valign=\"top\">\n",
      "            <a class=\"nbg\" href=\"https://book.douban.com/subject/6518605/\" onclick=\"moreurl(this,{i:'3'})\">\n",
      "              <img src=\"https://img2.doubanio.com/view/subject/s/public/s30016152.jpg\" width=\"90\"/>\n",
      "            </a>\n",
      "          </td>\n",
      "          <td valign=\"top\">\n",
      "            \n",
      "            <div class=\"pl2\">\n",
      "\n",
      "\n",
      "              <a href=\"https://book.douban.com/subject/6518605/\" onclick=\"&quot;moreurl(this,{i:'3'})&quot;\" title=\"三体全集\">\n",
      "                三体全集\n",
      "\n",
      "                \n",
      "                  <span style=\"font-size:12px;\"> : 地球往事三部曲 </span>\n",
      "              </a>\n",
      "\n",
      "\n",
      "\n",
      "\n",
      "              \n",
      "            </div>\n",
      "\n",
      "              <p class=\"pl\">刘慈欣 / 重庆出版社 / 2012-1 / 168.00元</p>\n",
      "\n",
      "            \n",
      "\n",
      "              \n",
      "              <div class=\"star clearfix\">\n",
      "                  <span class=\"allstar50\"/>\n",
      "                  <span class=\"rating_nums\">9.5</span>\n",
      "\n",
      "                <span class=\"pl\">(\n",
      "                    178122人评价\n",
      "                )</span>\n",
      "              </div>\n",
      "\n",
      "            \n",
      "              <p class=\"quote\" style=\"margin: 10px 0; color: #666\">\n",
      "                  <span class=\"inq\">地球往事三部曲</span>\n",
      "              </p>\n",
      "\n",
      "\n",
      "          </td>\n",
      "        </tr>\n",
      "      \n",
      "<tr class=\"item\">\n",
      "          <td width=\"100\" valign=\"top\">\n",
      "            <a class=\"nbg\" href=\"https://book.douban.com/subject/24531956/\" onclick=\"moreurl(this,{i:'4'})\">\n",
      "              <img src=\"https://img9.doubanio.com/view/subject/s/public/s29101586.jpg\" width=\"90\"/>\n",
      "            </a>\n",
      "          </td>\n",
      "          <td valign=\"top\">\n",
      "            \n",
      "            <div class=\"pl2\">\n",
      "\n",
      "\n",
      "              <a href=\"https://book.douban.com/subject/24531956/\" onclick=\"&quot;moreurl(this,{i:'4'})&quot;\" title=\"哈利·波特\">\n",
      "                哈利·波特\n",
      "\n",
      "                \n",
      "              </a>\n",
      "\n",
      "\n",
      "\n",
      "\n",
      "              \n",
      "                <br/>\n",
      "                <span style=\"font-size:12px;\">Harry Potter</span>\n",
      "            </div>\n",
      "\n",
      "              <p class=\"pl\">J.K.罗琳 (J.K.Rowling) / 苏农 / 人民文学出版社 / 2008-12-1 / 498.00元</p>\n",
      "\n",
      "            \n",
      "\n",
      "              \n",
      "              <div class=\"star clearfix\">\n",
      "                  <span class=\"allstar50\"/>\n",
      "                  <span class=\"rating_nums\">9.7</span>\n",
      "\n",
      "                <span class=\"pl\">(\n",
      "                    99447人评价\n",
      "                )</span>\n",
      "              </div>\n",
      "\n",
      "            \n",
      "              <p class=\"quote\" style=\"margin: 10px 0; color: #666\">\n",
      "                  <span class=\"inq\">从9¾站台开始的旅程</span>\n",
      "              </p>\n",
      "\n",
      "\n",
      "          </td>\n",
      "        </tr>\n",
      "      \n",
      "<tr class=\"item\">\n",
      "          <td width=\"100\" valign=\"top\">\n",
      "            <a class=\"nbg\" href=\"https://book.douban.com/subject/6082808/\" onclick=\"moreurl(this,{i:'5'})\">\n",
      "              <img src=\"https://img1.doubanio.com/view/subject/s/public/s27237850.jpg\" width=\"90\"/>\n",
      "            </a>\n",
      "          </td>\n",
      "          <td valign=\"top\">\n",
      "            \n",
      "            <div class=\"pl2\">\n",
      "\n",
      "\n",
      "              <a href=\"https://book.douban.com/subject/6082808/\" onclick=\"&quot;moreurl(this,{i:'5'})&quot;\" title=\"百年孤独\">\n",
      "                百年孤独\n",
      "\n",
      "                \n",
      "              </a>\n",
      "\n",
      "\n",
      "\n",
      "\n",
      "              \n",
      "                <br/>\n",
      "                <span style=\"font-size:12px;\">Cien años de soledad</span>\n",
      "            </div>\n",
      "\n",
      "              <p class=\"pl\">[哥伦比亚] 加西亚·马尔克斯 / 范晔 / 南海出版公司 / 2011-6 / 39.50元</p>\n",
      "\n",
      "            \n",
      "\n",
      "              \n",
      "              <div class=\"star clearfix\">\n",
      "                  <span class=\"allstar45\"/>\n",
      "                  <span class=\"rating_nums\">9.3</span>\n",
      "\n",
      "                <span class=\"pl\">(\n",
      "                    414700人评价\n",
      "                )</span>\n",
      "              </div>\n",
      "\n",
      "            \n",
      "              <p class=\"quote\" style=\"margin: 10px 0; color: #666\">\n",
      "                  <span class=\"inq\">魔幻现实主义文学代表作</span>\n",
      "              </p>\n",
      "\n",
      "\n",
      "          </td>\n",
      "        </tr>\n",
      "      \n",
      "<tr class=\"item\">\n",
      "          <td width=\"100\" valign=\"top\">\n",
      "            <a class=\"nbg\" href=\"https://book.douban.com/subject/1068920/\" onclick=\"moreurl(this,{i:'6'})\">\n",
      "              <img src=\"https://img1.doubanio.com/view/subject/s/public/s1078958.jpg\" width=\"90\"/>\n",
      "            </a>\n",
      "          </td>\n",
      "          <td valign=\"top\">\n",
      "            \n",
      "            <div class=\"pl2\">\n",
      "\n",
      "\n",
      "              <a href=\"https://book.douban.com/subject/1068920/\" onclick=\"&quot;moreurl(this,{i:'6'})&quot;\" title=\"飘\">\n",
      "                飘\n",
      "\n",
      "                \n",
      "              </a>\n",
      "\n",
      "\n",
      "\n",
      "\n",
      "              \n",
      "                <br/>\n",
      "                <span style=\"font-size:12px;\">Gone with the Wind</span>\n",
      "            </div>\n",
      "\n",
      "              <p class=\"pl\">[美国] 玛格丽特·米切尔 / 李美华 / 译林出版社 / 2000-9 / 40.00元</p>\n",
      "\n",
      "            \n",
      "\n",
      "              \n",
      "              <div class=\"star clearfix\">\n",
      "                  <span class=\"allstar45\"/>\n",
      "                  <span class=\"rating_nums\">9.3</span>\n",
      "\n",
      "                <span class=\"pl\">(\n",
      "                    208438人评价\n",
      "                )</span>\n",
      "              </div>\n",
      "\n",
      "            \n",
      "              <p class=\"quote\" style=\"margin: 10px 0; color: #666\">\n",
      "                  <span class=\"inq\">革命时期的爱情，随风而逝</span>\n",
      "              </p>\n",
      "\n",
      "\n",
      "          </td>\n",
      "        </tr>\n",
      "      \n",
      "<tr class=\"item\">\n",
      "          <td width=\"100\" valign=\"top\">\n",
      "            <a class=\"nbg\" href=\"https://book.douban.com/subject/1019568/\" onclick=\"moreurl(this,{i:'7'})\">\n",
      "              <img src=\"https://img2.doubanio.com/view/subject/s/public/s1076932.jpg\" width=\"90\"/>\n",
      "            </a>\n",
      "          </td>\n",
      "          <td valign=\"top\">\n",
      "            \n",
      "            <div class=\"pl2\">\n",
      "\n",
      "\n",
      "              <a href=\"https://book.douban.com/subject/1019568/\" onclick=\"&quot;moreurl(this,{i:'7'})&quot;\" title=\"三国演义（全二册）\">\n",
      "                三国演义（全二册）\n",
      "\n",
      "                \n",
      "              </a>\n",
      "\n",
      "\n",
      "\n",
      "                  <img src=\"/pics/read.gif\" alt=\"可试读\" title=\"可试读\"/>\n",
      "\n",
      "              \n",
      "            </div>\n",
      "\n",
      "              <p class=\"pl\">[明] 罗贯中 / 人民文学出版社 / 1998-05 / 39.50元</p>\n",
      "\n",
      "            \n",
      "\n",
      "              \n",
      "              <div class=\"star clearfix\">\n",
      "                  <span class=\"allstar45\"/>\n",
      "                  <span class=\"rating_nums\">9.3</span>\n",
      "\n",
      "                <span class=\"pl\">(\n",
      "                    164241人评价\n",
      "                )</span>\n",
      "              </div>\n",
      "\n",
      "            \n",
      "              <p class=\"quote\" style=\"margin: 10px 0; color: #666\">\n",
      "                  <span class=\"inq\">是非成败转头空</span>\n",
      "              </p>\n",
      "\n",
      "\n",
      "          </td>\n",
      "        </tr>\n",
      "      \n",
      "<tr class=\"item\">\n",
      "          <td width=\"100\" valign=\"top\">\n",
      "            <a class=\"nbg\" href=\"https://book.douban.com/subject/27614904/\" onclick=\"moreurl(this,{i:'8'})\">\n",
      "              <img src=\"https://img2.doubanio.com/view/subject/s/public/s29651121.jpg\" width=\"90\"/>\n",
      "            </a>\n",
      "          </td>\n",
      "          <td valign=\"top\">\n",
      "            \n",
      "            <div class=\"pl2\">\n",
      "\n",
      "\n",
      "              <a href=\"https://book.douban.com/subject/27614904/\" onclick=\"&quot;moreurl(this,{i:'8'})&quot;\" title=\"房思琪的初恋乐园\">\n",
      "                房思琪的初恋乐园\n",
      "\n",
      "                \n",
      "              </a>\n",
      "\n",
      "\n",
      "\n",
      "                  <img src=\"/pics/read.gif\" alt=\"可试读\" title=\"可试读\"/>\n",
      "\n",
      "              \n",
      "            </div>\n",
      "\n",
      "              <p class=\"pl\">林奕含 / 北京联合出版公司 / 2018-2 / 45.00元</p>\n",
      "\n",
      "            \n",
      "\n",
      "              \n",
      "              <div class=\"star clearfix\">\n",
      "                  <span class=\"allstar45\"/>\n",
      "                  <span class=\"rating_nums\">9.2</span>\n",
      "\n",
      "                <span class=\"pl\">(\n",
      "                    366758人评价\n",
      "                )</span>\n",
      "              </div>\n",
      "\n",
      "            \n",
      "              <p class=\"quote\" style=\"margin: 10px 0; color: #666\">\n",
      "                  <span class=\"inq\">向死而生的文学绝唱</span>\n",
      "              </p>\n",
      "\n",
      "\n",
      "          </td>\n",
      "        </tr>\n",
      "      \n",
      "<tr class=\"item\">\n",
      "          <td width=\"100\" valign=\"top\">\n",
      "            <a class=\"nbg\" href=\"https://book.douban.com/subject/2035179/\" onclick=\"moreurl(this,{i:'9'})\">\n",
      "              <img src=\"https://img1.doubanio.com/view/subject/s/public/s2347590.jpg\" width=\"90\"/>\n",
      "            </a>\n",
      "          </td>\n",
      "          <td valign=\"top\">\n",
      "            \n",
      "            <div class=\"pl2\">\n",
      "\n",
      "\n",
      "              <a href=\"https://book.douban.com/subject/2035179/\" onclick=\"&quot;moreurl(this,{i:'9'})&quot;\" title=\"动物农场\">\n",
      "                动物农场\n",
      "\n",
      "                \n",
      "              </a>\n",
      "\n",
      "\n",
      "\n",
      "\n",
      "              \n",
      "                <br/>\n",
      "                <span style=\"font-size:12px;\">Animal Farm</span>\n",
      "            </div>\n",
      "\n",
      "              <p class=\"pl\">[英] 乔治·奥威尔 / 荣如德 / 上海译文出版社 / 2007-3 / 10.00元</p>\n",
      "\n",
      "            \n",
      "\n",
      "              \n",
      "              <div class=\"star clearfix\">\n",
      "                  <span class=\"allstar45\"/>\n",
      "                  <span class=\"rating_nums\">9.3</span>\n",
      "\n",
      "                <span class=\"pl\">(\n",
      "                    154292人评价\n",
      "                )</span>\n",
      "              </div>\n",
      "\n",
      "            \n",
      "              <p class=\"quote\" style=\"margin: 10px 0; color: #666\">\n",
      "                  <span class=\"inq\">太阳底下并无新事</span>\n",
      "              </p>\n",
      "\n",
      "\n",
      "          </td>\n",
      "        </tr>\n",
      "      \n",
      "<tr class=\"item\">\n",
      "          <td width=\"100\" valign=\"top\">\n",
      "            <a class=\"nbg\" href=\"https://book.douban.com/subject/1040211/\" onclick=\"moreurl(this,{i:'10'})\">\n",
      "              <img src=\"https://img1.doubanio.com/view/subject/s/public/s1229240.jpg\" width=\"90\"/>\n",
      "            </a>\n",
      "          </td>\n",
      "          <td valign=\"top\">\n",
      "            \n",
      "            <div class=\"pl2\">\n",
      "\n",
      "\n",
      "              <a href=\"https://book.douban.com/subject/1040211/\" onclick=\"&quot;moreurl(this,{i:'10'})&quot;\" title=\"福尔摩斯探案全集（上中下）\">\n",
      "                福尔摩斯探案全集（上中下）\n",
      "\n",
      "                \n",
      "              </a>\n",
      "\n",
      "\n",
      "\n",
      "\n",
      "              \n",
      "            </div>\n",
      "\n",
      "              <p class=\"pl\">[英] 阿·柯南道尔 / 丁钟华 等 / 群众出版社 / 1981-8 / 53.00元/68.00元</p>\n",
      "\n",
      "            \n",
      "\n",
      "              \n",
      "              <div class=\"star clearfix\">\n",
      "                  <span class=\"allstar45\"/>\n",
      "                  <span class=\"rating_nums\">9.3</span>\n",
      "\n",
      "                <span class=\"pl\">(\n",
      "                    130421人评价\n",
      "                )</span>\n",
      "              </div>\n",
      "\n",
      "            \n",
      "              <p class=\"quote\" style=\"margin: 10px 0; color: #666\">\n",
      "                  <span class=\"inq\">名侦探的代名词</span>\n",
      "              </p>\n",
      "\n",
      "\n",
      "          </td>\n",
      "        </tr>\n",
      "      \n",
      "<tr class=\"item\">\n",
      "          <td width=\"100\" valign=\"top\">\n",
      "            <a class=\"nbg\" href=\"https://book.douban.com/subject/10554308/\" onclick=\"moreurl(this,{i:'11'})\">\n",
      "              <img src=\"https://img1.doubanio.com/view/subject/s/public/s24514468.jpg\" width=\"90\"/>\n",
      "            </a>\n",
      "          </td>\n",
      "          <td valign=\"top\">\n",
      "            \n",
      "            <div class=\"pl2\">\n",
      "\n",
      "\n",
      "              <a href=\"https://book.douban.com/subject/10554308/\" onclick=\"&quot;moreurl(this,{i:'11'})&quot;\" title=\"白夜行\">\n",
      "                白夜行\n",
      "\n",
      "                \n",
      "              </a>\n",
      "\n",
      "\n",
      "\n",
      "\n",
      "              \n",
      "            </div>\n",
      "\n",
      "              <p class=\"pl\">[日] 东野圭吾 / 刘姿君 / 南海出版公司 / 2013-1-1 / 39.50元</p>\n",
      "\n",
      "            \n",
      "\n",
      "              \n",
      "              <div class=\"star clearfix\">\n",
      "                  <span class=\"allstar45\"/>\n",
      "                  <span class=\"rating_nums\">9.2</span>\n",
      "\n",
      "                <span class=\"pl\">(\n",
      "                    458437人评价\n",
      "                )</span>\n",
      "              </div>\n",
      "\n",
      "            \n",
      "              <p class=\"quote\" style=\"margin: 10px 0; color: #666\">\n",
      "                  <span class=\"inq\">一宗离奇命案牵出跨度近20年步步惊心的故事</span>\n",
      "              </p>\n",
      "\n",
      "\n",
      "          </td>\n",
      "        </tr>\n",
      "      \n",
      "<tr class=\"item\">\n",
      "          <td width=\"100\" valign=\"top\">\n",
      "            <a class=\"nbg\" href=\"https://book.douban.com/subject/1084336/\" onclick=\"moreurl(this,{i:'12'})\">\n",
      "              <img src=\"https://img2.doubanio.com/view/subject/s/public/s1103152.jpg\" width=\"90\"/>\n",
      "            </a>\n",
      "          </td>\n",
      "          <td valign=\"top\">\n",
      "            \n",
      "            <div class=\"pl2\">\n",
      "\n",
      "\n",
      "              <a href=\"https://book.douban.com/subject/1084336/\" onclick=\"&quot;moreurl(this,{i:'12'})&quot;\" title=\"小王子\">\n",
      "                小王子\n",
      "\n",
      "                \n",
      "              </a>\n",
      "\n",
      "\n",
      "\n",
      "\n",
      "              \n",
      "                <br/>\n",
      "                <span style=\"font-size:12px;\">Le Petit Prince</span>\n",
      "            </div>\n",
      "\n",
      "              <p class=\"pl\">[法] 圣埃克苏佩里 / 马振聘 / 人民文学出版社 / 2003-8 / 22.00元</p>\n",
      "\n",
      "            \n",
      "\n",
      "              \n",
      "              <div class=\"star clearfix\">\n",
      "                  <span class=\"allstar45\"/>\n",
      "                  <span class=\"rating_nums\">9.1</span>\n",
      "\n",
      "                <span class=\"pl\">(\n",
      "                    743055人评价\n",
      "                )</span>\n",
      "              </div>\n",
      "\n",
      "            \n",
      "              <p class=\"quote\" style=\"margin: 10px 0; color: #666\">\n",
      "                  <span class=\"inq\">献给长成了大人的孩子们</span>\n",
      "              </p>\n",
      "\n",
      "\n",
      "          </td>\n",
      "        </tr>\n",
      "      \n",
      "<tr class=\"item\">\n",
      "          <td width=\"100\" valign=\"top\">\n",
      "            <a class=\"nbg\" href=\"https://book.douban.com/subject/1060068/\" onclick=\"moreurl(this,{i:'13'})\">\n",
      "              <img src=\"https://img2.doubanio.com/view/subject/s/public/s1369343.jpg\" width=\"90\"/>\n",
      "            </a>\n",
      "          </td>\n",
      "          <td valign=\"top\">\n",
      "            \n",
      "            <div class=\"pl2\">\n",
      "\n",
      "\n",
      "              <a href=\"https://book.douban.com/subject/1060068/\" onclick=\"&quot;moreurl(this,{i:'13'})&quot;\" title=\"撒哈拉的故事\">\n",
      "                撒哈拉的故事\n",
      "\n",
      "                \n",
      "              </a>\n",
      "\n",
      "\n",
      "\n",
      "\n",
      "              \n",
      "            </div>\n",
      "\n",
      "              <p class=\"pl\">三毛 / 哈尔滨出版社 / 2003-8 / 15.80元</p>\n",
      "\n",
      "            \n",
      "\n",
      "              \n",
      "              <div class=\"star clearfix\">\n",
      "                  <span class=\"allstar45\"/>\n",
      "                  <span class=\"rating_nums\">9.2</span>\n",
      "\n",
      "                <span class=\"pl\">(\n",
      "                    167769人评价\n",
      "                )</span>\n",
      "              </div>\n",
      "\n",
      "            \n",
      "              <p class=\"quote\" style=\"margin: 10px 0; color: #666\">\n",
      "                  <span class=\"inq\">游荡的自由灵魂</span>\n",
      "              </p>\n",
      "\n",
      "\n",
      "          </td>\n",
      "        </tr>\n",
      "      \n",
      "<tr class=\"item\">\n",
      "          <td width=\"100\" valign=\"top\">\n",
      "            <a class=\"nbg\" href=\"https://book.douban.com/subject/1046209/\" onclick=\"moreurl(this,{i:'14'})\">\n",
      "              <img src=\"https://img2.doubanio.com/view/subject/s/public/s1034062.jpg\" width=\"90\"/>\n",
      "            </a>\n",
      "          </td>\n",
      "          <td valign=\"top\">\n",
      "            \n",
      "            <div class=\"pl2\">\n",
      "\n",
      "\n",
      "              <a href=\"https://book.douban.com/subject/1046209/\" onclick=\"&quot;moreurl(this,{i:'14'})&quot;\" title=\"安徒生童话故事集\">\n",
      "                安徒生童话故事集\n",
      "\n",
      "                \n",
      "              </a>\n",
      "\n",
      "\n",
      "\n",
      "\n",
      "              \n",
      "            </div>\n",
      "\n",
      "              <p class=\"pl\">（丹麦）安徒生 / 叶君健 / 人民文学出版社 / 1997-08 / 25.00元</p>\n",
      "\n",
      "            \n",
      "\n",
      "              \n",
      "              <div class=\"star clearfix\">\n",
      "                  <span class=\"allstar45\"/>\n",
      "                  <span class=\"rating_nums\">9.3</span>\n",
      "\n",
      "                <span class=\"pl\">(\n",
      "                    129084人评价\n",
      "                )</span>\n",
      "              </div>\n",
      "\n",
      "            \n",
      "              <p class=\"quote\" style=\"margin: 10px 0; color: #666\">\n",
      "                  <span class=\"inq\">为了争取未来的一代</span>\n",
      "              </p>\n",
      "\n",
      "\n",
      "          </td>\n",
      "        </tr>\n",
      "      \n",
      "<tr class=\"item\">\n",
      "          <td width=\"100\" valign=\"top\">\n",
      "            <a class=\"nbg\" href=\"https://book.douban.com/subject/1255625/\" onclick=\"moreurl(this,{i:'15'})\">\n",
      "              <img src=\"https://img9.doubanio.com/view/subject/s/public/s26018275.jpg\" width=\"90\"/>\n",
      "            </a>\n",
      "          </td>\n",
      "          <td valign=\"top\">\n",
      "            \n",
      "            <div class=\"pl2\">\n",
      "\n",
      "\n",
      "              <a href=\"https://book.douban.com/subject/1255625/\" onclick=\"&quot;moreurl(this,{i:'15'})&quot;\" title=\"天龙八部\">\n",
      "                天龙八部\n",
      "\n",
      "                \n",
      "              </a>\n",
      "\n",
      "\n",
      "\n",
      "\n",
      "              \n",
      "            </div>\n",
      "\n",
      "              <p class=\"pl\">金庸 / 生活·读书·新知三联书店 / 1994-5 / 96.00元</p>\n",
      "\n",
      "            \n",
      "\n",
      "              \n",
      "              <div class=\"star clearfix\">\n",
      "                  <span class=\"allstar45\"/>\n",
      "                  <span class=\"rating_nums\">9.2</span>\n",
      "\n",
      "                <span class=\"pl\">(\n",
      "                    130360人评价\n",
      "                )</span>\n",
      "              </div>\n",
      "\n",
      "            \n",
      "              <p class=\"quote\" style=\"margin: 10px 0; color: #666\">\n",
      "                  <span class=\"inq\">有情皆孽，无人不冤</span>\n",
      "              </p>\n",
      "\n",
      "\n",
      "          </td>\n",
      "        </tr>\n",
      "      \n",
      "<tr class=\"item\">\n",
      "          <td width=\"100\" valign=\"top\">\n",
      "            <a class=\"nbg\" href=\"https://book.douban.com/subject/1449351/\" onclick=\"moreurl(this,{i:'16'})\">\n",
      "              <img src=\"https://img9.doubanio.com/view/subject/s/public/s34099286.jpg\" width=\"90\"/>\n",
      "            </a>\n",
      "          </td>\n",
      "          <td valign=\"top\">\n",
      "            \n",
      "            <div class=\"pl2\">\n",
      "\n",
      "\n",
      "              <a href=\"https://book.douban.com/subject/1449351/\" onclick=\"&quot;moreurl(this,{i:'16'})&quot;\" title=\"呐喊\">\n",
      "                呐喊\n",
      "\n",
      "                \n",
      "              </a>\n",
      "\n",
      "\n",
      "\n",
      "\n",
      "              \n",
      "            </div>\n",
      "\n",
      "              <p class=\"pl\">鲁迅 / 人民文学出版社 / 1973-3 / 0.36元</p>\n",
      "\n",
      "            \n",
      "\n",
      "              \n",
      "              <div class=\"star clearfix\">\n",
      "                  <span class=\"allstar45\"/>\n",
      "                  <span class=\"rating_nums\">9.2</span>\n",
      "\n",
      "                <span class=\"pl\">(\n",
      "                    155483人评价\n",
      "                )</span>\n",
      "              </div>\n",
      "\n",
      "            \n",
      "              <p class=\"quote\" style=\"margin: 10px 0; color: #666\">\n",
      "                  <span class=\"inq\">新文学的第一声呐喊</span>\n",
      "              </p>\n",
      "\n",
      "\n",
      "          </td>\n",
      "        </tr>\n",
      "      \n",
      "<tr class=\"item\">\n",
      "          <td width=\"100\" valign=\"top\">\n",
      "            <a class=\"nbg\" href=\"https://book.douban.com/subject/26980487/\" onclick=\"moreurl(this,{i:'17'})\">\n",
      "              <img src=\"https://img1.doubanio.com/view/subject/s/public/s29396368.jpg\" width=\"90\"/>\n",
      "            </a>\n",
      "          </td>\n",
      "          <td valign=\"top\">\n",
      "            \n",
      "            <div class=\"pl2\">\n",
      "\n",
      "\n",
      "              <a href=\"https://book.douban.com/subject/26980487/\" onclick=\"&quot;moreurl(this,{i:'17'})&quot;\" title=\"悉达多\">\n",
      "                悉达多\n",
      "\n",
      "                \n",
      "                  <span style=\"font-size:12px;\"> : 一首印度的诗 </span>\n",
      "              </a>\n",
      "\n",
      "\n",
      "\n",
      "                  <img src=\"/pics/read.gif\" alt=\"可试读\" title=\"可试读\"/>\n",
      "\n",
      "              \n",
      "                <br/>\n",
      "                <span style=\"font-size:12px;\">Siddhartha</span>\n",
      "            </div>\n",
      "\n",
      "              <p class=\"pl\">[德] 赫尔曼·黑塞 / 姜乙 / 天津人民出版社 / 2017-1 / 32.00元</p>\n",
      "\n",
      "            \n",
      "\n",
      "              \n",
      "              <div class=\"star clearfix\">\n",
      "                  <span class=\"allstar45\"/>\n",
      "                  <span class=\"rating_nums\">9.3</span>\n",
      "\n",
      "                <span class=\"pl\">(\n",
      "                    87146人评价\n",
      "                )</span>\n",
      "              </div>\n",
      "\n",
      "            \n",
      "\n",
      "\n",
      "          </td>\n",
      "        </tr>\n",
      "      \n",
      "<tr class=\"item\">\n",
      "          <td width=\"100\" valign=\"top\">\n",
      "            <a class=\"nbg\" href=\"https://book.douban.com/subject/6781808/\" onclick=\"moreurl(this,{i:'18'})\">\n",
      "              <img src=\"https://img2.doubanio.com/view/subject/s/public/s23128183.jpg\" width=\"90\"/>\n",
      "            </a>\n",
      "          </td>\n",
      "          <td valign=\"top\">\n",
      "            \n",
      "            <div class=\"pl2\">\n",
      "\n",
      "\n",
      "              <a href=\"https://book.douban.com/subject/6781808/\" onclick=\"&quot;moreurl(this,{i:'18'})&quot;\" title=\"杀死一只知更鸟\">\n",
      "                杀死一只知更鸟\n",
      "\n",
      "                \n",
      "              </a>\n",
      "\n",
      "\n",
      "\n",
      "                  <img src=\"/pics/read.gif\" alt=\"可试读\" title=\"可试读\"/>\n",
      "\n",
      "              \n",
      "                <br/>\n",
      "                <span style=\"font-size:12px;\">To Kill a Mocking Bird</span>\n",
      "            </div>\n",
      "\n",
      "              <p class=\"pl\">[美] 哈珀·李 / 高红梅 / 译林出版社 / 2012-9 / 32.00元</p>\n",
      "\n",
      "            \n",
      "\n",
      "              \n",
      "              <div class=\"star clearfix\">\n",
      "                  <span class=\"allstar45\"/>\n",
      "                  <span class=\"rating_nums\">9.2</span>\n",
      "\n",
      "                <span class=\"pl\">(\n",
      "                    141849人评价\n",
      "                )</span>\n",
      "              </div>\n",
      "\n",
      "            \n",
      "              <p class=\"quote\" style=\"margin: 10px 0; color: #666\">\n",
      "                  <span class=\"inq\">有一种东西不能遵循从众原则，那就是——人的良心</span>\n",
      "              </p>\n",
      "\n",
      "\n",
      "          </td>\n",
      "        </tr>\n",
      "      \n",
      "<tr class=\"item\">\n",
      "          <td width=\"100\" valign=\"top\">\n",
      "            <a class=\"nbg\" href=\"https://book.douban.com/subject/20424526/\" onclick=\"moreurl(this,{i:'19'})\">\n",
      "              <img src=\"https://img1.doubanio.com/view/subject/s/public/s24516687.jpg\" width=\"90\"/>\n",
      "            </a>\n",
      "          </td>\n",
      "          <td valign=\"top\">\n",
      "            \n",
      "            <div class=\"pl2\">\n",
      "\n",
      "\n",
      "              <a href=\"https://book.douban.com/subject/20424526/\" onclick=\"&quot;moreurl(this,{i:'19'})&quot;\" title=\"邓小平时代\">\n",
      "                邓小平时代\n",
      "\n",
      "                \n",
      "              </a>\n",
      "\n",
      "\n",
      "\n",
      "\n",
      "              \n",
      "                <br/>\n",
      "                <span style=\"font-size:12px;\">Deng Xiaoping and the Transformation of China</span>\n",
      "            </div>\n",
      "\n",
      "              <p class=\"pl\">【美】傅高义 (Ezra.F.Vogel) / 冯克利 / 生活·读书·新知三联书店 / 2013-1-18 / 88.00元</p>\n",
      "\n",
      "            \n",
      "\n",
      "              \n",
      "              <div class=\"star clearfix\">\n",
      "                  <span class=\"allstar45\"/>\n",
      "                  <span class=\"rating_nums\">9.3</span>\n",
      "\n",
      "                <span class=\"pl\">(\n",
      "                    65888人评价\n",
      "                )</span>\n",
      "              </div>\n",
      "\n",
      "            \n",
      "              <p class=\"quote\" style=\"margin: 10px 0; color: #666\">\n",
      "                  <span class=\"inq\">个人命运背后的历史变局</span>\n",
      "              </p>\n",
      "\n",
      "\n",
      "          </td>\n",
      "        </tr>\n",
      "      \n",
      "<tr class=\"item\">\n",
      "          <td width=\"100\" valign=\"top\">\n",
      "            <a class=\"nbg\" href=\"https://book.douban.com/subject/3674537/\" onclick=\"moreurl(this,{i:'20'})\">\n",
      "              <img src=\"https://img9.doubanio.com/view/subject/s/public/s3745215.jpg\" width=\"90\"/>\n",
      "            </a>\n",
      "          </td>\n",
      "          <td valign=\"top\">\n",
      "            \n",
      "            <div class=\"pl2\">\n",
      "\n",
      "\n",
      "              <a href=\"https://book.douban.com/subject/3674537/\" onclick=\"&quot;moreurl(this,{i:'20'})&quot;\" title=\"明朝那些事儿（1-9）\">\n",
      "                明朝那些事儿（1-9）\n",
      "\n",
      "                \n",
      "                  <span style=\"font-size:12px;\"> : 限量版 </span>\n",
      "              </a>\n",
      "\n",
      "\n",
      "\n",
      "\n",
      "              \n",
      "            </div>\n",
      "\n",
      "              <p class=\"pl\">当年明月 / 中国海关出版社 / 2009-4 / 358.20元</p>\n",
      "\n",
      "            \n",
      "\n",
      "              \n",
      "              <div class=\"star clearfix\">\n",
      "                  <span class=\"allstar45\"/>\n",
      "                  <span class=\"rating_nums\">9.2</span>\n",
      "\n",
      "                <span class=\"pl\">(\n",
      "                    166329人评价\n",
      "                )</span>\n",
      "              </div>\n",
      "\n",
      "            \n",
      "              <p class=\"quote\" style=\"margin: 10px 0; color: #666\">\n",
      "                  <span class=\"inq\">不拘一格的历史书写</span>\n",
      "              </p>\n",
      "\n",
      "\n",
      "          </td>\n",
      "        </tr>\n",
      "      \n",
      "<tr class=\"item\">\n",
      "          <td width=\"100\" valign=\"top\">\n",
      "            <a class=\"nbg\" href=\"https://book.douban.com/subject/30172069/\" onclick=\"moreurl(this,{i:'21'})\">\n",
      "              <img src=\"https://img1.doubanio.com/view/subject/s/public/s29799269.jpg\" width=\"90\"/>\n",
      "            </a>\n",
      "          </td>\n",
      "          <td valign=\"top\">\n",
      "            \n",
      "            <div class=\"pl2\">\n",
      "\n",
      "\n",
      "              <a href=\"https://book.douban.com/subject/30172069/\" onclick=\"&quot;moreurl(this,{i:'21'})&quot;\" title=\"失踪的孩子\">\n",
      "                失踪的孩子\n",
      "\n",
      "                \n",
      "                  <span style=\"font-size:12px;\"> : 那不勒斯四部曲4 </span>\n",
      "              </a>\n",
      "\n",
      "\n",
      "\n",
      "                  <img src=\"/pics/read.gif\" alt=\"可试读\" title=\"可试读\"/>\n",
      "\n",
      "              \n",
      "                <br/>\n",
      "                <span style=\"font-size:12px;\">Storia della bambina perduta</span>\n",
      "            </div>\n",
      "\n",
      "              <p class=\"pl\">[意] 埃莱娜·费兰特 / 陈英 / 人民文学出版社 / 2018-7 / 62.00元</p>\n",
      "\n",
      "            \n",
      "\n",
      "              \n",
      "              <div class=\"star clearfix\">\n",
      "                  <span class=\"allstar45\"/>\n",
      "                  <span class=\"rating_nums\">9.2</span>\n",
      "\n",
      "                <span class=\"pl\">(\n",
      "                    76812人评价\n",
      "                )</span>\n",
      "              </div>\n",
      "\n",
      "            \n",
      "              <p class=\"quote\" style=\"margin: 10px 0; color: #666\">\n",
      "                  <span class=\"inq\">我的整个生命，只是一场为了提升社会地位的低俗斗争。</span>\n",
      "              </p>\n",
      "\n",
      "\n",
      "          </td>\n",
      "        </tr>\n",
      "      \n",
      "<tr class=\"item\">\n",
      "          <td width=\"100\" valign=\"top\">\n",
      "            <a class=\"nbg\" href=\"https://book.douban.com/subject/26986954/\" onclick=\"moreurl(this,{i:'22'})\">\n",
      "              <img src=\"https://img9.doubanio.com/view/subject/s/public/s29376146.jpg\" width=\"90\"/>\n",
      "            </a>\n",
      "          </td>\n",
      "          <td valign=\"top\">\n",
      "            \n",
      "            <div class=\"pl2\">\n",
      "\n",
      "\n",
      "              <a href=\"https://book.douban.com/subject/26986954/\" onclick=\"&quot;moreurl(this,{i:'22'})&quot;\" title=\"新名字的故事\">\n",
      "                新名字的故事\n",
      "\n",
      "                \n",
      "                  <span style=\"font-size:12px;\"> : 那不勒斯四部曲2 </span>\n",
      "              </a>\n",
      "\n",
      "\n",
      "\n",
      "                  <img src=\"/pics/read.gif\" alt=\"可试读\" title=\"可试读\"/>\n",
      "\n",
      "              \n",
      "                <br/>\n",
      "                <span style=\"font-size:12px;\">Storia del nuovo cognome</span>\n",
      "            </div>\n",
      "\n",
      "              <p class=\"pl\">[意] 埃莱娜·费兰特 / 陈英 / 人民文学出版社 / 2017-4 / 59.00元</p>\n",
      "\n",
      "            \n",
      "\n",
      "              \n",
      "              <div class=\"star clearfix\">\n",
      "                  <span class=\"allstar45\"/>\n",
      "                  <span class=\"rating_nums\">9.2</span>\n",
      "\n",
      "                <span class=\"pl\">(\n",
      "                    87334人评价\n",
      "                )</span>\n",
      "              </div>\n",
      "\n",
      "            \n",
      "              <p class=\"quote\" style=\"margin: 10px 0; color: #666\">\n",
      "                  <span class=\"inq\">探索青年时代的激情、困惑、挣扎、背叛和失去</span>\n",
      "              </p>\n",
      "\n",
      "\n",
      "          </td>\n",
      "        </tr>\n",
      "      \n",
      "<tr class=\"item\">\n",
      "          <td width=\"100\" valign=\"top\">\n",
      "            <a class=\"nbg\" href=\"https://book.douban.com/subject/1054685/\" onclick=\"moreurl(this,{i:'23'})\">\n",
      "              <img src=\"https://img1.doubanio.com/view/subject/s/public/s1447349.jpg\" width=\"90\"/>\n",
      "            </a>\n",
      "          </td>\n",
      "          <td valign=\"top\">\n",
      "            \n",
      "            <div class=\"pl2\">\n",
      "\n",
      "\n",
      "              <a href=\"https://book.douban.com/subject/1054685/\" onclick=\"&quot;moreurl(this,{i:'23'})&quot;\" title=\"沉默的大多数\">\n",
      "                沉默的大多数\n",
      "\n",
      "                \n",
      "                  <span style=\"font-size:12px;\"> : 王小波杂文随笔全编 </span>\n",
      "              </a>\n",
      "\n",
      "\n",
      "\n",
      "\n",
      "              \n",
      "            </div>\n",
      "\n",
      "              <p class=\"pl\">王小波 / 中国青年出版社 / 1997-10 / 27.00元</p>\n",
      "\n",
      "            \n",
      "\n",
      "              \n",
      "              <div class=\"star clearfix\">\n",
      "                  <span class=\"allstar45\"/>\n",
      "                  <span class=\"rating_nums\">9.1</span>\n",
      "\n",
      "                <span class=\"pl\">(\n",
      "                    147835人评价\n",
      "                )</span>\n",
      "              </div>\n",
      "\n",
      "            \n",
      "              <p class=\"quote\" style=\"margin: 10px 0; color: #666\">\n",
      "                  <span class=\"inq\">沉默是沉默者的通行证</span>\n",
      "              </p>\n",
      "\n",
      "\n",
      "          </td>\n",
      "        </tr>\n",
      "      \n",
      "<tr class=\"item\">\n",
      "          <td width=\"100\" valign=\"top\">\n",
      "            <a class=\"nbg\" href=\"https://book.douban.com/subject/1915958/\" onclick=\"moreurl(this,{i:'24'})\">\n",
      "              <img src=\"https://img2.doubanio.com/view/subject/s/public/s34099301.jpg\" width=\"90\"/>\n",
      "            </a>\n",
      "          </td>\n",
      "          <td valign=\"top\">\n",
      "            \n",
      "            <div class=\"pl2\">\n",
      "\n",
      "\n",
      "              <a href=\"https://book.douban.com/subject/1915958/\" onclick=\"&quot;moreurl(this,{i:'24'})&quot;\" title=\"野草\">\n",
      "                野草\n",
      "\n",
      "                \n",
      "              </a>\n",
      "\n",
      "\n",
      "\n",
      "\n",
      "              \n",
      "            </div>\n",
      "\n",
      "              <p class=\"pl\">鲁迅 / 人民文学出版社 / 1973-3 / 0.20元</p>\n",
      "\n",
      "            \n",
      "\n",
      "              \n",
      "              <div class=\"star clearfix\">\n",
      "                  <span class=\"allstar50\"/>\n",
      "                  <span class=\"rating_nums\">9.5</span>\n",
      "\n",
      "                <span class=\"pl\">(\n",
      "                    44970人评价\n",
      "                )</span>\n",
      "              </div>\n",
      "\n",
      "            \n",
      "              <p class=\"quote\" style=\"margin: 10px 0; color: #666\">\n",
      "                  <span class=\"inq\">我以这一丛野草，在明与暗，生与死，过去与未来之际，献于友与仇，人与兽，爱者与不爱者之前作证。</span>\n",
      "              </p>\n",
      "\n",
      "\n",
      "          </td>\n",
      "        </tr>\n",
      "      \n"
     ]
    }
   ],
   "source": [
    "for book in doc.items('tr.item'):\n",
    "#     print(type(book))   # 有20本\n",
    "    print(book)       # 查看这20本书的信息"
   ]
  },
  {
   "cell_type": "markdown",
   "id": "545e800a",
   "metadata": {},
   "source": [
    "**```三种解析情况```**：\n",
    "1. **<u>```根据定位标签，直接解析获得```</u>**，例如用book('.info h2 a').text()获得“人类简史 : 从动物到上帝”\n",
    "2. 用第一种方法获得数据，再进行**<u>```list元素提取```</u>**，例如获得['尤瓦尔·赫拉利 ', ' 林俊宏 ', ' 中信出版社 ', ' 2014-11 ', ' 68.00元']，分别提取作者、出版社、出版时间、价格等4个字段\n",
    "3. 用第一种方法获得数据，再用**<u>```正则表达式提取```</u>**，例如获得“(158378人评价)”，提取“158378（数字）”作为“评价人数（字段）”"
   ]
  },
  {
   "cell_type": "markdown",
   "id": "ff80460d",
   "metadata": {},
   "source": [
    "<center><font size=4><b>情况1：直接解析</b></font></center>"
   ]
  },
  {
   "cell_type": "code",
   "execution_count": 49,
   "id": "54932ce7",
   "metadata": {
    "ExecuteTime": {
     "end_time": "2023-08-08T18:33:50.764447Z",
     "start_time": "2023-08-08T18:33:50.751933Z"
    }
   },
   "outputs": [
    {
     "name": "stdout",
     "output_type": "stream",
     "text": [
      "红楼梦\n",
      "活着\n",
      "1984\n",
      "三体全集 : 地球往事三部曲\n",
      "哈利·波特\n",
      "百年孤独\n",
      "飘\n",
      "三国演义（全二册）\n",
      "房思琪的初恋乐园\n",
      "动物农场\n",
      "福尔摩斯探案全集（上中下）\n",
      "白夜行\n",
      "小王子\n",
      "撒哈拉的故事\n",
      "安徒生童话故事集\n",
      "天龙八部\n",
      "呐喊\n",
      "悉达多 : 一首印度的诗\n",
      "杀死一只知更鸟\n",
      "邓小平时代\n",
      "明朝那些事儿（1-9） : 限量版\n",
      "失踪的孩子 : 那不勒斯四部曲4\n",
      "新名字的故事 : 那不勒斯四部曲2\n",
      "沉默的大多数 : 王小波杂文随笔全编\n",
      "野草\n"
     ]
    }
   ],
   "source": [
    "for book in doc.items('tr.item'):\n",
    "#     print(book('.info'))     # 一层层定位，找到最具体的标签定位\n",
    "#     print(book('.info h2'))\n",
    "#     print(book('.info h2 a'))\n",
    "#     print(book('.info h2 a').attr('title'))   #取书名的两种方式：一是通过attr方法\n",
    "#     print(book('.info h2 a').text())          # 二是通过text方法，相对完整\n",
    "    book_name = book('.pl2 a').text()     # 放入book_name字段中\n",
    "    print(book_name)"
   ]
  },
  {
   "cell_type": "code",
   "execution_count": 50,
   "id": "7291f830",
   "metadata": {
    "ExecuteTime": {
     "end_time": "2023-08-08T18:34:31.072788Z",
     "start_time": "2023-08-08T18:34:31.060316Z"
    }
   },
   "outputs": [
    {
     "name": "stdout",
     "output_type": "stream",
     "text": [
      "红楼梦\n",
      "活着\n",
      "1984\n",
      "三体全集 : 地球往事三部曲\n",
      "哈利·波特\n",
      "百年孤独\n",
      "飘\n",
      "三国演义（全二册）\n",
      "房思琪的初恋乐园\n",
      "动物农场\n",
      "福尔摩斯探案全集（上中下）\n",
      "白夜行\n",
      "小王子\n",
      "撒哈拉的故事\n",
      "安徒生童话故事集\n",
      "天龙八部\n",
      "呐喊\n",
      "悉达多 : 一首印度的诗\n",
      "杀死一只知更鸟\n",
      "邓小平时代\n",
      "明朝那些事儿（1-9） : 限量版\n",
      "失踪的孩子 : 那不勒斯四部曲4\n",
      "新名字的故事 : 那不勒斯四部曲2\n",
      "沉默的大多数 : 王小波杂文随笔全编\n",
      "野草\n"
     ]
    }
   ],
   "source": [
    "for book in doc.items('tr.item'):\n",
    "    print(book('.pl2 a').text())          # 二是通过text方法，相对完整"
   ]
  },
  {
   "cell_type": "code",
   "execution_count": 52,
   "id": "873b0374",
   "metadata": {
    "ExecuteTime": {
     "end_time": "2023-08-08T16:52:36.855562Z",
     "start_time": "2023-08-08T16:52:36.814852Z"
    }
   },
   "outputs": [
    {
     "name": "stdout",
     "output_type": "stream",
     "text": [
      "红楼梦 [清] 曹雪芹 著 / 人民文学出版社 / 1996-12 / 59.70元 9.6\n",
      "活着 余华 / 作家出版社 / 2012-8-1 / 20.00元 9.4\n",
      "1984 [英] 乔治·奥威尔 / 刘绍铭 / 北京十月文艺出版社 / 2010-4-1 / 28.00 9.4\n",
      "三体全集 : 地球往事三部曲 刘慈欣 / 重庆出版社 / 2012-1 / 168.00元 9.5\n",
      "哈利·波特 J.K.罗琳 (J.K.Rowling) / 苏农 / 人民文学出版社 / 2008-12-1 / 498.00元 9.7\n",
      "百年孤独 [哥伦比亚] 加西亚·马尔克斯 / 范晔 / 南海出版公司 / 2011-6 / 39.50元 9.3\n",
      "飘 [美国] 玛格丽特·米切尔 / 李美华 / 译林出版社 / 2000-9 / 40.00元 9.3\n",
      "三国演义（全二册） [明] 罗贯中 / 人民文学出版社 / 1998-05 / 39.50元 9.3\n",
      "房思琪的初恋乐园 林奕含 / 北京联合出版公司 / 2018-2 / 45.00元 9.2\n",
      "动物农场 [英] 乔治·奥威尔 / 荣如德 / 上海译文出版社 / 2007-3 / 10.00元 9.3\n",
      "福尔摩斯探案全集（上中下） [英] 阿·柯南道尔 / 丁钟华 等 / 群众出版社 / 1981-8 / 53.00元/68.00元 9.3\n",
      "白夜行 [日] 东野圭吾 / 刘姿君 / 南海出版公司 / 2013-1-1 / 39.50元 9.2\n",
      "小王子 [法] 圣埃克苏佩里 / 马振聘 / 人民文学出版社 / 2003-8 / 22.00元 9.1\n",
      "撒哈拉的故事 三毛 / 哈尔滨出版社 / 2003-8 / 15.80元 9.2\n",
      "安徒生童话故事集 （丹麦）安徒生 / 叶君健 / 人民文学出版社 / 1997-08 / 25.00元 9.3\n",
      "天龙八部 金庸 / 生活·读书·新知三联书店 / 1994-5 / 96.00元 9.2\n",
      "呐喊 鲁迅 / 人民文学出版社 / 1973-3 / 0.36元 9.2\n",
      "悉达多 : 一首印度的诗 [德] 赫尔曼·黑塞 / 姜乙 / 天津人民出版社 / 2017-1 / 32.00元 9.3\n",
      "杀死一只知更鸟 [美] 哈珀·李 / 高红梅 / 译林出版社 / 2012-9 / 32.00元 9.2\n",
      "邓小平时代 【美】傅高义 (Ezra.F.Vogel) / 冯克利 / 生活·读书·新知三联书店 / 2013-1-18 / 88.00元 9.3\n",
      "明朝那些事儿（1-9） : 限量版 当年明月 / 中国海关出版社 / 2009-4 / 358.20元 9.2\n",
      "失踪的孩子 : 那不勒斯四部曲4 [意] 埃莱娜·费兰特 / 陈英 / 人民文学出版社 / 2018-7 / 62.00元 9.2\n",
      "新名字的故事 : 那不勒斯四部曲2 [意] 埃莱娜·费兰特 / 陈英 / 人民文学出版社 / 2017-4 / 59.00元 9.2\n",
      "沉默的大多数 : 王小波杂文随笔全编 王小波 / 中国青年出版社 / 1997-10 / 27.00元 9.1\n",
      "野草 鲁迅 / 人民文学出版社 / 1973-3 / 0.20元 9.5\n"
     ]
    }
   ],
   "source": [
    "# 用类似方法的字段有：book_name, desc, score, img\n",
    "for book in doc.items('tr.item'):\n",
    "    book_name = book('.pl2 a').text()\n",
    "    desc = book('p.pl').text()\n",
    "    score = book('span.rating_nums').text()\n",
    "    print(book_name, desc, score)"
   ]
  },
  {
   "cell_type": "markdown",
   "id": "201f539b",
   "metadata": {},
   "source": [
    "<center><font size=4><b>情况2：提取列表元素</b></font></center>"
   ]
  },
  {
   "cell_type": "code",
   "execution_count": 53,
   "id": "1735ec49",
   "metadata": {
    "ExecuteTime": {
     "end_time": "2023-08-08T18:37:14.683081Z",
     "start_time": "2023-08-08T18:37:14.667960Z"
    }
   },
   "outputs": [
    {
     "ename": "IndexError",
     "evalue": "list index out of range",
     "output_type": "error",
     "traceback": [
      "\u001b[1;31m---------------------------------------------------------------------------\u001b[0m",
      "\u001b[1;31mIndexError\u001b[0m                                Traceback (most recent call last)",
      "\u001b[1;32md:\\work\\github\\css_note\\css-dsp\\豆瓣读书top 250.ipynb Cell 43\u001b[0m line \u001b[0;36m6\n\u001b[0;32m      <a href='vscode-notebook-cell:/d%3A/work/github/css_note/css-dsp/%E8%B1%86%E7%93%A3%E8%AF%BB%E4%B9%A6top%20250.ipynb#X60sZmlsZQ%3D%3D?line=2'>3</a>\u001b[0m     info_list \u001b[39m=\u001b[39m book(\u001b[39m'\u001b[39m\u001b[39m.pl2 a\u001b[39m\u001b[39m'\u001b[39m)\u001b[39m.\u001b[39mtext()\u001b[39m.\u001b[39msplit(\u001b[39m'\u001b[39m\u001b[39m/\u001b[39m\u001b[39m'\u001b[39m)     \u001b[39m# 以'/'为分隔符split，得到info_list列表\u001b[39;00m\n\u001b[0;32m      <a href='vscode-notebook-cell:/d%3A/work/github/css_note/css-dsp/%E8%B1%86%E7%93%A3%E8%AF%BB%E4%B9%A6top%20250.ipynb#X60sZmlsZQ%3D%3D?line=3'>4</a>\u001b[0m \u001b[39m#     print(info_list)\u001b[39;00m\n\u001b[0;32m      <a href='vscode-notebook-cell:/d%3A/work/github/css_note/css-dsp/%E8%B1%86%E7%93%A3%E8%AF%BB%E4%B9%A6top%20250.ipynb#X60sZmlsZQ%3D%3D?line=4'>5</a>\u001b[0m \u001b[39m#     print(info_list[-3])    # 用[]提取列表元素，例如倒数第3个是出版社，索引为-3\u001b[39;00m\n\u001b[1;32m----> <a href='vscode-notebook-cell:/d%3A/work/github/css_note/css-dsp/%E8%B1%86%E7%93%A3%E8%AF%BB%E4%B9%A6top%20250.ipynb#X60sZmlsZQ%3D%3D?line=5'>6</a>\u001b[0m     publisher \u001b[39m=\u001b[39m info_list[\u001b[39m-\u001b[39;49m\u001b[39m3\u001b[39;49m]\u001b[39m.\u001b[39mstrip()   \u001b[39m# 以同样的方式获得authors, publisher, pub_time, price字段\u001b[39;00m\n\u001b[0;32m      <a href='vscode-notebook-cell:/d%3A/work/github/css_note/css-dsp/%E8%B1%86%E7%93%A3%E8%AF%BB%E4%B9%A6top%20250.ipynb#X60sZmlsZQ%3D%3D?line=6'>7</a>\u001b[0m \u001b[39m#     print(publisher)\u001b[39;00m\n\u001b[0;32m      <a href='vscode-notebook-cell:/d%3A/work/github/css_note/css-dsp/%E8%B1%86%E7%93%A3%E8%AF%BB%E4%B9%A6top%20250.ipynb#X60sZmlsZQ%3D%3D?line=7'>8</a>\u001b[0m     pub_time \u001b[39m=\u001b[39m info_list[\u001b[39m-\u001b[39m\u001b[39m2\u001b[39m]\n",
      "\u001b[1;31mIndexError\u001b[0m: list index out of range"
     ]
    }
   ],
   "source": [
    "for book in doc.items('tr.item'):\n",
    "#     info_list = book('.info .pub').text()    # 用左下划线'/'分隔的字符串\n",
    "    info_list = book('.pl2 a').text().split('/')     # 以'/'为分隔符split，得到info_list列表\n",
    "#     print(info_list)\n",
    "#     print(info_list[-3])    # 用[]提取列表元素，例如倒数第3个是出版社，索引为-3\n",
    "    publisher = info_list[-3].strip()   # 以同样的方式获得authors, publisher, pub_time, price字段\n",
    "#     print(publisher)\n",
    "    pub_time = info_list[-2]\n",
    "    price = info_list[-1]\n",
    "    authors = ','.join(info_list[:-3])   # 将多个作者元素，组合到一个字符串里\n",
    "#     print(authors)\n",
    "    print(authors, publisher, pub_time, price)"
   ]
  },
  {
   "cell_type": "markdown",
   "id": "f54e22b5",
   "metadata": {},
   "source": [
    "<center><font size=4><b>情况3：正则表达式提取</b></font></center>"
   ]
  },
  {
   "cell_type": "code",
   "execution_count": 27,
   "id": "1df60a2d",
   "metadata": {
    "ExecuteTime": {
     "end_time": "2023-08-08T16:52:39.085897Z",
     "start_time": "2023-08-08T16:52:39.075420Z"
    }
   },
   "outputs": [],
   "source": [
    "import re    # 导入re包\n",
    "\n",
    "for book in doc.items('.subject-item'):\n",
    "    people_num_raw = book('.pl').text()\n",
    "#     print(people_num_raw)\n",
    "#     print(re.findall('[0-9]+', people_num_raw))    # 匹配people_num_raw字段中的数字，获得列表\n",
    "#     print(re.findall('[0-9]+', people_num_raw)[0])   # 取列表中的第1个元素，索引为0\n",
    "    people_num = re.findall('[0-9]+', people_num_raw)[0]  # 放入people_num字段中\n",
    "    print(people_num)"
   ]
  },
  {
   "cell_type": "markdown",
   "id": "0f4e0b6e",
   "metadata": {},
   "source": [
    "1. 将这些**```字段组合成字典，放入列表```**中\n",
    "2. 书名、作者、出版社等作为**```key```**，人类简史、尤瓦尔·赫拉利、中信出版社等作为**```value```**\n",
    "3. **```例子```**如下："
   ]
  },
  {
   "cell_type": "code",
   "execution_count": 28,
   "id": "8f68659e",
   "metadata": {
    "ExecuteTime": {
     "end_time": "2023-08-08T16:52:39.816396Z",
     "start_time": "2023-08-08T16:52:39.808885Z"
    }
   },
   "outputs": [
    {
     "name": "stdout",
     "output_type": "stream",
     "text": [
      "[{'book_name': '人类简史：从动物到上帝', 'author': '尤瓦尔·赫拉利', 'publisher': '中信出版社'}, {'book_name': '理想国', 'author': '柏拉图', 'publisher': '商务印书馆'}, {'book_name': '社会契约论', 'author': '卢梭', 'publisher': '商务印书馆'}]\n",
      "数据类型为： <class 'list'>\n",
      "数据长度为： 3\n"
     ]
    }
   ],
   "source": [
    "bookinfo_list_tmp = [\n",
    "    {'book_name': '人类简史：从动物到上帝', 'author': '尤瓦尔·赫拉利', 'publisher': '中信出版社'},\n",
    "    {'book_name': '理想国', 'author': '柏拉图', 'publisher': '商务印书馆'},\n",
    "    {'book_name': '社会契约论', 'author': '卢梭', 'publisher': '商务印书馆'}\n",
    "    ]\n",
    "print(bookinfo_list_tmp)\n",
    "print('数据类型为：',type(bookinfo_list_tmp))   # 类型为list\n",
    "print('数据长度为：',len(bookinfo_list_tmp))    # 长度为3，即3本书的信息"
   ]
  },
  {
   "cell_type": "code",
   "execution_count": 29,
   "id": "10323adf",
   "metadata": {
    "ExecuteTime": {
     "end_time": "2023-08-08T16:52:40.296694Z",
     "start_time": "2023-08-08T16:52:40.248690Z"
    }
   },
   "outputs": [],
   "source": [
    "bookinfo_list = []   # 生成空列表，用于存储书籍信息\n",
    "doc = PyQuery(html)\n",
    "for book in doc.items('.subject-item'):\n",
    "    book_name = book('.info h2 a').text()    # 情况1：直接解析\n",
    "    desc = book('.info p').text()\n",
    "    score = book('.rating_nums').text()\n",
    "    img = book('.pic a img').attr('src')\n",
    "    \n",
    "    info_list = book('.info .pub').text().split('/')    # 情况2：提取列表元素\n",
    "    publisher = info_list[-3].strip()   \n",
    "    pub_time = info_list[-2]\n",
    "    price = info_list[-1]\n",
    "    authors = ''.join(info_list[:-3]) \n",
    "    \n",
    "    people_num_raw = book('.pl').text()       # 情况3：正则表达式提取\n",
    "    people_num = re.findall('[0-9]+', people_num_raw)[0]\n",
    "    \n",
    "    bookinfo = {'book_name':book_name,   # 为每本书创建一个字典，不同字段建构不同键值对\n",
    "                 'authors':authors,\n",
    "                 'publisher':publisher,\n",
    "                 'pub_time':pub_time,\n",
    "                 'desc':desc,\n",
    "                 'score':score,\n",
    "                 'people_num':people_num,\n",
    "                 'price':price,\n",
    "                 'img':img\n",
    "                }\n",
    "    \n",
    "    bookinfo_list.append(bookinfo)      # 将字典添加进bookinfo_list列表中"
   ]
  },
  {
   "cell_type": "code",
   "execution_count": 30,
   "id": "fa981f16",
   "metadata": {
    "ExecuteTime": {
     "end_time": "2023-08-08T16:52:40.830159Z",
     "start_time": "2023-08-08T16:52:40.818637Z"
    }
   },
   "outputs": [
    {
     "data": {
      "text/plain": [
       "[]"
      ]
     },
     "execution_count": 30,
     "metadata": {},
     "output_type": "execute_result"
    }
   ],
   "source": [
    "bookinfo_list\n",
    "# len(bookinfo_list)"
   ]
  },
  {
   "cell_type": "code",
   "execution_count": 32,
   "id": "c6e09979",
   "metadata": {
    "ExecuteTime": {
     "end_time": "2023-08-08T16:52:41.315680Z",
     "start_time": "2023-08-08T16:52:41.307699Z"
    }
   },
   "outputs": [],
   "source": [
    "# 函数：解析数据  extract_bookinfo_list(html)\n",
    "# 参数说明：html为网页源代码的字符串\n",
    "# 返回值：bookinfo_list为书籍的字典列表\n",
    "def extract_bookinfo_list(html):         # 添加：定义函数名\n",
    "    bookinfo_list = []\n",
    "    doc = PyQuery(html)\n",
    "    for book in doc.items('.subject-item'):\n",
    "        try:                             # 添加：try语句，避免特殊网页中断整个循环\n",
    "            book_name = book('.info h2 a').text()    \n",
    "            desc = book('.info p').text()\n",
    "            score = book('.rating_nums').text()\n",
    "            img = book('.pic a img').attr('src')\n",
    "            info_list = book('.info .pub').text().split('/')    \n",
    "            publisher = info_list[-3].strip()   \n",
    "            pub_time = info_list[-2]\n",
    "            price = info_list[-1]\n",
    "            authors = ''.join(info_list[:-3])\n",
    "            people_num_raw = book('.pl').text()       \n",
    "            people_num = re.findall('[0-9]+', people_num_raw)[0]\n",
    "\n",
    "            bookinfo = {'book_name':book_name,\n",
    "                         'authors':authors,\n",
    "                         'publisher':publisher,\n",
    "                         'pub_time':pub_time,\n",
    "                         'desc':desc,\n",
    "                         'score':score,\n",
    "                         'people_num':people_num,\n",
    "                         'price':price,\n",
    "                         'img':img\n",
    "                        }\n",
    "\n",
    "            bookinfo_list.append(bookinfo)\n",
    "        except:                        # 添加：except和pass语句，如果碰到bug，那么跳出此次循环、不执行任何操作，进行下一次循环\n",
    "            pass\n",
    "        \n",
    "    return bookinfo_list               # 添加：返回书籍的字典列表"
   ]
  },
  {
   "cell_type": "code",
   "execution_count": 50,
   "id": "db413d7c",
   "metadata": {},
   "outputs": [
    {
     "data": {
      "text/plain": [
       "'\\n\\n<!DOCTYPE html>\\n<html lang=\"zh-cmn-Hans\" class=\"ua-windows ua-webkit book-new-nav\">\\n<head>\\n  <meta http-equiv=\"Content-Type\" content=\"text/html; charset=utf-8\">\\n  <title>\\n  豆瓣图书标签: 哲学\\n</title>\\n  \\n<script>!function(e){var o=function(o,n,t){var c,i,r=new Date;n=n||30,t=t||\"/\",r.setTime(r.getTime()+24*n*60*60*1e3),c=\"; expires=\"+r.toGMTString();for(i in o)e.cookie=i+\"=\"+o[i]+c+\"; path=\"+t},n=function(o){var n,t,c,i=o+\"=\",r=e.cookie.split(\";\");for(t=0,c=r.length;t<c;t++)if(n=r[t].replace(/^\\\\s+|\\\\s+$/g,\"\"),0==n.indexOf(i))return n.substring(i.length,n.length).replace(/\\\\\"/g,\"\");return null},t=e.write,c={\"douban.com\":1,\"douban.fm\":1,\"google.com\":1,\"google.cn\":1,\"googleapis.com\":1,\"gmaptiles.co.kr\":1,\"gstatic.com\":1,\"gstatic.cn\":1,\"google-analytics.com\":1,\"googleadservices.com\":1},i=function(e,o){var n=new Image;n.onload=function(){},n.src=\"https://www.douban.com/j/except_report?kind=ra022&reason=\"+encodeURIComponent(e)+\"&environment=\"+encodeURIComponent(o)},r=function(o){try{t.call(e,o)}catch(e){t(o)}},a=/<script.*?src\\\\=[\"\\']?([^\"\\'\\\\s>]+)/gi,g=/http:\\\\/\\\\/(.+?)\\\\.([^\\\\/]+).+/i;e.writeln=e.write=function(e){var t,l=a.exec(e);return l&&(t=g.exec(l[1]))?c[t[2]]?void r(e):void(\"tqs\"!==n(\"hj\")&&(i(l[1],location.href),o({hj:\"tqs\"},1),setTimeout(function(){location.replace(location.href)},50))):void r(e)}}(document);</script>\\n\\n  \\n  <meta http-equiv=\"Pragma\" content=\"no-cache\">\\n  <meta http-equiv=\"Expires\" content=\"Sun, 6 Mar 2005 01:00:00 GMT\">\\n  \\n  <script>var _head_start = new Date();</script>\\n  \\n  <link href=\"https://img1.doubanio.com/f/book/8011541306494bc2ff483299d952d9c65753c43d/css/book/master.css\" rel=\"stylesheet\" type=\"text/css\">\\n\\n  <link href=\"https://img1.doubanio.com/f/book/222a5c61e041638af8defc87cf97f4a863a77922/css/book/base/init.css\" rel=\"stylesheet\">\\n  <style type=\"text/css\"></style>\\n  <script src=\"https://img1.doubanio.com/f/book/0495cb173e298c28593766009c7b0a953246c5b5/js/book/lib/jquery/jquery.js\"></script>\\n  <script src=\"https://img1.doubanio.com/f/shire/4888ee2fda6812f70a064a51c93b84fde8e4a3c2/js/douban.js\"></script>\\n  <script src=\"https://img1.doubanio.com/f/book/0322e3e810e475f1c82adb7d1c6ccfa1c0fa969c/js/book/master.js\"></script>\\n  \\n\\n  \\n  <script>  </script>\\n  <link rel=\"stylesheet\" href=\"https://img1.doubanio.com/misc/mixed_static/468bc24284a3074.css\">\\n\\n  <link rel=\"shortcut icon\" href=\"https://img1.doubanio.com/favicon.ico\" type=\"image/x-icon\">\\n</head>\\n<body>\\n  \\n    <script>var _body_start = new Date();</script>\\n    \\n  \\n\\n\\n\\n    <link href=\"//img3.doubanio.com/dae/accounts/resources/164cfd8/shire/bundle.css\" rel=\"stylesheet\" type=\"text/css\">\\n\\n\\n\\n<div id=\"db-global-nav\" class=\"global-nav\">\\n  <div class=\"bd\">\\n    \\n<div class=\"top-nav-info\">\\n  <a href=\"https://accounts.douban.com/passport/login?source=book\" class=\"nav-login\" rel=\"nofollow\">登录/注册</a>\\n</div>\\n\\n\\n    <div class=\"top-nav-doubanapp\">\\n  <a href=\"https://www.douban.com/doubanapp/app?channel=top-nav\" class=\"lnk-doubanapp\">下载豆瓣客户端</a>\\n  <div id=\"doubanapp-tip\">\\n    <a href=\"https://www.douban.com/doubanapp/app?channel=qipao\" class=\"tip-link\">豆瓣 <span class=\"version\">6.0</span> 全新发布</a>\\n    <a href=\"javascript: void 0;\" class=\"tip-close\">×</a>\\n  </div>\\n  <div id=\"top-nav-appintro\" class=\"more-items\">\\n    <p class=\"appintro-title\">豆瓣</p>\\n    <p class=\"qrcode\">扫码直接下载</p>\\n    <div class=\"download\">\\n      <a href=\"https://www.douban.com/doubanapp/redirect?channel=top-nav&direct_dl=1&download=iOS\">iPhone</a>\\n      <span>·</span>\\n      <a href=\"https://www.douban.com/doubanapp/redirect?channel=top-nav&direct_dl=1&download=Android\" class=\"download-android\">Android</a>\\n    </div>\\n  </div>\\n</div>\\n\\n    \\n\\n\\n<div class=\"global-nav-items\">\\n  <ul>\\n    <li class=\"\">\\n      <a href=\"https://www.douban.com\" target=\"_blank\" data-moreurl-dict=\"{&quot;from&quot;:&quot;top-nav-click-main&quot;,&quot;uid&quot;:&quot;0&quot;}\">豆瓣</a>\\n    </li>\\n    <li class=\"on\">\\n      <a href=\"https://book.douban.com\"  data-moreurl-dict=\"{&quot;from&quot;:&quot;top-nav-click-book&quot;,&quot;uid&quot;:&quot;0&quot;}\">读书</a>\\n    </li>\\n    <li class=\"\">\\n      <a href=\"https://movie.douban.com\" target=\"_blank\" data-moreurl-dict=\"{&quot;from&quot;:&quot;top-nav-click-movie&quot;,&quot;uid&quot;:&quot;0&quot;}\">电影</a>\\n    </li>\\n    <li class=\"\">\\n      <a href=\"https://music.douban.com\" target=\"_blank\" data-moreurl-dict=\"{&quot;from&quot;:&quot;top-nav-click-music&quot;,&quot;uid&quot;:&quot;0&quot;}\">音乐</a>\\n    </li>\\n    <li class=\"\">\\n      <a href=\"https://www.douban.com/location\" target=\"_blank\" data-moreurl-dict=\"{&quot;from&quot;:&quot;top-nav-click-location&quot;,&quot;uid&quot;:&quot;0&quot;}\">同城</a>\\n    </li>\\n    <li class=\"\">\\n      <a href=\"https://www.douban.com/group\" target=\"_blank\" data-moreurl-dict=\"{&quot;from&quot;:&quot;top-nav-click-group&quot;,&quot;uid&quot;:&quot;0&quot;}\">小组</a>\\n    </li>\\n    <li class=\"\">\\n      <a href=\"https://read.douban.com&#47;?dcs=top-nav&amp;dcm=douban\" target=\"_blank\" data-moreurl-dict=\"{&quot;from&quot;:&quot;top-nav-click-read&quot;,&quot;uid&quot;:&quot;0&quot;}\">阅读</a>\\n    </li>\\n    <li class=\"\">\\n      <a href=\"https://fm.douban.com&#47;?from_=shire_top_nav\" target=\"_blank\" data-moreurl-dict=\"{&quot;from&quot;:&quot;top-nav-click-fm&quot;,&quot;uid&quot;:&quot;0&quot;}\">FM</a>\\n    </li>\\n    <li class=\"\">\\n      <a href=\"https://time.douban.com&#47;?dt_time_source=douban-web_top_nav\" target=\"_blank\" data-moreurl-dict=\"{&quot;from&quot;:&quot;top-nav-click-time&quot;,&quot;uid&quot;:&quot;0&quot;}\">时间</a>\\n    </li>\\n    <li class=\"\">\\n      <a href=\"https://market.douban.com&#47;?utm_campaign=douban_top_nav&amp;utm_source=douban&amp;utm_medium=pc_web\" target=\"_blank\" data-moreurl-dict=\"{&quot;from&quot;:&quot;top-nav-click-market&quot;,&quot;uid&quot;:&quot;0&quot;}\">豆品</a>\\n    </li>\\n  </ul>\\n</div>\\n\\n  </div>\\n</div>\\n<script>\\n  ;window._GLOBAL_NAV = {\\n    DOUBAN_URL: \"https://www.douban.com\",\\n    N_NEW_NOTIS: 0,\\n    N_NEW_DOUMAIL: 0\\n  };\\n</script>\\n\\n\\n\\n    <script src=\"//img3.doubanio.com/dae/accounts/resources/164cfd8/shire/bundle.js\" defer=\"defer\"></script>\\n\\n\\n\\n\\n  \\n\\n\\n\\n    <link href=\"//img3.doubanio.com/dae/accounts/resources/164cfd8/book/bundle.css\" rel=\"stylesheet\" type=\"text/css\">\\n\\n\\n\\n\\n<div id=\"db-nav-book\" class=\"nav\">\\n  <div class=\"nav-wrap\">\\n  <div class=\"nav-primary\">\\n    <div class=\"nav-logo\">\\n      <a href=\"https:&#47;&#47;book.douban.com\">豆瓣读书</a>\\n    </div>\\n    <div class=\"nav-search\">\\n      <form action=\"https:&#47;&#47;search.douban.com&#47;book/subject_search\" method=\"get\">\\n        <fieldset>\\n          <legend>搜索：</legend>\\n          <label for=\"inp-query\">\\n          </label>\\n          <div class=\"inp\"><input id=\"inp-query\" name=\"search_text\" size=\"22\" maxlength=\"60\" placeholder=\"书名、作者、ISBN\" value=\"\"></div>\\n          <div class=\"inp-btn\"><input type=\"submit\" value=\"搜索\"></div>\\n          <input type=\"hidden\" name=\"cat\" value=\"1001\" />\\n        </fieldset>\\n      </form>\\n    </div>\\n  </div>\\n  </div>\\n  <div class=\"nav-secondary\">\\n    \\n\\n<div class=\"nav-items\">\\n  <ul>\\n    <li    ><a href=\"https://book.douban.com/cart/\"\\n     >购书单</a>\\n    </li>\\n    <li    ><a href=\"https://read.douban.com/ebooks/?dcs=book-nav&dcm=douban\"\\n            target=\"_blank\"\\n     >电子图书</a>\\n    </li>\\n    <li    ><a href=\"https://market.douban.com/book?utm_campaign=book_nav_freyr&utm_source=douban&utm_medium=pc_web\"\\n     >豆瓣书店</a>\\n    </li>\\n    <li    ><a href=\"https://book.douban.com/annual/2022?fullscreen=1&source=navigation\"\\n            target=\"_blank\"\\n     >2022年度榜单</a>\\n    </li>\\n    <li    ><a href=\"https://standbyme2022.douban.com/?autorotate=false&fullscreen=true&hidenav=true&source=web_navigation\"\\n            target=\"_blank\"\\n     >2022书影音报告</a>\\n    </li>\\n    <li          class=\" book-cart\"\\n    ><a href=\"https://market.douban.com/cart/?biz_type=book&utm_campaign=book_nav_cart&utm_source=douban&utm_medium=pc_web\"\\n            target=\"_blank\"\\n     >购物车</a>\\n    </li>\\n  </ul>\\n</div>\\n\\n    <a href=\"https://book.douban.com/annual/2022?fullscreen=1&source=book_navigation\" class=\"bookannual\"></a>\\n  </div>\\n</div>\\n\\n<script id=\"suggResult\" type=\"text/x-jquery-tmpl\">\\n  <li data-link=\"{{= url}}\">\\n            <a href=\"{{= url}}\" onclick=\"moreurl(this, {from:\\'book_search_sugg\\', query:\\'{{= keyword }}\\', subject_id:\\'{{= id}}\\', i: \\'{{= index}}\\', type: \\'{{= type}}\\'})\">\\n            <img src=\"{{= pic}}\" width=\"40\" />\\n            <div>\\n                <em>{{= title}}</em>\\n                {{if year}}\\n                    <span>{{= year}}</span>\\n                {{/if}}\\n                <p>\\n                {{if type == \"b\"}}\\n                    {{= author_name}}\\n                {{else type == \"a\" }}\\n                    {{if en_name}}\\n                        {{= en_name}}\\n                    {{/if}}\\n                {{/if}}\\n                 </p>\\n            </div>\\n        </a>\\n        </li>\\n  </script>\\n\\n\\n\\n\\n    <script src=\"//img3.doubanio.com/dae/accounts/resources/164cfd8/book/bundle.js\" defer=\"defer\"></script>\\n\\n\\n\\n\\n\\n    <div id=\"wrapper\">\\n        \\n        \\n  <div id=\"content\">\\n    \\n    <h1>豆瓣图书标签: 哲学</h1>\\n\\n    <div class=\"grid-16-8 clearfix\">\\n      \\n      <div class=\"article\">\\n  <div id=\"subject_list\">\\n\\n      \\n  \\n  \\n  <div class=\"clearfix\">\\n    <span class=\"rr greyinput\">\\n\\n          综合排序\\n          &nbsp;/&nbsp;\\n\\n          <a href=\"/tag/%E5%93%B2%E5%AD%A6?type=R\">按出版日期排序</a>\\n          &nbsp;/&nbsp;\\n\\n          <a href=\"/tag/%E5%93%B2%E5%AD%A6?type=S\">按评价排序</a>\\n    </span>\\n  </div>\\n\\n\\n\\n    \\n  \\n  <ul class=\"subject-list\">\\n      \\n      \\n  \\n  <li class=\"subject-item\">\\n    <div class=\"pic\">\\n      <a class=\"nbg\" href=\"https://book.douban.com/subject/26980487/\" \\n  onclick=\"moreurl(this,{i:\\'0\\',query:\\'\\',subject_id:\\'26980487\\',from:\\'book_subject_search\\'})\">\\n        <img class=\"\" src=\"https://img1.doubanio.com/view/subject/s/public/s29396368.jpg\"\\n          width=\"90\">\\n      </a>\\n    </div>\\n    <div class=\"info\">\\n      <h2 class=\"\">\\n        \\n  \\n  <a href=\"https://book.douban.com/subject/26980487/\" title=\"悉达多\" \\n  onclick=\"moreurl(this,{i:\\'0\\',query:\\'\\',subject_id:\\'26980487\\',from:\\'book_subject_search\\'})\">\\n\\n    悉达多\\n\\n\\n    \\n      <span style=\"font-size:12px;\"> : 一首印度的诗 </span>\\n\\n  </a>\\n\\n      </h2>\\n      <div class=\"pub\">\\n        \\n  \\n  [德] 赫尔曼·黑塞 / 姜乙 / 天津人民出版社 / 2017-1 / 32.00元\\n\\n      </div>\\n\\n\\n        \\n  \\n  \\n  \\n  <div class=\"star clearfix\">\\n        <span class=\"allstar45\"></span>\\n        <span class=\"rating_nums\">9.3</span>\\n\\n    <span class=\"pl\">\\n        (77014人评价)\\n    </span>\\n  </div>\\n\\n\\n\\n        \\n  \\n  \\n  \\n    <p>《悉达多》并非是佛陀的故事，它讲述了一个人的一生，千万寻常人亦会经历的一生。\\n意气风发的少年郎，常认为自己是被命运选中的人。抛下过去，随了跌跌撞撞的步伐，找... </p>\\n\\n\\n\\n\\n\\n\\n      <div class=\"ft\">\\n          \\n  <div class=\"collect-info\">\\n  </div>\\n\\n\\n          <div class=\"cart-actions\">\\n            \\n                \\n  \\n\\n    <span class=\"buy-info\">\\n      <a href=\"https://book.douban.com/subject/26980487/buylinks\">\\n        纸质版 16.00元\\n      </a>\\n    </span>\\n\\n          </div>\\n\\n            \\n            \\n  \\n    \\n    \\n  <div class=\"ebook-link\">\\n    <a target=\"_blank\" href=\"https://read.douban.com/ebook/31953088/?dcs=tag-buylink&amp;dcm=douban&amp;dct=26980487\">去看电子版</a>\\n  </div>\\n  \\n\\n\\n      </div>\\n\\n    </div>\\n  </li>\\n  \\n\\n      \\n      \\n  \\n  <li class=\"subject-item\">\\n    <div class=\"pic\">\\n      <a class=\"nbg\" href=\"https://book.douban.com/subject/36361935/\" \\n  onclick=\"moreurl(this,{i:\\'1\\',query:\\'\\',subject_id:\\'36361935\\',from:\\'book_subject_search\\'})\">\\n        <img class=\"\" src=\"https://img9.doubanio.com/view/subject/s/public/s34506625.jpg\"\\n          width=\"90\">\\n      </a>\\n    </div>\\n    <div class=\"info\">\\n      <h2 class=\"\">\\n        \\n  \\n  <a href=\"https://book.douban.com/subject/36361935/\" title=\"敏感与自我\" \\n  onclick=\"moreurl(this,{i:\\'1\\',query:\\'\\',subject_id:\\'36361935\\',from:\\'book_subject_search\\'})\">\\n\\n    敏感与自我\\n\\n\\n    \\n\\n  </a>\\n\\n      </h2>\\n      <div class=\"pub\">\\n        \\n  \\n  [德]斯文娅·弗拉斯珀勒 / 许一诺、包向飞 / 上海三联书店 / 2023-4 / 49元\\n\\n      </div>\\n\\n\\n        \\n  \\n  \\n  \\n  <div class=\"star clearfix\">\\n        <span class=\"allstar45\"></span>\\n        <span class=\"rating_nums\">8.7</span>\\n\\n    <span class=\"pl\">\\n        (269人评价)\\n    </span>\\n  </div>\\n\\n\\n\\n        \\n  \\n  \\n  \\n    <p>我们比以往任何时候都更忙于调整合理的限度。可以说的边界在哪里？什么时候触摸变得让人厌恶？本书作者后退一步，揭示了冲突的核心：自我和社会的日益敏感化。\\n聚焦敏... </p>\\n\\n\\n\\n\\n\\n\\n      <div class=\"ft\">\\n          \\n  <div class=\"collect-info\">\\n  </div>\\n\\n\\n          <div class=\"cart-actions\">\\n            \\n                \\n  \\n\\n    <span class=\"buy-info\">\\n      <a href=\"https://book.douban.com/subject/36361935/buylinks\">\\n        纸质版 38.10元\\n      </a>\\n    </span>\\n\\n          </div>\\n\\n            \\n            \\n  \\n    \\n    \\n  <div class=\"ebook-link\">\\n    <a target=\"_blank\" href=\"https://read.douban.com/ebook/435371322/?dcs=tag-buylink&amp;dcm=douban&amp;dct=36361935\">去看电子版</a>\\n  </div>\\n  \\n\\n\\n      </div>\\n\\n    </div>\\n  </li>\\n  \\n\\n      \\n      \\n  \\n  <li class=\"subject-item\">\\n    <div class=\"pic\">\\n      <a class=\"nbg\" href=\"https://book.douban.com/subject/36392187/\" \\n  onclick=\"moreurl(this,{i:\\'2\\',query:\\'\\',subject_id:\\'36392187\\',from:\\'book_subject_search\\'})\">\\n        <img class=\"\" src=\"https://img9.doubanio.com/view/subject/s/public/s34579844.jpg\"\\n          width=\"90\">\\n      </a>\\n    </div>\\n    <div class=\"info\">\\n      <h2 class=\"\">\\n        \\n  \\n  <a href=\"https://book.douban.com/subject/36392187/\" title=\"真实与虚拟\" \\n  onclick=\"moreurl(this,{i:\\'2\\',query:\\'\\',subject_id:\\'36392187\\',from:\\'book_subject_search\\'})\">\\n\\n    真实与虚拟\\n\\n\\n    \\n      <span style=\"font-size:12px;\"> : 后真相时代的哲学 </span>\\n\\n  </a>\\n\\n      </h2>\\n      <div class=\"pub\">\\n        \\n  \\n  金观涛 / 中信出版社 / 2023-7 / 98元\\n\\n      </div>\\n\\n\\n        \\n  \\n  \\n  \\n  <div class=\"star clearfix\">\\n        <span class=\"allstar45\"></span>\\n        <span class=\"rating_nums\">8.8</span>\\n\\n    <span class=\"pl\">\\n        (51人评价)\\n    </span>\\n  </div>\\n\\n\\n\\n        \\n  \\n  \\n  \\n    <p>这是一个后真相时代，我们对于何为真实的判断暧昧晦暗。现代社会庞大的信息数据网络，除了如同迷魂阵令人难辨真假，也如同牢笼将我们封锁其中。回顾来路，20世纪的变... </p>\\n\\n\\n\\n\\n\\n\\n      <div class=\"ft\">\\n          \\n  <div class=\"collect-info\">\\n  </div>\\n\\n\\n          <div class=\"cart-actions\">\\n            \\n                \\n  \\n\\n    <span class=\"buy-info\">\\n      <a href=\"https://book.douban.com/subject/36392187/buylinks\">\\n        纸质版 73.50元\\n      </a>\\n    </span>\\n\\n          </div>\\n\\n            \\n            \\n  \\n\\n      </div>\\n\\n    </div>\\n  </li>\\n  \\n\\n      \\n      \\n  \\n  <li class=\"subject-item\">\\n    <div class=\"pic\">\\n      <a class=\"nbg\" href=\"https://book.douban.com/subject/35313227/\" \\n  onclick=\"moreurl(this,{i:\\'3\\',query:\\'\\',subject_id:\\'35313227\\',from:\\'book_subject_search\\'})\">\\n        <img class=\"\" src=\"https://img2.doubanio.com/view/subject/s/public/s33802981.jpg\"\\n          width=\"90\">\\n      </a>\\n    </div>\\n    <div class=\"info\">\\n      <h2 class=\"\">\\n        \\n  \\n  <a href=\"https://book.douban.com/subject/35313227/\" title=\"刘擎西方现代思想讲义\" \\n  onclick=\"moreurl(this,{i:\\'3\\',query:\\'\\',subject_id:\\'35313227\\',from:\\'book_subject_search\\'})\">\\n\\n    刘擎西方现代思想讲义\\n\\n\\n    \\n\\n  </a>\\n\\n      </h2>\\n      <div class=\"pub\">\\n        \\n  \\n  刘擎 / 新星出版社 / 2021-1 / 79.00元\\n\\n      </div>\\n\\n\\n        \\n  \\n  \\n  \\n  <div class=\"star clearfix\">\\n        <span class=\"allstar45\"></span>\\n        <span class=\"rating_nums\">9.2</span>\\n\\n    <span class=\"pl\">\\n        (31497人评价)\\n    </span>\\n  </div>\\n\\n\\n\\n        \\n  \\n  \\n  \\n    <p>人生的意义，人们向往的自由和公平的价值，人类文明的复杂冲突与未来趋势……这些让你困惑的大小问题，过去也困扰过韦伯、尼采、萨特等杰出的头脑。他们尽最大努力做出... </p>\\n\\n\\n\\n\\n\\n\\n      <div class=\"ft\">\\n          \\n  <div class=\"collect-info\">\\n  </div>\\n\\n\\n          <div class=\"cart-actions\">\\n            \\n                \\n  \\n\\n    <span class=\"buy-info\">\\n      <a href=\"https://book.douban.com/subject/35313227/buylinks\">\\n        纸质版 43.70元\\n      </a>\\n    </span>\\n\\n          </div>\\n\\n            \\n            \\n  \\n\\n      </div>\\n\\n    </div>\\n  </li>\\n  \\n\\n      \\n      \\n  \\n  <li class=\"subject-item\">\\n    <div class=\"pic\">\\n      <a class=\"nbg\" href=\"https://book.douban.com/subject/36222048/\" \\n  onclick=\"moreurl(this,{i:\\'4\\',query:\\'\\',subject_id:\\'36222048\\',from:\\'book_subject_search\\'})\">\\n        <img class=\"\" src=\"https://img1.doubanio.com/view/subject/s/public/s34516877.jpg\"\\n          width=\"90\">\\n      </a>\\n    </div>\\n    <div class=\"info\">\\n      <h2 class=\"\">\\n        \\n  \\n  <a href=\"https://book.douban.com/subject/36222048/\" title=\"维特根斯坦十讲\" \\n  onclick=\"moreurl(this,{i:\\'4\\',query:\\'\\',subject_id:\\'36222048\\',from:\\'book_subject_search\\'})\">\\n\\n    维特根斯坦十讲\\n\\n\\n    \\n\\n  </a>\\n\\n      </h2>\\n      <div class=\"pub\">\\n        \\n  \\n  楼巍 / 上海文艺出版社 / 2023-5-1 / 68.00\\n\\n      </div>\\n\\n\\n        \\n  \\n  \\n  \\n  <div class=\"star clearfix\">\\n        <span class=\"allstar45\"></span>\\n        <span class=\"rating_nums\">8.9</span>\\n\\n    <span class=\"pl\">\\n        (53人评价)\\n    </span>\\n  </div>\\n\\n\\n\\n        \\n  \\n  \\n  \\n    <p>一本书让你理解维特根斯坦\\n浙江大学教授楼巍10堂哲学课\\n名校教授联合推荐：陈嘉映、江怡、黄敏、刘畅、代海强\\n裸脊锁线装订、印银、可180度摊开，颜值天花板设... </p>\\n\\n\\n\\n\\n\\n\\n      <div class=\"ft\">\\n          \\n  <div class=\"collect-info\">\\n  </div>\\n\\n\\n          <div class=\"cart-actions\">\\n            \\n                \\n  \\n\\n    <span class=\"buy-info\">\\n      <a href=\"https://book.douban.com/subject/36222048/buylinks\">\\n        纸质版 34.00元\\n      </a>\\n    </span>\\n\\n          </div>\\n\\n            \\n            \\n  \\n\\n      </div>\\n\\n    </div>\\n  </li>\\n  \\n\\n      \\n      \\n  \\n  <li class=\"subject-item\">\\n    <div class=\"pic\">\\n      <a class=\"nbg\" href=\"https://book.douban.com/subject/25961458/\" \\n  onclick=\"moreurl(this,{i:\\'5\\',query:\\'\\',subject_id:\\'25961458\\',from:\\'book_subject_search\\'})\">\\n        <img class=\"\" src=\"https://img1.doubanio.com/view/subject/s/public/s29144990.jpg\"\\n          width=\"90\">\\n      </a>\\n    </div>\\n    <div class=\"info\">\\n      <h2 class=\"\">\\n        \\n  \\n  <a href=\"https://book.douban.com/subject/25961458/\" title=\"大问题\" \\n  onclick=\"moreurl(this,{i:\\'5\\',query:\\'\\',subject_id:\\'25961458\\',from:\\'book_subject_search\\'})\">\\n\\n    大问题\\n\\n\\n    \\n      <span style=\"font-size:12px;\"> : 简明哲学导论 </span>\\n\\n  </a>\\n\\n      </h2>\\n      <div class=\"pub\">\\n        \\n  \\n  [美] 罗伯特·所罗门、凯思林•希金斯 / 张卜天 / 广西师范大学出版社 / 2014-12 / 65.00\\n\\n      </div>\\n\\n\\n        \\n  \\n  \\n  \\n  <div class=\"star clearfix\">\\n        <span class=\"allstar45\"></span>\\n        <span class=\"rating_nums\">9.3</span>\\n\\n    <span class=\"pl\">\\n        (8062人评价)\\n    </span>\\n  </div>\\n\\n\\n\\n        \\n  \\n  \\n  \\n    <p>本书的目的就是引导读者进入真正思考的大门。罗伯特•所罗门教授尤以擅长授课和写作清晰晓畅著称，他不像一般哲学导论著作那样按照事件发生的顺序罗列哲学史上的一些观... </p>\\n\\n\\n\\n\\n\\n\\n      <div class=\"ft\">\\n          \\n  <div class=\"collect-info\">\\n  </div>\\n\\n\\n          <div class=\"cart-actions\">\\n            \\n                \\n  \\n\\n    <span class=\"buy-info\">\\n      <a href=\"https://book.douban.com/subject/25961458/buylinks\">\\n        纸质版 120.00元\\n      </a>\\n    </span>\\n\\n          </div>\\n\\n            \\n            \\n  \\n\\n      </div>\\n\\n    </div>\\n  </li>\\n  \\n\\n      \\n      \\n  \\n  <li class=\"subject-item\">\\n    <div class=\"pic\">\\n      <a class=\"nbg\" href=\"https://book.douban.com/subject/1004821/\" \\n  onclick=\"moreurl(this,{i:\\'6\\',query:\\'\\',subject_id:\\'1004821\\',from:\\'book_subject_search\\'})\">\\n        <img class=\"\" src=\"https://img1.doubanio.com/view/subject/s/public/s34157889.jpg\"\\n          width=\"90\">\\n      </a>\\n    </div>\\n    <div class=\"info\">\\n      <h2 class=\"\">\\n        \\n  \\n  <a href=\"https://book.douban.com/subject/1004821/\" title=\"理想国\" \\n  onclick=\"moreurl(this,{i:\\'6\\',query:\\'\\',subject_id:\\'1004821\\',from:\\'book_subject_search\\'})\">\\n\\n    理想国\\n\\n\\n    \\n\\n  </a>\\n\\n      </h2>\\n      <div class=\"pub\">\\n        \\n  \\n  [古希腊] 柏拉图 / 郭斌和、张竹明 / 商务印书馆 / 1986-8 / 28.00元\\n\\n      </div>\\n\\n\\n        \\n  \\n  \\n  \\n  <div class=\"star clearfix\">\\n        <span class=\"allstar45\"></span>\\n        <span class=\"rating_nums\">8.8</span>\\n\\n    <span class=\"pl\">\\n        (35217人评价)\\n    </span>\\n  </div>\\n\\n\\n\\n        \\n  \\n  \\n  \\n    <p>《理想国》涉及柏拉图思想体系的各个方面，包括哲学、伦理、教育、文艺、政治等内容，主要是探讨理想国家的问题。\\n《理想国》一书是柏拉图的一篇重要对话录，对话录里... </p>\\n\\n\\n\\n\\n\\n\\n      <div class=\"ft\">\\n          \\n  <div class=\"collect-info\">\\n  </div>\\n\\n\\n          <div class=\"cart-actions\">\\n            \\n                \\n  \\n\\n    <span class=\"buy-info\">\\n      <a href=\"https://book.douban.com/subject/1004821/buylinks\">\\n        纸质版 36.00元\\n      </a>\\n    </span>\\n\\n          </div>\\n\\n            \\n            \\n  \\n\\n      </div>\\n\\n    </div>\\n  </li>\\n  \\n\\n      \\n      \\n  \\n  <li class=\"subject-item\">\\n    <div class=\"pic\">\\n      <a class=\"nbg\" href=\"https://book.douban.com/subject/34447865/\" \\n  onclick=\"moreurl(this,{i:\\'7\\',query:\\'\\',subject_id:\\'34447865\\',from:\\'book_subject_search\\'})\">\\n        <img class=\"\" src=\"https://img1.doubanio.com/view/subject/s/public/s33438650.jpg\"\\n          width=\"90\">\\n      </a>\\n    </div>\\n    <div class=\"info\">\\n      <h2 class=\"\">\\n        \\n  \\n  <a href=\"https://book.douban.com/subject/34447865/\" title=\"西方哲学史（第9版）\" \\n  onclick=\"moreurl(this,{i:\\'7\\',query:\\'\\',subject_id:\\'34447865\\',from:\\'book_subject_search\\'})\">\\n\\n    西方哲学史（第9版）\\n\\n\\n    \\n\\n  </a>\\n\\n      </h2>\\n      <div class=\"pub\">\\n        \\n  \\n  (美) 撒穆尔·伊诺克·斯通普夫、(美) 詹姆斯·菲泽 / 邓晓芒、匡宏、等 / 北京联合出版公司 / 2019-8 / 99.80元\\n\\n      </div>\\n\\n\\n        \\n  \\n  \\n  \\n  <div class=\"star clearfix\">\\n        <span class=\"allstar45\"></span>\\n        <span class=\"rating_nums\">9.2</span>\\n\\n    <span class=\"pl\">\\n        (2718人评价)\\n    </span>\\n  </div>\\n\\n\\n\\n        \\n  \\n  \\n  \\n    <p>畅销五十余载而不衰，备受好评的西哲史教材全新再版\\n通俗易懂的历史梳理，从古典文籍到当代前沿一应俱全\\n◎ 编辑推荐\\n☆自1966年初版至今最新修订版\\n☆西方哲... </p>\\n\\n\\n\\n\\n\\n\\n      <div class=\"ft\">\\n          \\n  <div class=\"collect-info\">\\n  </div>\\n\\n\\n          <div class=\"cart-actions\">\\n            \\n              <span class=\"market-info\">\\n                <a href=\"https://book.douban.com/subject/34447865/?channel=subject_list&amp;platform=web\" target=\"_blank\">在豆瓣购买</a>\\n              </span>\\n          </div>\\n\\n            \\n            \\n  \\n\\n      </div>\\n\\n    </div>\\n  </li>\\n  \\n\\n      \\n      \\n  \\n  <li class=\"subject-item\">\\n    <div class=\"pic\">\\n      <a class=\"nbg\" href=\"https://book.douban.com/subject/30176572/\" \\n  onclick=\"moreurl(this,{i:\\'8\\',query:\\'\\',subject_id:\\'30176572\\',from:\\'book_subject_search\\'})\">\\n        <img class=\"\" src=\"https://img9.doubanio.com/view/subject/s/public/s33923794.jpg\"\\n          width=\"90\">\\n      </a>\\n    </div>\\n    <div class=\"info\">\\n      <h2 class=\"\">\\n        \\n  \\n  <a href=\"https://book.douban.com/subject/30176572/\" title=\"大问题\" \\n  onclick=\"moreurl(this,{i:\\'8\\',query:\\'\\',subject_id:\\'30176572\\',from:\\'book_subject_search\\'})\">\\n\\n    大问题\\n\\n\\n    \\n      <span style=\"font-size:12px;\"> : 简明哲学导论 </span>\\n\\n  </a>\\n\\n      </h2>\\n      <div class=\"pub\">\\n        \\n  \\n  [美] 罗伯特·所罗门、[美] 凯思林·希金斯 / 张卜天 / 清华大学出版社 / 2018-7 / 98.00元\\n\\n      </div>\\n\\n\\n        \\n  \\n  \\n  \\n  <div class=\"star clearfix\">\\n        <span class=\"allstar45\"></span>\\n        <span class=\"rating_nums\">9.3</span>\\n\\n    <span class=\"pl\">\\n        (2645人评价)\\n    </span>\\n  </div>\\n\\n\\n\\n        \\n  \\n  \\n  \\n    <p>本书的目的就是引导读者进入真正思考的大门。罗伯特·所罗门教授尤以擅长授课和写作清晰流畅著称，他不像一般哲学导论著作那样按照事件发生的顺序罗列哲学史上的一些观... </p>\\n\\n\\n\\n\\n\\n\\n      <div class=\"ft\">\\n          \\n  <div class=\"collect-info\">\\n  </div>\\n\\n\\n          <div class=\"cart-actions\">\\n            \\n                \\n  \\n\\n    <span class=\"buy-info\">\\n      <a href=\"https://book.douban.com/subject/30176572/buylinks\">\\n        纸质版 77.50元\\n      </a>\\n    </span>\\n\\n          </div>\\n\\n            \\n            \\n  \\n\\n      </div>\\n\\n    </div>\\n  </li>\\n  \\n\\n      \\n      \\n  \\n  <li class=\"subject-item\">\\n    <div class=\"pic\">\\n      <a class=\"nbg\" href=\"https://book.douban.com/subject/36150914/\" \\n  onclick=\"moreurl(this,{i:\\'9\\',query:\\'\\',subject_id:\\'36150914\\',from:\\'book_subject_search\\'})\">\\n        <img class=\"\" src=\"https://img9.doubanio.com/view/subject/s/public/s34348664.jpg\"\\n          width=\"90\">\\n      </a>\\n    </div>\\n    <div class=\"info\">\\n      <h2 class=\"\">\\n        \\n  \\n  <a href=\"https://book.douban.com/subject/36150914/\" title=\"被讨厌的勇气\" \\n  onclick=\"moreurl(this,{i:\\'9\\',query:\\'\\',subject_id:\\'36150914\\',from:\\'book_subject_search\\'})\">\\n\\n    被讨厌的勇气\\n\\n\\n    \\n\\n  </a>\\n\\n      </h2>\\n      <div class=\"pub\">\\n        \\n  \\n  (日) 岸见一郎，古贺史健 / 渠海霞 / 机械工业出版社 / 2021-1 / 55\\n\\n      </div>\\n\\n\\n        \\n  \\n  \\n  \\n  <div class=\"star clearfix\">\\n        <span class=\"allstar40\"></span>\\n        <span class=\"rating_nums\">8.4</span>\\n\\n    <span class=\"pl\">\\n        (11712人评价)\\n    </span>\\n  </div>\\n\\n\\n\\n        \\n  \\n  \\n  \\n    <p>本书用“青年与哲人的对话”这一故事形式总结了与弗洛伊德、荣格并称为“心理学三大巨头”的阿尔弗雷德·阿德勒的思想(阿德勒心理学)。\\n风靡欧美的阿德勒心理学对于... </p>\\n\\n\\n\\n\\n\\n\\n      <div class=\"ft\">\\n          \\n  <div class=\"collect-info\">\\n  </div>\\n\\n\\n          <div class=\"cart-actions\">\\n            \\n                \\n  \\n\\n\\n          </div>\\n\\n            \\n            \\n  \\n    \\n    \\n  <div class=\"ebook-link\">\\n    <a target=\"_blank\" href=\"https://read.douban.com/ebook/423264453/?dcs=tag-buylink&amp;dcm=douban&amp;dct=36150914\">去看电子版</a>\\n  </div>\\n  \\n\\n\\n      </div>\\n\\n    </div>\\n  </li>\\n  \\n\\n      \\n      \\n  \\n  <li class=\"subject-item\">\\n    <div class=\"pic\">\\n      <a class=\"nbg\" href=\"https://book.douban.com/subject/36314912/\" \\n  onclick=\"moreurl(this,{i:\\'10\\',query:\\'\\',subject_id:\\'36314912\\',from:\\'book_subject_search\\'})\">\\n        <img class=\"\" src=\"https://img2.doubanio.com/view/subject/s/public/s34507612.jpg\"\\n          width=\"90\">\\n      </a>\\n    </div>\\n    <div class=\"info\">\\n      <h2 class=\"\">\\n        \\n  \\n  <a href=\"https://book.douban.com/subject/36314912/\" title=\"现象学入门\" \\n  onclick=\"moreurl(this,{i:\\'10\\',query:\\'\\',subject_id:\\'36314912\\',from:\\'book_subject_search\\'})\">\\n\\n    现象学入门\\n\\n\\n    \\n\\n  </a>\\n\\n      </h2>\\n      <div class=\"pub\">\\n        \\n  \\n  [丹麦]丹·扎哈维 / 康维阳 / 商务印书馆 / 2023-5 / 58.00元\\n\\n      </div>\\n\\n\\n        \\n  \\n  \\n  \\n  <div class=\"star clearfix\">\\n        <span class=\"allstar50\"></span>\\n        <span class=\"rating_nums\">9.9</span>\\n\\n    <span class=\"pl\">\\n        (101人评价)\\n    </span>\\n  </div>\\n\\n\\n\\n        \\n  \\n  \\n  \\n    <p>⭐️目前已经有德文、英文、日文等6译本⭐️\\n⭐️本书依据的英文版豆瓣评分9.6分⭐️\\n本书是丹·扎哈维对20世纪主导性哲学运动之一的现象学简明而有吸引力的介... </p>\\n\\n\\n\\n\\n\\n\\n      <div class=\"ft\">\\n          \\n  <div class=\"collect-info\">\\n  </div>\\n\\n\\n          <div class=\"cart-actions\">\\n            \\n                \\n  \\n\\n    <span class=\"buy-info\">\\n      <a href=\"https://book.douban.com/subject/36314912/buylinks\">\\n        纸质版 49.00元\\n      </a>\\n    </span>\\n\\n          </div>\\n\\n            \\n            \\n  \\n\\n      </div>\\n\\n    </div>\\n  </li>\\n  \\n\\n      \\n      \\n  \\n  <li class=\"subject-item\">\\n    <div class=\"pic\">\\n      <a class=\"nbg\" href=\"https://book.douban.com/subject/27172839/\" \\n  onclick=\"moreurl(this,{i:\\'11\\',query:\\'\\',subject_id:\\'27172839\\',from:\\'book_subject_search\\'})\">\\n        <img class=\"\" src=\"https://img9.doubanio.com/view/subject/s/public/s29580784.jpg\"\\n          width=\"90\">\\n      </a>\\n    </div>\\n    <div class=\"info\">\\n      <h2 class=\"\">\\n        \\n  \\n  <a href=\"https://book.douban.com/subject/27172839/\" title=\"苏菲的世界\" \\n  onclick=\"moreurl(this,{i:\\'11\\',query:\\'\\',subject_id:\\'27172839\\',from:\\'book_subject_search\\'})\">\\n\\n    苏菲的世界\\n\\n\\n    \\n\\n  </a>\\n\\n      </h2>\\n      <div class=\"pub\">\\n        \\n  \\n  [挪威] 乔斯坦·贾德 / 萧宝森 / 作家出版社 / 2017-8 / 38.00元\\n\\n      </div>\\n\\n\\n        \\n  \\n  \\n  \\n  <div class=\"star clearfix\">\\n        <span class=\"allstar45\"></span>\\n        <span class=\"rating_nums\">9.0</span>\\n\\n    <span class=\"pl\">\\n        (10067人评价)\\n    </span>\\n  </div>\\n\\n\\n\\n        \\n  \\n  \\n  \\n    <p>《苏菲的世界》\\n这是一本风靡世界的哲学启蒙书。\\n14岁的少女苏菲不断接到一些极不寻常的来信，世界像谜团一般在她眼底展开，她在一位神秘导师的指引下，苏菲开始思... </p>\\n\\n\\n\\n\\n\\n\\n      <div class=\"ft\">\\n          \\n  <div class=\"collect-info\">\\n  </div>\\n\\n\\n          <div class=\"cart-actions\">\\n            \\n                \\n  \\n\\n    <span class=\"buy-info\">\\n      <a href=\"https://book.douban.com/subject/27172839/buylinks\">\\n        纸质版 25.30元\\n      </a>\\n    </span>\\n\\n          </div>\\n\\n            \\n            \\n  \\n\\n      </div>\\n\\n    </div>\\n  </li>\\n  \\n\\n      \\n      \\n  \\n  <li class=\"subject-item\">\\n    <div class=\"pic\">\\n      <a class=\"nbg\" href=\"https://book.douban.com/subject/27070172/\" \\n  onclick=\"moreurl(this,{i:\\'12\\',query:\\'\\',subject_id:\\'27070172\\',from:\\'book_subject_search\\'})\">\\n        <img class=\"\" src=\"https://img1.doubanio.com/view/subject/s/public/s33750290.jpg\"\\n          width=\"90\">\\n      </a>\\n    </div>\\n    <div class=\"info\">\\n      <h2 class=\"\">\\n        \\n  \\n  <a href=\"https://book.douban.com/subject/27070172/\" title=\"哲学的历程\" \\n  onclick=\"moreurl(this,{i:\\'12\\',query:\\'\\',subject_id:\\'27070172\\',from:\\'book_subject_search\\'})\">\\n\\n    哲学的历程\\n\\n\\n    \\n      <span style=\"font-size:12px;\"> : 西方哲学历史导论(第四版) </span>\\n\\n  </a>\\n\\n      </h2>\\n      <div class=\"pub\">\\n        \\n  \\n  [美]威廉·F. 劳黑德 / 郭立东、丁三东 / 中国轻工业出版社 / 2017-3-1 / 73.5\\n\\n      </div>\\n\\n\\n        \\n  \\n  \\n  \\n  <div class=\"star clearfix\">\\n        <span class=\"allstar50\"></span>\\n        <span class=\"rating_nums\">9.6</span>\\n\\n    <span class=\"pl\">\\n        (525人评价)\\n    </span>\\n  </div>\\n\\n\\n\\n        \\n  \\n  \\n  \\n    <p>哲学史不是一座布满灰尘的博物馆，它的呈现远比我们认为的更加富于生气。好的哲学史书也不是包含密集而扼要事实信息的百科全书，而是一场对话与发现之旅。\\n本书产生于... </p>\\n\\n\\n\\n\\n\\n\\n      <div class=\"ft\">\\n          \\n  <div class=\"collect-info\">\\n  </div>\\n\\n\\n          <div class=\"cart-actions\">\\n            \\n                \\n  \\n\\n    <span class=\"buy-info\">\\n      <a href=\"https://book.douban.com/subject/27070172/buylinks\">\\n        纸质版 71.50元\\n      </a>\\n    </span>\\n\\n          </div>\\n\\n            \\n            \\n  \\n\\n      </div>\\n\\n    </div>\\n  </li>\\n  \\n\\n      \\n      \\n  \\n  <li class=\"subject-item\">\\n    <div class=\"pic\">\\n      <a class=\"nbg\" href=\"https://book.douban.com/subject/33442259/\" \\n  onclick=\"moreurl(this,{i:\\'13\\',query:\\'\\',subject_id:\\'33442259\\',from:\\'book_subject_search\\'})\">\\n        <img class=\"\" src=\"https://img2.doubanio.com/view/subject/s/public/s33300502.jpg\"\\n          width=\"90\">\\n      </a>\\n    </div>\\n    <div class=\"info\">\\n      <h2 class=\"\">\\n        \\n  \\n  <a href=\"https://book.douban.com/subject/33442259/\" title=\"倦怠社会\" \\n  onclick=\"moreurl(this,{i:\\'13\\',query:\\'\\',subject_id:\\'33442259\\',from:\\'book_subject_search\\'})\">\\n\\n    倦怠社会\\n\\n\\n    \\n\\n  </a>\\n\\n      </h2>\\n      <div class=\"pub\">\\n        \\n  \\n  [德] 韩炳哲 / 王一力 / 中信出版集团 / 2019-6-1 / 35.00元\\n\\n      </div>\\n\\n\\n        \\n  \\n  \\n  \\n  <div class=\"star clearfix\">\\n        <span class=\"allstar40\"></span>\\n        <span class=\"rating_nums\">7.8</span>\\n\\n    <span class=\"pl\">\\n        (11219人评价)\\n    </span>\\n  </div>\\n\\n\\n\\n        \\n  \\n  \\n  \\n    <p>否定性的社会已经消失，取而代之的是充溢着积极性的社会。\\n从这一范式转移出发，韩炳哲展示了当今社会的病理形态，其中包括忧郁症、注意力缺乏症、过劳症等精神疾病。... </p>\\n\\n\\n\\n\\n\\n\\n      <div class=\"ft\">\\n          \\n  <div class=\"collect-info\">\\n  </div>\\n\\n\\n          <div class=\"cart-actions\">\\n            \\n                \\n  \\n\\n    <span class=\"buy-info\">\\n      <a href=\"https://book.douban.com/subject/33442259/buylinks\">\\n        纸质版 15.75元\\n      </a>\\n    </span>\\n\\n          </div>\\n\\n            \\n            \\n  \\n    \\n    \\n  <div class=\"ebook-link\">\\n    <a target=\"_blank\" href=\"https://read.douban.com/ebook/121967845/?dcs=tag-buylink&amp;dcm=douban&amp;dct=33442259\">去看电子版</a>\\n  </div>\\n  \\n\\n\\n      </div>\\n\\n    </div>\\n  </li>\\n  \\n\\n      \\n      \\n  \\n  <li class=\"subject-item\">\\n    <div class=\"pic\">\\n      <a class=\"nbg\" href=\"https://book.douban.com/subject/36110351/\" \\n  onclick=\"moreurl(this,{i:\\'14\\',query:\\'\\',subject_id:\\'36110351\\',from:\\'book_subject_search\\'})\">\\n        <img class=\"\" src=\"https://img1.doubanio.com/view/subject/s/public/s34321177.jpg\"\\n          width=\"90\">\\n      </a>\\n    </div>\\n    <div class=\"info\">\\n      <h2 class=\"\">\\n        \\n  \\n  <a href=\"https://book.douban.com/subject/36110351/\" title=\"虚无主义\" \\n  onclick=\"moreurl(this,{i:\\'14\\',query:\\'\\',subject_id:\\'36110351\\',from:\\'book_subject_search\\'})\">\\n\\n    虚无主义\\n\\n\\n    \\n\\n  </a>\\n\\n      </h2>\\n      <div class=\"pub\">\\n        \\n  \\n  [荷兰]诺伦·格尔茨（Nolen Gertz） / 张红军 / 商务印书馆 / 2022-10 / 60\\n\\n      </div>\\n\\n\\n        \\n  \\n  \\n  \\n  <div class=\"star clearfix\">\\n        <span class=\"allstar45\"></span>\\n        <span class=\"rating_nums\">8.9</span>\\n\\n    <span class=\"pl\">\\n        (679人评价)\\n    </span>\\n  </div>\\n\\n\\n\\n        \\n  \\n  \\n  \\n    <p>先要直面虚无， 才能找到意义——一本写给当代人的反“空虚”指南！\\n《哈利·波特》《权力的游戏》《真探》……当代流行作品中，隐藏着怎样的逃避本质？\\n算法、社交... </p>\\n\\n\\n\\n\\n\\n\\n      <div class=\"ft\">\\n          \\n  <div class=\"collect-info\">\\n  </div>\\n\\n\\n          <div class=\"cart-actions\">\\n            \\n                \\n  \\n\\n    <span class=\"buy-info\">\\n      <a href=\"https://book.douban.com/subject/36110351/buylinks\">\\n        纸质版 50.70元\\n      </a>\\n    </span>\\n\\n          </div>\\n\\n            \\n            \\n  \\n\\n      </div>\\n\\n    </div>\\n  </li>\\n  \\n\\n      \\n      \\n  \\n  <li class=\"subject-item\">\\n    <div class=\"pic\">\\n      <a class=\"nbg\" href=\"https://book.douban.com/subject/36255857/\" \\n  onclick=\"moreurl(this,{i:\\'15\\',query:\\'\\',subject_id:\\'36255857\\',from:\\'book_subject_search\\'})\">\\n        <img class=\"\" src=\"https://img1.doubanio.com/view/subject/s/public/s34462367.jpg\"\\n          width=\"90\">\\n      </a>\\n    </div>\\n    <div class=\"info\">\\n      <h2 class=\"\">\\n        \\n  \\n  <a href=\"https://book.douban.com/subject/36255857/\" title=\"古代中世纪哲学十五讲\" \\n  onclick=\"moreurl(this,{i:\\'15\\',query:\\'\\',subject_id:\\'36255857\\',from:\\'book_subject_search\\'})\">\\n\\n    古代中世纪哲学十五讲\\n\\n\\n    \\n\\n  </a>\\n\\n      </h2>\\n      <div class=\"pub\">\\n        \\n  \\n  吴天岳 / 北京大学出版社 / 2023-3 / 268.00\\n\\n      </div>\\n\\n\\n        \\n  \\n  \\n  \\n  <div class=\"star clearfix\">\\n        <span class=\"allstar50\"></span>\\n        <span class=\"rating_nums\">9.9</span>\\n\\n    <span class=\"pl\">\\n        (50人评价)\\n    </span>\\n  </div>\\n\\n\\n\\n        \\n  \\n  \\n  \\n    <p>本书以吴天岳教授在北大讲授多年的西方哲学课程为基础，分十五讲展示了从前苏格拉底到中世纪盛期2000年间西方哲学发展的整体面貌。上册八讲，梳理了从古希腊哲学开... </p>\\n\\n\\n\\n\\n\\n\\n      <div class=\"ft\">\\n          \\n  <div class=\"collect-info\">\\n  </div>\\n\\n\\n          <div class=\"cart-actions\">\\n            \\n                \\n  \\n\\n    <span class=\"buy-info\">\\n      <a href=\"https://book.douban.com/subject/36255857/buylinks\">\\n        纸质版 215.70元\\n      </a>\\n    </span>\\n\\n          </div>\\n\\n            \\n            \\n  \\n\\n      </div>\\n\\n    </div>\\n  </li>\\n  \\n\\n      \\n      \\n  \\n  <li class=\"subject-item\">\\n    <div class=\"pic\">\\n      <a class=\"nbg\" href=\"https://book.douban.com/subject/10608319/\" \\n  onclick=\"moreurl(this,{i:\\'16\\',query:\\'\\',subject_id:\\'10608319\\',from:\\'book_subject_search\\'})\">\\n        <img class=\"\" src=\"https://img1.doubanio.com/view/subject/s/public/s34186558.jpg\"\\n          width=\"90\">\\n      </a>\\n    </div>\\n    <div class=\"info\">\\n      <h2 class=\"\">\\n        \\n  \\n  <a href=\"https://book.douban.com/subject/10608319/\" title=\"存在主义是一种人道主义\" \\n  onclick=\"moreurl(this,{i:\\'16\\',query:\\'\\',subject_id:\\'10608319\\',from:\\'book_subject_search\\'})\">\\n\\n    存在主义是一种人道主义\\n\\n\\n    \\n\\n  </a>\\n\\n      </h2>\\n      <div class=\"pub\">\\n        \\n  \\n  (法)让-保罗·萨特 / 周煦良、汤永宽 / 上海译文出版社 / 2012-6-1 / 23.00元\\n\\n      </div>\\n\\n\\n        \\n  \\n  \\n  \\n  <div class=\"star clearfix\">\\n        <span class=\"allstar45\"></span>\\n        <span class=\"rating_nums\">8.5</span>\\n\\n    <span class=\"pl\">\\n        (11086人评价)\\n    </span>\\n  </div>\\n\\n\\n\\n        \\n  \\n  \\n  \\n    <p>存在主义是现代西方哲学中影响极大、流行极广、风行一时的哲学流派。其主要代表人物就是法国哲学家萨特。本书由两篇构成：《存在主义是一种人道主义》和《今天的希望：... </p>\\n\\n\\n\\n\\n\\n\\n      <div class=\"ft\">\\n          \\n  <div class=\"collect-info\">\\n  </div>\\n\\n\\n          <div class=\"cart-actions\">\\n            \\n                \\n  \\n\\n    <span class=\"buy-info\">\\n      <a href=\"https://book.douban.com/subject/10608319/buylinks\">\\n        纸质版 18.10元\\n      </a>\\n    </span>\\n\\n          </div>\\n\\n            \\n            \\n  \\n    \\n    \\n  <div class=\"ebook-link\">\\n    <a target=\"_blank\" href=\"https://read.douban.com/ebook/54760114/?dcs=tag-buylink&amp;dcm=douban&amp;dct=10608319\">去看电子版</a>\\n  </div>\\n  \\n\\n\\n      </div>\\n\\n    </div>\\n  </li>\\n  \\n\\n      \\n      \\n  \\n  <li class=\"subject-item\">\\n    <div class=\"pic\">\\n      <a class=\"nbg\" href=\"https://book.douban.com/subject/35900190/\" \\n  onclick=\"moreurl(this,{i:\\'17\\',query:\\'\\',subject_id:\\'35900190\\',from:\\'book_subject_search\\'})\">\\n        <img class=\"\" src=\"https://img1.doubanio.com/view/subject/s/public/s34219967.jpg\"\\n          width=\"90\">\\n      </a>\\n    </div>\\n    <div class=\"info\">\\n      <h2 class=\"\">\\n        \\n  \\n  <a href=\"https://book.douban.com/subject/35900190/\" title=\"在绝望之巅\" \\n  onclick=\"moreurl(this,{i:\\'17\\',query:\\'\\',subject_id:\\'35900190\\',from:\\'book_subject_search\\'})\">\\n\\n    在绝望之巅\\n\\n\\n    \\n\\n  </a>\\n\\n      </h2>\\n      <div class=\"pub\">\\n        \\n  \\n  [法国] E·M·齐奥朗 / 唐江 / 北京联合出版公司 / 2022-6 / 49.80\\n\\n      </div>\\n\\n\\n        \\n  \\n  \\n  \\n  <div class=\"star clearfix\">\\n        <span class=\"allstar40\"></span>\\n        <span class=\"rating_nums\">8.3</span>\\n\\n    <span class=\"pl\">\\n        (5452人评价)\\n    </span>\\n  </div>\\n\\n\\n\\n        \\n  \\n  \\n  \\n    <p>◎“二十世纪的尼采”、现代欧洲最伟大的哲学家之一\\n◎E.M.齐奥朗初试啼声之作 中文简体版首次译介\\n★\\n在绝望之巅挣扎，燃起超脱生死的激情\\n将眼泪变成思想，... </p>\\n\\n\\n\\n\\n\\n\\n      <div class=\"ft\">\\n          \\n  <div class=\"collect-info\">\\n  </div>\\n\\n\\n          <div class=\"cart-actions\">\\n            \\n                \\n  \\n\\n    <span class=\"buy-info\">\\n      <a href=\"https://book.douban.com/subject/35900190/buylinks\">\\n        纸质版 24.90元\\n      </a>\\n    </span>\\n\\n          </div>\\n\\n            \\n            \\n  \\n    \\n    \\n  <div class=\"ebook-link\">\\n    <a target=\"_blank\" href=\"https://read.douban.com/ebook/414652366/?dcs=tag-buylink&amp;dcm=douban&amp;dct=35900190\">去看电子版</a>\\n  </div>\\n  \\n\\n\\n      </div>\\n\\n    </div>\\n  </li>\\n  \\n\\n      \\n      \\n  \\n  <li class=\"subject-item\">\\n    <div class=\"pic\">\\n      <a class=\"nbg\" href=\"https://book.douban.com/subject/3261600/\" \\n  onclick=\"moreurl(this,{i:\\'18\\',query:\\'\\',subject_id:\\'3261600\\',from:\\'book_subject_search\\'})\">\\n        <img class=\"\" src=\"https://img9.doubanio.com/view/subject/s/public/s4619775.jpg\"\\n          width=\"90\">\\n      </a>\\n    </div>\\n    <div class=\"info\">\\n      <h2 class=\"\">\\n        \\n  \\n  <a href=\"https://book.douban.com/subject/3261600/\" title=\"人生的智慧\" \\n  onclick=\"moreurl(this,{i:\\'18\\',query:\\'\\',subject_id:\\'3261600\\',from:\\'book_subject_search\\'})\">\\n\\n    人生的智慧\\n\\n\\n    \\n\\n  </a>\\n\\n      </h2>\\n      <div class=\"pub\">\\n        \\n  \\n  (德)叔本华 / 韦启昌 / 上海人民出版社 / 2008-10-01 / 28.00元\\n\\n      </div>\\n\\n\\n        \\n  \\n  \\n  \\n  <div class=\"star clearfix\">\\n        <span class=\"allstar45\"></span>\\n        <span class=\"rating_nums\">9.2</span>\\n\\n    <span class=\"pl\">\\n        (31031人评价)\\n    </span>\\n  </div>\\n\\n\\n\\n        \\n  \\n  \\n  \\n    <p>他于1850年写了《附录和补遗》一书，《人生的智慧》是该书中的一部分。在书中，他以优雅的文体，格言式的笔触阐述了自己对人生的看法。《人生的智慧》使沉寂多年的... </p>\\n\\n\\n\\n\\n\\n\\n      <div class=\"ft\">\\n          \\n  <div class=\"collect-info\">\\n  </div>\\n\\n\\n          <div class=\"cart-actions\">\\n            \\n                \\n  \\n\\n    <span class=\"buy-info\">\\n      <a href=\"https://book.douban.com/subject/3261600/buylinks\">\\n        纸质版 17.50元\\n      </a>\\n    </span>\\n\\n          </div>\\n\\n            \\n            \\n  \\n\\n      </div>\\n\\n    </div>\\n  </li>\\n  \\n\\n      \\n      \\n  \\n  <li class=\"subject-item\">\\n    <div class=\"pic\">\\n      <a class=\"nbg\" href=\"https://book.douban.com/subject/36315053/\" \\n  onclick=\"moreurl(this,{i:\\'19\\',query:\\'\\',subject_id:\\'36315053\\',from:\\'book_subject_search\\'})\">\\n        <img class=\"\" src=\"https://img1.doubanio.com/view/subject/s/public/s34529620.jpg\"\\n          width=\"90\">\\n      </a>\\n    </div>\\n    <div class=\"info\">\\n      <h2 class=\"\">\\n        \\n  \\n  <a href=\"https://book.douban.com/subject/36315053/\" title=\"启蒙运动：从伏尔泰到康德\" \\n  onclick=\"moreurl(this,{i:\\'19\\',query:\\'\\',subject_id:\\'36315053\\',from:\\'book_subject_search\\'})\">\\n\\n    启蒙运动：从伏尔泰到康德\\n\\n\\n    \\n      <span style=\"font-size:12px;\"> : 科普勒斯顿哲学史（第6卷） </span>\\n\\n  </a>\\n\\n      </h2>\\n      <div class=\"pub\">\\n        \\n  \\n  弗雷德里克·科普勒斯顿 / 陆炎 / 九州出版社 / 2023-5 / 82.00元\\n\\n      </div>\\n\\n\\n        \\n  \\n  \\n  \\n  <div class=\"star clearfix\">\\n\\n    <span class=\"pl\">\\n        (少于10人评价)\\n    </span>\\n  </div>\\n\\n\\n\\n        \\n  \\n  \\n  \\n    <p>★ 编辑推荐\\n◎ 广阔的思想史视野\\n本书以其详尽的内容在哲学史界占据无可比拟的重要地位，力图破除哲学简史类书籍对哲学家、哲学思想漫画式的理解，不仅细致地描述... </p>\\n\\n\\n\\n\\n\\n\\n      <div class=\"ft\">\\n          \\n  <div class=\"collect-info\">\\n  </div>\\n\\n\\n          <div class=\"cart-actions\">\\n            \\n                \\n  \\n\\n    <span class=\"buy-info\">\\n      <a href=\"https://book.douban.com/subject/36315053/buylinks\">\\n        纸质版 82.00元\\n      </a>\\n    </span>\\n\\n          </div>\\n\\n            \\n            \\n  \\n\\n      </div>\\n\\n    </div>\\n  </li>\\n  \\n\\n  </ul>\\n\\n\\n      \\n    \\n    \\n    \\n        <div class=\"paginator\">\\n        <span class=\"prev\">\\n            &lt;前页\\n        </span>\\n        \\n        \\n\\n                <span class=\"thispage\">1</span>\\n                \\n            <a href=\"/tag/哲学?start=20&amp;type=T\" >2</a>\\n        \\n                \\n            <a href=\"/tag/哲学?start=40&amp;type=T\" >3</a>\\n        \\n                \\n            <a href=\"/tag/哲学?start=60&amp;type=T\" >4</a>\\n        \\n                \\n            <a href=\"/tag/哲学?start=80&amp;type=T\" >5</a>\\n        \\n                \\n            <a href=\"/tag/哲学?start=100&amp;type=T\" >6</a>\\n        \\n                \\n            <a href=\"/tag/哲学?start=120&amp;type=T\" >7</a>\\n        \\n                \\n            <a href=\"/tag/哲学?start=140&amp;type=T\" >8</a>\\n        \\n                \\n            <a href=\"/tag/哲学?start=160&amp;type=T\" >9</a>\\n        \\n            <span class=\"break\">...</span>\\n                \\n            <a href=\"/tag/哲学?start=5980&amp;type=T\" >300</a>\\n        \\n            <a href=\"/tag/哲学?start=6000&amp;type=T\" >301</a>\\n        \\n        <span class=\"next\">\\n            <link rel=\"next\" href=\"/tag/哲学?start=20&amp;type=T\"/>\\n            <a href=\"/tag/哲学?start=20&amp;type=T\" >后页&gt;</a>\\n        </span>\\n\\n        </div>\\n\\n\\n  </div>\\n</div>\\n      <div class=\"aside\">\\n        \\n  <br/>\\n  <div id=\"dale_book_tag_top_right\"></div>\\n\\n    \\n  \\n\\n  <h2>\\n    <span>相关的标签</span>\\n      &nbsp;&middot;&nbsp;&middot;&nbsp;&middot;&nbsp;&middot;&nbsp;&middot;&nbsp;&middot;\\n\\n  </h2>\\n\\n\\n    \\n  <div class=\"tags-list\">\\n      <a href=\"/tag/(English)\">(English)</a>\\n      <a href=\"/tag/西方哲学\">西方哲学</a>\\n      <a href=\"/tag/尼采\">尼采</a>\\n      <a href=\"/tag/哲学史\">哲学史</a>\\n      <a href=\"/tag/马克思主义哲学\">马克思主义哲学</a>\\n      <a href=\"/tag/康德\">康德</a>\\n      <a href=\"/tag/柏拉图\">柏拉图</a>\\n      <a href=\"/tag/科学哲学\">科学哲学</a>\\n  </div>\\n\\n\\n  \\n  <form name=\"tsp_form\" action=\"/tag/\" method=\"GET\">\\n    <input name=\"search_text\" class=\"j a_search_text\" type=\"text\" size=\"24\" maxlength=\"36\" title=\"去其他标签\" value=\"\"/>\\n    <input class=\"butt\" type=\"submit\" value=\"进入\"/>\\n  </form>\\n  <br/>\\n  <br/>\\n\\n\\n  <p class=\"pl2 mb30\">\\n    &gt; <a href=\"/tag/\">浏览全部图书标签</a>\\n  </p>\\n\\n\\n    <br/>\\n    <br/>\\n    \\n<div class=\"block5 movie_show\">\\n    <h2>最近受关注的书-哲学</h2>\\n    <div class=\"content clearfix\" id=\"book_rec\">\\n            <dl>\\n                <dt><a onclick=\"moreurl(this, {\\'r1001\\':\\'book-tag-top\\'})\" \\n                href=\"https://book.douban.com/subject/1017143/\"><img src=\"https://img1.doubanio.com/view/subject/s/public/s1091698.jpg\" \\n                class=\"m_sub_img\" /></a></dt>\\n                <dd><a onclick=\"moreurl(this, {\\'r1001\\':\\'book-tag-top\\'})\"\\n                href=\"https://book.douban.com/subject/1017143/\">不能承受的生命之轻</a>\\n                </dd>\\n            </dl>\\n            <dl>\\n                <dt><a onclick=\"moreurl(this, {\\'r1001\\':\\'book-tag-top\\'})\" \\n                href=\"https://book.douban.com/subject/36448198/\"><img src=\"https://img9.doubanio.com/view/subject/s/public/s34563835.jpg\" \\n                class=\"m_sub_img\" /></a></dt>\\n                <dd><a onclick=\"moreurl(this, {\\'r1001\\':\\'book-tag-top\\'})\"\\n                href=\"https://book.douban.com/subject/36448198/\">苦厄的终结</a>\\n                </dd>\\n            </dl>\\n            <dl>\\n                <dt><a onclick=\"moreurl(this, {\\'r1001\\':\\'book-tag-top\\'})\" \\n                href=\"https://book.douban.com/subject/36222050/\"><img src=\"https://img1.doubanio.com/view/subject/s/public/s34567178.jpg\" \\n                class=\"m_sub_img\" /></a></dt>\\n                <dd><a onclick=\"moreurl(this, {\\'r1001\\':\\'book-tag-top\\'})\"\\n                href=\"https://book.douban.com/subject/36222050/\">本雅明电台</a>\\n                </dd>\\n            </dl>\\n            <div class=\"clearfix rr\" style=\"width:100%\"></div>\\n            <dl>\\n                <dt><a onclick=\"moreurl(this, {\\'r1001\\':\\'book-tag-top\\'})\" \\n                href=\"https://book.douban.com/subject/36417919/\"><img src=\"https://img9.doubanio.com/view/subject/s/public/s34581256.jpg\" \\n                class=\"m_sub_img\" /></a></dt>\\n                <dd><a onclick=\"moreurl(this, {\\'r1001\\':\\'book-tag-top\\'})\"\\n                href=\"https://book.douban.com/subject/36417919/\">批判的限度</a>\\n                </dd>\\n            </dl>\\n            <dl>\\n                <dt><a onclick=\"moreurl(this, {\\'r1001\\':\\'book-tag-top\\'})\" \\n                href=\"https://book.douban.com/subject/36392187/\"><img src=\"https://img9.doubanio.com/view/subject/s/public/s34579844.jpg\" \\n                class=\"m_sub_img\" /></a></dt>\\n                <dd><a onclick=\"moreurl(this, {\\'r1001\\':\\'book-tag-top\\'})\"\\n                href=\"https://book.douban.com/subject/36392187/\">真实与虚拟</a>\\n                </dd>\\n            </dl>\\n            <dl>\\n                <dt><a onclick=\"moreurl(this, {\\'r1001\\':\\'book-tag-top\\'})\" \\n                href=\"https://book.douban.com/subject/36346607/\"><img src=\"https://img9.doubanio.com/view/subject/s/public/s34567236.jpg\" \\n                class=\"m_sub_img\" /></a></dt>\\n                <dd><a onclick=\"moreurl(this, {\\'r1001\\':\\'book-tag-top\\'})\"\\n                href=\"https://book.douban.com/subject/36346607/\">理解和改变世界</a>\\n                </dd>\\n            </dl>\\n            <div class=\"clearfix rr\" style=\"width:100%\"></div>\\n    </div>\\n</div>\\n\\n\\n\\n  \\n\\n\\n\\n\\n    \\n<script type=\"text/javascript\">\\n    (function (global) {\\n        var newNode = global.document.createElement(\\'script\\'),\\n            existingNode = global.document.getElementsByTagName(\\'script\\')[0],\\n            adSource = \\'//erebor.douban.com/\\',\\n            userId = \\'\\',\\n            browserId = \\'1DFru6u2sW8\\',\\n            criteria = \\'3:/tag/哲学?start=0&amp;type=T\\',\\n            preview = \\'\\',\\n            debug = false,\\n            adSlots = [\\'dale_book_tag_top_right\\'];\\n\\n        global.DoubanAdRequest = {src: adSource, uid: userId, bid: browserId, crtr: criteria, prv: preview, debug: debug};\\n        global.DoubanAdSlots = (global.DoubanAdSlots || []).concat(adSlots);\\n\\n        newNode.setAttribute(\\'type\\', \\'text/javascript\\');\\n        newNode.setAttribute(\\'src\\', \\'//img1.doubanio.com/cGN4emphbC9mL2FkanMvYzMxYzA2OTAyN2E3NDg1NjI5OTE0Yzc0YTIzZDM2MGIyMzA1MmE4Yi9hZC5yZWxlYXNlLmpz\\');\\n        newNode.setAttribute(\\'async\\', true);\\n        existingNode.parentNode.insertBefore(newNode, existingNode);\\n    })(this);\\n</script>\\n\\n\\n\\n\\n\\n\\n\\n\\n\\n\\n\\n      </div>\\n      <div class=\"extra\">\\n        \\n      </div>\\n    </div>\\n  </div>\\n\\n        \\n  <div id=\"footer\">\\n    \\n<span id=\"icp\" class=\"fleft gray-link\">\\n    &copy; 2005－2023 douban.com, all rights reserved 北京豆网科技有限公司\\n</span>\\n\\n<a href=\"https://www.douban.com/hnypt/variformcyst.py\" style=\"display: none;\"></a>\\n\\n<span class=\"fright\">\\n    <a href=\"https://www.douban.com/about\">关于豆瓣</a>\\n    · <a href=\"https://www.douban.com/jobs\">在豆瓣工作</a>\\n    · <a href=\"https://www.douban.com/about?topic=contactus\">联系我们</a>\\n    · <a href=\"https://www.douban.com/about/legal\">法律声明</a>\\n    \\n    · <a href=\"https://help.douban.com/?app=book\" target=\"_blank\">帮助中心</a>\\n    · <a href=\"https://book.douban.com/library_invitation\">图书馆合作</a>\\n    · <a href=\"https://www.douban.com/doubanapp/\">移动应用</a>\\n    · <a href=\"https://www.douban.com/partner/\">豆瓣广告</a>\\n</span>\\n\\n  </div>\\n\\n    </div>\\n      \\n\\n    <!-- COLLECTED JS -->\\n    <!-- mako -->\\n    \\n  <script>\\n    $(function () {\\n      function update_tags(current) {\\n        html = $.map(current, function(o) {return \\'<span class=\"tags-name\">\\' + o + \\'</span><sup class=\"tags-del\"></sup> \\'}).join(\\'<span class=\"tags-add\">+</span>\\');\\n        $(\\'h1\\').html(\\'<span class=\"name\">电影标签：</span>\\' + html);\\n      };\\n\\n      function get_current_tags() {\\n        var r = [];\\n        $(\\'.tags-name\\').each(function() {r.push($(this).text())});\\n        return r;\\n      };\\n\\n      function get_current_sort_type() {\\n        url = location.href;\\n        array = url.split(\"?\")\\n        if (array.length == 1) {\\n          return \"\";\\n        }\\n        query = array[1];\\n        arr = query.split(\"&\");\\n        for (var i = 0; i < arr.length; i++) {\\n          arr2 = arr[i].split(\\'=\\');\\n          if (arr2[0] == \"type\") {\\n            if (arr2.length == 1) {\\n              return \"\";\\n            }\\n            return arr2[1];\\n          }\\n        }\\n        return \"\";\\n      };\\n\\n      function update_subject_list(current, sort_type) {\\n        $(\\'#subject_list\\').html(\\'<span class=\"pl\">载入中，请稍候...</span>\\');\\n        $(\\'#subject_list\\').load_withck(\\'/j/tag/j_subject_list\\', {tags:current.join(\\' \\'), type:sort_type}, function() {});\\n      };\\n\\n      function update_related_tags_and_subject(current, sort_type) {\\n        update_related_tags(current, sort_type);\\n        // update_subject_list(current, sort_type);\\n      };\\n\\n      function update_related_tags(current, sort_type) {\\n        $(\\'#related_tags\\').load_withck(\\'/j/tag/j_related_tag\\', {tags:current.join(\\' \\'), type:sort_type}, function() {\\n          $(\\'.more\\').toggle(\\n            function () {\\n              $(\\'.tags-hide\\').css(\\'display\\', \\'inline\\');\\n              $(this).text(\\'收起▲\\');\\n            },\\n            function () {\\n              $(\\'.tags-hide\\').hide();\\n              $(this).text(\\'更多▼\\');\\n            }\\n          );\\n          $(\\'.tags-del\\').click(function () {\\n            if($(this).prev().prev().text() == \\'+\\') {\\n              $(this).prev().prev().remove();\\n            } else if ($(this).next().text() == \\'+\\') {\\n              $(this).next().remove();\\n            }\\n            $(this).prev().remove().end().remove();\\n            current = get_current_tags();\\n            if (current.length == 0){\\n              document.location.href = \\'/tag/\\';\\n            } else {\\n              //setHash(current.join(\\' \\'));\\n              //location.href = \\'/tag/\\' + (location.href).split(\\'#\\')[1] + \\'?type=\\' + sort_type;\\n              sort_type = get_current_sort_type();\\n              location.href = \\'/tag/\\' + current.join(\\' \\') + \\'?type=\\' + sort_type;\\n            }\\n          });\\n          $(\\'.add-tag\\').click(function () {\\n            current = get_current_tags();\\n            current.push($(this).text());\\n            update_tags(current);\\n            //setHash(current.join(\\' \\'));\\n            //location.href = \\'/tag/\\' + (location.href).split(\\'#\\')[1] + \\'?type=\\' + sort_type;\\n            sort_type = get_current_sort_type();\\n            location.href = \\'/tag/\\' + current.join(\\' \\') + \\'?type=\\' + sort_type;\\n          });\\n          $(\\'.tagsInput\\').keypress(function (e) {\\n            if (e.which == 13) {\\n              current = get_current_tags();\\n              current.push($(this).val());\\n              update_tags(current);\\n              sort_type = get_current_sort_type();\\n              //setHash(current.join(\\' \\'));\\n              //location.href = \\'/tag/\\' + (location.href).split(\\'#\\')[1] + \\'?type=\\' + sort_type;\\n              location.href = \\'/tag/\\' + current.join(\\' \\') + \\'?type=\\' + sort_type;\\n            }\\n          });\\n          checkInput($(\\'.tagsInput\\'));\\n        });\\n      };\\n\\n      current = get_current_tags();\\n      sort_type = get_current_sort_type();\\n      update_related_tags_and_subject(current, sort_type);\\n\\n      function checkInput (o) {\\n        if (!o.val() || o.val() == o.attr(\\'title\\')) {\\n          o.addClass(\\'greyinput\\');\\n          o.val(o.attr(\\'title\\'));\\n        }\\n        o.focus(function(){\\n          o.removeClass(\\'greyinput\\');\\n          if(o.val() == o.attr(\\'title\\')) o.val(\\'\\');\\n        });\\n        o.blur(function(){\\n          if(!o.val()){\\n            o.addClass(\\'greyinput\\');\\n            o.val(o.attr(\\'title\\'));\\n          }\\n        });\\n      }\\n\\n      if($.browser.msie && $.browser.version == 6.0) {\\n        $(\\'.tags-del\\').hover(\\n          function () { $(this).addClass(\\'tags-hover\\'); },\\n          function () { $(this).removeClass(\\'tags-hover\\'); }\\n        );\\n      }\\n      if (location.href.split(\\'#\\').length > 1) {\\n        //changeUrl ();\\n      }\\n\\n  });\\n\\n  function setHash (a) {\\n    $.browser.msie?$.locationHash(a):location.hash = a;\\n  }\\n  </script>\\n\\n    \\n  \\n\\n<script type=\"text/javascript\">\\n  var _paq = _paq || [];\\n  _paq.push([\\'trackPageView\\']);\\n  _paq.push([\\'enableLinkTracking\\']);\\n  (function() {\\n    var p=((\\'https:\\' == document.location.protocol) ? \\'https\\' : \\'http\\'), u=p+\\'://fundin.douban.com/\\';\\n    _paq.push([\\'setTrackerUrl\\', u+\\'piwik\\']);\\n    _paq.push([\\'setSiteId\\', \\'100001\\']);\\n    var d=document, g=d.createElement(\\'script\\'), s=d.getElementsByTagName(\\'script\\')[0]; \\n    g.type=\\'text/javascript\\';\\n    g.defer=true; \\n    g.async=true; \\n    g.src=p+\\'://s.doubanio.com/dae/fundin/piwik.js\\';\\n    s.parentNode.insertBefore(g,s);\\n  })();\\n</script>\\n\\n<script type=\"text/javascript\">\\nvar setMethodWithNs = function(namespace) {\\n  var ns = namespace ? namespace + \\'.\\' : \\'\\'\\n    , fn = function(string) {\\n        if(!ns) {return string}\\n        return ns + string\\n      }\\n  return fn\\n}\\n\\nvar gaWithNamespace = function(fn, namespace) {\\n  var method = setMethodWithNs(namespace)\\n  fn.call(this, method)\\n}\\n\\nvar _gaq = _gaq || []\\n  , accounts = [\\n      { id: \\'UA-7019765-1\\', namespace: \\'douban\\' }\\n    , { id: \\'UA-7019765-16\\', namespace: \\'\\' }\\n    ]\\n  , gaInit = function(account) {\\n      gaWithNamespace(function(method) {\\n        gaInitFn.call(this, method, account)\\n      }, account.namespace)\\n    }\\n  , gaInitFn = function(method, account) {\\n      _gaq.push([method(\\'_setAccount\\'), account.id])\\n\\n      \\n  _gaq.push([method(\\'_addOrganic\\'), \\'google\\', \\'q\\'])\\n  _gaq.push([method(\\'_addOrganic\\'), \\'baidu\\', \\'wd\\'])\\n  _gaq.push([method(\\'_addOrganic\\'), \\'soso\\', \\'w\\'])\\n  _gaq.push([method(\\'_addOrganic\\'), \\'youdao\\', \\'q\\'])\\n  _gaq.push([method(\\'_addOrganic\\'), \\'so.360.cn\\', \\'q\\'])\\n  _gaq.push([method(\\'_addOrganic\\'), \\'sogou\\', \\'query\\'])\\n  if (account.namespace) {\\n    _gaq.push([method(\\'_addIgnoredOrganic\\'), \\'豆瓣\\'])\\n    _gaq.push([method(\\'_addIgnoredOrganic\\'), \\'douban\\'])\\n    _gaq.push([method(\\'_addIgnoredOrganic\\'), \\'豆瓣网\\'])\\n    _gaq.push([method(\\'_addIgnoredOrganic\\'), \\'www.douban.com\\'])\\n  }\\n\\n      if (account.namespace === \\'douban\\') {\\n        _gaq.push([method(\\'_setDomainName\\'), \\'.douban.com\\'])\\n      }\\n\\n        _gaq.push([method(\\'_setCustomVar\\'), 1, \\'responsive_view_mode\\', \\'desktop\\', 3])\\n\\n        _gaq.push([method(\\'_setCustomVar\\'), 2, \\'login_status\\', \\'0\\', 2]);\\n\\n      _gaq.push([method(\\'_trackPageview\\')])\\n    }\\n\\nfor(var i = 0, l = accounts.length; i < l; i++) {\\n  var account = accounts[i]\\n  gaInit(account)\\n}\\n\\n\\n;(function() {\\n    var ga = document.createElement(\\'script\\');\\n    ga.src = (\\'https:\\' == document.location.protocol ? \\'https://ssl\\' : \\'http://www\\') + \\'.google-analytics.com/ga.js\\';\\n    ga.setAttribute(\\'async\\', \\'true\\');\\n    document.documentElement.firstChild.appendChild(ga);\\n})()\\n</script>\\n\\n\\n\\n\\n\\n\\n\\n\\n    <!-- dae-web-book--default-5f744b49f4-5j27n-->\\n\\n</body>\\n</html>\\n\\n\\n\\n\\n\\n\\n\\n\\n\\n\\n\\n\\n\\n\\n\\n\\n\\n\\n\\n\\n\\n\\n\\n\\n\\n\\n\\n\\n\\n\\n\\n\\n\\n\\n\\n\\n'"
      ]
     },
     "execution_count": 50,
     "metadata": {},
     "output_type": "execute_result"
    }
   ],
   "source": [
    "html"
   ]
  },
  {
   "cell_type": "code",
   "execution_count": 53,
   "id": "beda3060",
   "metadata": {
    "ExecuteTime": {
     "end_time": "2023-08-08T16:52:41.828390Z",
     "start_time": "2023-08-08T16:52:41.782914Z"
    }
   },
   "outputs": [
    {
     "name": "stdout",
     "output_type": "stream",
     "text": [
      "[{'book_name': '悉达多 : 一首印度的诗', 'authors': '[德] 赫尔曼·黑塞  姜乙 ', 'publisher': '天津人民出版社', 'pub_time': ' 2017-1 ', 'desc': '《悉达多》并非是佛陀的故事，它讲述了一个人的一生，千万寻常人亦会经历的一生。 意气风发的少年郎，常认为自己是被命运选中的人。抛下过去，随了跌跌撞撞的步伐，找...', 'score': '9.3', 'people_num': '77014', 'price': ' 32.00元', 'img': 'https://img1.doubanio.com/view/subject/s/public/s29396368.jpg'}, {'book_name': '敏感与自我', 'authors': '[德]斯文娅·弗拉斯珀勒  许一诺、包向飞 ', 'publisher': '上海三联书店', 'pub_time': ' 2023-4 ', 'desc': '我们比以往任何时候都更忙于调整合理的限度。可以说的边界在哪里？什么时候触摸变得让人厌恶？本书作者后退一步，揭示了冲突的核心：自我和社会的日益敏感化。 聚焦敏...', 'score': '8.7', 'people_num': '269', 'price': ' 49元', 'img': 'https://img9.doubanio.com/view/subject/s/public/s34506625.jpg'}, {'book_name': '真实与虚拟 : 后真相时代的哲学', 'authors': '金观涛 ', 'publisher': '中信出版社', 'pub_time': ' 2023-7 ', 'desc': '这是一个后真相时代，我们对于何为真实的判断暧昧晦暗。现代社会庞大的信息数据网络，除了如同迷魂阵令人难辨真假，也如同牢笼将我们封锁其中。回顾来路，20世纪的变...', 'score': '8.8', 'people_num': '51', 'price': ' 98元', 'img': 'https://img9.doubanio.com/view/subject/s/public/s34579844.jpg'}, {'book_name': '刘擎西方现代思想讲义', 'authors': '刘擎 ', 'publisher': '新星出版社', 'pub_time': ' 2021-1 ', 'desc': '人生的意义，人们向往的自由和公平的价值，人类文明的复杂冲突与未来趋势……这些让你困惑的大小问题，过去也困扰过韦伯、尼采、萨特等杰出的头脑。他们尽最大努力做出...', 'score': '9.2', 'people_num': '31497', 'price': ' 79.00元', 'img': 'https://img2.doubanio.com/view/subject/s/public/s33802981.jpg'}, {'book_name': '维特根斯坦十讲', 'authors': '楼巍 ', 'publisher': '上海文艺出版社', 'pub_time': ' 2023-5-1 ', 'desc': '一本书让你理解维特根斯坦 浙江大学教授楼巍10堂哲学课 名校教授联合推荐：陈嘉映、江怡、黄敏、刘畅、代海强 裸脊锁线装订、印银、可180度摊开，颜值天花板设...', 'score': '8.9', 'people_num': '53', 'price': ' 68.00', 'img': 'https://img1.doubanio.com/view/subject/s/public/s34516877.jpg'}, {'book_name': '大问题 : 简明哲学导论', 'authors': '[美] 罗伯特·所罗门、凯思林•希金斯  张卜天 ', 'publisher': '广西师范大学出版社', 'pub_time': ' 2014-12 ', 'desc': '本书的目的就是引导读者进入真正思考的大门。罗伯特•所罗门教授尤以擅长授课和写作清晰晓畅著称，他不像一般哲学导论著作那样按照事件发生的顺序罗列哲学史上的一些观...', 'score': '9.3', 'people_num': '8062', 'price': ' 65.00', 'img': 'https://img1.doubanio.com/view/subject/s/public/s29144990.jpg'}, {'book_name': '理想国', 'authors': '[古希腊] 柏拉图  郭斌和、张竹明 ', 'publisher': '商务印书馆', 'pub_time': ' 1986-8 ', 'desc': '《理想国》涉及柏拉图思想体系的各个方面，包括哲学、伦理、教育、文艺、政治等内容，主要是探讨理想国家的问题。 《理想国》一书是柏拉图的一篇重要对话录，对话录里...', 'score': '8.8', 'people_num': '35217', 'price': ' 28.00元', 'img': 'https://img1.doubanio.com/view/subject/s/public/s34157889.jpg'}, {'book_name': '西方哲学史（第9版）', 'authors': '(美) 撒穆尔·伊诺克·斯通普夫、(美) 詹姆斯·菲泽  邓晓芒、匡宏、等 ', 'publisher': '北京联合出版公司', 'pub_time': ' 2019-8 ', 'desc': '畅销五十余载而不衰，备受好评的西哲史教材全新再版 通俗易懂的历史梳理，从古典文籍到当代前沿一应俱全 ◎ 编辑推荐 ☆自1966年初版至今最新修订版 ☆西方哲...', 'score': '9.2', 'people_num': '2718', 'price': ' 99.80元', 'img': 'https://img1.doubanio.com/view/subject/s/public/s33438650.jpg'}, {'book_name': '大问题 : 简明哲学导论', 'authors': '[美] 罗伯特·所罗门、[美] 凯思林·希金斯  张卜天 ', 'publisher': '清华大学出版社', 'pub_time': ' 2018-7 ', 'desc': '本书的目的就是引导读者进入真正思考的大门。罗伯特·所罗门教授尤以擅长授课和写作清晰流畅著称，他不像一般哲学导论著作那样按照事件发生的顺序罗列哲学史上的一些观...', 'score': '9.3', 'people_num': '2645', 'price': ' 98.00元', 'img': 'https://img9.doubanio.com/view/subject/s/public/s33923794.jpg'}, {'book_name': '被讨厌的勇气', 'authors': '(日) 岸见一郎，古贺史健  渠海霞 ', 'publisher': '机械工业出版社', 'pub_time': ' 2021-1 ', 'desc': '本书用“青年与哲人的对话”这一故事形式总结了与弗洛伊德、荣格并称为“心理学三大巨头”的阿尔弗雷德·阿德勒的思想(阿德勒心理学)。 风靡欧美的阿德勒心理学对于...', 'score': '8.4', 'people_num': '11712', 'price': ' 55', 'img': 'https://img9.doubanio.com/view/subject/s/public/s34348664.jpg'}, {'book_name': '现象学入门', 'authors': '[丹麦]丹·扎哈维  康维阳 ', 'publisher': '商务印书馆', 'pub_time': ' 2023-5 ', 'desc': '⭐️目前已经有德文、英文、日文等6译本⭐️ ⭐️本书依据的英文版豆瓣评分9.6分⭐️ 本书是丹·扎哈维对20世纪主导性哲学运动之一的现象学简明而有吸引力的介...', 'score': '9.9', 'people_num': '101', 'price': ' 58.00元', 'img': 'https://img2.doubanio.com/view/subject/s/public/s34507612.jpg'}, {'book_name': '苏菲的世界', 'authors': '[挪威] 乔斯坦·贾德  萧宝森 ', 'publisher': '作家出版社', 'pub_time': ' 2017-8 ', 'desc': '《苏菲的世界》 这是一本风靡世界的哲学启蒙书。 14岁的少女苏菲不断接到一些极不寻常的来信，世界像谜团一般在她眼底展开，她在一位神秘导师的指引下，苏菲开始思...', 'score': '9.0', 'people_num': '10067', 'price': ' 38.00元', 'img': 'https://img9.doubanio.com/view/subject/s/public/s29580784.jpg'}, {'book_name': '哲学的历程 : 西方哲学历史导论(第四版)', 'authors': '[美]威廉·F. 劳黑德  郭立东、丁三东 ', 'publisher': '中国轻工业出版社', 'pub_time': ' 2017-3-1 ', 'desc': '哲学史不是一座布满灰尘的博物馆，它的呈现远比我们认为的更加富于生气。好的哲学史书也不是包含密集而扼要事实信息的百科全书，而是一场对话与发现之旅。 本书产生于...', 'score': '9.6', 'people_num': '525', 'price': ' 73.5', 'img': 'https://img1.doubanio.com/view/subject/s/public/s33750290.jpg'}, {'book_name': '倦怠社会', 'authors': '[德] 韩炳哲  王一力 ', 'publisher': '中信出版集团', 'pub_time': ' 2019-6-1 ', 'desc': '否定性的社会已经消失，取而代之的是充溢着积极性的社会。 从这一范式转移出发，韩炳哲展示了当今社会的病理形态，其中包括忧郁症、注意力缺乏症、过劳症等精神疾病。...', 'score': '7.8', 'people_num': '11219', 'price': ' 35.00元', 'img': 'https://img2.doubanio.com/view/subject/s/public/s33300502.jpg'}, {'book_name': '虚无主义', 'authors': '[荷兰]诺伦·格尔茨（Nolen Gertz）  张红军 ', 'publisher': '商务印书馆', 'pub_time': ' 2022-10 ', 'desc': '先要直面虚无， 才能找到意义——一本写给当代人的反“空虚”指南！ 《哈利·波特》《权力的游戏》《真探》……当代流行作品中，隐藏着怎样的逃避本质？ 算法、社交...', 'score': '8.9', 'people_num': '679', 'price': ' 60', 'img': 'https://img1.doubanio.com/view/subject/s/public/s34321177.jpg'}, {'book_name': '古代中世纪哲学十五讲', 'authors': '吴天岳 ', 'publisher': '北京大学出版社', 'pub_time': ' 2023-3 ', 'desc': '本书以吴天岳教授在北大讲授多年的西方哲学课程为基础，分十五讲展示了从前苏格拉底到中世纪盛期2000年间西方哲学发展的整体面貌。上册八讲，梳理了从古希腊哲学开...', 'score': '9.9', 'people_num': '50', 'price': ' 268.00', 'img': 'https://img1.doubanio.com/view/subject/s/public/s34462367.jpg'}, {'book_name': '存在主义是一种人道主义', 'authors': '(法)让-保罗·萨特  周煦良、汤永宽 ', 'publisher': '上海译文出版社', 'pub_time': ' 2012-6-1 ', 'desc': '存在主义是现代西方哲学中影响极大、流行极广、风行一时的哲学流派。其主要代表人物就是法国哲学家萨特。本书由两篇构成：《存在主义是一种人道主义》和《今天的希望：...', 'score': '8.5', 'people_num': '11086', 'price': ' 23.00元', 'img': 'https://img1.doubanio.com/view/subject/s/public/s34186558.jpg'}, {'book_name': '在绝望之巅', 'authors': '[法国] E·M·齐奥朗  唐江 ', 'publisher': '北京联合出版公司', 'pub_time': ' 2022-6 ', 'desc': '◎“二十世纪的尼采”、现代欧洲最伟大的哲学家之一 ◎E.M.齐奥朗初试啼声之作 中文简体版首次译介 ★ 在绝望之巅挣扎，燃起超脱生死的激情 将眼泪变成思想，...', 'score': '8.3', 'people_num': '5452', 'price': ' 49.80', 'img': 'https://img1.doubanio.com/view/subject/s/public/s34219967.jpg'}, {'book_name': '人生的智慧', 'authors': '(德)叔本华  韦启昌 ', 'publisher': '上海人民出版社', 'pub_time': ' 2008-10-01 ', 'desc': '他于1850年写了《附录和补遗》一书，《人生的智慧》是该书中的一部分。在书中，他以优雅的文体，格言式的笔触阐述了自己对人生的看法。《人生的智慧》使沉寂多年的...', 'score': '9.2', 'people_num': '31031', 'price': ' 28.00元', 'img': 'https://img9.doubanio.com/view/subject/s/public/s4619775.jpg'}, {'book_name': '启蒙运动：从伏尔泰到康德 : 科普勒斯顿哲学史（第6卷）', 'authors': '弗雷德里克·科普勒斯顿  陆炎 ', 'publisher': '九州出版社', 'pub_time': ' 2023-5 ', 'desc': '★ 编辑推荐 ◎ 广阔的思想史视野 本书以其详尽的内容在哲学史界占据无可比拟的重要地位，力图破除哲学简史类书籍对哲学家、哲学思想漫画式的理解，不仅细致地描述...', 'score': '', 'people_num': '10', 'price': ' 82.00元', 'img': 'https://img1.doubanio.com/view/subject/s/public/s34529620.jpg'}]\n",
      "书籍数量为： 20\n"
     ]
    }
   ],
   "source": [
    "# 调用函数extract_bookinfo_list(html)\n",
    "bookinfo_list = extract_bookinfo_list(html)\n",
    "print(bookinfo_list)\n",
    "print('书籍数量为：', len(bookinfo_list))"
   ]
  },
  {
   "cell_type": "markdown",
   "id": "84e4e3ce",
   "metadata": {},
   "source": [
    "# 存储数据"
   ]
  },
  {
   "cell_type": "code",
   "execution_count": 29,
   "id": "40bbcd27",
   "metadata": {
    "ExecuteTime": {
     "end_time": "2023-08-08T16:52:42.734046Z",
     "start_time": "2023-08-08T16:52:42.727339Z"
    }
   },
   "outputs": [],
   "source": [
    "import csv     # 导入csv包\n",
    "\n",
    "# 打开文件\n",
    "file = open('./data/books_250.csv', 'a+', encoding='utf-8', newline='') # 文件名为books_philosophy.csv，模式为a+，如果已有文件，在末尾追加，如果没，则生成新文件；编码为utf-8，需要区分换行符\n",
    "fieldnames = ['book_name', 'authors', 'publisher', 'pub_time', 'desc', 'score', 'people_num', 'price', 'img']  # 设置标题行fieldnames\n",
    "writer = csv.DictWriter(file, fieldnames=fieldnames)    # 要求以字典的形式写入数据，fieldnames注明字典中键的名称，也就是书名、作者这些标题名\n",
    "writer.writeheader()  # 将fieldnames设置的标题key写入首行\n",
    "\n",
    "# 循环写入字典列表：因为有很多本书，需要一行行写入\n",
    "for bookinfo in bookinfo_list:\n",
    "    writer.writerow(bookinfo)  # 写入一行书籍信息\n",
    "    \n",
    "file.close() # 关闭文件"
   ]
  },
  {
   "cell_type": "markdown",
   "id": "10109014",
   "metadata": {},
   "source": [
    "# 批量爬取"
   ]
  },
  {
   "cell_type": "markdown",
   "id": "a901cf92",
   "metadata": {},
   "source": [
    "刚才我们做了几项工作：\n",
    "1. 生成网址————发现网址规律，获得所有网址url_list\n",
    "2. 请求+获取网页数据————获得html网页源代码字符串（**单个网址**）\n",
    "3. 解析数据————从html中获得书籍的各字段信息，存储为字典列表（**单个网址**）\n",
    "4. 存储数据（**单个网址**）\n",
    "<br>\n",
    "<br>\n",
    "<br>\n",
    "<b><mark>下面对所有网址url_list循环步骤2-4</mark><b>"
   ]
  },
  {
   "cell_type": "markdown",
   "id": "a9fb1617",
   "metadata": {},
   "source": [
    "|**步骤**|任务|函数|输入参数|返回值|\n",
    "|:----:|:-----|:-----|:-----|:-----|\n",
    "|1|生成网址|generate_url_list()|--|url_list网址列表|\n",
    "|**<mark>2</mark>**|**<mark>请求+获取网页数据</mark>**|get_html(url)|单个网址|html网页源代码的字符串|\n",
    "|**<mark>3</mark>**|**<mark>解析数据</mark>**|extract_bookinfo_list(html)|（单个网址）html网页源代码的字符串|bookinfo_list书籍的字典列表|\n",
    "|**<mark>4</mark>**|**<mark>存储数据</mark>**|--|--|--|\n",
    "|5|批量爬取|--|--|--|"
   ]
  },
  {
   "cell_type": "markdown",
   "id": "41e156a0",
   "metadata": {},
   "source": [
    "    为方便讲解，此处爬取5页作为例子（range中数字改为6）"
   ]
  },
  {
   "cell_type": "code",
   "execution_count": 25,
   "id": "4b22f83a",
   "metadata": {
    "ExecuteTime": {
     "end_time": "2023-08-08T16:52:44.747190Z",
     "start_time": "2023-08-08T16:52:44.739198Z"
    }
   },
   "outputs": [
    {
     "data": {
      "text/plain": [
       "['https://book.douban.com/tag/哲学?start=0&type=T',\n",
       " 'https://book.douban.com/tag/哲学?start=20&type=T',\n",
       " 'https://book.douban.com/tag/哲学?start=40&type=T',\n",
       " 'https://book.douban.com/tag/哲学?start=60&type=T',\n",
       " 'https://book.douban.com/tag/哲学?start=80&type=T']"
      ]
     },
     "execution_count": 25,
     "metadata": {},
     "output_type": "execute_result"
    }
   ],
   "source": [
    "# 生成5页的网址url_list\n",
    "url_list = []\n",
    "template = 'https://book.douban.com/tag/哲学?start={num}&type=T'\n",
    "for p in range(1,6):   # range取1到5\n",
    "    url = template.format(num=(p-1)*20)\n",
    "    url_list.append(url)\n",
    "url_list"
   ]
  },
  {
   "cell_type": "code",
   "execution_count": 30,
   "id": "b3fcbcaa",
   "metadata": {
    "ExecuteTime": {
     "end_time": "2023-08-08T16:52:50.626972Z",
     "start_time": "2023-08-08T16:52:45.215501Z"
    }
   },
   "outputs": [],
   "source": [
    "# 打开文件\n",
    "file = open('./data/books_philosophy.csv', 'a+', encoding='utf-8', newline='') \n",
    "fieldnames = ['book_name', 'authors', 'publisher', 'pub_time', 'desc', 'score', 'people_num', 'price', 'img'] \n",
    "writer = csv.DictWriter(file, fieldnames=fieldnames)    \n",
    "writer.writeheader() \n",
    "\n",
    "# 对所有网址url_list循环步骤2-4\n",
    "for url in url_list:\n",
    "    \n",
    "    html = get_html(url)       # 【步骤2：得到html数据，用函数get_html(url)】\n",
    "    \n",
    "    bookinfo_list = extract_bookinfo_list(html)  # 【步骤3：整理成结构化数据，用函数extract_bookinfo_list(html)】\n",
    "    \n",
    "    for bookinfo in bookinfo_list:      # 【步骤4：写数据到csv文件】\n",
    "        writer.writerow(bookinfo)\n",
    "    \n",
    "file.close() # 关闭文件"
   ]
  },
  {
   "cell_type": "code",
   "execution_count": 31,
   "id": "681de3ed",
   "metadata": {
    "ExecuteTime": {
     "end_time": "2023-08-08T16:53:08.861895Z",
     "start_time": "2023-08-08T16:53:08.855334Z"
    }
   },
   "outputs": [],
   "source": [
    "# 函数：爬虫主函数  main(filename)\n",
    "# 参数说明：filename为文件名称\n",
    "# 仅执行命令，不返回任何值\n",
    "def main(filename):         # 添加：定义函数名\n",
    "    print('开始采集豆瓣哲学类书籍！')              # 添加：说明“开始采集豆瓣哲学类书籍！”\n",
    "    \n",
    "    # 生成所有网址url_list\n",
    "    url_list = generate_url_list()\n",
    "    \n",
    "    # 打开文件\n",
    "    file = open(filename, 'a+', encoding='utf-8', newline='')     # 修改：将文件名称，设定为函数的参数\n",
    "    fieldnames = ['book_name', 'authors', 'publisher', 'pub_time', 'desc', 'score', 'people_num', 'price', 'img'] \n",
    "    writer = csv.DictWriter(file, fieldnames=fieldnames)    \n",
    "    writer.writeheader() \n",
    "\n",
    "    # 对所有网址url_list循环步骤2-4\n",
    "    for url in url_list:\n",
    "        print('正在采集：{url}'.format(url=url))    # 添加：说明“正在采集<url>”\n",
    "        html = get_html(url)\n",
    "        bookinfo_list = extract_bookinfo_list(html)\n",
    "        for bookinfo in bookinfo_list:\n",
    "            writer.writerow(bookinfo)\n",
    "\n",
    "    file.close()\n",
    "\n",
    "    print('采集完毕！')            # 添加：说明“采集完毕！”"
   ]
  },
  {
   "cell_type": "markdown",
   "id": "80c0a81d",
   "metadata": {},
   "source": [
    "- 修改函数generate_url_list()：\n",
    "    1. 原情况：一次性爬取50页网址，且只能爬取哲学类书籍\n",
    "    2. 任务：**灵活地设置页数，书籍类型**"
   ]
  },
  {
   "cell_type": "code",
   "execution_count": 32,
   "id": "a50630af",
   "metadata": {
    "ExecuteTime": {
     "end_time": "2023-08-08T16:53:10.948128Z",
     "start_time": "2023-08-08T16:53:10.940111Z"
    }
   },
   "outputs": [],
   "source": [
    "# 新函数：生成网址  generate_url_list(categ, max_page)\n",
    "# 参数说明：categ为书籍类型，max_page为最大页数\n",
    "# 返回值：url_list为网址列表\n",
    "def generate_url_list(categ, max_page):   # 添加：加入参数categ和max_page\n",
    "    url_list = []\n",
    "    template = 'https://book.douban.com/tag/{categ}?start={num}&type=T'   # 修改：哲学替换成{categ}\n",
    "    for p in range(1,max_page+1):        # 修改：51替换成max_page+1\n",
    "        url = template.format(categ=categ, num=(p-1)*20)       # 添加：加入参数categ\n",
    "        url_list.append(url)\n",
    "    return url_list"
   ]
  },
  {
   "cell_type": "markdown",
   "id": "b6d06c7b",
   "metadata": {},
   "source": [
    "**<big>主函数也相应修改</big>**"
   ]
  },
  {
   "cell_type": "code",
   "execution_count": 33,
   "id": "ed5a416b",
   "metadata": {
    "ExecuteTime": {
     "end_time": "2023-08-08T16:53:13.175165Z",
     "start_time": "2023-08-08T16:53:13.167187Z"
    }
   },
   "outputs": [],
   "source": [
    "# 函数：爬虫主函数  main(categ, max_page, filename)\n",
    "# 参数说明：categ为书籍类型，max_page为最大页数，filename为文件名称\n",
    "# 仅执行命令，不返回任何值\n",
    "def main(categ, max_page, filename):         # 添加：加入参数categ和max_page\n",
    "    print('开始采集豆瓣{categ}类书籍！'.format(categ = categ))              # 修改：哲学替换成{categ}”\n",
    "    \n",
    "    # 生成所有网址url_list\n",
    "    url_list = generate_url_list(categ, max_page)       # 添加：加入参数categ和max_page\n",
    "    \n",
    "    # 打开文件\n",
    "    file = open(filename, 'a+', encoding='utf-8', newline='')  \n",
    "    fieldnames = ['book_name', 'authors', 'publisher', 'pub_time', 'desc', 'score', 'people_num', 'price', 'img'] \n",
    "    writer = csv.DictWriter(file, fieldnames=fieldnames)    \n",
    "    writer.writeheader() \n",
    "\n",
    "    # 对所有网址url_list循环步骤2-4\n",
    "    for url in url_list:\n",
    "        print('正在采集：{url}'.format(url=url))\n",
    "        html = get_html(url)\n",
    "        bookinfo_list = extract_bookinfo_list(html)\n",
    "        for bookinfo in bookinfo_list:\n",
    "            writer.writerow(bookinfo)\n",
    "\n",
    "    file.close()\n",
    "\n",
    "    print('采集完毕！')"
   ]
  },
  {
   "cell_type": "markdown",
   "id": "32d42d1f",
   "metadata": {},
   "source": [
    "豆瓣图书类型汇总：https://book.douban.com/tag/?view=type&icn=index-sorttags-hot#文学"
   ]
  },
  {
   "cell_type": "code",
   "execution_count": 36,
   "id": "63efc87c",
   "metadata": {
    "ExecuteTime": {
     "end_time": "2023-08-08T16:53:17.004533Z",
     "start_time": "2023-08-08T16:53:15.577137Z"
    }
   },
   "outputs": [
    {
     "name": "stdout",
     "output_type": "stream",
     "text": [
      "开始采集豆瓣哲学类书籍！\n",
      "正在采集：https://book.douban.com/tag/哲学?start=0&type=T\n",
      "正在采集：https://book.douban.com/tag/哲学?start=20&type=T\n",
      "正在采集：https://book.douban.com/tag/哲学?start=40&type=T\n",
      "正在采集：https://book.douban.com/tag/哲学?start=60&type=T\n",
      "正在采集：https://book.douban.com/tag/哲学?start=80&type=T\n",
      "正在采集：https://book.douban.com/tag/哲学?start=100&type=T\n",
      "正在采集：https://book.douban.com/tag/哲学?start=120&type=T\n",
      "正在采集：https://book.douban.com/tag/哲学?start=140&type=T\n",
      "正在采集：https://book.douban.com/tag/哲学?start=160&type=T\n",
      "正在采集：https://book.douban.com/tag/哲学?start=180&type=T\n",
      "采集完毕！\n"
     ]
    }
   ],
   "source": [
    "# 调用函数main(categ, max_page, filename)\n",
    "main(categ='哲学', max_page=10, filename='./data/books_philosophy_2.csv')"
   ]
  },
  {
   "cell_type": "markdown",
   "id": "8663e60e",
   "metadata": {
    "ExecuteTime": {
     "end_time": "2023-08-08T16:53:43.430941Z",
     "start_time": "2023-08-08T16:53:18.571674Z"
    }
   },
   "source": [
    "main(categ='漫画', max_page=10, filename='output/books_comic_10.csv')"
   ]
  },
  {
   "cell_type": "code",
   "execution_count": 37,
   "id": "f8d0a59c",
   "metadata": {
    "ExecuteTime": {
     "end_time": "2023-08-08T16:53:55.306716Z",
     "start_time": "2023-08-08T16:53:53.384094Z"
    }
   },
   "outputs": [
    {
     "name": "stdout",
     "output_type": "stream",
     "text": [
      "开始采集豆瓣电影类书籍！\n",
      "正在采集：https://book.douban.com/tag/电影?start=0&type=T\n",
      "正在采集：https://book.douban.com/tag/电影?start=20&type=T\n",
      "正在采集：https://book.douban.com/tag/电影?start=40&type=T\n",
      "正在采集：https://book.douban.com/tag/电影?start=60&type=T\n",
      "正在采集：https://book.douban.com/tag/电影?start=80&type=T\n",
      "正在采集：https://book.douban.com/tag/电影?start=100&type=T\n",
      "正在采集：https://book.douban.com/tag/电影?start=120&type=T\n",
      "正在采集：https://book.douban.com/tag/电影?start=140&type=T\n",
      "正在采集：https://book.douban.com/tag/电影?start=160&type=T\n",
      "正在采集：https://book.douban.com/tag/电影?start=180&type=T\n",
      "采集完毕！\n"
     ]
    }
   ],
   "source": [
    "main(categ='电影', max_page=10, filename='./data/books_movie_10.csv')"
   ]
  },
  {
   "cell_type": "markdown",
   "id": "dd09a1fe",
   "metadata": {},
   "source": [
    "# 参考：\n",
    "- [Excel打开监控数据CSV文件乱码如何处理？_云监控服务 CES_常见问题_产品咨询_华为云 ](https://support.huaweicloud.com/ces_faq/ces_faq_0018.html)"
   ]
  }
 ],
 "metadata": {
  "celltoolbar": "原始单元格格式",
  "hide_input": false,
  "kernelspec": {
   "display_name": "Python 3 (ipykernel)",
   "language": "python",
   "name": "python3"
  },
  "language_info": {
   "codemirror_mode": {
    "name": "ipython",
    "version": 3
   },
   "file_extension": ".py",
   "mimetype": "text/x-python",
   "name": "python",
   "nbconvert_exporter": "python",
   "pygments_lexer": "ipython3",
   "version": "3.10.9"
  },
  "toc": {
   "base_numbering": 1,
   "nav_menu": {},
   "number_sections": true,
   "sideBar": true,
   "skip_h1_title": false,
   "title_cell": "Table of Contents",
   "title_sidebar": "Contents",
   "toc_cell": false,
   "toc_position": {
    "height": "calc(100% - 180px)",
    "left": "10px",
    "top": "150px",
    "width": "213.788px"
   },
   "toc_section_display": true,
   "toc_window_display": false
  },
  "varInspector": {
   "cols": {
    "lenName": 16,
    "lenType": 16,
    "lenVar": 40
   },
   "kernels_config": {
    "python": {
     "delete_cmd_postfix": "",
     "delete_cmd_prefix": "del ",
     "library": "var_list.py",
     "varRefreshCmd": "print(var_dic_list())"
    },
    "r": {
     "delete_cmd_postfix": ") ",
     "delete_cmd_prefix": "rm(",
     "library": "var_list.r",
     "varRefreshCmd": "cat(var_dic_list()) "
    }
   },
   "types_to_exclude": [
    "module",
    "function",
    "builtin_function_or_method",
    "instance",
    "_Feature"
   ],
   "window_display": false
  }
 },
 "nbformat": 4,
 "nbformat_minor": 5
}
