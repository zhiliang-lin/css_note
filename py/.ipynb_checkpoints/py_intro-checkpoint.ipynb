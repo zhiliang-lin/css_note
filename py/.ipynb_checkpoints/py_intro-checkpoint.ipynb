{
 "cells": [
  {
   "cell_type": "markdown",
   "metadata": {},
   "source": [
    "# Python文本分析常用库\n",
    "\n"
   ]
  },
  {
   "cell_type": "markdown",
   "metadata": {},
   "source": [
    "- jieba\n",
    "- NLTK\n",
    "- TextBlob\n",
    "- gensim\n",
    "- spacCy\n",
    "- "
   ]
  }
 ],
 "metadata": {
  "language_info": {
   "name": "python"
  }
 },
 "nbformat": 4,
 "nbformat_minor": 2
}
