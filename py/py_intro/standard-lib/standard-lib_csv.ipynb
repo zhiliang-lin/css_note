{
 "cells": [
  {
   "cell_type": "markdown",
   "metadata": {},
   "source": [
    "CSV（Comma-Separated Values）文件是一种常见的文本文件格式，用于存储表格数据，每行代表数据中的一行，每个字段之间用逗号或其他分隔符分隔开。Python的标准库中有一个名为 `csv` 的模块，它提供了一种方便的方式来读取、写入和处理CSV文件。\n",
    "\n",
    "以下是关于如何使用 `csv` 模块的一些基本操作：\n",
    "\n",
    "### 1. 读取CSV文件\n"
   ]
  },
  {
   "cell_type": "code",
   "execution_count": null,
   "metadata": {},
   "outputs": [],
   "source": [
    "import csv\n",
    "\n",
    "# 打开CSV文件\n",
    "with open('data.csv', 'r', encoding='utf-8') as file:\n",
    "    # 创建一个 CSV 读取器对象\n",
    "    csv_reader = csv.reader(file)\n",
    "    \n",
    "    # 逐行读取数据\n",
    "    for row in csv_reader:\n",
    "        print(row)"
   ]
  },
  {
   "cell_type": "markdown",
   "metadata": {},
   "source": [
    "在这个例子中，我们首先使用 open() 函数打开了一个名为 data.csv 的文件，并指定了读取模式 'r'。然后，我们创建了一个 csv.reader 对象，传入了文件对象 file，这个对象可以迭代读取文件中的每一行。在循环中，每次迭代读取的行都会以列表的形式返回，其中每个元素代表了一列的值。"
   ]
  },
  {
   "cell_type": "markdown",
   "metadata": {},
   "source": [
    "\n",
    "### 2. 写入CSV文件\n"
   ]
  },
  {
   "cell_type": "code",
   "execution_count": null,
   "metadata": {},
   "outputs": [],
   "source": [
    "import csv\n",
    "\n",
    "# 要写入的数据\n",
    "data = [\n",
    "    ['Name', 'Age', 'Country'],\n",
    "    ['John', '25', 'USA'],\n",
    "    ['Alice', '30', 'Canada'],\n",
    "    ['Bob', '28', 'UK']\n",
    "]\n",
    "\n",
    "# 打开CSV文件\n",
    "with open('data.csv', 'w', newline='', encoding='utf-8') as file:\n",
    "    # 创建一个 CSV 写入器对象\n",
    "    csv_writer = csv.writer(file)\n",
    "    \n",
    "    # 写入数据\n",
    "    csv_writer.writerows(data)"
   ]
  },
  {
   "cell_type": "markdown",
   "metadata": {},
   "source": [
    "在这个例子中，我们首先定义了一个包含数据的二维列表 data。然后，我们使用 open() 函数以写入模式 'w' 打开了一个名为 data.csv 的文件，并创建了一个 csv.writer 对象 csv_writer。接着，我们调用 writerows() 方法将整个数据写入到文件中。"
   ]
  },
  {
   "cell_type": "markdown",
   "metadata": {},
   "source": [
    "\n",
    "### 3. 使用自定义分隔符和引号\n",
    "\n",
    "有时候CSV文件的字段分隔符并不一定是逗号，也可能会用其他字符，比如制表符 `\\t`。此外，有时候字段中可能会包含分隔符，这时就需要使用引号来包围字段。\n"
   ]
  },
  {
   "cell_type": "code",
   "execution_count": null,
   "metadata": {},
   "outputs": [],
   "source": [
    "import csv\n",
    "\n",
    "# 使用制表符作为分隔符，并使用双引号作为引号字符\n",
    "with open('data.csv', 'r', encoding='utf-8') as file:\n",
    "    csv_reader = csv.reader(file, delimiter='\\t', quotechar='\"')\n",
    "    for row in csv_reader:\n",
    "        print(row)\n"
   ]
  },
  {
   "cell_type": "markdown",
   "metadata": {},
   "source": [
    "\n",
    "`csv` 模块还提供了一些其他的功能，比如支持不同的分隔符、自定义数据格式、读取字典格式等。你可以根据具体的需求选择适合的方法来处理CSV文件。"
   ]
  },
  {
   "cell_type": "code",
   "execution_count": null,
   "metadata": {},
   "outputs": [],
   "source": [
    "import csv\n",
    "\n",
    "# 打开CSV文件\n",
    "with open('data.csv', 'r', encoding='utf-8') as file:\n",
    "    # 创建一个 CSV 字典读取器对象\n",
    "    csv_dict_reader = csv.DictReader(file)\n",
    "    \n",
    "    # 逐行读取数据，每行以字典形式返回\n",
    "    for row in csv_dict_reader:\n",
    "        print(row)\n"
   ]
  }
 ],
 "metadata": {
  "language_info": {
   "name": "python"
  }
 },
 "nbformat": 4,
 "nbformat_minor": 2
}
