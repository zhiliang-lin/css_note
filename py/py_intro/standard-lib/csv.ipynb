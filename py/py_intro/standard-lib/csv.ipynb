{
 "cells": [
  {
   "cell_type": "markdown",
   "metadata": {},
   "source": [
    "\n",
    "## Python 中的 `csv` 库\n"
   ]
  },
  {
   "cell_type": "markdown",
   "metadata": {},
   "source": [
    "\n",
    "### 一、简介\n",
    "`csv` 是 Python 标准库中的一个模块，用于处理 **CSV（Comma Separated Values）文件**。CSV 文件通常用于存储表格数据，例如数据库导出、电子表格等。\n"
   ]
  },
  {
   "cell_type": "markdown",
   "metadata": {},
   "source": [
    "\n",
    "### 二、CSV 文件的格式\n",
    "- CSV 文件由多行数据构成，每一行是一组记录。\n",
    "- 记录中的各个字段（列）用逗号分隔。\n"
   ]
  },
  {
   "cell_type": "markdown",
   "metadata": {
    "vscode": {
     "languageId": "plaintext"
    }
   },
   "source": [
    "\n",
    "### 三、`csv` 模块的基本操作\n",
    "\n",
    "#### 1. 导入 `csv` 模块\n"
   ]
  },
  {
   "cell_type": "code",
   "execution_count": 3,
   "metadata": {},
   "outputs": [],
   "source": [
    "import csv"
   ]
  },
  {
   "cell_type": "markdown",
   "metadata": {},
   "source": [
    "\n",
    "#### 2. 使用 `csv.reader` 读取 CSV 文件\n",
    "`csv.reader` 是一种简单的读取方法，返回每一行的数据作为列表形式。\n"
   ]
  },
  {
   "cell_type": "code",
   "execution_count": 4,
   "metadata": {},
   "outputs": [
    {
     "name": "stdout",
     "output_type": "stream",
     "text": [
      "['header1', 'header2', 'header3']\n",
      "['one1', 'two1', 'three1']\n",
      "['one2', 'two2', 'three2']\n",
      "['one3', 'two3', 'three3']\n"
     ]
    }
   ],
   "source": [
    "with open('example.csv', 'r') as file: # 以只读模式打开文件。\n",
    "    reader = csv.reader(file) # 将文件对象传入 `csv.reader` 生成一个迭代器。\n",
    "    for row in reader: # 遍历迭代器，每一行数据作为一个列表返回。\n",
    "        print(row)  # 输出每一行的数据"
   ]
  },
  {
   "cell_type": "markdown",
   "metadata": {},
   "source": [
    "\n",
    "#### 3. 使用 `csv.DictReader` 读取 CSV 文件\n",
    "`csv.DictReader` 将每一行读取为一个字典，键是 CSV 文件的列名（适合带表头的 CSV 文件）。\n"
   ]
  },
  {
   "cell_type": "code",
   "execution_count": 5,
   "metadata": {},
   "outputs": [
    {
     "name": "stdout",
     "output_type": "stream",
     "text": [
      "{'header1': 'one1', 'header2': 'two1', 'header3': 'three1'}\n",
      "{'header1': 'one2', 'header2': 'two2', 'header3': 'three2'}\n",
      "{'header1': 'one3', 'header2': 'two3', 'header3': 'three3'}\n"
     ]
    }
   ],
   "source": [
    "with open('example.csv', 'r') as file:\n",
    "    reader = csv.DictReader(file) # 将文件对象传入 `csv.DictReader` 生成一个迭代器。\n",
    "    for row in reader:\n",
    "        print(row)  # 输出每一行的数据，格式为字典"
   ]
  },
  {
   "cell_type": "markdown",
   "metadata": {},
   "source": [
    "\n",
    "#### 4. 使用 `csv.writer` 写入 CSV 文件\n",
    "`csv.writer` 用于写入数据，每次写入一行。\n"
   ]
  },
  {
   "cell_type": "code",
   "execution_count": 6,
   "metadata": {},
   "outputs": [],
   "source": [
    "with open('example_write.csv', 'w', newline='') as file: \n",
    "    writer = csv.writer(file)\n",
    "    writer.writerow(['Name', 'Age', 'City'])  # 写入表头\n",
    "    writer.writerow(['Alice', 24, 'New York'])\n",
    "    writer.writerow(['Bob', 27, 'Los Angeles'])\n"
   ]
  },
  {
   "cell_type": "markdown",
   "metadata": {},
   "source": [
    "\n",
    "**说明**：\n",
    "- `newline=''`：避免多余空行。\n",
    "- `writer.writerow()`：写入一行数据。\n"
   ]
  },
  {
   "cell_type": "markdown",
   "metadata": {},
   "source": [
    "\n",
    "#### 5. 使用 `csv.DictWriter` 写入 CSV 文件\n",
    "`csv.DictWriter` 以字典形式写入数据。\n"
   ]
  },
  {
   "cell_type": "markdown",
   "metadata": {},
   "source": [
    "\n",
    "```python\n",
    "with open('example_write_dict.csv', 'w', newline='') as file:\n",
    "    fieldnames = ['Name', 'Age', 'City']\n",
    "    writer = csv.DictWriter(file, fieldnames=fieldnames)\n",
    "    writer.writeheader()  # 写入表头\n",
    "    writer.writerow({'Name': 'Alice', 'Age': 24, 'City': 'New York'})\n",
    "    writer.writerow({'Name': 'Bob', 'Age': 27, 'City': 'Los Angeles'})\n",
    "```\n"
   ]
  },
  {
   "cell_type": "markdown",
   "metadata": {},
   "source": [
    "\n",
    "**说明**：\n",
    "- `fieldnames`：设置字典键名，作为 CSV 文件的表头。\n",
    "- `writer.writeheader()`：写入表头行。\n"
   ]
  },
  {
   "cell_type": "markdown",
   "metadata": {},
   "source": [
    "\n",
    "### 四、选项参数和自定义分隔符\n",
    "1. 使用分隔符：如果文件使用其他分隔符，如分号，可以在 `reader` 和 `writer` 中设置 `delimiter` 参数。\n"
   ]
  },
  {
   "cell_type": "code",
   "execution_count": null,
   "metadata": {},
   "outputs": [],
   "source": [
    "\n",
    "with open('example_semicolon.csv', 'r') as file:\n",
    "    reader = csv.reader(file, delimiter=';')\n",
    "    for row in reader:\n",
    "        print(row)\n"
   ]
  },
  {
   "cell_type": "markdown",
   "metadata": {},
   "source": [
    "\n",
    "2. 设置引用字符：CSV 文件中有时会使用特定字符来引用字段，可使用 `quotechar` 参数。\n"
   ]
  },
  {
   "cell_type": "code",
   "execution_count": null,
   "metadata": {},
   "outputs": [],
   "source": [
    "\n",
    "with open('example_quotes.csv', 'w', newline='') as file:\n",
    "    writer = csv.writer(file, delimiter=',', quotechar='\"', quoting=csv.QUOTE_MINIMAL)\n",
    "    writer.writerow(['Name', 'Age', 'City'])\n",
    "    writer.writerow(['Alice', '24', 'New York'])\n"
   ]
  },
  {
   "cell_type": "markdown",
   "metadata": {},
   "source": [
    "### <strong style=\"color:red;\">附录</strong>：文件模式\n"
   ]
  },
  {
   "cell_type": "markdown",
   "metadata": {},
   "source": [
    "在结合 `csv` 库时，不同的文件模式 (`r`, `w`, `a`, `r+`, `w+`, `a+`) 可以用来对 CSV 文件进行各种读写操作。下面我们将每种模式与 `csv.reader`、`csv.writer`、`csv.DictReader` 和 `csv.DictWriter` 结合，演示如何在 Python 中处理 CSV 文件。\n",
    "\n",
    "---\n"
   ]
  },
  {
   "cell_type": "markdown",
   "metadata": {},
   "source": [
    "\n",
    "#### 1. 读取模式 (`r`)\n",
    "\n",
    "**适用场景**：用来读取已有的 CSV 文件内容。\n"
   ]
  },
  {
   "cell_type": "code",
   "execution_count": null,
   "metadata": {},
   "outputs": [],
   "source": [
    "import csv\n",
    "\n",
    "with open('example.csv', 'r') as file:  # 'r' 模式用于读取文件\n",
    "    reader = csv.reader(file)\n",
    "    for row in reader:\n",
    "        print(row)  # 输出文件中的每一行\n"
   ]
  },
  {
   "cell_type": "markdown",
   "metadata": {},
   "source": [
    "\n",
    "- 使用 `csv.reader` 读取文件内容。\n",
    "- 如果文件不存在，会抛出 `FileNotFoundError` 错误。\n",
    "\n",
    "---\n"
   ]
  },
  {
   "cell_type": "markdown",
   "metadata": {},
   "source": [
    "\n",
    "#### 2. 写入模式 (`w`)\n",
    "\n",
    "**适用场景**：用于写入新的 CSV 文件，若文件存在，文件内容会被清空。\n"
   ]
  },
  {
   "cell_type": "code",
   "execution_count": null,
   "metadata": {},
   "outputs": [],
   "source": [
    "import csv\n",
    "\n",
    "with open('example.csv', 'w', newline='') as file:  # 'w' 模式用于写入文件\n",
    "    writer = csv.writer(file)\n",
    "    writer.writerow(['Name', 'Age', 'City'])  # 写入表头\n",
    "    writer.writerow(['Alice', 24, 'New York'])  # 写入数据行\n",
    "    writer.writerow(['Bob', 27, 'Los Angeles'])"
   ]
  },
  {
   "cell_type": "markdown",
   "metadata": {},
   "source": [
    "\n",
    "- 使用 `csv.writer` 写入数据到 CSV 文件中。\n",
    "- 如果文件已存在，之前的数据将被清空。\n",
    "\n",
    "---\n"
   ]
  },
  {
   "cell_type": "markdown",
   "metadata": {},
   "source": [
    "\n",
    "#### 3. 追加模式 (`a`)\n",
    "\n",
    "**适用场景**：用来在文件末尾添加新行，不覆盖原有内容。\n"
   ]
  },
  {
   "cell_type": "code",
   "execution_count": null,
   "metadata": {},
   "outputs": [],
   "source": [
    "import csv\n",
    "\n",
    "with open('example.csv', 'a', newline='') as file:  # 'a' 模式用于追加数据\n",
    "    writer = csv.writer(file)\n",
    "    writer.writerow(['Charlie', 30, 'Chicago'])  # 追加一行数据\n"
   ]
  },
  {
   "cell_type": "markdown",
   "metadata": {},
   "source": [
    "\n",
    "- 使用 `csv.writer` 在文件末尾追加新行。\n",
    "- 如果文件不存在，Python 会自动创建一个新文件。\n",
    "\n",
    "---\n"
   ]
  },
  {
   "cell_type": "markdown",
   "metadata": {},
   "source": [
    "\n",
    "#### 4. 读写模式 (`r+`)\n",
    "\n",
    "**适用场景**：用于**读取和写入** CSV 文件内容，可以覆盖部分内容，但不能清空文件。\n"
   ]
  },
  {
   "cell_type": "code",
   "execution_count": null,
   "metadata": {},
   "outputs": [],
   "source": [
    "import csv\n",
    "\n",
    "with open('example.csv', 'r+', newline='') as file:  # 'r+' 模式用于读写\n",
    "    reader = csv.reader(file)\n",
    "    for row in reader:\n",
    "        print(row)  # 首先读取并打印已有数据\n",
    "\n",
    "    # 将文件指针重新定位到文件末尾\n",
    "    file.seek(0, 2)  \n",
    "    writer = csv.writer(file)\n",
    "    writer.writerow(['Daisy', 28, 'Boston'])  # 在文件末尾写入数据\n"
   ]
  },
  {
   "cell_type": "markdown",
   "metadata": {},
   "source": [
    "\n",
    "- 在读取文件内容后，可以在末尾继续追加数据。\n",
    "- 适合用于查看文件并附加新的数据。\n",
    "\n",
    "---\n"
   ]
  },
  {
   "cell_type": "markdown",
   "metadata": {},
   "source": [
    "\n",
    "#### 5. 写入/读写模式 (`w+`)\n",
    "\n",
    "**适用场景**：适合**清空并重新写入数据**，同时支持读取文件内容。\n",
    "\n"
   ]
  },
  {
   "cell_type": "code",
   "execution_count": null,
   "metadata": {},
   "outputs": [],
   "source": [
    "import csv\n",
    "\n",
    "with open('example.csv', 'w+', newline='') as file:  # 'w+' 模式用于读写\n",
    "    writer = csv.writer(file)\n",
    "    writer.writerow(['Name', 'Age', 'City'])  # 写入表头\n",
    "    writer.writerow(['Emma', 26, 'San Francisco'])\n",
    "\n",
    "    file.seek(0)  # 重置指针到文件开头\n",
    "    reader = csv.reader(file)\n",
    "    for row in reader:\n",
    "        print(row)  # 读取并打印当前内容\n"
   ]
  },
  {
   "cell_type": "markdown",
   "metadata": {},
   "source": [
    "\n",
    "- `w+` 模式会清空文件并重新写入数据，再次写入后可以重新读取文件内容。\n",
    "- 文件指针需要重新定位，便于读取新写入的数据。\n",
    "\n",
    "---\n"
   ]
  },
  {
   "cell_type": "markdown",
   "metadata": {},
   "source": [
    "\n",
    "#### 6. 追加/读写模式 (`a+`)\n",
    "\n",
    "**适用场景**：在文件末尾追加新数据，同时支持读取文件内容。\n"
   ]
  },
  {
   "cell_type": "code",
   "execution_count": null,
   "metadata": {},
   "outputs": [],
   "source": [
    "import csv\n",
    "\n",
    "with open('example.csv', 'a+', newline='') as file:  # 'a+' 模式用于追加和读取\n",
    "    writer = csv.writer(file)\n",
    "    writer.writerow(['Frank', 35, 'Houston'])  # 追加新数据\n",
    "\n",
    "    file.seek(0)  # 重置指针到文件开头\n",
    "    reader = csv.reader(file)\n",
    "    for row in reader:\n",
    "        print(row)  # 读取并打印所有数据，包括新追加的数据\n"
   ]
  },
  {
   "cell_type": "markdown",
   "metadata": {},
   "source": [
    "\n",
    "- 使用 `a+` 模式，可以将数据追加到文件末尾。\n",
    "- 文件指针需要在读取时重置，以便从头开始读取文件内容。\n",
    "\n",
    "---\n"
   ]
  },
  {
   "cell_type": "markdown",
   "metadata": {},
   "source": [
    "\n",
    "#### 总结\n",
    "\n",
    "| 模式 | 读 | 写 | 清空 | 若文件不存在 | 适合场景                    |\n",
    "|------|----|----|------|-------------|-----------------------------|\n",
    "| `r`  | ✔  | ✘  | ✘    | 抛出错误    | 仅读取                     |\n",
    "| `w`  | ✘  | ✔  | ✔    | 创建文件    | 写入新的 CSV 文件内容       |\n",
    "| `a`  | ✘  | ✔  | ✘    | 创建文件    | 在末尾添加行               |\n",
    "| `r+` | ✔  | ✔  | ✘    | 抛出错误    | 查看文件并在末尾写入       |\n",
    "| `w+` | ✔  | ✔  | ✔    | 创建文件    | 重写并读取文件             |\n",
    "| `a+` | ✔  | ✔  | ✘    | 创建文件    | 读取和追加内容             |\n",
    "\n",
    "这些示例展示了如何使用 `csv` 模块结合不同的文件模式来读取、写入或追加 CSV 文件数据。"
   ]
  }
 ],
 "metadata": {
  "kernelspec": {
   "display_name": "base",
   "language": "python",
   "name": "python3"
  },
  "language_info": {
   "codemirror_mode": {
    "name": "ipython",
    "version": 3
   },
   "file_extension": ".py",
   "mimetype": "text/x-python",
   "name": "python",
   "nbconvert_exporter": "python",
   "pygments_lexer": "ipython3",
   "version": "3.10.9"
  }
 },
 "nbformat": 4,
 "nbformat_minor": 2
}
