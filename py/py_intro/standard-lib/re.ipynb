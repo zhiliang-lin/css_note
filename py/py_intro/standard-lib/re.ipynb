{
 "cells": [
  {
   "cell_type": "markdown",
   "metadata": {},
   "source": [
    "### 1. 导入re库"
   ]
  },
  {
   "cell_type": "code",
   "execution_count": 1,
   "metadata": {},
   "outputs": [],
   "source": [
    "import re"
   ]
  },
  {
   "cell_type": "markdown",
   "metadata": {},
   "source": [
    "### 2. 使用正则表达式进行匹配"
   ]
  },
  {
   "cell_type": "markdown",
   "metadata": {},
   "source": [
    "- **在字符串中查找是否包含 'apple'**"
   ]
  },
  {
   "cell_type": "markdown",
   "metadata": {},
   "source": [
    "```re.search()```"
   ]
  },
  {
   "cell_type": "code",
   "execution_count": 6,
   "metadata": {},
   "outputs": [],
   "source": [
    "text = \"I like apples and bananas.\"\n",
    "pattern = r\"apple\"\n",
    "match = re.search(pattern, text)\n"
   ]
  },
  {
   "cell_type": "code",
   "execution_count": 7,
   "metadata": {},
   "outputs": [
    {
     "data": {
      "text/plain": [
       "<re.Match object; span=(7, 12), match='apple'>"
      ]
     },
     "execution_count": 7,
     "metadata": {},
     "output_type": "execute_result"
    }
   ],
   "source": [
    "match"
   ]
  },
  {
   "cell_type": "code",
   "execution_count": 8,
   "metadata": {},
   "outputs": [
    {
     "name": "stdout",
     "output_type": "stream",
     "text": [
      "Found: apple\n"
     ]
    }
   ],
   "source": [
    "if match:\n",
    "    print(\"Found:\", match.group())\n",
    "else:\n",
    "    print(\"Not found.\")\n",
    "\n"
   ]
  },
  {
   "cell_type": "markdown",
   "metadata": {},
   "source": [
    "\n",
    "在Python的正则表达式模块 re 中，`search() `函数用于在字符串中搜索匹配指定的正则表达式模式。如果找到了匹配的内容，search() 函数会返回一个 Match 对象，该对象包含了匹配的信息，包括匹配的字符串和匹配的位置等。而 `group()` 方法则是用于获取匹配到的内容。\n",
    "\n",
    "在你的例子中，`match.group() `返回了匹配到的字符串，也就是在 text 中找到的与正则表达式模式 pattern 匹配的部分。因此，`match.group() `返回的结果是匹配到的字符串，如果没有找到匹配的内容，则会返回 `None`。\n"
   ]
  },
  {
   "cell_type": "markdown",
   "metadata": {},
   "source": [
    "\n",
    "### 3. 使用正则表达式进行替换\n",
    "\n",
    "\n",
    "- **将字符串中的 'apple' 替换为 'orange'**\n"
   ]
  },
  {
   "cell_type": "markdown",
   "metadata": {},
   "source": [
    "```re.sub()```"
   ]
  },
  {
   "cell_type": "code",
   "execution_count": 3,
   "metadata": {},
   "outputs": [
    {
     "name": "stdout",
     "output_type": "stream",
     "text": [
      "Original: I like apples and bananas.\n",
      "Replaced: I like oranges and bananas.\n"
     ]
    }
   ],
   "source": [
    "text = \"I like apples and bananas.\"\n",
    "pattern = r\"apple\"\n",
    "replacement = \"orange\"\n",
    "new_text = re.sub(pattern, replacement, text)\n",
    "print(\"Original:\", text)\n",
    "print(\"Replaced:\", new_text)\n"
   ]
  },
  {
   "cell_type": "markdown",
   "metadata": {},
   "source": [
    "在这个例子中，我们使用 `re.sub()` 函数将字符串中匹配指定的正则表达式模式的部分替换为指定的内容。\n",
    "\n",
    "### 4. 使用分组提取信息\n",
    "\n",
    "\n",
    "- **从字符串中提取数字部分**\n"
   ]
  },
  {
   "cell_type": "code",
   "execution_count": 4,
   "metadata": {},
   "outputs": [
    {
     "name": "stdout",
     "output_type": "stream",
     "text": [
      "Age: 25\n"
     ]
    }
   ],
   "source": [
    "text = \"Age: 25, Height: 180 cm\"\n",
    "pattern = r\"Age: (\\d+)\"\n",
    "match = re.search(pattern, text)\n",
    "if match:\n",
    "    age = match.group(1)\n",
    "    print(\"Age:\", age)\n",
    "else:\n",
    "    print(\"Age not found.\")\n",
    "\n"
   ]
  },
  {
   "cell_type": "markdown",
   "metadata": {},
   "source": [
    "\n",
    "在这个例子中，我们使用了正则表达式的分组功能，将 `\\d+` 匹配到的数字部分提取出来。\n",
    "\n",
    "### 5. 使用编译后的正则表达式对象进行匹配\n",
    "\n",
    "\n",
    "- **使用编译后的正则表达式对象进行匹配**\n"
   ]
  },
  {
   "cell_type": "code",
   "execution_count": 5,
   "metadata": {},
   "outputs": [
    {
     "name": "stdout",
     "output_type": "stream",
     "text": [
      "Found: apple\n"
     ]
    }
   ],
   "source": [
    "pattern = re.compile(r\"apple\")\n",
    "text = \"I like apples and bananas.\"\n",
    "match = pattern.search(text)\n",
    "if match:\n",
    "    print(\"Found:\", match.group())\n",
    "else:\n",
    "    print(\"Not found.\")\n",
    "\n"
   ]
  },
  {
   "cell_type": "markdown",
   "metadata": {},
   "source": [
    "\n",
    "在这个例子中，我们首先使用 `re.compile()` 函数编译了一个正则表达式对象，然后使用该对象的 `search()` 方法进行匹配。\n",
    "\n",
    "这些示例涵盖了 `re` 库的一些基本用法，你可以根据具体的需求进一步学习和探索更多的功能和用法。"
   ]
  }
 ],
 "metadata": {
  "kernelspec": {
   "display_name": "base",
   "language": "python",
   "name": "python3"
  },
  "language_info": {
   "codemirror_mode": {
    "name": "ipython",
    "version": 3
   },
   "file_extension": ".py",
   "mimetype": "text/x-python",
   "name": "python",
   "nbconvert_exporter": "python",
   "pygments_lexer": "ipython3",
   "version": "3.10.9"
  }
 },
 "nbformat": 4,
 "nbformat_minor": 2
}
