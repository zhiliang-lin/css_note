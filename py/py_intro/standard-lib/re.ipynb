{
 "cells": [
  {
   "cell_type": "markdown",
   "metadata": {},
   "source": [
    "### 1. 导入re库"
   ]
  },
  {
   "cell_type": "code",
   "execution_count": 1,
   "metadata": {},
   "outputs": [],
   "source": [
    "import re"
   ]
  },
  {
   "cell_type": "markdown",
   "metadata": {},
   "source": [
    "### 2. 使用正则表达式进行匹配"
   ]
  },
  {
   "cell_type": "markdown",
   "metadata": {},
   "source": [
    "- **在字符串中查找是否包含 'apple'**"
   ]
  },
  {
   "cell_type": "markdown",
   "metadata": {},
   "source": [
    "```re.search()```"
   ]
  },
  {
   "cell_type": "code",
   "execution_count": 6,
   "metadata": {},
   "outputs": [],
   "source": [
    "text = \"I like apples and bananas.\"\n",
    "pattern = r\"apple\"\n",
    "match = re.search(pattern, text)"
   ]
  },
  {
   "cell_type": "code",
   "execution_count": 7,
   "metadata": {},
   "outputs": [
    {
     "data": {
      "text/plain": [
       "<re.Match object; span=(7, 12), match='apple'>"
      ]
     },
     "execution_count": 7,
     "metadata": {},
     "output_type": "execute_result"
    }
   ],
   "source": [
    "match"
   ]
  },
  {
   "cell_type": "code",
   "execution_count": 8,
   "metadata": {},
   "outputs": [
    {
     "name": "stdout",
     "output_type": "stream",
     "text": [
      "Found: apple\n"
     ]
    }
   ],
   "source": [
    "if match:\n",
    "    print(\"Found:\", match.group())\n",
    "else:\n",
    "    print(\"Not found.\")\n",
    "\n"
   ]
  },
  {
   "cell_type": "markdown",
   "metadata": {},
   "source": [
    "\n",
    "在Python的正则表达式模块 re 中，`search() `函数用于在字符串中搜索匹配指定的正则表达式模式。如果找到了匹配的内容，search() 函数会返回一个 Match 对象，该对象包含了匹配的信息，包括匹配的字符串和匹配的位置等。而 `group()` 方法则是用于获取匹配到的内容。\n",
    "\n",
    "在你的例子中，`match.group() `返回了匹配到的字符串，也就是在 text 中找到的与正则表达式模式 pattern 匹配的部分。因此，`match.group() `返回的结果是匹配到的字符串，如果没有找到匹配的内容，则会返回 `None`。\n"
   ]
  },
  {
   "cell_type": "markdown",
   "metadata": {},
   "source": [
    "\n",
    "### 3. 使用正则表达式进行替换\n",
    "\n",
    "\n",
    "- **将字符串中的 'apple' 替换为 'orange'**\n"
   ]
  },
  {
   "cell_type": "markdown",
   "metadata": {},
   "source": [
    "```re.sub()```"
   ]
  },
  {
   "cell_type": "code",
   "execution_count": 3,
   "metadata": {},
   "outputs": [
    {
     "name": "stdout",
     "output_type": "stream",
     "text": [
      "Original: I like apples and bananas.\n",
      "Replaced: I like oranges and bananas.\n"
     ]
    }
   ],
   "source": [
    "text = \"I like apples and bananas.\"\n",
    "pattern = r\"apple\"\n",
    "replacement = \"orange\"\n",
    "new_text = re.sub(pattern, replacement, text)\n",
    "print(\"Original:\", text)\n",
    "print(\"Replaced:\", new_text)\n"
   ]
  },
  {
   "cell_type": "markdown",
   "metadata": {},
   "source": [
    "在这个例子中，我们使用 `re.sub()` 函数将字符串中匹配指定的正则表达式模式的部分替换为指定的内容。\n",
    "\n",
    "### 4. 使用分组提取信息\n",
    "\n",
    "\n",
    "- **从字符串中提取数字部分**\n"
   ]
  },
  {
   "cell_type": "code",
   "execution_count": 4,
   "metadata": {},
   "outputs": [
    {
     "name": "stdout",
     "output_type": "stream",
     "text": [
      "Age: 25\n"
     ]
    }
   ],
   "source": [
    "text = \"Age: 25, Height: 180 cm\"\n",
    "pattern = r\"Age: (\\d+)\"\n",
    "match = re.search(pattern, text)\n",
    "if match:\n",
    "    age = match.group(1)\n",
    "    print(\"Age:\", age)\n",
    "else:\n",
    "    print(\"Age not found.\")\n",
    "\n"
   ]
  },
  {
   "cell_type": "markdown",
   "metadata": {},
   "source": [
    "\n",
    "在这个例子中，我们使用了正则表达式的分组功能，将 `\\d+` 匹配到的数字部分提取出来。\n",
    "\n",
    "### 5. 使用编译后的正则表达式对象进行匹配\n",
    "\n",
    "\n",
    "- **使用编译后的正则表达式对象进行匹配**\n"
   ]
  },
  {
   "cell_type": "code",
   "execution_count": 5,
   "metadata": {},
   "outputs": [
    {
     "name": "stdout",
     "output_type": "stream",
     "text": [
      "Found: apple\n"
     ]
    }
   ],
   "source": [
    "pattern = re.compile(r\"apple\")\n",
    "text = \"I like apples and bananas.\"\n",
    "match = pattern.search(text)\n",
    "if match:\n",
    "    print(\"Found:\", match.group())\n",
    "else:\n",
    "    print(\"Not found.\")\n",
    "\n"
   ]
  },
  {
   "cell_type": "markdown",
   "metadata": {},
   "source": [
    "\n",
    "在这个例子中，我们首先使用 `re.compile()` 函数编译了一个正则表达式对象，然后使用该对象的 `search()` 方法进行匹配。\n",
    "\n",
    "这些示例涵盖了 `re` 库的一些基本用法，你可以根据具体的需求进一步学习和探索更多的功能和用法。"
   ]
  },
  {
   "cell_type": "markdown",
   "metadata": {},
   "source": [
    "------------------------------ \n",
    "### <strong style=\"color:red;\">附录：正则表达式的快速参考表格</strong>\n",
    "\n",
    "下面是一份常见的正则表达式的快速参考表格，包括各个正则符号的功能和示例：\n",
    "\n",
    "| **正则符号** | **功能**                                  | **示例**                | **匹配内容**                          |\n",
    "|--------------|------------------------------------------|-------------------------|---------------------------------------|\n",
    "| `.`          | 匹配任意单个字符（除换行符）             | `a.b`                   | 匹配 `a` 和 `b` 之间的任意字符       |\n",
    "| `^`          | 匹配字符串开头                           | `^hello`                | 以 `hello` 开头的字符串              |\n",
    "| `$`          | 匹配字符串结尾                           | `world$`                | 以 `world` 结尾的字符串              |\n",
    "| `*`          | 匹配前面的字符零次或多次                 | `go*gle`                | 匹配 `ggle`、`gogle`、`google` 等    |\n",
    "| `+`          | 匹配前面的字符一次或多次                 | `go+gle`                | 匹配 `gogle`、`google`，不匹配 `ggle`|\n",
    "| `?`          | 匹配前面的字符零次或一次                 | `colou?r`               | 匹配 `color` 或 `colour`             |\n",
    "| `{n}`        | 匹配前面的字符恰好 `n` 次               | `\\d{3}`                 | 匹配 3 位数字                         |\n",
    "| `{n,}`       | 匹配前面的字符至少 `n` 次               | `a{2,}`                 | 匹配 `aa`、`aaa` 等                  |\n",
    "| `{n,m}`      | 匹配前面的字符至少 `n` 次且至多 `m` 次   | `\\d{2,4}`               | 匹配 2 到 4 位的数字                 |\n",
    "| `[]`         | 匹配括号内的任意字符                     | `[aeiou]`               | 匹配任意元音字母                     |\n",
    "| `[^ ]`       | 匹配不在括号内的字符                     | `[^aeiou]`              | 匹配非元音字母                       |\n",
    "| `|`          | 或，匹配符号两侧的任一表达式             | `cat|dog`               | 匹配 `cat` 或 `dog`                  |\n",
    "| `()`         | 分组，提取括号内的内容                   | `(go)+`                 | 匹配 `go`、`gogo`、`gogogo` 等       |\n",
    "| `\\d`         | 匹配任意数字，等价于 `[0-9]`             | `\\d+`                   | 匹配一个或多个数字                   |\n",
    "| `\\D`         | 匹配任意非数字字符                       | `\\D+`                   | 匹配一个或多个非数字字符             |\n",
    "| `\\w`         | 匹配任意字母、数字、下划线，等价于 `[a-zA-Z0-9_]` | `\\w+`      | 匹配一个或多个单词字符              |\n",
    "| `\\W`         | 匹配任意非字母、数字、下划线的字符       | `\\W+`                   | 匹配一个或多个非单词字符             |\n",
    "| `\\s`         | 匹配空白字符（空格、制表符等）           | `\\s+`                   | 匹配一个或多个空白字符               |\n",
    "| `\\S`         | 匹配非空白字符                           | `\\S+`                   | 匹配一个或多个非空白字符             |\n",
    "| `\\b`         | 匹配单词边界                             | `\\bword\\b`              | 匹配 `word`，但不匹配 `sword`        |\n",
    "| `\\B`         | 匹配非单词边界                           | `\\Bword\\B`              | 匹配包含 `word` 的字符串             |\n"
   ]
  }
 ],
 "metadata": {
  "kernelspec": {
   "display_name": "base",
   "language": "python",
   "name": "python3"
  },
  "language_info": {
   "codemirror_mode": {
    "name": "ipython",
    "version": 3
   },
   "file_extension": ".py",
   "mimetype": "text/x-python",
   "name": "python",
   "nbconvert_exporter": "python",
   "pygments_lexer": "ipython3",
   "version": "3.10.9"
  }
 },
 "nbformat": 4,
 "nbformat_minor": 2
}
