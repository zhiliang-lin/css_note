{
 "cells": [
  {
   "cell_type": "markdown",
   "metadata": {},
   "source": [
    "`open()` 函数是Python内置的用于打开文件的函数，它允许你在代码中读取、写入和创建文件。下面我将详细说明 `open()` 函数的用法，并结合例子进行解释。\n",
    "\n",
    "### 基本用法：\n",
    "\n",
    "```python\n",
    "file = open(filename, mode='r', encoding=None)\n",
    "```\n",
    "\n",
    "- `filename`：要打开的文件的路径。\n",
    "- `mode`：打开文件的模式，包括读取模式 `'r'`、写入模式 `'w'`、追加模式 `'a'` 和读写模式 `'r+'` 等。默认为 `'r'`。\n",
    "- `encoding`：打开文件的编码方式。默认为系统默认编码。常见的编码包括 `'utf-8'`、`'gbk'` 等。\n",
    "\n",
    "### 1. 读取文件：\n",
    "\n",
    "```python\n",
    "with open('example.txt', 'r', encoding='utf-8') as file:\n",
    "    content = file.read()\n",
    "    print(content)\n",
    "```\n",
    "\n",
    "在这个例子中，我们使用了读取模式 `'r'` 打开了一个名为 `'example.txt'` 的文件，并指定了编码方式为 `'utf-8'`。然后，我们使用 `read()` 方法读取了文件的内容，并将内容打印出来。\n",
    "\n",
    "### 2. 写入文件：\n",
    "\n",
    "```python\n",
    "with open('example.txt', 'w', encoding='utf-8') as file:\n",
    "    file.write('Hello, world!')\n",
    "```\n",
    "\n",
    "在这个例子中，我们使用了写入模式 `'w'` 打开了一个名为 `'example.txt'` 的文件，并指定了编码方式为 `'utf-8'`。然后，我们使用 `write()` 方法将字符串 `'Hello, world!'` 写入到文件中。\n",
    "\n",
    "### 3. 追加到文件：\n",
    "\n",
    "```python\n",
    "with open('example.txt', 'a', encoding='utf-8') as file:\n",
    "    file.write('\\nAppending additional content.')\n",
    "```\n",
    "\n",
    "在这个例子中，我们使用了追加模式 `'a'` 打开了一个名为 `'example.txt'` 的文件，并指定了编码方式为 `'utf-8'`。然后，我们使用 `write()` 方法在文件末尾追加了一行内容 `'Appending additional content.'`。\n",
    "\n",
    "### 4. 读取行：\n",
    "\n",
    "```python\n",
    "with open('example.txt', 'r', encoding='utf-8') as file:\n",
    "    for line in file:\n",
    "        print(line.strip())\n",
    "```\n",
    "\n",
    "在这个例子中，我们使用了读取模式 `'r'` 打开了一个名为 `'example.txt'` 的文件，并指定了编码方式为 `'utf-8'`。然后，我们使用 `for` 循环逐行读取文件的内容，并使用 `strip()` 方法去除每行末尾的换行符。\n",
    "\n",
    "`open()` 函数是Python文件操作中的基础，你可以根据不同的需求和场景选择合适的模式和编码方式来打开文件，并使用相应的方法来读取、写入和处理文件的内容。"
   ]
  }
 ],
 "metadata": {
  "language_info": {
   "name": "python"
  }
 },
 "nbformat": 4,
 "nbformat_minor": 2
}
