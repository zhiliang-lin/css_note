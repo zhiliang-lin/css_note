{
 "cells": [
  {
   "cell_type": "markdown",
   "metadata": {},
   "source": [
    "# os"
   ]
  },
  {
   "cell_type": "markdown",
   "metadata": {},
   "source": [
    "- Reference\n",
    "    - `os.access`(path, mode) 检验权限模式\n",
    "    - `os.chdir`(path) 改变当前工作目录\n",
    "    - `os.chflags`(path, flags) 设置路径的标记为数字标记。\n",
    "    - `os.chmod`(path, mode) 更改权限\n",
    "    - `os.chown`(path, uid, gid) 更改文件所有者\n",
    "    - `os.chroot`(path) 改变当前进程的根目录\n",
    "    - `os.close`(fd) 关闭文件描述符 fd\n",
    "    - `os.closerange`(fd_low, fd_high) 关闭所有文件描述符，从 fd_low `(包含) 到 fd_high`(不包含), 错误会忽略\n",
    "    - `os.dup`(fd) 复制文件描述符 fd\n",
    "    - `os.dup2`(fd, fd2) 将一个文件描述符 fd 复制到另一个 fd2\n",
    "    - `os.fchdir`(fd) 通过文件描述符改变当前工作目录\n",
    "    - `os.fchmod`(fd, mode) 改变一个文件的访问权限，该文件由参数fd指定，参数mode是Unix下的文件访问权限。\n",
    "    - `os.fchown`(fd, uid, gid) 修改一个文件的所有权，这个函数修改一个文件的用户ID和用户组ID，该文件由文件描述符fd指定。\n",
    "    - `os.fdatasync`(fd) 强制将文件写入磁盘，该文件由文件描述符fd指定，但是不强制更新文件的状态信息。\n",
    "    - `os.fdopen`(fd[, mode[, bufsize]]) 通过文件描述符 fd 创建一个文件对象，并返回这个文件对象\n",
    "    - `os.fpathconf`(fd, name) 返回一个打开的文件的系统配置信息。name为检索的系统配置的值，它也许是一个定义系统值的字符串，这些名字在很多标准中指定（POSIX.1, Unix 95, Unix 98, 和其它）。\n",
    "    - `os.fstat`(fd) 返回文件描述符fd的状态，像stat`()。\n",
    "    - `os.fstatvfs`(fd) 返回包含文件描述符fd的文件的文件系统的信息，Python 3.3 相等于 statvfs`()。\n",
    "    - `os.fsync`(fd) 强制将文件描述符为fd的文件写入硬盘。\n",
    "    - `os.ftruncate`(fd, length) 裁剪文件描述符fd对应的文件, 所以它最大不能超过文件大小。\n",
    "    - `os.getcwd`() 返回当前工作目录\n",
    "    - `os.getcwdu`() 返回一个当前工作目录的Unicode对象\n",
    "    - `os.isatty`(fd) 如果文件描述符fd是打开的，同时与tty`(-like)设备相连，则返回true, 否则False。\n",
    "    - `os.lchflags`(path, flags) 设置路径的标记为数字标记，类似 chflags`()，但是没有软链接\n",
    "    - `os.lchmod`(path, mode) 修改连接文件权限\n",
    "    - `os.lchown`(path, uid, gid) 更改文件所有者，类似 chown，但是不追踪链接。\n",
    "    - `os.link`(src, dst) 创建硬链接，名为参数 dst，指向参数 src\n",
    "    - `os.listdir`(path) 返回path指定的文件夹包含的文件或文件夹的名字的列表。\n",
    "    - `os.lseek`(fd, pos, how) 设置文件描述符 fd当前位置为pos, how方式修改: SEEK_SET 或者 0 设置从文件开始的计算的pos; SEEK_CUR或者 1 则从当前位置计算; os.SEEK_END或者2则从文件尾部开始. 在unix，Windows中有效\n",
    "    - `os.lstat`(path) 像stat`(),但是没有软链接\n",
    "    - `os.major`(device) 从原始的设备号中提取设备major号码 `(使用stat中的st_dev或者st_rdev field)。\n",
    "    - `os.makedev`(major, minor) 以major和minor设备号组成一个原始设备号\n",
    "    - `os.makedirs`(path, mode 递归文件夹创建函数。像mkdir`(), 但创建的所有intermediate-level文件夹需要包含子文件夹。\n",
    "    - `os.minor`(device) 从原始的设备号中提取设备minor号码 `(使用stat中的st_dev或者st_rdev field )。\n",
    "    - `os.mkdir`(path, mode) 以数字mode的mode创建一个名为path的文件夹.默认的 mode 是 0777 `(八进制)。\n",
    "    - `os.mkfifo`(path, mode) 创建命名管道，mode 为数字，默认为 0666 `(八进制)\n",
    "    - `os.mknod`(filename, mode=0600, device) 创建一个名为filename文件系统节点（文件，设备特别文件或者命名pipe）。\n",
    "    - `os.open`(file, flags, mode) 打开一个文件，并且设置需要的打开选项，mode参数是可选的\n",
    "    - `os.openpty`() 打开一个新的伪终端对。返回 pty 和 tty的文件描述符。\n",
    "    - `os.pathconf`(path, name) 返回相关文件的系统配置信息。\n",
    "    - `os.pipe`() 创建一个管道. 返回一对文件描述符`(r, w) 分别为读和写\n",
    "    - `os.popen`(command[, mode[, bufsize]]) 从一个 command 打开一个管道\n",
    "    - `os.read`(fd, n) 从文件描述符 fd 中读取最多 n 个字节，返回包含读取字节的字符串，文件描述符 fd对应文件已达到结尾, 返回一个空字符串。\n",
    "    - `os.readlink`(path) 返回软链接所指向的文件\n",
    "    - `os.remove`(path) 删除路径为path的文件。如果path 是一个文件夹，将抛出OSError; 查看下面的rmdir`()删除一个 directory。\n",
    "    - `os.removedirs`(path) 递归删除目录。\n",
    "    - `os.rename`(src, dst) 重命名文件或目录，从 src 到 dst\n",
    "    - `os.renames`(old, new) 递归地对目录进行更名，也可以对文件进行更名。\n",
    "    - `os.rmdir`(path) 删除path指定的空目录，如果目录非空，则抛出一个OSError异常。\n",
    "    - `os.stat`(path) 获取path指定的路径的信息，功能等同于C API中的stat`()系统调用。\n",
    "    - `[os.stat_float_times`(newvalue]) 决定stat_result是否以float对象显示时间戳\n",
    "    - `os.statvfs`(path) 获取指定路径的文件系统统计信息\n",
    "    - `os.symlink`(src, dst) 创建一个软链接\n",
    "    - `os.tcgetpgrp`(fd) 返回与终端fd（一个由os.open`()返回的打开的文件描述符）关联的进程组\n",
    "    - `os.tcsetpgrp`(fd, pg) 设置与终端fd（一个由os.open`()返回的打开的文件描述符）关联的进程组为pg。\n",
    "    - `os.tempnam`([dir[, prefix]]) Python3 中已删除。返回唯一的路径名用于创建临时文件。\n",
    "    - `os.tmpfile`() Python3 中已删除。返回一个打开的模式为`(w+b)的文件对象 .这文件对象没有文件夹入口，没有文件描述符，将会自动删除。\n",
    "    - `os.tmpnam`() Python3 中已删除。为创建一个临时文件返回一个唯一的路径\n",
    "    - `os.ttyname`(fd) 返回一个字符串，它表示与文件描述符fd 关联的终端设备。如果fd 没有与终端设备关联，则引发一个异常。\n",
    "    - `os.unlink`(path) 删除文件路径\n",
    "    - `os.utime`(path, times) 返回指定的path文件的访问和修改的时间。\n",
    "    - `os.walk`(top, topdown=True, onerror=None, followlinks=False)`(https://www.runoob.com/python3/python3-os-walk.html) 输出在文件夹中的文件名通过在树中游走，向上或者向下。\n",
    "    - `os.write`(fd, str) 写入字符串到文件描述符 fd中. 返回实际写入的字符串长度\n",
    "    - `os.path` 模块 获取文件的属性信息。\n"
   ]
  },
  {
   "cell_type": "markdown",
   "metadata": {},
   "source": [
    "\n",
    "## 操作系统接口\n",
    "\n",
    "```python\n",
    ">>> import os\n",
    ">>> os.getcwd()      # Return the current working directory\n",
    "'C:\\\\Python37'\n",
    ">>> os.chdir('/server/accesslogs')   # Change current working directory\n",
    ">>> os.system('mkdir today')   # Run the command mkdir in the system shell0\n",
    "```\n",
    "\n",
    "```python\n",
    ">>> import os\n",
    ">>> dir(os)  <returns a list of all module functions\n",
    ">>>> help(os)  <returns an extensive manual page created from the module's docstrings>\n",
    "```\n",
    "\n",
    "```python\n",
    ">>> import shutil\n",
    ">>> shutil.copyfile('data.db', 'archive.db')'archive.db'\n",
    ">>> shutil.move('/build/executables', 'installdir')'installdir'\n",
    "```\n",
    "\n",
    "## 文件通配符\n",
    "\n",
    "```python\n",
    "import glob\n",
    "glob.glob('*.py')\n",
    "## ['primes.py', 'random.py', 'quote.py']\n",
    "```\n",
    "\n",
    "## 命令行参数\n",
    "\n",
    "```python\n",
    ">>> import sys\n",
    ">>> print(sys.argv)['demo.py', 'one', 'two', 'three']\n",
    "```"
   ]
  },
  {
   "cell_type": "markdown",
   "metadata": {},
   "source": [
    "# csv"
   ]
  },
  {
   "cell_type": "code",
   "execution_count": 2,
   "metadata": {},
   "outputs": [],
   "source": [
    "import csv\n",
    "with open('./data/eggs.csv', 'w', newline='') as csvfile:\n",
    "    spamwriter = csv.writer(csvfile, delimiter=',', quotechar='|', quoting=csv.QUOTE_MINIMAL)\n",
    "    spamwriter.writerow(['Spam'] * 5 + ['Baked Beans'])\n",
    "    spamwriter.writerow(['Spam', 'Lovely Spam', 'Wonderful Spam'])"
   ]
  }
 ],
 "metadata": {
  "kernelspec": {
   "display_name": "base",
   "language": "python",
   "name": "python3"
  },
  "language_info": {
   "codemirror_mode": {
    "name": "ipython",
    "version": 3
   },
   "file_extension": ".py",
   "mimetype": "text/x-python",
   "name": "python",
   "nbconvert_exporter": "python",
   "pygments_lexer": "ipython3",
   "version": "3.10.9"
  }
 },
 "nbformat": 4,
 "nbformat_minor": 2
}
