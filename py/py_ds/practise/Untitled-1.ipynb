{
 "cells": [
  {
   "cell_type": "code",
   "execution_count": 14,
   "metadata": {},
   "outputs": [
    {
     "name": "stdout",
     "output_type": "stream",
     "text": [
      "     Unnamed: 0 Column  Value\n",
      "27          王雨欣    陈星灿      1\n",
      "129         陈星灿    蔡宛玲      1\n",
      "146         黄绍骏    纪冰儿      1\n",
      "147         林楷彬    纪冰儿      1\n",
      "172         王雨欣    纪冰儿      1\n",
      "...         ...    ...    ...\n",
      "1353         江颖     林晗      1\n",
      "1356        周嘉禧     林晗      1\n",
      "1377        林锦纯     江颖      1\n",
      "1387         林晗     江颖      1\n",
      "1416         林晗     黄思      1\n",
      "\n",
      "[73 rows x 3 columns]\n"
     ]
    }
   ],
   "source": [
    "import pandas as pd\n",
    "\n",
    "# 读取Excel文件\n",
    "df = pd.read_excel(r'D:\\desktop\\test.xlsx')\n",
    "\n",
    "# 将矩阵数据转换为两列数据\n",
    "df_long = pd.melt(df, id_vars=df.columns[0], var_name='Column', value_name='Value')\n",
    "\n",
    "# 过滤掉值为0的行\n",
    "df_long_filtered = df_long[df_long['Value'] != 0]\n",
    "\n",
    "# 打印过滤后的数据\n",
    "print(df_long_filtered)\n",
    "\n",
    "# 将过滤后的数据保存到Excel文件\n",
    "df_long_filtered.to_excel(r'D:\\desktop\\test2.xlsx', index=False)"
   ]
  }
 ],
 "metadata": {
  "kernelspec": {
   "display_name": "base",
   "language": "python",
   "name": "python3"
  },
  "language_info": {
   "codemirror_mode": {
    "name": "ipython",
    "version": 3
   },
   "file_extension": ".py",
   "mimetype": "text/x-python",
   "name": "python",
   "nbconvert_exporter": "python",
   "pygments_lexer": "ipython3",
   "version": "3.10.9"
  }
 },
 "nbformat": 4,
 "nbformat_minor": 2
}
