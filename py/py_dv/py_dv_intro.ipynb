{
 "cells": [
  {
   "cell_type": "markdown",
   "metadata": {},
   "source": [
    "- [Python Graph Gallery](https://python-graph-gallery.com/)\n",
    "- [pyecharts - A Python Echarts Plotting Library built with love.](https://pyecharts.org/#/)\n",
    "    - [Examples - Apache ECharts](https://echarts.apache.org/examples/zh/index.html)"
   ]
  },
  {
   "cell_type": "code",
   "execution_count": null,
   "metadata": {},
   "outputs": [],
   "source": []
  }
 ],
 "metadata": {
  "language_info": {
   "name": "python"
  }
 },
 "nbformat": 4,
 "nbformat_minor": 2
}
